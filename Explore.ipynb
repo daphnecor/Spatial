{
 "cells": [
  {
   "cell_type": "code",
   "execution_count": 105,
   "metadata": {},
   "outputs": [],
   "source": [
    "import scipy.io as sio\n",
    "import matplotlib.pyplot as plt\n",
    "import matplotlib as mpl\n",
    "import numpy as np\n",
    "import scipy\n",
    "import pandas as pd\n",
    "import scipy.stats as stats\n",
    "import scipy.sparse as sparse\n",
    "import copy\n",
    "import time\n",
    "import warnings \n",
    "from scipy import integrate\n",
    "import seaborn as sns\n",
    "from numpy import sqrt, cosh, tanh, pi, exp\n",
    "warnings.simplefilter('ignore')\n",
    "\n",
    "import scipy.io as sio\n",
    "import os\n",
    "from tqdm.auto import tqdm\n",
    "\n",
    "# using functions from PyalData\n",
    "from pyaldata import *"
   ]
  },
  {
   "cell_type": "markdown",
   "metadata": {},
   "source": [
    "## Get the data and convert to pandas df"
   ]
  },
  {
   "cell_type": "code",
   "execution_count": 91,
   "metadata": {},
   "outputs": [],
   "source": [
    "'''\n",
    "Insert path and filename \n",
    "'''\n",
    "\n",
    "path = '/Users/Daphne/Data/'  \n",
    "fname = 'Chewie_CO_VR_2016-10-06.mat' \n",
    "mat = scipy.io.loadmat(path + fname) "
   ]
  },
  {
   "cell_type": "code",
   "execution_count": 92,
   "metadata": {},
   "outputs": [
    {
     "data": {
      "text/plain": [
       "dict_keys(['__header__', '__version__', '__globals__', 'trial_data'])"
      ]
     },
     "execution_count": 92,
     "metadata": {},
     "output_type": "execute_result"
    }
   ],
   "source": [
    "mat.keys()"
   ]
  },
  {
   "cell_type": "code",
   "execution_count": 93,
   "metadata": {},
   "outputs": [
    {
     "data": {
      "text/plain": [
       "b'MATLAB 5.0 MAT-file, Platform: PCWIN64, Created on: Sat Mar 11 17:00:03 2017'"
      ]
     },
     "execution_count": 93,
     "metadata": {},
     "output_type": "execute_result"
    }
   ],
   "source": [
    "mat['__header__']"
   ]
  },
  {
   "cell_type": "code",
   "execution_count": 94,
   "metadata": {},
   "outputs": [
    {
     "data": {
      "text/plain": [
       "[]"
      ]
     },
     "execution_count": 94,
     "metadata": {},
     "output_type": "execute_result"
    }
   ],
   "source": [
    "mat['__globals__']"
   ]
  },
  {
   "cell_type": "code",
   "execution_count": 95,
   "metadata": {},
   "outputs": [
    {
     "data": {
      "text/plain": [
       "'1.0'"
      ]
     },
     "execution_count": 95,
     "metadata": {},
     "output_type": "execute_result"
    }
   ],
   "source": [
    "mat['__version__']"
   ]
  },
  {
   "cell_type": "code",
   "execution_count": 96,
   "metadata": {
    "scrolled": false
   },
   "outputs": [
    {
     "data": {
      "text/plain": [
       "(774, 24)"
      ]
     },
     "execution_count": 96,
     "metadata": {},
     "output_type": "execute_result"
    }
   ],
   "source": [
    "df.shape # num trials x info"
   ]
  },
  {
   "cell_type": "code",
   "execution_count": 97,
   "metadata": {},
   "outputs": [],
   "source": [
    "'''\n",
    "Convert matlab file to df\n",
    "'''\n",
    "df = mat2dataframe(path+fname, shift_idx_fields=True)"
   ]
  },
  {
   "cell_type": "code",
   "execution_count": 98,
   "metadata": {
    "scrolled": false
   },
   "outputs": [
    {
     "data": {
      "text/html": [
       "<div>\n",
       "<style scoped>\n",
       "    .dataframe tbody tr th:only-of-type {\n",
       "        vertical-align: middle;\n",
       "    }\n",
       "\n",
       "    .dataframe tbody tr th {\n",
       "        vertical-align: top;\n",
       "    }\n",
       "\n",
       "    .dataframe thead th {\n",
       "        text-align: right;\n",
       "    }\n",
       "</style>\n",
       "<table border=\"1\" class=\"dataframe\">\n",
       "  <thead>\n",
       "    <tr style=\"text-align: right;\">\n",
       "      <th></th>\n",
       "      <th>monkey</th>\n",
       "      <th>date</th>\n",
       "      <th>task</th>\n",
       "      <th>target_direction</th>\n",
       "      <th>trial_id</th>\n",
       "      <th>result</th>\n",
       "      <th>bin_size</th>\n",
       "      <th>perturbation</th>\n",
       "      <th>perturbation_info</th>\n",
       "      <th>epoch</th>\n",
       "      <th>...</th>\n",
       "      <th>idx_peak_speed</th>\n",
       "      <th>idx_trial_end</th>\n",
       "      <th>pos</th>\n",
       "      <th>vel</th>\n",
       "      <th>acc</th>\n",
       "      <th>force</th>\n",
       "      <th>M1_spikes</th>\n",
       "      <th>M1_unit_guide</th>\n",
       "      <th>PMd_spikes</th>\n",
       "      <th>PMd_unit_guide</th>\n",
       "    </tr>\n",
       "  </thead>\n",
       "  <tbody>\n",
       "    <tr>\n",
       "      <td>0</td>\n",
       "      <td>Chewie</td>\n",
       "      <td>10-06-2016</td>\n",
       "      <td>CO</td>\n",
       "      <td>-2.356194</td>\n",
       "      <td>1</td>\n",
       "      <td>R</td>\n",
       "      <td>0.01</td>\n",
       "      <td>VR</td>\n",
       "      <td>-0.52</td>\n",
       "      <td>BL</td>\n",
       "      <td>...</td>\n",
       "      <td>363</td>\n",
       "      <td>436</td>\n",
       "      <td>[[-5.399950889827338, -25.11058978269873], [-5...</td>\n",
       "      <td>[[4.615264447089089, -3.6781866137904946], [4....</td>\n",
       "      <td>[[34.913180411358354, -17.92603186704403], [13...</td>\n",
       "      <td>[[0.3854857746577438, -0.18448026169727955], [...</td>\n",
       "      <td>[[0, 1, 0, 0, 0, 1, 0, 1, 0, 0, 0, 1, 1, 0, 0,...</td>\n",
       "      <td>[[5, 1], [5, 2], [5, 3], [5, 4], [9, 1], [9, 2...</td>\n",
       "      <td>[[0, 0, 0, 0, 0, 0, 0, 0, 0, 0, 0, 0, 0, 0, 0,...</td>\n",
       "      <td>[[1, 1], [1, 2], [2, 1], [2, 2], [3, 1], [3, 2...</td>\n",
       "    </tr>\n",
       "    <tr>\n",
       "      <td>1</td>\n",
       "      <td>Chewie</td>\n",
       "      <td>10-06-2016</td>\n",
       "      <td>CO</td>\n",
       "      <td>1.570796</td>\n",
       "      <td>2</td>\n",
       "      <td>R</td>\n",
       "      <td>0.01</td>\n",
       "      <td>VR</td>\n",
       "      <td>-0.52</td>\n",
       "      <td>BL</td>\n",
       "      <td>...</td>\n",
       "      <td>356</td>\n",
       "      <td>447</td>\n",
       "      <td>[[-5.194667657852522, -35.190944353130526], [-...</td>\n",
       "      <td>[[2.3921738136280783, 2.833707639241631], [2.7...</td>\n",
       "      <td>[[31.99226756476989, 80.42711312188004], [34.1...</td>\n",
       "      <td>[[0.1778157378731141, 0.12542049016429982], [0...</td>\n",
       "      <td>[[0, 1, 0, 0, 0, 0, 0, 0, 0, 1, 0, 0, 0, 1, 0,...</td>\n",
       "      <td>[[5, 1], [5, 2], [5, 3], [5, 4], [9, 1], [9, 2...</td>\n",
       "      <td>[[0, 0, 0, 0, 0, 0, 0, 0, 0, 0, 0, 0, 0, 0, 0,...</td>\n",
       "      <td>[[1, 1], [1, 2], [2, 1], [2, 2], [3, 1], [3, 2...</td>\n",
       "    </tr>\n",
       "    <tr>\n",
       "      <td>2</td>\n",
       "      <td>Chewie</td>\n",
       "      <td>10-06-2016</td>\n",
       "      <td>CO</td>\n",
       "      <td>0.785398</td>\n",
       "      <td>3</td>\n",
       "      <td>R</td>\n",
       "      <td>0.01</td>\n",
       "      <td>VR</td>\n",
       "      <td>-0.52</td>\n",
       "      <td>BL</td>\n",
       "      <td>...</td>\n",
       "      <td>414</td>\n",
       "      <td>483</td>\n",
       "      <td>[[0.35267826312911055, -22.923278550949004], [...</td>\n",
       "      <td>[[0.5017102009485903, -3.146994710197926], [0....</td>\n",
       "      <td>[[-7.180978950112355, -35.21789901845524], [3....</td>\n",
       "      <td>[[0.2833417683274762, -0.1285513884878812], [0...</td>\n",
       "      <td>[[0, 0, 0, 0, 1, 0, 0, 0, 0, 1, 0, 0, 0, 0, 0,...</td>\n",
       "      <td>[[5, 1], [5, 2], [5, 3], [5, 4], [9, 1], [9, 2...</td>\n",
       "      <td>[[0, 2, 0, 0, 0, 0, 0, 0, 0, 0, 0, 0, 0, 0, 0,...</td>\n",
       "      <td>[[1, 1], [1, 2], [2, 1], [2, 2], [3, 1], [3, 2...</td>\n",
       "    </tr>\n",
       "    <tr>\n",
       "      <td>3</td>\n",
       "      <td>Chewie</td>\n",
       "      <td>10-06-2016</td>\n",
       "      <td>CO</td>\n",
       "      <td>3.141593</td>\n",
       "      <td>4</td>\n",
       "      <td>R</td>\n",
       "      <td>0.01</td>\n",
       "      <td>VR</td>\n",
       "      <td>-0.52</td>\n",
       "      <td>BL</td>\n",
       "      <td>...</td>\n",
       "      <td>397</td>\n",
       "      <td>458</td>\n",
       "      <td>[[5.072834875801728, -24.89410841851521], [5.0...</td>\n",
       "      <td>[[-1.3275097541588876, -3.5308863978243985], [...</td>\n",
       "      <td>[[-6.932033881542791, 0.17982626642873387], [-...</td>\n",
       "      <td>[[0.08675043530985374, 0.03658922221440793], [...</td>\n",
       "      <td>[[0, 1, 0, 0, 0, 0, 0, 0, 0, 0, 0, 0, 0, 0, 0,...</td>\n",
       "      <td>[[5, 1], [5, 2], [5, 3], [5, 4], [9, 1], [9, 2...</td>\n",
       "      <td>[[0, 0, 0, 0, 0, 0, 0, 0, 0, 0, 0, 0, 0, 0, 0,...</td>\n",
       "      <td>[[1, 1], [1, 2], [2, 1], [2, 2], [3, 1], [3, 2...</td>\n",
       "    </tr>\n",
       "    <tr>\n",
       "      <td>4</td>\n",
       "      <td>Chewie</td>\n",
       "      <td>10-06-2016</td>\n",
       "      <td>CO</td>\n",
       "      <td>-1.570796</td>\n",
       "      <td>5</td>\n",
       "      <td>R</td>\n",
       "      <td>0.01</td>\n",
       "      <td>VR</td>\n",
       "      <td>-0.52</td>\n",
       "      <td>BL</td>\n",
       "      <td>...</td>\n",
       "      <td>301</td>\n",
       "      <td>362</td>\n",
       "      <td>[[-8.194254800472459, -30.26359832666607], [-8...</td>\n",
       "      <td>[[1.8501123719868446, 0.8394848146862552], [2....</td>\n",
       "      <td>[[48.123169514922175, -9.081942493745938], [58...</td>\n",
       "      <td>[[0.2054977133197953, -0.12485484173352068], [...</td>\n",
       "      <td>[[0, 0, 0, 0, 1, 1, 0, 0, 1, 1, 0, 0, 1, 0, 0,...</td>\n",
       "      <td>[[5, 1], [5, 2], [5, 3], [5, 4], [9, 1], [9, 2...</td>\n",
       "      <td>[[1, 1, 0, 0, 0, 0, 0, 0, 0, 0, 0, 0, 0, 0, 0,...</td>\n",
       "      <td>[[1, 1], [1, 2], [2, 1], [2, 2], [3, 1], [3, 2...</td>\n",
       "    </tr>\n",
       "    <tr>\n",
       "      <td>5</td>\n",
       "      <td>Chewie</td>\n",
       "      <td>10-06-2016</td>\n",
       "      <td>CO</td>\n",
       "      <td>0.000000</td>\n",
       "      <td>6</td>\n",
       "      <td>R</td>\n",
       "      <td>0.01</td>\n",
       "      <td>VR</td>\n",
       "      <td>-0.52</td>\n",
       "      <td>BL</td>\n",
       "      <td>...</td>\n",
       "      <td>293</td>\n",
       "      <td>355</td>\n",
       "      <td>[[0.6490206110950361, -37.67241398030942], [0....</td>\n",
       "      <td>[[-3.604784746146349, 4.084355440432306], [-3....</td>\n",
       "      <td>[[-13.50846167593347, 29.28783048618782], [-4....</td>\n",
       "      <td>[[0.12662512102637435, 0.14438368237379834], [...</td>\n",
       "      <td>[[0, 0, 0, 0, 0, 0, 0, 0, 0, 0, 0, 0, 0, 2, 0,...</td>\n",
       "      <td>[[5, 1], [5, 2], [5, 3], [5, 4], [9, 1], [9, 2...</td>\n",
       "      <td>[[0, 0, 0, 0, 0, 0, 0, 0, 0, 0, 0, 0, 0, 0, 0,...</td>\n",
       "      <td>[[1, 1], [1, 2], [2, 1], [2, 2], [3, 1], [3, 2...</td>\n",
       "    </tr>\n",
       "    <tr>\n",
       "      <td>6</td>\n",
       "      <td>Chewie</td>\n",
       "      <td>10-06-2016</td>\n",
       "      <td>CO</td>\n",
       "      <td>-1.570796</td>\n",
       "      <td>7</td>\n",
       "      <td>R</td>\n",
       "      <td>0.01</td>\n",
       "      <td>VR</td>\n",
       "      <td>-0.52</td>\n",
       "      <td>BL</td>\n",
       "      <td>...</td>\n",
       "      <td>337</td>\n",
       "      <td>406</td>\n",
       "      <td>[[7.507900277392501, -30.171508338138324], [7....</td>\n",
       "      <td>[[-5.097369100121194, 1.2168768032589743], [-5...</td>\n",
       "      <td>[[-9.867216114632248, 26.288101248078682], [-1...</td>\n",
       "      <td>[[0.032519011872878256, 0.08704505916615493], ...</td>\n",
       "      <td>[[1, 0, 0, 1, 0, 0, 0, 0, 0, 0, 0, 0, 0, 0, 0,...</td>\n",
       "      <td>[[5, 1], [5, 2], [5, 3], [5, 4], [9, 1], [9, 2...</td>\n",
       "      <td>[[0, 0, 0, 0, 0, 0, 0, 0, 0, 0, 0, 0, 0, 0, 0,...</td>\n",
       "      <td>[[1, 1], [1, 2], [2, 1], [2, 2], [3, 1], [3, 2...</td>\n",
       "    </tr>\n",
       "    <tr>\n",
       "      <td>7</td>\n",
       "      <td>Chewie</td>\n",
       "      <td>10-06-2016</td>\n",
       "      <td>CO</td>\n",
       "      <td>-2.356194</td>\n",
       "      <td>8</td>\n",
       "      <td>R</td>\n",
       "      <td>0.01</td>\n",
       "      <td>VR</td>\n",
       "      <td>-0.52</td>\n",
       "      <td>BL</td>\n",
       "      <td>...</td>\n",
       "      <td>355</td>\n",
       "      <td>421</td>\n",
       "      <td>[[0.3791881512787576, -37.25947279952951], [0....</td>\n",
       "      <td>[[1.0542131497809266, 6.417143052522142], [1.6...</td>\n",
       "      <td>[[69.22501620731025, 72.21292036948843], [53.0...</td>\n",
       "      <td>[[0.24400648981581252, 0.10555376044820426], [...</td>\n",
       "      <td>[[1, 0, 0, 1, 0, 1, 0, 0, 0, 0, 0, 0, 0, 1, 0,...</td>\n",
       "      <td>[[5, 1], [5, 2], [5, 3], [5, 4], [9, 1], [9, 2...</td>\n",
       "      <td>[[0, 1, 0, 0, 0, 0, 0, 0, 0, 0, 0, 0, 0, 0, 0,...</td>\n",
       "      <td>[[1, 1], [1, 2], [2, 1], [2, 2], [3, 1], [3, 2...</td>\n",
       "    </tr>\n",
       "    <tr>\n",
       "      <td>8</td>\n",
       "      <td>Chewie</td>\n",
       "      <td>10-06-2016</td>\n",
       "      <td>CO</td>\n",
       "      <td>1.570796</td>\n",
       "      <td>9</td>\n",
       "      <td>R</td>\n",
       "      <td>0.01</td>\n",
       "      <td>VR</td>\n",
       "      <td>-0.52</td>\n",
       "      <td>BL</td>\n",
       "      <td>...</td>\n",
       "      <td>280</td>\n",
       "      <td>344</td>\n",
       "      <td>[[-5.424309240614415, -35.72470492003453], [-5...</td>\n",
       "      <td>[[0.5542381450183812, 1.7549596334799071], [0....</td>\n",
       "      <td>[[-4.311048044161067, 13.334457202150617], [-1...</td>\n",
       "      <td>[[0.10333443070362608, -0.050015956823403325],...</td>\n",
       "      <td>[[0, 0, 0, 0, 1, 0, 0, 0, 0, 0, 0, 0, 0, 0, 0,...</td>\n",
       "      <td>[[5, 1], [5, 2], [5, 3], [5, 4], [9, 1], [9, 2...</td>\n",
       "      <td>[[0, 0, 0, 0, 0, 0, 0, 0, 0, 0, 0, 0, 0, 0, 0,...</td>\n",
       "      <td>[[1, 1], [1, 2], [2, 1], [2, 2], [3, 1], [3, 2...</td>\n",
       "    </tr>\n",
       "    <tr>\n",
       "      <td>9</td>\n",
       "      <td>Chewie</td>\n",
       "      <td>10-06-2016</td>\n",
       "      <td>CO</td>\n",
       "      <td>2.356194</td>\n",
       "      <td>10</td>\n",
       "      <td>R</td>\n",
       "      <td>0.01</td>\n",
       "      <td>VR</td>\n",
       "      <td>-0.52</td>\n",
       "      <td>BL</td>\n",
       "      <td>...</td>\n",
       "      <td>305</td>\n",
       "      <td>375</td>\n",
       "      <td>[[0.1751617628886386, -22.363937873212464], [0...</td>\n",
       "      <td>[[-0.7396616154171819, -0.1609262582988184], [...</td>\n",
       "      <td>[[-13.860619963799863, -40.442442400186614], [...</td>\n",
       "      <td>[[0.08511056777448078, -0.03631212971743679], ...</td>\n",
       "      <td>[[0, 1, 0, 0, 0, 1, 0, 0, 1, 0, 1, 0, 0, 0, 0,...</td>\n",
       "      <td>[[5, 1], [5, 2], [5, 3], [5, 4], [9, 1], [9, 2...</td>\n",
       "      <td>[[0, 0, 0, 0, 0, 0, 0, 0, 0, 0, 0, 0, 0, 0, 0,...</td>\n",
       "      <td>[[1, 1], [1, 2], [2, 1], [2, 2], [3, 1], [3, 2...</td>\n",
       "    </tr>\n",
       "  </tbody>\n",
       "</table>\n",
       "<p>10 rows × 24 columns</p>\n",
       "</div>"
      ],
      "text/plain": [
       "   monkey        date task  target_direction  trial_id result  bin_size  \\\n",
       "0  Chewie  10-06-2016   CO         -2.356194         1      R      0.01   \n",
       "1  Chewie  10-06-2016   CO          1.570796         2      R      0.01   \n",
       "2  Chewie  10-06-2016   CO          0.785398         3      R      0.01   \n",
       "3  Chewie  10-06-2016   CO          3.141593         4      R      0.01   \n",
       "4  Chewie  10-06-2016   CO         -1.570796         5      R      0.01   \n",
       "5  Chewie  10-06-2016   CO          0.000000         6      R      0.01   \n",
       "6  Chewie  10-06-2016   CO         -1.570796         7      R      0.01   \n",
       "7  Chewie  10-06-2016   CO         -2.356194         8      R      0.01   \n",
       "8  Chewie  10-06-2016   CO          1.570796         9      R      0.01   \n",
       "9  Chewie  10-06-2016   CO          2.356194        10      R      0.01   \n",
       "\n",
       "  perturbation  perturbation_info epoch  ...  idx_peak_speed  idx_trial_end  \\\n",
       "0           VR              -0.52    BL  ...             363            436   \n",
       "1           VR              -0.52    BL  ...             356            447   \n",
       "2           VR              -0.52    BL  ...             414            483   \n",
       "3           VR              -0.52    BL  ...             397            458   \n",
       "4           VR              -0.52    BL  ...             301            362   \n",
       "5           VR              -0.52    BL  ...             293            355   \n",
       "6           VR              -0.52    BL  ...             337            406   \n",
       "7           VR              -0.52    BL  ...             355            421   \n",
       "8           VR              -0.52    BL  ...             280            344   \n",
       "9           VR              -0.52    BL  ...             305            375   \n",
       "\n",
       "                                                 pos  \\\n",
       "0  [[-5.399950889827338, -25.11058978269873], [-5...   \n",
       "1  [[-5.194667657852522, -35.190944353130526], [-...   \n",
       "2  [[0.35267826312911055, -22.923278550949004], [...   \n",
       "3  [[5.072834875801728, -24.89410841851521], [5.0...   \n",
       "4  [[-8.194254800472459, -30.26359832666607], [-8...   \n",
       "5  [[0.6490206110950361, -37.67241398030942], [0....   \n",
       "6  [[7.507900277392501, -30.171508338138324], [7....   \n",
       "7  [[0.3791881512787576, -37.25947279952951], [0....   \n",
       "8  [[-5.424309240614415, -35.72470492003453], [-5...   \n",
       "9  [[0.1751617628886386, -22.363937873212464], [0...   \n",
       "\n",
       "                                                 vel  \\\n",
       "0  [[4.615264447089089, -3.6781866137904946], [4....   \n",
       "1  [[2.3921738136280783, 2.833707639241631], [2.7...   \n",
       "2  [[0.5017102009485903, -3.146994710197926], [0....   \n",
       "3  [[-1.3275097541588876, -3.5308863978243985], [...   \n",
       "4  [[1.8501123719868446, 0.8394848146862552], [2....   \n",
       "5  [[-3.604784746146349, 4.084355440432306], [-3....   \n",
       "6  [[-5.097369100121194, 1.2168768032589743], [-5...   \n",
       "7  [[1.0542131497809266, 6.417143052522142], [1.6...   \n",
       "8  [[0.5542381450183812, 1.7549596334799071], [0....   \n",
       "9  [[-0.7396616154171819, -0.1609262582988184], [...   \n",
       "\n",
       "                                                 acc  \\\n",
       "0  [[34.913180411358354, -17.92603186704403], [13...   \n",
       "1  [[31.99226756476989, 80.42711312188004], [34.1...   \n",
       "2  [[-7.180978950112355, -35.21789901845524], [3....   \n",
       "3  [[-6.932033881542791, 0.17982626642873387], [-...   \n",
       "4  [[48.123169514922175, -9.081942493745938], [58...   \n",
       "5  [[-13.50846167593347, 29.28783048618782], [-4....   \n",
       "6  [[-9.867216114632248, 26.288101248078682], [-1...   \n",
       "7  [[69.22501620731025, 72.21292036948843], [53.0...   \n",
       "8  [[-4.311048044161067, 13.334457202150617], [-1...   \n",
       "9  [[-13.860619963799863, -40.442442400186614], [...   \n",
       "\n",
       "                                               force  \\\n",
       "0  [[0.3854857746577438, -0.18448026169727955], [...   \n",
       "1  [[0.1778157378731141, 0.12542049016429982], [0...   \n",
       "2  [[0.2833417683274762, -0.1285513884878812], [0...   \n",
       "3  [[0.08675043530985374, 0.03658922221440793], [...   \n",
       "4  [[0.2054977133197953, -0.12485484173352068], [...   \n",
       "5  [[0.12662512102637435, 0.14438368237379834], [...   \n",
       "6  [[0.032519011872878256, 0.08704505916615493], ...   \n",
       "7  [[0.24400648981581252, 0.10555376044820426], [...   \n",
       "8  [[0.10333443070362608, -0.050015956823403325],...   \n",
       "9  [[0.08511056777448078, -0.03631212971743679], ...   \n",
       "\n",
       "                                           M1_spikes  \\\n",
       "0  [[0, 1, 0, 0, 0, 1, 0, 1, 0, 0, 0, 1, 1, 0, 0,...   \n",
       "1  [[0, 1, 0, 0, 0, 0, 0, 0, 0, 1, 0, 0, 0, 1, 0,...   \n",
       "2  [[0, 0, 0, 0, 1, 0, 0, 0, 0, 1, 0, 0, 0, 0, 0,...   \n",
       "3  [[0, 1, 0, 0, 0, 0, 0, 0, 0, 0, 0, 0, 0, 0, 0,...   \n",
       "4  [[0, 0, 0, 0, 1, 1, 0, 0, 1, 1, 0, 0, 1, 0, 0,...   \n",
       "5  [[0, 0, 0, 0, 0, 0, 0, 0, 0, 0, 0, 0, 0, 2, 0,...   \n",
       "6  [[1, 0, 0, 1, 0, 0, 0, 0, 0, 0, 0, 0, 0, 0, 0,...   \n",
       "7  [[1, 0, 0, 1, 0, 1, 0, 0, 0, 0, 0, 0, 0, 1, 0,...   \n",
       "8  [[0, 0, 0, 0, 1, 0, 0, 0, 0, 0, 0, 0, 0, 0, 0,...   \n",
       "9  [[0, 1, 0, 0, 0, 1, 0, 0, 1, 0, 1, 0, 0, 0, 0,...   \n",
       "\n",
       "                                       M1_unit_guide  \\\n",
       "0  [[5, 1], [5, 2], [5, 3], [5, 4], [9, 1], [9, 2...   \n",
       "1  [[5, 1], [5, 2], [5, 3], [5, 4], [9, 1], [9, 2...   \n",
       "2  [[5, 1], [5, 2], [5, 3], [5, 4], [9, 1], [9, 2...   \n",
       "3  [[5, 1], [5, 2], [5, 3], [5, 4], [9, 1], [9, 2...   \n",
       "4  [[5, 1], [5, 2], [5, 3], [5, 4], [9, 1], [9, 2...   \n",
       "5  [[5, 1], [5, 2], [5, 3], [5, 4], [9, 1], [9, 2...   \n",
       "6  [[5, 1], [5, 2], [5, 3], [5, 4], [9, 1], [9, 2...   \n",
       "7  [[5, 1], [5, 2], [5, 3], [5, 4], [9, 1], [9, 2...   \n",
       "8  [[5, 1], [5, 2], [5, 3], [5, 4], [9, 1], [9, 2...   \n",
       "9  [[5, 1], [5, 2], [5, 3], [5, 4], [9, 1], [9, 2...   \n",
       "\n",
       "                                          PMd_spikes  \\\n",
       "0  [[0, 0, 0, 0, 0, 0, 0, 0, 0, 0, 0, 0, 0, 0, 0,...   \n",
       "1  [[0, 0, 0, 0, 0, 0, 0, 0, 0, 0, 0, 0, 0, 0, 0,...   \n",
       "2  [[0, 2, 0, 0, 0, 0, 0, 0, 0, 0, 0, 0, 0, 0, 0,...   \n",
       "3  [[0, 0, 0, 0, 0, 0, 0, 0, 0, 0, 0, 0, 0, 0, 0,...   \n",
       "4  [[1, 1, 0, 0, 0, 0, 0, 0, 0, 0, 0, 0, 0, 0, 0,...   \n",
       "5  [[0, 0, 0, 0, 0, 0, 0, 0, 0, 0, 0, 0, 0, 0, 0,...   \n",
       "6  [[0, 0, 0, 0, 0, 0, 0, 0, 0, 0, 0, 0, 0, 0, 0,...   \n",
       "7  [[0, 1, 0, 0, 0, 0, 0, 0, 0, 0, 0, 0, 0, 0, 0,...   \n",
       "8  [[0, 0, 0, 0, 0, 0, 0, 0, 0, 0, 0, 0, 0, 0, 0,...   \n",
       "9  [[0, 0, 0, 0, 0, 0, 0, 0, 0, 0, 0, 0, 0, 0, 0,...   \n",
       "\n",
       "                                      PMd_unit_guide  \n",
       "0  [[1, 1], [1, 2], [2, 1], [2, 2], [3, 1], [3, 2...  \n",
       "1  [[1, 1], [1, 2], [2, 1], [2, 2], [3, 1], [3, 2...  \n",
       "2  [[1, 1], [1, 2], [2, 1], [2, 2], [3, 1], [3, 2...  \n",
       "3  [[1, 1], [1, 2], [2, 1], [2, 2], [3, 1], [3, 2...  \n",
       "4  [[1, 1], [1, 2], [2, 1], [2, 2], [3, 1], [3, 2...  \n",
       "5  [[1, 1], [1, 2], [2, 1], [2, 2], [3, 1], [3, 2...  \n",
       "6  [[1, 1], [1, 2], [2, 1], [2, 2], [3, 1], [3, 2...  \n",
       "7  [[1, 1], [1, 2], [2, 1], [2, 2], [3, 1], [3, 2...  \n",
       "8  [[1, 1], [1, 2], [2, 1], [2, 2], [3, 1], [3, 2...  \n",
       "9  [[1, 1], [1, 2], [2, 1], [2, 2], [3, 1], [3, 2...  \n",
       "\n",
       "[10 rows x 24 columns]"
      ]
     },
     "execution_count": 98,
     "metadata": {},
     "output_type": "execute_result"
    }
   ],
   "source": [
    "df.head(10)"
   ]
  },
  {
   "cell_type": "code",
   "execution_count": 104,
   "metadata": {
    "scrolled": true
   },
   "outputs": [
    {
     "data": {
      "text/plain": [
       "array(['CO'], dtype=object)"
      ]
     },
     "execution_count": 104,
     "metadata": {},
     "output_type": "execute_result"
    }
   ],
   "source": [
    "# CO is the only task there is so we can use the \n",
    "df['task'].unique()"
   ]
  },
  {
   "cell_type": "code",
   "execution_count": 100,
   "metadata": {
    "scrolled": true
   },
   "outputs": [
    {
     "data": {
      "text/plain": [
       "Index(['monkey', 'date', 'task', 'target_direction', 'trial_id', 'result',\n",
       "       'bin_size', 'perturbation', 'perturbation_info', 'epoch',\n",
       "       'idx_trial_start', 'idx_target_on', 'idx_go_cue', 'idx_movement_on',\n",
       "       'idx_peak_speed', 'idx_trial_end', 'pos', 'vel', 'acc', 'force',\n",
       "       'M1_spikes', 'M1_unit_guide', 'PMd_spikes', 'PMd_unit_guide'],\n",
       "      dtype='object')"
      ]
     },
     "execution_count": 100,
     "metadata": {},
     "output_type": "execute_result"
    }
   ],
   "source": [
    "df.columns"
   ]
  },
  {
   "cell_type": "code",
   "execution_count": 101,
   "metadata": {
    "scrolled": false
   },
   "outputs": [
    {
     "data": {
      "text/html": [
       "<div>\n",
       "<style scoped>\n",
       "    .dataframe tbody tr th:only-of-type {\n",
       "        vertical-align: middle;\n",
       "    }\n",
       "\n",
       "    .dataframe tbody tr th {\n",
       "        vertical-align: top;\n",
       "    }\n",
       "\n",
       "    .dataframe thead th {\n",
       "        text-align: right;\n",
       "    }\n",
       "</style>\n",
       "<table border=\"1\" class=\"dataframe\">\n",
       "  <thead>\n",
       "    <tr style=\"text-align: right;\">\n",
       "      <th></th>\n",
       "      <th>idx_target_on</th>\n",
       "      <th>idx_go_cue</th>\n",
       "      <th>idx_trial_end</th>\n",
       "    </tr>\n",
       "  </thead>\n",
       "  <tbody>\n",
       "    <tr>\n",
       "      <td>0</td>\n",
       "      <td>186</td>\n",
       "      <td>288</td>\n",
       "      <td>436</td>\n",
       "    </tr>\n",
       "    <tr>\n",
       "      <td>1</td>\n",
       "      <td>199</td>\n",
       "      <td>325</td>\n",
       "      <td>447</td>\n",
       "    </tr>\n",
       "    <tr>\n",
       "      <td>2</td>\n",
       "      <td>300</td>\n",
       "      <td>367</td>\n",
       "      <td>483</td>\n",
       "    </tr>\n",
       "    <tr>\n",
       "      <td>3</td>\n",
       "      <td>244</td>\n",
       "      <td>344</td>\n",
       "      <td>458</td>\n",
       "    </tr>\n",
       "    <tr>\n",
       "      <td>4</td>\n",
       "      <td>126</td>\n",
       "      <td>246</td>\n",
       "      <td>362</td>\n",
       "    </tr>\n",
       "    <tr>\n",
       "      <td>...</td>\n",
       "      <td>...</td>\n",
       "      <td>...</td>\n",
       "      <td>...</td>\n",
       "    </tr>\n",
       "    <tr>\n",
       "      <td>769</td>\n",
       "      <td>129</td>\n",
       "      <td>249</td>\n",
       "      <td>374</td>\n",
       "    </tr>\n",
       "    <tr>\n",
       "      <td>770</td>\n",
       "      <td>177</td>\n",
       "      <td>269</td>\n",
       "      <td>388</td>\n",
       "    </tr>\n",
       "    <tr>\n",
       "      <td>771</td>\n",
       "      <td>188</td>\n",
       "      <td>317</td>\n",
       "      <td>396</td>\n",
       "    </tr>\n",
       "    <tr>\n",
       "      <td>772</td>\n",
       "      <td>197</td>\n",
       "      <td>305</td>\n",
       "      <td>423</td>\n",
       "    </tr>\n",
       "    <tr>\n",
       "      <td>773</td>\n",
       "      <td>199</td>\n",
       "      <td>305</td>\n",
       "      <td>439</td>\n",
       "    </tr>\n",
       "  </tbody>\n",
       "</table>\n",
       "<p>774 rows × 3 columns</p>\n",
       "</div>"
      ],
      "text/plain": [
       "     idx_target_on  idx_go_cue  idx_trial_end\n",
       "0              186         288            436\n",
       "1              199         325            447\n",
       "2              300         367            483\n",
       "3              244         344            458\n",
       "4              126         246            362\n",
       "..             ...         ...            ...\n",
       "769            129         249            374\n",
       "770            177         269            388\n",
       "771            188         317            396\n",
       "772            197         305            423\n",
       "773            199         305            439\n",
       "\n",
       "[774 rows x 3 columns]"
      ]
     },
     "execution_count": 101,
     "metadata": {},
     "output_type": "execute_result"
    }
   ],
   "source": [
    "df[['idx_target_on', 'idx_go_cue', 'idx_trial_end']]"
   ]
  },
  {
   "cell_type": "markdown",
   "metadata": {},
   "source": [
    "## M1 Spikes"
   ]
  },
  {
   "cell_type": "code",
   "execution_count": 111,
   "metadata": {
    "scrolled": true
   },
   "outputs": [
    {
     "data": {
      "text/plain": [
       "0      [[0, 1, 0, 0, 0, 1, 0, 1, 0, 0, 0, 1, 1, 0, 0,...\n",
       "1      [[0, 1, 0, 0, 0, 0, 0, 0, 0, 1, 0, 0, 0, 1, 0,...\n",
       "2      [[0, 0, 0, 0, 1, 0, 0, 0, 0, 1, 0, 0, 0, 0, 0,...\n",
       "3      [[0, 1, 0, 0, 0, 0, 0, 0, 0, 0, 0, 0, 0, 0, 0,...\n",
       "4      [[0, 0, 0, 0, 1, 1, 0, 0, 1, 1, 0, 0, 1, 0, 0,...\n",
       "                             ...                        \n",
       "769    [[0, 0, 0, 0, 0, 0, 0, 1, 0, 0, 1, 0, 0, 0, 0,...\n",
       "770    [[0, 0, 0, 0, 0, 0, 0, 0, 0, 0, 0, 0, 0, 0, 0,...\n",
       "771    [[1, 0, 0, 0, 1, 0, 0, 0, 0, 0, 0, 0, 0, 0, 0,...\n",
       "772    [[0, 0, 0, 0, 0, 0, 0, 0, 0, 0, 1, 0, 0, 0, 0,...\n",
       "773    [[0, 1, 0, 0, 1, 0, 0, 0, 0, 0, 0, 0, 0, 0, 0,...\n",
       "Name: M1_spikes, Length: 774, dtype: object"
      ]
     },
     "execution_count": 111,
     "metadata": {},
     "output_type": "execute_result"
    }
   ],
   "source": [
    "df['M1_spikes']"
   ]
  },
  {
   "cell_type": "code",
   "execution_count": 116,
   "metadata": {},
   "outputs": [
    {
     "data": {
      "text/plain": [
       "(774,)"
      ]
     },
     "execution_count": 116,
     "metadata": {},
     "output_type": "execute_result"
    }
   ],
   "source": [
    "df['M1_spikes'].shape # trials by spikes "
   ]
  },
  {
   "cell_type": "code",
   "execution_count": 115,
   "metadata": {
    "scrolled": true
   },
   "outputs": [
    {
     "data": {
      "text/plain": [
       "array([[0, 1, 0, ..., 0, 0, 0],\n",
       "       [1, 0, 0, ..., 0, 0, 0],\n",
       "       [0, 0, 0, ..., 0, 1, 0],\n",
       "       ...,\n",
       "       [0, 0, 0, ..., 0, 0, 0],\n",
       "       [0, 0, 0, ..., 0, 0, 0],\n",
       "       [0, 1, 0, ..., 1, 0, 0]], dtype=uint8)"
      ]
     },
     "execution_count": 115,
     "metadata": {},
     "output_type": "execute_result"
    }
   ],
   "source": [
    "df['M1_spikes'][0]"
   ]
  },
  {
   "cell_type": "code",
   "execution_count": 119,
   "metadata": {},
   "outputs": [
    {
     "data": {
      "text/plain": [
       "(447, 63)"
      ]
     },
     "execution_count": 119,
     "metadata": {},
     "output_type": "execute_result"
    }
   ],
   "source": [
    "df['M1_spikes'][0].shape # one trail: spike trains by neurons / electrodes ?"
   ]
  },
  {
   "cell_type": "code",
   "execution_count": 126,
   "metadata": {
    "scrolled": false
   },
   "outputs": [
    {
     "data": {
      "image/png": "[encoded data removed]",
      "text/plain": [
       "<Figure size 432x288 with 1 Axes>"
      ]
     },
     "metadata": {
      "needs_background": "light"
     },
     "output_type": "display_data"
    }
   ],
   "source": [
    "plt.plot(df['M1_spikes'][0][0]);"
   ]
  },
  {
   "cell_type": "code",
   "execution_count": 129,
   "metadata": {},
   "outputs": [
    {
     "data": {
      "text/plain": [
       "(63,)"
      ]
     },
     "execution_count": 129,
     "metadata": {},
     "output_type": "execute_result"
    }
   ],
   "source": [
    "df['M1_spikes'][0][0].shape"
   ]
  },
  {
   "cell_type": "code",
   "execution_count": 134,
   "metadata": {},
   "outputs": [
    {
     "data": {
      "image/png": "[encoded data removed]",
      "text/plain": [
       "<Figure size 432x288 with 1 Axes>"
      ]
     },
     "metadata": {
      "needs_background": "light"
     },
     "output_type": "display_data"
    }
   ],
   "source": [
    "for i, neuron in enumerate(df['M1_spikes'][0]):\n",
    "    plt.scatter(neuron, y=np.zeros(len(df['M1_spikes'][0][0])))"
   ]
  },
  {
   "cell_type": "code",
   "execution_count": 136,
   "metadata": {
    "scrolled": true
   },
   "outputs": [
    {
     "data": {
      "text/plain": [
       "0      [[5, 1], [5, 2], [5, 3], [5, 4], [9, 1], [9, 2...\n",
       "1      [[5, 1], [5, 2], [5, 3], [5, 4], [9, 1], [9, 2...\n",
       "2      [[5, 1], [5, 2], [5, 3], [5, 4], [9, 1], [9, 2...\n",
       "3      [[5, 1], [5, 2], [5, 3], [5, 4], [9, 1], [9, 2...\n",
       "4      [[5, 1], [5, 2], [5, 3], [5, 4], [9, 1], [9, 2...\n",
       "                             ...                        \n",
       "769    [[5, 1], [5, 2], [5, 3], [5, 4], [9, 1], [9, 2...\n",
       "770    [[5, 1], [5, 2], [5, 3], [5, 4], [9, 1], [9, 2...\n",
       "771    [[5, 1], [5, 2], [5, 3], [5, 4], [9, 1], [9, 2...\n",
       "772    [[5, 1], [5, 2], [5, 3], [5, 4], [9, 1], [9, 2...\n",
       "773    [[5, 1], [5, 2], [5, 3], [5, 4], [9, 1], [9, 2...\n",
       "Name: M1_unit_guide, Length: 774, dtype: object"
      ]
     },
     "execution_count": 136,
     "metadata": {},
     "output_type": "execute_result"
    }
   ],
   "source": [
    "df['M1_unit_guide']"
   ]
  },
  {
   "cell_type": "code",
   "execution_count": 138,
   "metadata": {},
   "outputs": [
    {
     "data": {
      "text/plain": [
       "(63, 2)"
      ]
     },
     "execution_count": 138,
     "metadata": {},
     "output_type": "execute_result"
    }
   ],
   "source": [
    "df['M1_unit_guide'][0].shape"
   ]
  },
  {
   "cell_type": "code",
   "execution_count": 139,
   "metadata": {},
   "outputs": [
    {
     "data": {
      "text/plain": [
       "array([[ 5,  1],\n",
       "       [ 5,  2],\n",
       "       [ 5,  3],\n",
       "       [ 5,  4],\n",
       "       [ 9,  1],\n",
       "       [ 9,  2],\n",
       "       [ 9,  3],\n",
       "       [10,  1],\n",
       "       [13,  1],\n",
       "       [13,  2],\n",
       "       [13,  3],\n",
       "       [13,  4],\n",
       "       [15,  1],\n",
       "       [16,  1],\n",
       "       [18,  1],\n",
       "       [20,  1],\n",
       "       [20,  2],\n",
       "       [24,  1],\n",
       "       [24,  2],\n",
       "       [24,  3],\n",
       "       [26,  1],\n",
       "       [28,  1],\n",
       "       [28,  2],\n",
       "       [28,  3],\n",
       "       [32,  1],\n",
       "       [32,  2],\n",
       "       [32,  3],\n",
       "       [34,  1],\n",
       "       [36,  1],\n",
       "       [40,  1],\n",
       "       [40,  2],\n",
       "       [42,  1],\n",
       "       [43,  1],\n",
       "       [44,  1],\n",
       "       [46,  1],\n",
       "       [46,  2],\n",
       "       [46,  3],\n",
       "       [46,  4],\n",
       "       [47,  1],\n",
       "       [50,  1],\n",
       "       [50,  2],\n",
       "       [51,  1],\n",
       "       [52,  1],\n",
       "       [53,  1],\n",
       "       [53,  2],\n",
       "       [54,  1],\n",
       "       [54,  2],\n",
       "       [54,  3],\n",
       "       [54,  4],\n",
       "       [56,  1],\n",
       "       [62,  1],\n",
       "       [62,  2],\n",
       "       [65,  1],\n",
       "       [75,  1],\n",
       "       [79,  1],\n",
       "       [86,  1],\n",
       "       [91,  1],\n",
       "       [91,  2],\n",
       "       [92,  1],\n",
       "       [92,  2],\n",
       "       [92,  3],\n",
       "       [95,  1],\n",
       "       [96,  1]], dtype=uint8)"
      ]
     },
     "execution_count": 139,
     "metadata": {},
     "output_type": "execute_result"
    }
   ],
   "source": [
    "df['M1_unit_guide'][0]"
   ]
  },
  {
   "cell_type": "code",
   "execution_count": null,
   "metadata": {},
   "outputs": [],
   "source": []
  }
 ],
 "metadata": {
  "kernelspec": {
   "display_name": "Python 3",
   "language": "python",
   "name": "python3"
  },
  "language_info": {
   "codemirror_mode": {
    "name": "ipython",
    "version": 3
   },
   "file_extension": ".py",
   "mimetype": "text/x-python",
   "name": "python",
   "nbconvert_exporter": "python",
   "pygments_lexer": "ipython3",
   "version": "3.7.4"
  }
 },
 "nbformat": 4,
 "nbformat_minor": 2
}
