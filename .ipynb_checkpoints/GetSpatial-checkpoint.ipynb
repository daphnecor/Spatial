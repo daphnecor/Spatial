{
 "cells": [
  {
   "cell_type": "markdown",
   "metadata": {},
   "source": [
    "## Get spatial location of electrodes and neurons on arrays"
   ]
  },
  {
   "cell_type": "code",
   "execution_count": 69,
   "metadata": {},
   "outputs": [],
   "source": [
    "'''\n",
    "Dependencies\n",
    "'''\n",
    "import scipy.io as sio\n",
    "import matplotlib.pyplot as plt\n",
    "import matplotlib as mpl\n",
    "import numpy as np\n",
    "import scipy\n",
    "import pandas as pd\n",
    "import scipy.stats as stats\n",
    "import scipy.sparse as sparse\n",
    "import warnings \n",
    "from scipy import integrate\n",
    "import seaborn as sns\n",
    "warnings.simplefilter('ignore')\n",
    "from sklearn.decomposition import PCA\n",
    "import scipy.io as sio\n",
    "from tqdm.auto import tqdm\n",
    "import importlib\n",
    "\n",
    "sns.set_style('white')\n",
    "# to change default color cycle\n",
    "cs = ['#0D7BBF', '#716568', '#EE922F', '#E6E4C1', '#BCC2C3', '#4D7399', '#CDBCA5']\n",
    "plt.rcParams['axes.prop_cycle'] = plt.cycler(color=cs)\n",
    "cmap = sns.diverging_palette(250, 30, l=65, center=\"dark\", as_cmap=True)\n",
    "\n",
    "from pyaldata import *\n",
    "from rutils import *"
   ]
  },
  {
   "cell_type": "markdown",
   "metadata": {},
   "source": [
    "## Load session data"
   ]
  },
  {
   "cell_type": "code",
   "execution_count": 125,
   "metadata": {},
   "outputs": [],
   "source": [
    "'''\n",
    "Insert path and filename \n",
    "'''\n",
    "path = '/Users/Daphne/Data/'  \n",
    "fname = 'Chewie_CO_VR_2016-10-06.mat' \n",
    "df = mat2dataframe(path+fname, shift_idx_fields=True)"
   ]
  },
  {
   "cell_type": "code",
   "execution_count": 127,
   "metadata": {},
   "outputs": [
    {
     "data": {
      "text/plain": [
       "(774, 24)"
      ]
     },
     "execution_count": 127,
     "metadata": {},
     "output_type": "execute_result"
    }
   ],
   "source": [
    "df.shape"
   ]
  },
  {
   "cell_type": "code",
   "execution_count": 126,
   "metadata": {},
   "outputs": [
    {
     "data": {
      "text/html": [
       "<div>\n",
       "<style scoped>\n",
       "    .dataframe tbody tr th:only-of-type {\n",
       "        vertical-align: middle;\n",
       "    }\n",
       "\n",
       "    .dataframe tbody tr th {\n",
       "        vertical-align: top;\n",
       "    }\n",
       "\n",
       "    .dataframe thead th {\n",
       "        text-align: right;\n",
       "    }\n",
       "</style>\n",
       "<table border=\"1\" class=\"dataframe\">\n",
       "  <thead>\n",
       "    <tr style=\"text-align: right;\">\n",
       "      <th></th>\n",
       "      <th>monkey</th>\n",
       "      <th>date</th>\n",
       "      <th>task</th>\n",
       "      <th>target_direction</th>\n",
       "      <th>trial_id</th>\n",
       "      <th>result</th>\n",
       "      <th>bin_size</th>\n",
       "      <th>perturbation</th>\n",
       "      <th>perturbation_info</th>\n",
       "      <th>epoch</th>\n",
       "      <th>...</th>\n",
       "      <th>idx_peak_speed</th>\n",
       "      <th>idx_trial_end</th>\n",
       "      <th>pos</th>\n",
       "      <th>vel</th>\n",
       "      <th>acc</th>\n",
       "      <th>force</th>\n",
       "      <th>M1_spikes</th>\n",
       "      <th>M1_unit_guide</th>\n",
       "      <th>PMd_spikes</th>\n",
       "      <th>PMd_unit_guide</th>\n",
       "    </tr>\n",
       "  </thead>\n",
       "  <tbody>\n",
       "    <tr>\n",
       "      <td>0</td>\n",
       "      <td>Chewie</td>\n",
       "      <td>10-06-2016</td>\n",
       "      <td>CO</td>\n",
       "      <td>-2.356194</td>\n",
       "      <td>1</td>\n",
       "      <td>R</td>\n",
       "      <td>0.01</td>\n",
       "      <td>VR</td>\n",
       "      <td>-0.52</td>\n",
       "      <td>BL</td>\n",
       "      <td>...</td>\n",
       "      <td>363</td>\n",
       "      <td>436</td>\n",
       "      <td>[[-5.399950889827338, -25.11058978269873], [-5...</td>\n",
       "      <td>[[4.615264447089089, -3.6781866137904946], [4....</td>\n",
       "      <td>[[34.913180411358354, -17.92603186704403], [13...</td>\n",
       "      <td>[[0.3854857746577438, -0.18448026169727955], [...</td>\n",
       "      <td>[[0, 1, 0, 0, 0, 1, 0, 1, 0, 0, 0, 1, 1, 0, 0,...</td>\n",
       "      <td>[[5, 1], [5, 2], [5, 3], [5, 4], [9, 1], [9, 2...</td>\n",
       "      <td>[[0, 0, 0, 0, 0, 0, 0, 0, 0, 0, 0, 0, 0, 0, 0,...</td>\n",
       "      <td>[[1, 1], [1, 2], [2, 1], [2, 2], [3, 1], [3, 2...</td>\n",
       "    </tr>\n",
       "    <tr>\n",
       "      <td>1</td>\n",
       "      <td>Chewie</td>\n",
       "      <td>10-06-2016</td>\n",
       "      <td>CO</td>\n",
       "      <td>1.570796</td>\n",
       "      <td>2</td>\n",
       "      <td>R</td>\n",
       "      <td>0.01</td>\n",
       "      <td>VR</td>\n",
       "      <td>-0.52</td>\n",
       "      <td>BL</td>\n",
       "      <td>...</td>\n",
       "      <td>356</td>\n",
       "      <td>447</td>\n",
       "      <td>[[-5.194667657852522, -35.190944353130526], [-...</td>\n",
       "      <td>[[2.3921738136280783, 2.833707639241631], [2.7...</td>\n",
       "      <td>[[31.99226756476989, 80.42711312188004], [34.1...</td>\n",
       "      <td>[[0.1778157378731141, 0.12542049016429982], [0...</td>\n",
       "      <td>[[0, 1, 0, 0, 0, 0, 0, 0, 0, 1, 0, 0, 0, 1, 0,...</td>\n",
       "      <td>[[5, 1], [5, 2], [5, 3], [5, 4], [9, 1], [9, 2...</td>\n",
       "      <td>[[0, 0, 0, 0, 0, 0, 0, 0, 0, 0, 0, 0, 0, 0, 0,...</td>\n",
       "      <td>[[1, 1], [1, 2], [2, 1], [2, 2], [3, 1], [3, 2...</td>\n",
       "    </tr>\n",
       "    <tr>\n",
       "      <td>2</td>\n",
       "      <td>Chewie</td>\n",
       "      <td>10-06-2016</td>\n",
       "      <td>CO</td>\n",
       "      <td>0.785398</td>\n",
       "      <td>3</td>\n",
       "      <td>R</td>\n",
       "      <td>0.01</td>\n",
       "      <td>VR</td>\n",
       "      <td>-0.52</td>\n",
       "      <td>BL</td>\n",
       "      <td>...</td>\n",
       "      <td>414</td>\n",
       "      <td>483</td>\n",
       "      <td>[[0.35267826312911055, -22.923278550949004], [...</td>\n",
       "      <td>[[0.5017102009485903, -3.146994710197926], [0....</td>\n",
       "      <td>[[-7.180978950112355, -35.21789901845524], [3....</td>\n",
       "      <td>[[0.2833417683274762, -0.1285513884878812], [0...</td>\n",
       "      <td>[[0, 0, 0, 0, 1, 0, 0, 0, 0, 1, 0, 0, 0, 0, 0,...</td>\n",
       "      <td>[[5, 1], [5, 2], [5, 3], [5, 4], [9, 1], [9, 2...</td>\n",
       "      <td>[[0, 2, 0, 0, 0, 0, 0, 0, 0, 0, 0, 0, 0, 0, 0,...</td>\n",
       "      <td>[[1, 1], [1, 2], [2, 1], [2, 2], [3, 1], [3, 2...</td>\n",
       "    </tr>\n",
       "    <tr>\n",
       "      <td>3</td>\n",
       "      <td>Chewie</td>\n",
       "      <td>10-06-2016</td>\n",
       "      <td>CO</td>\n",
       "      <td>3.141593</td>\n",
       "      <td>4</td>\n",
       "      <td>R</td>\n",
       "      <td>0.01</td>\n",
       "      <td>VR</td>\n",
       "      <td>-0.52</td>\n",
       "      <td>BL</td>\n",
       "      <td>...</td>\n",
       "      <td>397</td>\n",
       "      <td>458</td>\n",
       "      <td>[[5.072834875801728, -24.89410841851521], [5.0...</td>\n",
       "      <td>[[-1.3275097541588876, -3.5308863978243985], [...</td>\n",
       "      <td>[[-6.932033881542791, 0.17982626642873387], [-...</td>\n",
       "      <td>[[0.08675043530985374, 0.03658922221440793], [...</td>\n",
       "      <td>[[0, 1, 0, 0, 0, 0, 0, 0, 0, 0, 0, 0, 0, 0, 0,...</td>\n",
       "      <td>[[5, 1], [5, 2], [5, 3], [5, 4], [9, 1], [9, 2...</td>\n",
       "      <td>[[0, 0, 0, 0, 0, 0, 0, 0, 0, 0, 0, 0, 0, 0, 0,...</td>\n",
       "      <td>[[1, 1], [1, 2], [2, 1], [2, 2], [3, 1], [3, 2...</td>\n",
       "    </tr>\n",
       "    <tr>\n",
       "      <td>4</td>\n",
       "      <td>Chewie</td>\n",
       "      <td>10-06-2016</td>\n",
       "      <td>CO</td>\n",
       "      <td>-1.570796</td>\n",
       "      <td>5</td>\n",
       "      <td>R</td>\n",
       "      <td>0.01</td>\n",
       "      <td>VR</td>\n",
       "      <td>-0.52</td>\n",
       "      <td>BL</td>\n",
       "      <td>...</td>\n",
       "      <td>301</td>\n",
       "      <td>362</td>\n",
       "      <td>[[-8.194254800472459, -30.26359832666607], [-8...</td>\n",
       "      <td>[[1.8501123719868446, 0.8394848146862552], [2....</td>\n",
       "      <td>[[48.123169514922175, -9.081942493745938], [58...</td>\n",
       "      <td>[[0.2054977133197953, -0.12485484173352068], [...</td>\n",
       "      <td>[[0, 0, 0, 0, 1, 1, 0, 0, 1, 1, 0, 0, 1, 0, 0,...</td>\n",
       "      <td>[[5, 1], [5, 2], [5, 3], [5, 4], [9, 1], [9, 2...</td>\n",
       "      <td>[[1, 1, 0, 0, 0, 0, 0, 0, 0, 0, 0, 0, 0, 0, 0,...</td>\n",
       "      <td>[[1, 1], [1, 2], [2, 1], [2, 2], [3, 1], [3, 2...</td>\n",
       "    </tr>\n",
       "  </tbody>\n",
       "</table>\n",
       "<p>5 rows × 24 columns</p>\n",
       "</div>"
      ],
      "text/plain": [
       "   monkey        date task  target_direction  trial_id result  bin_size  \\\n",
       "0  Chewie  10-06-2016   CO         -2.356194         1      R      0.01   \n",
       "1  Chewie  10-06-2016   CO          1.570796         2      R      0.01   \n",
       "2  Chewie  10-06-2016   CO          0.785398         3      R      0.01   \n",
       "3  Chewie  10-06-2016   CO          3.141593         4      R      0.01   \n",
       "4  Chewie  10-06-2016   CO         -1.570796         5      R      0.01   \n",
       "\n",
       "  perturbation  perturbation_info epoch  ...  idx_peak_speed  idx_trial_end  \\\n",
       "0           VR              -0.52    BL  ...             363            436   \n",
       "1           VR              -0.52    BL  ...             356            447   \n",
       "2           VR              -0.52    BL  ...             414            483   \n",
       "3           VR              -0.52    BL  ...             397            458   \n",
       "4           VR              -0.52    BL  ...             301            362   \n",
       "\n",
       "                                                 pos  \\\n",
       "0  [[-5.399950889827338, -25.11058978269873], [-5...   \n",
       "1  [[-5.194667657852522, -35.190944353130526], [-...   \n",
       "2  [[0.35267826312911055, -22.923278550949004], [...   \n",
       "3  [[5.072834875801728, -24.89410841851521], [5.0...   \n",
       "4  [[-8.194254800472459, -30.26359832666607], [-8...   \n",
       "\n",
       "                                                 vel  \\\n",
       "0  [[4.615264447089089, -3.6781866137904946], [4....   \n",
       "1  [[2.3921738136280783, 2.833707639241631], [2.7...   \n",
       "2  [[0.5017102009485903, -3.146994710197926], [0....   \n",
       "3  [[-1.3275097541588876, -3.5308863978243985], [...   \n",
       "4  [[1.8501123719868446, 0.8394848146862552], [2....   \n",
       "\n",
       "                                                 acc  \\\n",
       "0  [[34.913180411358354, -17.92603186704403], [13...   \n",
       "1  [[31.99226756476989, 80.42711312188004], [34.1...   \n",
       "2  [[-7.180978950112355, -35.21789901845524], [3....   \n",
       "3  [[-6.932033881542791, 0.17982626642873387], [-...   \n",
       "4  [[48.123169514922175, -9.081942493745938], [58...   \n",
       "\n",
       "                                               force  \\\n",
       "0  [[0.3854857746577438, -0.18448026169727955], [...   \n",
       "1  [[0.1778157378731141, 0.12542049016429982], [0...   \n",
       "2  [[0.2833417683274762, -0.1285513884878812], [0...   \n",
       "3  [[0.08675043530985374, 0.03658922221440793], [...   \n",
       "4  [[0.2054977133197953, -0.12485484173352068], [...   \n",
       "\n",
       "                                           M1_spikes  \\\n",
       "0  [[0, 1, 0, 0, 0, 1, 0, 1, 0, 0, 0, 1, 1, 0, 0,...   \n",
       "1  [[0, 1, 0, 0, 0, 0, 0, 0, 0, 1, 0, 0, 0, 1, 0,...   \n",
       "2  [[0, 0, 0, 0, 1, 0, 0, 0, 0, 1, 0, 0, 0, 0, 0,...   \n",
       "3  [[0, 1, 0, 0, 0, 0, 0, 0, 0, 0, 0, 0, 0, 0, 0,...   \n",
       "4  [[0, 0, 0, 0, 1, 1, 0, 0, 1, 1, 0, 0, 1, 0, 0,...   \n",
       "\n",
       "                                       M1_unit_guide  \\\n",
       "0  [[5, 1], [5, 2], [5, 3], [5, 4], [9, 1], [9, 2...   \n",
       "1  [[5, 1], [5, 2], [5, 3], [5, 4], [9, 1], [9, 2...   \n",
       "2  [[5, 1], [5, 2], [5, 3], [5, 4], [9, 1], [9, 2...   \n",
       "3  [[5, 1], [5, 2], [5, 3], [5, 4], [9, 1], [9, 2...   \n",
       "4  [[5, 1], [5, 2], [5, 3], [5, 4], [9, 1], [9, 2...   \n",
       "\n",
       "                                          PMd_spikes  \\\n",
       "0  [[0, 0, 0, 0, 0, 0, 0, 0, 0, 0, 0, 0, 0, 0, 0,...   \n",
       "1  [[0, 0, 0, 0, 0, 0, 0, 0, 0, 0, 0, 0, 0, 0, 0,...   \n",
       "2  [[0, 2, 0, 0, 0, 0, 0, 0, 0, 0, 0, 0, 0, 0, 0,...   \n",
       "3  [[0, 0, 0, 0, 0, 0, 0, 0, 0, 0, 0, 0, 0, 0, 0,...   \n",
       "4  [[1, 1, 0, 0, 0, 0, 0, 0, 0, 0, 0, 0, 0, 0, 0,...   \n",
       "\n",
       "                                      PMd_unit_guide  \n",
       "0  [[1, 1], [1, 2], [2, 1], [2, 2], [3, 1], [3, 2...  \n",
       "1  [[1, 1], [1, 2], [2, 1], [2, 2], [3, 1], [3, 2...  \n",
       "2  [[1, 1], [1, 2], [2, 1], [2, 2], [3, 1], [3, 2...  \n",
       "3  [[1, 1], [1, 2], [2, 1], [2, 2], [3, 1], [3, 2...  \n",
       "4  [[1, 1], [1, 2], [2, 1], [2, 2], [3, 1], [3, 2...  \n",
       "\n",
       "[5 rows x 24 columns]"
      ]
     },
     "execution_count": 126,
     "metadata": {},
     "output_type": "execute_result"
    }
   ],
   "source": [
    "df.head()"
   ]
  },
  {
   "cell_type": "markdown",
   "metadata": {},
   "source": [
    "## Read cmp file\n",
    "\n",
    "The `.cmp` file contains the location of the electrodes on the array.\n",
    "\n",
    "We want to know the spatial location of electrodes so that we know the spatial location of the recorded neurons.\n",
    "\n",
    "Note that, while an array is a 10x10 grid, there are only 96 electrodes on a given array due to hardware constraints. \n",
    "\n",
    "By default, omitted electrodes (dead electrodes) are the 4 corner grids. If something goes wrong during fabrication however, this may change."
   ]
  },
  {
   "cell_type": "code",
   "execution_count": 32,
   "metadata": {},
   "outputs": [],
   "source": [
    "df_m1_arr = read_cmp('/Users/Daphne/Desktop/Chewie Left M1 SN 6250-001474.cmp')\n",
    "df_pmd_arr = read_cmp('/Users/Daphne/Desktop/Chewie Left PMd SN 6251-001469.cmp')"
   ]
  },
  {
   "cell_type": "code",
   "execution_count": 33,
   "metadata": {},
   "outputs": [
    {
     "data": {
      "text/html": [
       "<div>\n",
       "<style scoped>\n",
       "    .dataframe tbody tr th:only-of-type {\n",
       "        vertical-align: middle;\n",
       "    }\n",
       "\n",
       "    .dataframe tbody tr th {\n",
       "        vertical-align: top;\n",
       "    }\n",
       "\n",
       "    .dataframe thead th {\n",
       "        text-align: right;\n",
       "    }\n",
       "</style>\n",
       "<table border=\"1\" class=\"dataframe\">\n",
       "  <thead>\n",
       "    <tr style=\"text-align: right;\">\n",
       "      <th></th>\n",
       "      <th>array_col</th>\n",
       "      <th>array_row</th>\n",
       "      <th>channel_num</th>\n",
       "      <th>within_channel_num</th>\n",
       "      <th>global_enum</th>\n",
       "    </tr>\n",
       "  </thead>\n",
       "  <tbody>\n",
       "    <tr>\n",
       "      <td>0</td>\n",
       "      <td>0</td>\n",
       "      <td>8</td>\n",
       "      <td>C</td>\n",
       "      <td>1</td>\n",
       "      <td>96</td>\n",
       "    </tr>\n",
       "    <tr>\n",
       "      <td>1</td>\n",
       "      <td>0</td>\n",
       "      <td>7</td>\n",
       "      <td>C</td>\n",
       "      <td>3</td>\n",
       "      <td>95</td>\n",
       "    </tr>\n",
       "    <tr>\n",
       "      <td>2</td>\n",
       "      <td>0</td>\n",
       "      <td>6</td>\n",
       "      <td>C</td>\n",
       "      <td>5</td>\n",
       "      <td>94</td>\n",
       "    </tr>\n",
       "    <tr>\n",
       "      <td>3</td>\n",
       "      <td>0</td>\n",
       "      <td>5</td>\n",
       "      <td>C</td>\n",
       "      <td>7</td>\n",
       "      <td>93</td>\n",
       "    </tr>\n",
       "    <tr>\n",
       "      <td>4</td>\n",
       "      <td>0</td>\n",
       "      <td>4</td>\n",
       "      <td>C</td>\n",
       "      <td>9</td>\n",
       "      <td>92</td>\n",
       "    </tr>\n",
       "  </tbody>\n",
       "</table>\n",
       "</div>"
      ],
      "text/plain": [
       "   array_col  array_row channel_num  within_channel_num  global_enum\n",
       "0          0          8           C                   1           96\n",
       "1          0          7           C                   3           95\n",
       "2          0          6           C                   5           94\n",
       "3          0          5           C                   7           93\n",
       "4          0          4           C                   9           92"
      ]
     },
     "execution_count": 33,
     "metadata": {},
     "output_type": "execute_result"
    }
   ],
   "source": [
    "df_m1_arr.head()"
   ]
  },
  {
   "cell_type": "markdown",
   "metadata": {},
   "source": [
    "## Get spatial location of electrodes on arrays"
   ]
  },
  {
   "cell_type": "code",
   "execution_count": 47,
   "metadata": {},
   "outputs": [
    {
     "data": {
      "image/png": "[encoded data removed]",
      "text/plain": [
       "<Figure size 480x480 with 1 Axes>"
      ]
     },
     "metadata": {},
     "output_type": "display_data"
    }
   ],
   "source": [
    "localize_elecs(df_m1_arr, elecs=[96, 18, 45], verbose=True);"
   ]
  },
  {
   "cell_type": "markdown",
   "metadata": {},
   "source": [
    "For the M1 array, we see that indeed all corner squares are omitted."
   ]
  },
  {
   "cell_type": "code",
   "execution_count": 48,
   "metadata": {},
   "outputs": [
    {
     "data": {
      "image/png": "[encoded data removed]",
      "text/plain": [
       "<Figure size 480x480 with 1 Axes>"
      ]
     },
     "metadata": {},
     "output_type": "display_data"
    }
   ],
   "source": [
    "localize_elecs(df_m1_arr, elecs=range(1,97), verbose=True);"
   ]
  },
  {
   "cell_type": "markdown",
   "metadata": {},
   "source": [
    "For the PMd array one dead electrode has a different location."
   ]
  },
  {
   "cell_type": "code",
   "execution_count": 49,
   "metadata": {},
   "outputs": [
    {
     "data": {
      "image/png": "[encoded data removed]",
      "text/plain": [
       "<Figure size 480x480 with 1 Axes>"
      ]
     },
     "metadata": {},
     "output_type": "display_data"
    }
   ],
   "source": [
    "localize_elecs(df_pmd_arr, elecs=range(1,97), verbose=True);"
   ]
  },
  {
   "cell_type": "markdown",
   "metadata": {},
   "source": [
    "The colored grids are just for visualisation purposes, we can use the np arrays to continue.\n",
    "\n",
    "We have the spatial location of each electrode and we have **unit guides** that specify how many neurons each electrode covers.\n",
    "\n",
    "Connecting these two, we can get the spatial location of $n$ neurons on the array."
   ]
  },
  {
   "cell_type": "code",
   "execution_count": 51,
   "metadata": {},
   "outputs": [],
   "source": [
    "m1_elecmap  = localize_elecs(df_m1_arr, elecs=range(1,97))\n",
    "pmd_elecmap = localize_elecs(df_pmd_arr, elecs=range(1,97))"
   ]
  },
  {
   "cell_type": "code",
   "execution_count": 52,
   "metadata": {},
   "outputs": [
    {
     "data": {
      "text/plain": [
       "array([[59., 79., 69.,  0., 49., 39., 29., 19.,  9.,  0.],\n",
       "       [89., 80., 70., 60., 50., 40., 30., 20., 10.,  1.],\n",
       "       [90., 81., 71., 61., 51., 41., 31., 21., 11.,  2.],\n",
       "       [91., 82., 72., 62., 52., 42., 32., 22., 12.,  3.],\n",
       "       [92., 83., 73., 63., 53., 43., 33., 23., 13.,  4.],\n",
       "       [93., 84., 74., 64., 54., 44., 34., 24., 14.,  5.],\n",
       "       [94., 85., 75., 65., 55., 45., 35., 25., 15.,  6.],\n",
       "       [95., 86., 76., 66., 56., 46., 36., 26., 16.,  7.],\n",
       "       [96., 87., 77., 67., 57., 47., 37., 27., 17.,  8.],\n",
       "       [ 0., 88., 78., 68., 58., 48., 38., 28., 18.,  0.]])"
      ]
     },
     "execution_count": 52,
     "metadata": {},
     "output_type": "execute_result"
    }
   ],
   "source": [
    "pmd_elecmap"
   ]
  },
  {
   "cell_type": "markdown",
   "metadata": {},
   "source": [
    "## Unit guides\n",
    "\n",
    "The unit guides specify the number of neurons per electrode. \n",
    "\n",
    "```\n",
    "[electrode k, neuron 1]\n",
    "[electrode k, neuron 2]\n",
    "[electrode k, neuron 3]\n",
    "[electrode k+1, neuron 1]\n",
    "etc.\n",
    "```\n",
    "\n",
    "While the unit guides are `(774 x N)` (we have a unit guide for each row), they are all equal.\n",
    "\n",
    "So we can pick an arbitrary row. "
   ]
  },
  {
   "cell_type": "code",
   "execution_count": 109,
   "metadata": {},
   "outputs": [],
   "source": [
    "importlib.reload(rutils);\n",
    "from rutils import *"
   ]
  },
  {
   "cell_type": "code",
   "execution_count": 110,
   "metadata": {},
   "outputs": [],
   "source": [
    "m1_cell_distrib, m1_cells_on_arr = elecs_to_neurons(m1_elecmap, df['M1_unit_guide'][0])\n",
    "\n",
    "pmd_cell_distrib, pmd_cells_on_arr = elecs_to_neurons(pmd_elecmap, df['PMd_unit_guide'][0])"
   ]
  },
  {
   "cell_type": "code",
   "execution_count": 111,
   "metadata": {},
   "outputs": [
    {
     "data": {
      "image/png": "[encoded data removed]",
      "text/plain": [
       "<Figure size 960x400 with 2 Axes>"
      ]
     },
     "metadata": {},
     "output_type": "display_data"
    }
   ],
   "source": [
    "fig, (ax1, ax2) = plt.subplots(1, 2, figsize=(12,5), dpi=80)\n",
    "\n",
    "sns.countplot(x=m1_cell_distrib, ax=ax1)\n",
    "ax1.set_title('M1', fontsize=14)\n",
    "ax1.set_xlabel('number of neurons', fontsize=13)\n",
    "ax1.set_ylabel('Count', fontsize=13)\n",
    "\n",
    "sns.countplot(x=pmd_cell_distrib, ax=ax2)\n",
    "ax2.set_title('PMd', fontsize=14)\n",
    "ax2.set_xlabel('number of neurons', fontsize=13)\n",
    "ax2.set_ylabel('Count', fontsize=13);"
   ]
  },
  {
   "cell_type": "markdown",
   "metadata": {},
   "source": [
    "This shows the number of neurons each electrode covers on the M1 array... why are there so many electrodes without neurons?"
   ]
  },
  {
   "cell_type": "code",
   "execution_count": 112,
   "metadata": {},
   "outputs": [
    {
     "name": "stdout",
     "output_type": "stream",
     "text": [
      "Total number of neurons on the M1 array is 63\n"
     ]
    },
    {
     "data": {
      "image/png": "[encoded data removed]",
      "text/plain": [
       "<Figure size 400x400 with 1 Axes>"
      ]
     },
     "metadata": {},
     "output_type": "display_data"
    }
   ],
   "source": [
    "print(f'Total number of neurons on the M1 array is {sum(m1_cell_distrib)}')\n",
    "\n",
    "display_grid(m1_cells_on_arr)"
   ]
  },
  {
   "cell_type": "code",
   "execution_count": 113,
   "metadata": {},
   "outputs": [
    {
     "name": "stdout",
     "output_type": "stream",
     "text": [
      "Total number of neurons on the PMd array is 192\n"
     ]
    },
    {
     "data": {
      "image/png": "[encoded data removed]",
      "text/plain": [
       "<Figure size 400x400 with 1 Axes>"
      ]
     },
     "metadata": {},
     "output_type": "display_data"
    }
   ],
   "source": [
    "print(f'Total number of neurons on the PMd array is {sum(pmd_cell_distrib)}')\n",
    "\n",
    "display_grid(pmd_cells_on_arr)"
   ]
  },
  {
   "cell_type": "markdown",
   "metadata": {},
   "source": [
    "## Get spike trains for each electrode\n"
   ]
  },
  {
   "cell_type": "code",
   "execution_count": 115,
   "metadata": {},
   "outputs": [],
   "source": [
    "# get indices in df of certain electrode\n",
    "\n",
    "# use these indices to get the spike trains\n",
    "\n",
    "# append this as a new column in the dataframe \n",
    "# for all trials --> 1: [spike trains]\n",
    "\n"
   ]
  },
  {
   "cell_type": "code",
   "execution_count": null,
   "metadata": {},
   "outputs": [],
   "source": [
    "unit_guide = df['M1_unit_guide'][0]\n",
    "elecs = list(range(1, 97)) # total number of electrodes\n",
    "unit_arr = np.zeros((10, 10)) # assuming 10x10 array\n",
    "elecs_to_spikes = {}\n",
    "\n",
    "# get the spike trains from a particular trial\n",
    "spikes_trial_i = spikes[trial]\n",
    "\n",
    "\n",
    "    # find indices in unit guide of this electrode number \n",
    "    e_indices = np.where(unit_guide[:, 0] == e)\n",
    "\n",
    "    if np.size(e_indices) == 0: # skip if electrode number is not in col\n",
    "        neuron_distrib.append(0)\n",
    "        elecs_to_spikes.update({e: np.array([])}) # add empty array?\n",
    "        continue\n",
    "\n",
    "    # take neurons that belong to these indices \n",
    "    neurons_at_e = max(unit_guide[:, 1][e_indices])\n",
    "\n",
    "    neuron_distrib.append(neurons_at_e) # largest number is total number of neurons\n",
    "\n",
    "    arr_idx = np.where(elec_map == e) # get spatial location of electrode\n",
    "    unit_arr[arr_idx] = neurons_at_e # store number of neurons in array\n",
    "\n",
    "    # spiketrains of neurons that belong to electrode e\n",
    "    spikes_elec_k = np.array([spikes_trial_i[:, k] for k in e_indices])[0]\n",
    "\n",
    "    # append to dictionary with electrode num as key and spiketrains as values\n",
    "    elecs_to_spikes.update({e:spikes_elec_k})\n"
   ]
  },
  {
   "cell_type": "code",
   "execution_count": 124,
   "metadata": {},
   "outputs": [
    {
     "ename": "TypeError",
     "evalue": "'tuple' object is not callable",
     "output_type": "error",
     "traceback": [
      "\u001b[0;31m---------------------------------------------------------------------------\u001b[0m",
      "\u001b[0;31mTypeError\u001b[0m                                 Traceback (most recent call last)",
      "\u001b[0;32m<ipython-input-124-0e566b70f572>\u001b[0m in \u001b[0;36m<module>\u001b[0;34m\u001b[0m\n\u001b[0;32m----> 1\u001b[0;31m \u001b[0mdf\u001b[0m\u001b[0;34m.\u001b[0m\u001b[0mshape\u001b[0m\u001b[0;34m(\u001b[0m\u001b[0;34m)\u001b[0m\u001b[0;34m\u001b[0m\u001b[0;34m\u001b[0m\u001b[0m\n\u001b[0m",
      "\u001b[0;31mTypeError\u001b[0m: 'tuple' object is not callable"
     ]
    }
   ],
   "source": []
  },
  {
   "cell_type": "code",
   "execution_count": 159,
   "metadata": {},
   "outputs": [],
   "source": [
    "elecs_to_spikes = {}\n",
    "unit_guide = df['M1_unit_guide'][0]\n",
    "trials = df.shape[0]\n",
    "elecs=list(range(1, 97))"
   ]
  },
  {
   "cell_type": "code",
   "execution_count": 160,
   "metadata": {},
   "outputs": [],
   "source": [
    "elecs_to_spikes = {}\n",
    "\n",
    "for e in elecs:\n",
    "    \n",
    "    # find indices in unit guide of this electrode number \n",
    "    e_indices = np.where(unit_guide[:, 0] == e)\n",
    "    \n",
    "    # iterate through all trials and append spike trains\n",
    "    spikes_elec = []\n",
    "\n",
    "    for tr in range(trials):\n",
    "\n",
    "        # inner loop: trials\n",
    "        # get spike trains for all trials for this electrode\n",
    "        spike_trains_e = df['M1_spikes'][tr][e_indices]\n",
    "\n",
    "        # append to dictionary with electrode num as key and spiketrains as values\n",
    "        spikes_elec.append(spike_trains_e)\n",
    "\n",
    "    # outer loop: electrodes\n",
    "    all_spike_trains_e = np.array(spikes_elec)\n",
    "\n",
    "    elecs_to_spikes.update({e:all_spike_trains_e})"
   ]
  },
  {
   "cell_type": "code",
   "execution_count": 161,
   "metadata": {},
   "outputs": [
    {
     "name": "stdout",
     "output_type": "stream",
     "text": [
      "1 (774, 0, 63)\n",
      "2 (774, 0, 63)\n",
      "3 (774, 0, 63)\n",
      "4 (774, 0, 63)\n",
      "5 (774, 4, 63)\n",
      "6 (774, 0, 63)\n",
      "7 (774, 0, 63)\n",
      "8 (774, 0, 63)\n",
      "9 (774, 3, 63)\n",
      "10 (774, 1, 63)\n",
      "11 (774, 0, 63)\n",
      "12 (774, 0, 63)\n",
      "13 (774, 4, 63)\n",
      "14 (774, 0, 63)\n",
      "15 (774, 1, 63)\n",
      "16 (774, 1, 63)\n",
      "17 (774, 0, 63)\n",
      "18 (774, 1, 63)\n",
      "19 (774, 0, 63)\n",
      "20 (774, 2, 63)\n",
      "21 (774, 0, 63)\n",
      "22 (774, 0, 63)\n",
      "23 (774, 0, 63)\n",
      "24 (774, 3, 63)\n",
      "25 (774, 0, 63)\n",
      "26 (774, 1, 63)\n",
      "27 (774, 0, 63)\n",
      "28 (774, 3, 63)\n",
      "29 (774, 0, 63)\n",
      "30 (774, 0, 63)\n",
      "31 (774, 0, 63)\n",
      "32 (774, 3, 63)\n",
      "33 (774, 0, 63)\n",
      "34 (774, 1, 63)\n",
      "35 (774, 0, 63)\n",
      "36 (774, 1, 63)\n",
      "37 (774, 0, 63)\n",
      "38 (774, 0, 63)\n",
      "39 (774, 0, 63)\n",
      "40 (774, 2, 63)\n",
      "41 (774, 0, 63)\n",
      "42 (774, 1, 63)\n",
      "43 (774, 1, 63)\n",
      "44 (774, 1, 63)\n",
      "45 (774, 0, 63)\n",
      "46 (774, 4, 63)\n",
      "47 (774, 1, 63)\n",
      "48 (774, 0, 63)\n",
      "49 (774, 0, 63)\n",
      "50 (774, 2, 63)\n",
      "51 (774, 1, 63)\n",
      "52 (774, 1, 63)\n",
      "53 (774, 2, 63)\n",
      "54 (774, 4, 63)\n",
      "55 (774, 0, 63)\n",
      "56 (774, 1, 63)\n",
      "57 (774, 0, 63)\n",
      "58 (774, 0, 63)\n",
      "59 (774, 0, 63)\n",
      "60 (774, 0, 63)\n",
      "61 (774, 0, 63)\n",
      "62 (774, 2, 63)\n",
      "63 (774, 0, 63)\n",
      "64 (774, 0, 63)\n",
      "65 (774, 1, 63)\n",
      "66 (774, 0, 63)\n",
      "67 (774, 0, 63)\n",
      "68 (774, 0, 63)\n",
      "69 (774, 0, 63)\n",
      "70 (774, 0, 63)\n",
      "71 (774, 0, 63)\n",
      "72 (774, 0, 63)\n",
      "73 (774, 0, 63)\n",
      "74 (774, 0, 63)\n",
      "75 (774, 1, 63)\n",
      "76 (774, 0, 63)\n",
      "77 (774, 0, 63)\n",
      "78 (774, 0, 63)\n",
      "79 (774, 1, 63)\n",
      "80 (774, 0, 63)\n",
      "81 (774, 0, 63)\n",
      "82 (774, 0, 63)\n",
      "83 (774, 0, 63)\n",
      "84 (774, 0, 63)\n",
      "85 (774, 0, 63)\n",
      "86 (774, 1, 63)\n",
      "87 (774, 0, 63)\n",
      "88 (774, 0, 63)\n",
      "89 (774, 0, 63)\n",
      "90 (774, 0, 63)\n",
      "91 (774, 2, 63)\n",
      "92 (774, 3, 63)\n",
      "93 (774, 0, 63)\n",
      "94 (774, 0, 63)\n",
      "95 (774, 1, 63)\n",
      "96 (774, 1, 63)\n"
     ]
    }
   ],
   "source": [
    "for key, value in elecs_to_spikes.items():\n",
    "    print(key, value.shape)"
   ]
  },
  {
   "cell_type": "code",
   "execution_count": null,
   "metadata": {},
   "outputs": [],
   "source": []
  },
  {
   "cell_type": "markdown",
   "metadata": {},
   "source": [
    "## Do PCA on each for each electrode separately \n",
    "\n",
    "Get the spike trains for each individual electrode.\n",
    "\n",
    "Do PCA on these (transformed) spike trains.\n",
    "\n",
    "Make a histogram to compare the differences."
   ]
  },
  {
   "cell_type": "code",
   "execution_count": null,
   "metadata": {},
   "outputs": [],
   "source": []
  },
  {
   "cell_type": "markdown",
   "metadata": {},
   "source": [
    "## Spike trains\n",
    "\n",
    "In `[brain_area]_spikes` the rows indicate the timepoints and the columns the neurons `[timepoints, neurons] = [447, 63]`.\n",
    "\n",
    "We make a dictionary that serves as a mapping between the neurons on the electrodes and \n"
   ]
  },
  {
   "cell_type": "code",
   "execution_count": 72,
   "metadata": {},
   "outputs": [
    {
     "data": {
      "image/png": "[encoded data removed]",
      "text/plain": [
       "<Figure size 960x1008 with 1 Axes>"
      ]
     },
     "metadata": {},
     "output_type": "display_data"
    }
   ],
   "source": [
    "make_raster(df['M1_spikes'][0])"
   ]
  },
  {
   "cell_type": "code",
   "execution_count": 105,
   "metadata": {},
   "outputs": [],
   "source": [
    "def get_neuron_elec_mapping(elec_map, unit_guide, spikes, trial):\n",
    "    '''\n",
    "    \n",
    "    Parameters\n",
    "    ----------\n",
    "    elec_map:\n",
    "    \n",
    "    unit_guide: \n",
    "    \n",
    "    Returns\n",
    "    -------\n",
    "    unit_arr: \n",
    "\n",
    "    '''\n",
    "    elecs = list(range(1, 97)) # total number of electrodes\n",
    "    unit_arr = np.zeros((10, 10)) # assuming 10x10 array\n",
    "    neuron_distrib = []\n",
    "    elecs_to_spikes = {}\n",
    "    \n",
    "    # get the spike trains from a particular trial\n",
    "    spikes_trial_i = spikes[trial]\n",
    "\n",
    "    for e in elecs:\n",
    "\n",
    "        # find indices in unit guide of this electrode number \n",
    "        e_indices = np.where(unit_guide[:, 0] == e)\n",
    "\n",
    "        if np.size(e_indices) == 0: # skip if electrode number is not in col\n",
    "            neuron_distrib.append(0)\n",
    "            elecs_to_spikes.update({e: np.array([])}) # add empty array?\n",
    "            continue\n",
    "\n",
    "        # take neurons that belong to these indices \n",
    "        neurons_at_e = max(unit_guide[:, 1][e_indices])\n",
    "\n",
    "        neuron_distrib.append(neurons_at_e) # largest number is total number of neurons\n",
    "\n",
    "        arr_idx = np.where(elec_map == e) # get spatial location of electrode\n",
    "        unit_arr[arr_idx] = neurons_at_e # store number of neurons in array\n",
    "\n",
    "        # spiketrains of neurons that belong to electrode e\n",
    "        spikes_elec_k = np.array([spikes_trial_i[:, k] for k in e_indices])[0]\n",
    "\n",
    "        # append to dictionary with electrode num as key and spiketrains as values\n",
    "        elecs_to_spikes.update({e:spikes_elec_k})\n",
    "        \n",
    "    return neuron_distrib, unit_arr, elecs_to_spikes"
   ]
  },
  {
   "cell_type": "code",
   "execution_count": null,
   "metadata": {},
   "outputs": [],
   "source": []
  }
 ],
 "metadata": {
  "kernelspec": {
   "display_name": "Python 3",
   "language": "python",
   "name": "python3"
  },
  "language_info": {
   "codemirror_mode": {
    "name": "ipython",
    "version": 3
   },
   "file_extension": ".py",
   "mimetype": "text/x-python",
   "name": "python",
   "nbconvert_exporter": "python",
   "pygments_lexer": "ipython3",
   "version": "3.7.4"
  }
 },
 "nbformat": 4,
 "nbformat_minor": 4
}
