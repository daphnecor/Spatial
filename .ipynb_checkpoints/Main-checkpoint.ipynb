{
 "cells": [
  {
   "cell_type": "markdown",
   "metadata": {},
   "source": [
    "# Main"
   ]
  },
  {
   "cell_type": "code",
   "execution_count": 54,
   "metadata": {},
   "outputs": [],
   "source": [
    "'''\n",
    "Dependencies\n",
    "'''\n",
    "import scipy.io as sio\n",
    "import matplotlib.pyplot as plt\n",
    "import matplotlib as mpl\n",
    "import numpy as np\n",
    "import scipy\n",
    "import pandas as pd\n",
    "import scipy.stats as stats\n",
    "import scipy.sparse as sparse\n",
    "import copy\n",
    "import time\n",
    "import warnings \n",
    "from scipy import integrate\n",
    "import seaborn as sns\n",
    "warnings.simplefilter('ignore')\n",
    "from sklearn.decomposition import PCA\n",
    "import scipy.io as sio\n",
    "import os\n",
    "from tqdm.auto import tqdm\n",
    "\n",
    "import pyaldata as pld # using functions from PyalData\n",
    "\n",
    "import tools # matlab2python functions"
   ]
  },
  {
   "cell_type": "markdown",
   "metadata": {},
   "source": [
    "## 0.  Load data and convert to pandas dataframe\n",
    "\n",
    "The original data are in the form of `.mat` files. Pandas makes it very easy to work with the data. The entire dataset is a set of sessions $S$ of $T$ trials and each trial has $F$ features. The dataset is of the form\n",
    "\\begin{align}\n",
    "    S \\times T \\times F\n",
    "\\end{align}\n",
    "\n",
    "We will do the analysis for one session to begin with, yielding a $T \\times F$ matrix."
   ]
  },
  {
   "cell_type": "code",
   "execution_count": 2,
   "metadata": {},
   "outputs": [],
   "source": [
    "'''\n",
    "Insert path and filename \n",
    "'''\n",
    "path = '/Users/Daphne/Data/'  \n",
    "fname = 'Chewie_CO_VR_2016-10-06.mat' \n",
    "df = pld.mat2dataframe(path+fname, shift_idx_fields=True)\n",
    "\n",
    "#mat = scipy.io.loadmat(path + fname) "
   ]
  },
  {
   "cell_type": "code",
   "execution_count": 3,
   "metadata": {
    "scrolled": true
   },
   "outputs": [
    {
     "data": {
      "text/plain": [
       "(774, 24)"
      ]
     },
     "execution_count": 3,
     "metadata": {},
     "output_type": "execute_result"
    }
   ],
   "source": [
    "df.shape # T x F"
   ]
  },
  {
   "cell_type": "code",
   "execution_count": 4,
   "metadata": {
    "scrolled": false
   },
   "outputs": [
    {
     "data": {
      "text/html": [
       "<div>\n",
       "<style scoped>\n",
       "    .dataframe tbody tr th:only-of-type {\n",
       "        vertical-align: middle;\n",
       "    }\n",
       "\n",
       "    .dataframe tbody tr th {\n",
       "        vertical-align: top;\n",
       "    }\n",
       "\n",
       "    .dataframe thead th {\n",
       "        text-align: right;\n",
       "    }\n",
       "</style>\n",
       "<table border=\"1\" class=\"dataframe\">\n",
       "  <thead>\n",
       "    <tr style=\"text-align: right;\">\n",
       "      <th></th>\n",
       "      <th>monkey</th>\n",
       "      <th>date</th>\n",
       "      <th>task</th>\n",
       "      <th>target_direction</th>\n",
       "      <th>trial_id</th>\n",
       "      <th>result</th>\n",
       "      <th>bin_size</th>\n",
       "      <th>perturbation</th>\n",
       "      <th>perturbation_info</th>\n",
       "      <th>epoch</th>\n",
       "      <th>...</th>\n",
       "      <th>idx_peak_speed</th>\n",
       "      <th>idx_trial_end</th>\n",
       "      <th>pos</th>\n",
       "      <th>vel</th>\n",
       "      <th>acc</th>\n",
       "      <th>force</th>\n",
       "      <th>M1_spikes</th>\n",
       "      <th>M1_unit_guide</th>\n",
       "      <th>PMd_spikes</th>\n",
       "      <th>PMd_unit_guide</th>\n",
       "    </tr>\n",
       "  </thead>\n",
       "  <tbody>\n",
       "    <tr>\n",
       "      <td>0</td>\n",
       "      <td>Chewie</td>\n",
       "      <td>10-06-2016</td>\n",
       "      <td>CO</td>\n",
       "      <td>-2.356194</td>\n",
       "      <td>1</td>\n",
       "      <td>R</td>\n",
       "      <td>0.01</td>\n",
       "      <td>VR</td>\n",
       "      <td>-0.52</td>\n",
       "      <td>BL</td>\n",
       "      <td>...</td>\n",
       "      <td>363</td>\n",
       "      <td>436</td>\n",
       "      <td>[[-5.399950889827338, -25.11058978269873], [-5...</td>\n",
       "      <td>[[4.615264447089089, -3.6781866137904946], [4....</td>\n",
       "      <td>[[34.913180411358354, -17.92603186704403], [13...</td>\n",
       "      <td>[[0.3854857746577438, -0.18448026169727955], [...</td>\n",
       "      <td>[[0, 1, 0, 0, 0, 1, 0, 1, 0, 0, 0, 1, 1, 0, 0,...</td>\n",
       "      <td>[[5, 1], [5, 2], [5, 3], [5, 4], [9, 1], [9, 2...</td>\n",
       "      <td>[[0, 0, 0, 0, 0, 0, 0, 0, 0, 0, 0, 0, 0, 0, 0,...</td>\n",
       "      <td>[[1, 1], [1, 2], [2, 1], [2, 2], [3, 1], [3, 2...</td>\n",
       "    </tr>\n",
       "    <tr>\n",
       "      <td>1</td>\n",
       "      <td>Chewie</td>\n",
       "      <td>10-06-2016</td>\n",
       "      <td>CO</td>\n",
       "      <td>1.570796</td>\n",
       "      <td>2</td>\n",
       "      <td>R</td>\n",
       "      <td>0.01</td>\n",
       "      <td>VR</td>\n",
       "      <td>-0.52</td>\n",
       "      <td>BL</td>\n",
       "      <td>...</td>\n",
       "      <td>356</td>\n",
       "      <td>447</td>\n",
       "      <td>[[-5.194667657852522, -35.190944353130526], [-...</td>\n",
       "      <td>[[2.3921738136280783, 2.833707639241631], [2.7...</td>\n",
       "      <td>[[31.99226756476989, 80.42711312188004], [34.1...</td>\n",
       "      <td>[[0.1778157378731141, 0.12542049016429982], [0...</td>\n",
       "      <td>[[0, 1, 0, 0, 0, 0, 0, 0, 0, 1, 0, 0, 0, 1, 0,...</td>\n",
       "      <td>[[5, 1], [5, 2], [5, 3], [5, 4], [9, 1], [9, 2...</td>\n",
       "      <td>[[0, 0, 0, 0, 0, 0, 0, 0, 0, 0, 0, 0, 0, 0, 0,...</td>\n",
       "      <td>[[1, 1], [1, 2], [2, 1], [2, 2], [3, 1], [3, 2...</td>\n",
       "    </tr>\n",
       "    <tr>\n",
       "      <td>2</td>\n",
       "      <td>Chewie</td>\n",
       "      <td>10-06-2016</td>\n",
       "      <td>CO</td>\n",
       "      <td>0.785398</td>\n",
       "      <td>3</td>\n",
       "      <td>R</td>\n",
       "      <td>0.01</td>\n",
       "      <td>VR</td>\n",
       "      <td>-0.52</td>\n",
       "      <td>BL</td>\n",
       "      <td>...</td>\n",
       "      <td>414</td>\n",
       "      <td>483</td>\n",
       "      <td>[[0.35267826312911055, -22.923278550949004], [...</td>\n",
       "      <td>[[0.5017102009485903, -3.146994710197926], [0....</td>\n",
       "      <td>[[-7.180978950112355, -35.21789901845524], [3....</td>\n",
       "      <td>[[0.2833417683274762, -0.1285513884878812], [0...</td>\n",
       "      <td>[[0, 0, 0, 0, 1, 0, 0, 0, 0, 1, 0, 0, 0, 0, 0,...</td>\n",
       "      <td>[[5, 1], [5, 2], [5, 3], [5, 4], [9, 1], [9, 2...</td>\n",
       "      <td>[[0, 2, 0, 0, 0, 0, 0, 0, 0, 0, 0, 0, 0, 0, 0,...</td>\n",
       "      <td>[[1, 1], [1, 2], [2, 1], [2, 2], [3, 1], [3, 2...</td>\n",
       "    </tr>\n",
       "    <tr>\n",
       "      <td>3</td>\n",
       "      <td>Chewie</td>\n",
       "      <td>10-06-2016</td>\n",
       "      <td>CO</td>\n",
       "      <td>3.141593</td>\n",
       "      <td>4</td>\n",
       "      <td>R</td>\n",
       "      <td>0.01</td>\n",
       "      <td>VR</td>\n",
       "      <td>-0.52</td>\n",
       "      <td>BL</td>\n",
       "      <td>...</td>\n",
       "      <td>397</td>\n",
       "      <td>458</td>\n",
       "      <td>[[5.072834875801728, -24.89410841851521], [5.0...</td>\n",
       "      <td>[[-1.3275097541588876, -3.5308863978243985], [...</td>\n",
       "      <td>[[-6.932033881542791, 0.17982626642873387], [-...</td>\n",
       "      <td>[[0.08675043530985374, 0.03658922221440793], [...</td>\n",
       "      <td>[[0, 1, 0, 0, 0, 0, 0, 0, 0, 0, 0, 0, 0, 0, 0,...</td>\n",
       "      <td>[[5, 1], [5, 2], [5, 3], [5, 4], [9, 1], [9, 2...</td>\n",
       "      <td>[[0, 0, 0, 0, 0, 0, 0, 0, 0, 0, 0, 0, 0, 0, 0,...</td>\n",
       "      <td>[[1, 1], [1, 2], [2, 1], [2, 2], [3, 1], [3, 2...</td>\n",
       "    </tr>\n",
       "    <tr>\n",
       "      <td>4</td>\n",
       "      <td>Chewie</td>\n",
       "      <td>10-06-2016</td>\n",
       "      <td>CO</td>\n",
       "      <td>-1.570796</td>\n",
       "      <td>5</td>\n",
       "      <td>R</td>\n",
       "      <td>0.01</td>\n",
       "      <td>VR</td>\n",
       "      <td>-0.52</td>\n",
       "      <td>BL</td>\n",
       "      <td>...</td>\n",
       "      <td>301</td>\n",
       "      <td>362</td>\n",
       "      <td>[[-8.194254800472459, -30.26359832666607], [-8...</td>\n",
       "      <td>[[1.8501123719868446, 0.8394848146862552], [2....</td>\n",
       "      <td>[[48.123169514922175, -9.081942493745938], [58...</td>\n",
       "      <td>[[0.2054977133197953, -0.12485484173352068], [...</td>\n",
       "      <td>[[0, 0, 0, 0, 1, 1, 0, 0, 1, 1, 0, 0, 1, 0, 0,...</td>\n",
       "      <td>[[5, 1], [5, 2], [5, 3], [5, 4], [9, 1], [9, 2...</td>\n",
       "      <td>[[1, 1, 0, 0, 0, 0, 0, 0, 0, 0, 0, 0, 0, 0, 0,...</td>\n",
       "      <td>[[1, 1], [1, 2], [2, 1], [2, 2], [3, 1], [3, 2...</td>\n",
       "    </tr>\n",
       "  </tbody>\n",
       "</table>\n",
       "<p>5 rows × 24 columns</p>\n",
       "</div>"
      ],
      "text/plain": [
       "   monkey        date task  target_direction  trial_id result  bin_size  \\\n",
       "0  Chewie  10-06-2016   CO         -2.356194         1      R      0.01   \n",
       "1  Chewie  10-06-2016   CO          1.570796         2      R      0.01   \n",
       "2  Chewie  10-06-2016   CO          0.785398         3      R      0.01   \n",
       "3  Chewie  10-06-2016   CO          3.141593         4      R      0.01   \n",
       "4  Chewie  10-06-2016   CO         -1.570796         5      R      0.01   \n",
       "\n",
       "  perturbation  perturbation_info epoch  ...  idx_peak_speed  idx_trial_end  \\\n",
       "0           VR              -0.52    BL  ...             363            436   \n",
       "1           VR              -0.52    BL  ...             356            447   \n",
       "2           VR              -0.52    BL  ...             414            483   \n",
       "3           VR              -0.52    BL  ...             397            458   \n",
       "4           VR              -0.52    BL  ...             301            362   \n",
       "\n",
       "                                                 pos  \\\n",
       "0  [[-5.399950889827338, -25.11058978269873], [-5...   \n",
       "1  [[-5.194667657852522, -35.190944353130526], [-...   \n",
       "2  [[0.35267826312911055, -22.923278550949004], [...   \n",
       "3  [[5.072834875801728, -24.89410841851521], [5.0...   \n",
       "4  [[-8.194254800472459, -30.26359832666607], [-8...   \n",
       "\n",
       "                                                 vel  \\\n",
       "0  [[4.615264447089089, -3.6781866137904946], [4....   \n",
       "1  [[2.3921738136280783, 2.833707639241631], [2.7...   \n",
       "2  [[0.5017102009485903, -3.146994710197926], [0....   \n",
       "3  [[-1.3275097541588876, -3.5308863978243985], [...   \n",
       "4  [[1.8501123719868446, 0.8394848146862552], [2....   \n",
       "\n",
       "                                                 acc  \\\n",
       "0  [[34.913180411358354, -17.92603186704403], [13...   \n",
       "1  [[31.99226756476989, 80.42711312188004], [34.1...   \n",
       "2  [[-7.180978950112355, -35.21789901845524], [3....   \n",
       "3  [[-6.932033881542791, 0.17982626642873387], [-...   \n",
       "4  [[48.123169514922175, -9.081942493745938], [58...   \n",
       "\n",
       "                                               force  \\\n",
       "0  [[0.3854857746577438, -0.18448026169727955], [...   \n",
       "1  [[0.1778157378731141, 0.12542049016429982], [0...   \n",
       "2  [[0.2833417683274762, -0.1285513884878812], [0...   \n",
       "3  [[0.08675043530985374, 0.03658922221440793], [...   \n",
       "4  [[0.2054977133197953, -0.12485484173352068], [...   \n",
       "\n",
       "                                           M1_spikes  \\\n",
       "0  [[0, 1, 0, 0, 0, 1, 0, 1, 0, 0, 0, 1, 1, 0, 0,...   \n",
       "1  [[0, 1, 0, 0, 0, 0, 0, 0, 0, 1, 0, 0, 0, 1, 0,...   \n",
       "2  [[0, 0, 0, 0, 1, 0, 0, 0, 0, 1, 0, 0, 0, 0, 0,...   \n",
       "3  [[0, 1, 0, 0, 0, 0, 0, 0, 0, 0, 0, 0, 0, 0, 0,...   \n",
       "4  [[0, 0, 0, 0, 1, 1, 0, 0, 1, 1, 0, 0, 1, 0, 0,...   \n",
       "\n",
       "                                       M1_unit_guide  \\\n",
       "0  [[5, 1], [5, 2], [5, 3], [5, 4], [9, 1], [9, 2...   \n",
       "1  [[5, 1], [5, 2], [5, 3], [5, 4], [9, 1], [9, 2...   \n",
       "2  [[5, 1], [5, 2], [5, 3], [5, 4], [9, 1], [9, 2...   \n",
       "3  [[5, 1], [5, 2], [5, 3], [5, 4], [9, 1], [9, 2...   \n",
       "4  [[5, 1], [5, 2], [5, 3], [5, 4], [9, 1], [9, 2...   \n",
       "\n",
       "                                          PMd_spikes  \\\n",
       "0  [[0, 0, 0, 0, 0, 0, 0, 0, 0, 0, 0, 0, 0, 0, 0,...   \n",
       "1  [[0, 0, 0, 0, 0, 0, 0, 0, 0, 0, 0, 0, 0, 0, 0,...   \n",
       "2  [[0, 2, 0, 0, 0, 0, 0, 0, 0, 0, 0, 0, 0, 0, 0,...   \n",
       "3  [[0, 0, 0, 0, 0, 0, 0, 0, 0, 0, 0, 0, 0, 0, 0,...   \n",
       "4  [[1, 1, 0, 0, 0, 0, 0, 0, 0, 0, 0, 0, 0, 0, 0,...   \n",
       "\n",
       "                                      PMd_unit_guide  \n",
       "0  [[1, 1], [1, 2], [2, 1], [2, 2], [3, 1], [3, 2...  \n",
       "1  [[1, 1], [1, 2], [2, 1], [2, 2], [3, 1], [3, 2...  \n",
       "2  [[1, 1], [1, 2], [2, 1], [2, 2], [3, 1], [3, 2...  \n",
       "3  [[1, 1], [1, 2], [2, 1], [2, 2], [3, 1], [3, 2...  \n",
       "4  [[1, 1], [1, 2], [2, 1], [2, 2], [3, 1], [3, 2...  \n",
       "\n",
       "[5 rows x 24 columns]"
      ]
     },
     "execution_count": 4,
     "metadata": {},
     "output_type": "execute_result"
    }
   ],
   "source": [
    "df.head()"
   ]
  },
  {
   "cell_type": "code",
   "execution_count": 5,
   "metadata": {},
   "outputs": [
    {
     "data": {
      "text/plain": [
       "Index(['monkey', 'date', 'task', 'target_direction', 'trial_id', 'result',\n",
       "       'bin_size', 'perturbation', 'perturbation_info', 'epoch',\n",
       "       'idx_trial_start', 'idx_target_on', 'idx_go_cue', 'idx_movement_on',\n",
       "       'idx_peak_speed', 'idx_trial_end', 'pos', 'vel', 'acc', 'force',\n",
       "       'M1_spikes', 'M1_unit_guide', 'PMd_spikes', 'PMd_unit_guide'],\n",
       "      dtype='object')"
      ]
     },
     "execution_count": 5,
     "metadata": {},
     "output_type": "execute_result"
    }
   ],
   "source": [
    "df.columns"
   ]
  },
  {
   "cell_type": "markdown",
   "metadata": {},
   "source": [
    "## 1. Preprocess \n",
    "\n",
    "I am following the parameters and workflow from `compare_weights_spatially.m`"
   ]
  },
  {
   "cell_type": "markdown",
   "metadata": {},
   "source": [
    "### 1.1 Combine time bins"
   ]
  },
  {
   "cell_type": "code",
   "execution_count": 6,
   "metadata": {},
   "outputs": [],
   "source": [
    "td = pld.combine_time_bins(df, n_bins=3)"
   ]
  },
  {
   "cell_type": "code",
   "execution_count": 7,
   "metadata": {
    "scrolled": true
   },
   "outputs": [],
   "source": [
    "# print(f'before \\n {df.head().bin_size} \\n')\n",
    "# print(f'after combining time bins \\n {td.head().bin_size}')"
   ]
  },
  {
   "cell_type": "markdown",
   "metadata": {},
   "source": [
    "### 1.2 Remove low firing neurons"
   ]
  },
  {
   "cell_type": "code",
   "execution_count": 8,
   "metadata": {},
   "outputs": [
    {
     "data": {
      "text/plain": [
       "array([[0, 1, 0, ..., 0, 0, 0],\n",
       "       [1, 0, 0, ..., 0, 0, 0],\n",
       "       [0, 0, 0, ..., 0, 1, 0],\n",
       "       ...,\n",
       "       [0, 0, 0, ..., 0, 0, 0],\n",
       "       [0, 0, 0, ..., 0, 0, 0],\n",
       "       [0, 1, 0, ..., 1, 0, 0]], dtype=uint8)"
      ]
     },
     "execution_count": 8,
     "metadata": {},
     "output_type": "execute_result"
    }
   ],
   "source": [
    "df.M1_spikes[0]"
   ]
  },
  {
   "cell_type": "code",
   "execution_count": 9,
   "metadata": {},
   "outputs": [
    {
     "name": "stdout",
     "output_type": "stream",
     "text": [
      "original M1 spikes: (447, 63)\n",
      "after removing low firing neurons: (149, 44) \n",
      "\n",
      "original PMd spikes: (447, 192)\n",
      "after removing low firing neurons: (149, 99)\n"
     ]
    }
   ],
   "source": [
    "td = pld.remove_low_firing_neurons(td, signal='M1_spikes', threshold=5)\n",
    "td = pld.remove_low_firing_neurons(td, signal='PMd_spikes', threshold=5)\n",
    "\n",
    "print(f'original M1 spikes: {df.M1_spikes[0].shape}')\n",
    "print(f'after removing low firing neurons: {td.M1_spikes[0].shape} \\n')\n",
    "\n",
    "print(f'original PMd spikes: {df.PMd_spikes[0].shape}')\n",
    "print(f'after removing low firing neurons: {td.PMd_spikes[0].shape}')"
   ]
  },
  {
   "cell_type": "markdown",
   "metadata": {},
   "source": [
    "### 1.3 Transform signals"
   ]
  },
  {
   "cell_type": "code",
   "execution_count": 10,
   "metadata": {},
   "outputs": [
    {
     "name": "stdout",
     "output_type": "stream",
     "text": [
      "[[1.         1.         1.         ... 0.         0.         1.        ]\n",
      " [0.         1.         0.         ... 0.         1.         0.        ]\n",
      " [1.         1.         1.41421356 ... 0.         1.         0.        ]\n",
      " ...\n",
      " [1.         0.         0.         ... 0.         0.         0.        ]\n",
      " [1.         1.         1.41421356 ... 0.         1.         1.        ]\n",
      " [0.         1.         0.         ... 0.         1.         0.        ]]\n"
     ]
    }
   ],
   "source": [
    "td = pld.transform_signal(td, signal='M1_spikes',  transformations='sqrt')\n",
    "td = pld.transform_signal(td, signal='PMd_spikes', transformations='sqrt')\n",
    "\n",
    "print(td.M1_spikes[0]) # trials x neurons"
   ]
  },
  {
   "cell_type": "markdown",
   "metadata": {},
   "source": [
    "### 1.4 Merge signals from multiple brain areas"
   ]
  },
  {
   "cell_type": "markdown",
   "metadata": {},
   "source": [
    "Here we add a column `'both_spikes'` to that we can perform PCA on all the neurons"
   ]
  },
  {
   "cell_type": "code",
   "execution_count": 11,
   "metadata": {},
   "outputs": [
    {
     "name": "stdout",
     "output_type": "stream",
     "text": [
      "Merging M1 and PMd gives 44 + 99 = 143 neurons\n"
     ]
    }
   ],
   "source": [
    "td = pld.merge_signals(td, ['M1_spikes', 'PMd_spikes'], 'both_spikes')\n",
    "\n",
    "print(f'Merging M1 and PMd gives {td.M1_spikes[0].shape[1]} + {td.PMd_spikes[0].shape[1]} = {td.both_spikes[0].shape[1]} neurons')"
   ]
  },
  {
   "cell_type": "code",
   "execution_count": 12,
   "metadata": {
    "scrolled": true
   },
   "outputs": [
    {
     "data": {
      "text/plain": [
       "0      [[1.0, 1.0, 1.0, 1.4142135623730951, 0.0, 0.0,...\n",
       "1      [[1.0, 1.0, 0.0, 1.0, 1.0, 1.4142135623730951,...\n",
       "2      [[1.0, 1.0, 1.4142135623730951, 0.0, 0.0, 1.41...\n",
       "3      [[0.0, 1.0, 0.0, 1.0, 0.0, 0.0, 0.0, 0.0, 0.0,...\n",
       "4      [[0.0, 0.0, 1.0, 1.4142135623730951, 1.0, 1.0,...\n",
       "                             ...                        \n",
       "769    [[0.0, 1.0, 0.0, 1.0, 0.0, 0.0, 1.0, 0.0, 0.0,...\n",
       "770    [[0.0, 0.0, 0.0, 1.0, 0.0, 0.0, 0.0, 0.0, 0.0,...\n",
       "771    [[1.0, 0.0, 1.0, 0.0, 0.0, 0.0, 0.0, 0.0, 1.41...\n",
       "772    [[0.0, 1.0, 0.0, 0.0, 0.0, 0.0, 1.0, 0.0, 0.0,...\n",
       "773    [[1.0, 1.0, 1.0, 1.0, 1.0, 0.0, 0.0, 0.0, 0.0,...\n",
       "Name: both_spikes, Length: 774, dtype: object"
      ]
     },
     "execution_count": 12,
     "metadata": {},
     "output_type": "execute_result"
    }
   ],
   "source": [
    "td['both_spikes']"
   ]
  },
  {
   "cell_type": "markdown",
   "metadata": {},
   "source": [
    "### 1.5 Compute firing rates from spike trains\n"
   ]
  },
  {
   "cell_type": "code",
   "execution_count": 18,
   "metadata": {},
   "outputs": [],
   "source": [
    "# works on '_spikes' fields and automatically divides by bin_size\n",
    "td = pld.add_firing_rates(td, 'smooth')"
   ]
  },
  {
   "cell_type": "code",
   "execution_count": 19,
   "metadata": {},
   "outputs": [
    {
     "data": {
      "text/html": [
       "<div>\n",
       "<style scoped>\n",
       "    .dataframe tbody tr th:only-of-type {\n",
       "        vertical-align: middle;\n",
       "    }\n",
       "\n",
       "    .dataframe tbody tr th {\n",
       "        vertical-align: top;\n",
       "    }\n",
       "\n",
       "    .dataframe thead th {\n",
       "        text-align: right;\n",
       "    }\n",
       "</style>\n",
       "<table border=\"1\" class=\"dataframe\">\n",
       "  <thead>\n",
       "    <tr style=\"text-align: right;\">\n",
       "      <th></th>\n",
       "      <th>monkey</th>\n",
       "      <th>date</th>\n",
       "      <th>task</th>\n",
       "      <th>target_direction</th>\n",
       "      <th>trial_id</th>\n",
       "      <th>result</th>\n",
       "      <th>bin_size</th>\n",
       "      <th>perturbation</th>\n",
       "      <th>perturbation_info</th>\n",
       "      <th>epoch</th>\n",
       "      <th>...</th>\n",
       "      <th>acc</th>\n",
       "      <th>force</th>\n",
       "      <th>M1_spikes</th>\n",
       "      <th>M1_unit_guide</th>\n",
       "      <th>PMd_spikes</th>\n",
       "      <th>PMd_unit_guide</th>\n",
       "      <th>both_spikes</th>\n",
       "      <th>M1_rates</th>\n",
       "      <th>PMd_rates</th>\n",
       "      <th>both_rates</th>\n",
       "    </tr>\n",
       "  </thead>\n",
       "  <tbody>\n",
       "    <tr>\n",
       "      <td>0</td>\n",
       "      <td>Chewie</td>\n",
       "      <td>10-06-2016</td>\n",
       "      <td>CO</td>\n",
       "      <td>-2.356194</td>\n",
       "      <td>1</td>\n",
       "      <td>R</td>\n",
       "      <td>0.03</td>\n",
       "      <td>VR</td>\n",
       "      <td>-0.52</td>\n",
       "      <td>BL</td>\n",
       "      <td>...</td>\n",
       "      <td>[[25.292273710326047, 23.948816622289783], [26...</td>\n",
       "      <td>[[0.3854857746577438, -0.18448026169727955], [...</td>\n",
       "      <td>[[1.0, 1.0, 1.0, 1.4142135623730951, 0.0, 0.0,...</td>\n",
       "      <td>[[5, 1], [5, 2], [9, 1], [9, 2], [13, 1], [13,...</td>\n",
       "      <td>[[0.0, 1.0, 0.0, 0.0, 0.0, 0.0, 0.0, 1.0, 0.0,...</td>\n",
       "      <td>[[1, 1], [1, 2], [7, 4], [7, 5], [8, 2], [8, 3...</td>\n",
       "      <td>[[1.0, 1.0, 1.0, 1.4142135623730951, 0.0, 0.0,...</td>\n",
       "      <td>[[10.371933240023875, 15.773752026832693, 12.3...</td>\n",
       "      <td>[[8.902097383481504, 8.635500399091704, 6.2947...</td>\n",
       "      <td>[[10.371933240023875, 15.773752026832693, 12.3...</td>\n",
       "    </tr>\n",
       "    <tr>\n",
       "      <td>1</td>\n",
       "      <td>Chewie</td>\n",
       "      <td>10-06-2016</td>\n",
       "      <td>CO</td>\n",
       "      <td>1.570796</td>\n",
       "      <td>2</td>\n",
       "      <td>R</td>\n",
       "      <td>0.03</td>\n",
       "      <td>VR</td>\n",
       "      <td>-0.52</td>\n",
       "      <td>BL</td>\n",
       "      <td>...</td>\n",
       "      <td>[[33.67115720999763, 79.08430607100303], [23.7...</td>\n",
       "      <td>[[0.1778157378731141, 0.12542049016429982], [0...</td>\n",
       "      <td>[[1.0, 1.0, 0.0, 1.0, 1.0, 1.4142135623730951,...</td>\n",
       "      <td>[[5, 1], [5, 2], [9, 1], [9, 2], [13, 1], [13,...</td>\n",
       "      <td>[[0.0, 1.0, 1.0, 0.0, 0.0, 0.0, 1.414213562373...</td>\n",
       "      <td>[[1, 1], [1, 2], [7, 4], [7, 5], [8, 2], [8, 3...</td>\n",
       "      <td>[[1.0, 1.0, 0.0, 1.0, 1.0, 1.4142135623730951,...</td>\n",
       "      <td>[[11.264847879857852, 14.03731918590052, 8.031...</td>\n",
       "      <td>[[5.401818786808815, 14.407176539761242, 13.14...</td>\n",
       "      <td>[[11.264847879857852, 14.03731918590052, 8.031...</td>\n",
       "    </tr>\n",
       "    <tr>\n",
       "      <td>2</td>\n",
       "      <td>Chewie</td>\n",
       "      <td>10-06-2016</td>\n",
       "      <td>CO</td>\n",
       "      <td>0.785398</td>\n",
       "      <td>3</td>\n",
       "      <td>R</td>\n",
       "      <td>0.03</td>\n",
       "      <td>VR</td>\n",
       "      <td>-0.52</td>\n",
       "      <td>BL</td>\n",
       "      <td>...</td>\n",
       "      <td>[[1.6623846773446733, -20.151668914256682], [4...</td>\n",
       "      <td>[[0.2833417683274762, -0.1285513884878812], [0...</td>\n",
       "      <td>[[1.0, 1.0, 1.4142135623730951, 0.0, 0.0, 1.41...</td>\n",
       "      <td>[[5, 1], [5, 2], [9, 1], [9, 2], [13, 1], [13,...</td>\n",
       "      <td>[[1.0, 1.4142135623730951, 1.0, 0.0, 0.0, 0.0,...</td>\n",
       "      <td>[[1, 1], [1, 2], [7, 4], [7, 5], [8, 2], [8, 3...</td>\n",
       "      <td>[[1.0, 1.0, 1.4142135623730951, 0.0, 0.0, 1.41...</td>\n",
       "      <td>[[10.371933240023875, 16.66666666666667, 11.84...</td>\n",
       "      <td>[[16.66666666666667, 10.949669788579067, 7.742...</td>\n",
       "      <td>[[10.371933240023875, 16.66666666666667, 11.84...</td>\n",
       "    </tr>\n",
       "    <tr>\n",
       "      <td>3</td>\n",
       "      <td>Chewie</td>\n",
       "      <td>10-06-2016</td>\n",
       "      <td>CO</td>\n",
       "      <td>3.141593</td>\n",
       "      <td>4</td>\n",
       "      <td>R</td>\n",
       "      <td>0.03</td>\n",
       "      <td>VR</td>\n",
       "      <td>-0.52</td>\n",
       "      <td>BL</td>\n",
       "      <td>...</td>\n",
       "      <td>[[-10.229040288523265, -22.654816986306813], [...</td>\n",
       "      <td>[[0.08675043530985374, 0.03658922221440793], [...</td>\n",
       "      <td>[[0.0, 1.0, 0.0, 1.0, 0.0, 0.0, 0.0, 0.0, 0.0,...</td>\n",
       "      <td>[[5, 1], [5, 2], [9, 1], [9, 2], [13, 1], [13,...</td>\n",
       "      <td>[[0.0, 1.0, 0.0, 0.0, 0.0, 1.4142135623730951,...</td>\n",
       "      <td>[[1, 1], [1, 2], [7, 4], [7, 5], [8, 2], [8, 3...</td>\n",
       "      <td>[[0.0, 1.0, 0.0, 1.0, 0.0, 0.0, 0.0, 0.0, 0.0,...</td>\n",
       "      <td>[[0.8929146398339769, 8.635500399091704, 10.26...</td>\n",
       "      <td>[[0.8929146398339769, 7.742585759257727, 5.401...</td>\n",
       "      <td>[[0.8929146398339769, 8.635500399091704, 10.26...</td>\n",
       "    </tr>\n",
       "    <tr>\n",
       "      <td>4</td>\n",
       "      <td>Chewie</td>\n",
       "      <td>10-06-2016</td>\n",
       "      <td>CO</td>\n",
       "      <td>-1.570796</td>\n",
       "      <td>5</td>\n",
       "      <td>R</td>\n",
       "      <td>0.03</td>\n",
       "      <td>VR</td>\n",
       "      <td>-0.52</td>\n",
       "      <td>BL</td>\n",
       "      <td>...</td>\n",
       "      <td>[[55.86100520057167, -6.586410543949703], [45....</td>\n",
       "      <td>[[0.2054977133197953, -0.12485484173352068], [...</td>\n",
       "      <td>[[0.0, 0.0, 1.0, 1.4142135623730951, 1.0, 1.0,...</td>\n",
       "      <td>[[5, 1], [5, 2], [9, 1], [9, 2], [13, 1], [13,...</td>\n",
       "      <td>[[1.0, 1.0, 0.0, 1.4142135623730951, 0.0, 0.0,...</td>\n",
       "      <td>[[1, 1], [1, 2], [7, 4], [7, 5], [8, 2], [8, 3...</td>\n",
       "      <td>[[0.0, 0.0, 1.0, 1.4142135623730951, 1.0, 1.0,...</td>\n",
       "      <td>[[8.031166267574964, 8.924080907408943, 13.144...</td>\n",
       "      <td>[[15.773752026832693, 16.66666666666667, 0.892...</td>\n",
       "      <td>[[8.031166267574964, 8.924080907408943, 13.144...</td>\n",
       "    </tr>\n",
       "  </tbody>\n",
       "</table>\n",
       "<p>5 rows × 28 columns</p>\n",
       "</div>"
      ],
      "text/plain": [
       "   monkey        date task  target_direction  trial_id result  bin_size  \\\n",
       "0  Chewie  10-06-2016   CO         -2.356194         1      R      0.03   \n",
       "1  Chewie  10-06-2016   CO          1.570796         2      R      0.03   \n",
       "2  Chewie  10-06-2016   CO          0.785398         3      R      0.03   \n",
       "3  Chewie  10-06-2016   CO          3.141593         4      R      0.03   \n",
       "4  Chewie  10-06-2016   CO         -1.570796         5      R      0.03   \n",
       "\n",
       "  perturbation  perturbation_info epoch  ...  \\\n",
       "0           VR              -0.52    BL  ...   \n",
       "1           VR              -0.52    BL  ...   \n",
       "2           VR              -0.52    BL  ...   \n",
       "3           VR              -0.52    BL  ...   \n",
       "4           VR              -0.52    BL  ...   \n",
       "\n",
       "                                                 acc  \\\n",
       "0  [[25.292273710326047, 23.948816622289783], [26...   \n",
       "1  [[33.67115720999763, 79.08430607100303], [23.7...   \n",
       "2  [[1.6623846773446733, -20.151668914256682], [4...   \n",
       "3  [[-10.229040288523265, -22.654816986306813], [...   \n",
       "4  [[55.86100520057167, -6.586410543949703], [45....   \n",
       "\n",
       "                                               force  \\\n",
       "0  [[0.3854857746577438, -0.18448026169727955], [...   \n",
       "1  [[0.1778157378731141, 0.12542049016429982], [0...   \n",
       "2  [[0.2833417683274762, -0.1285513884878812], [0...   \n",
       "3  [[0.08675043530985374, 0.03658922221440793], [...   \n",
       "4  [[0.2054977133197953, -0.12485484173352068], [...   \n",
       "\n",
       "                                           M1_spikes  \\\n",
       "0  [[1.0, 1.0, 1.0, 1.4142135623730951, 0.0, 0.0,...   \n",
       "1  [[1.0, 1.0, 0.0, 1.0, 1.0, 1.4142135623730951,...   \n",
       "2  [[1.0, 1.0, 1.4142135623730951, 0.0, 0.0, 1.41...   \n",
       "3  [[0.0, 1.0, 0.0, 1.0, 0.0, 0.0, 0.0, 0.0, 0.0,...   \n",
       "4  [[0.0, 0.0, 1.0, 1.4142135623730951, 1.0, 1.0,...   \n",
       "\n",
       "                                       M1_unit_guide  \\\n",
       "0  [[5, 1], [5, 2], [9, 1], [9, 2], [13, 1], [13,...   \n",
       "1  [[5, 1], [5, 2], [9, 1], [9, 2], [13, 1], [13,...   \n",
       "2  [[5, 1], [5, 2], [9, 1], [9, 2], [13, 1], [13,...   \n",
       "3  [[5, 1], [5, 2], [9, 1], [9, 2], [13, 1], [13,...   \n",
       "4  [[5, 1], [5, 2], [9, 1], [9, 2], [13, 1], [13,...   \n",
       "\n",
       "                                          PMd_spikes  \\\n",
       "0  [[0.0, 1.0, 0.0, 0.0, 0.0, 0.0, 0.0, 1.0, 0.0,...   \n",
       "1  [[0.0, 1.0, 1.0, 0.0, 0.0, 0.0, 1.414213562373...   \n",
       "2  [[1.0, 1.4142135623730951, 1.0, 0.0, 0.0, 0.0,...   \n",
       "3  [[0.0, 1.0, 0.0, 0.0, 0.0, 1.4142135623730951,...   \n",
       "4  [[1.0, 1.0, 0.0, 1.4142135623730951, 0.0, 0.0,...   \n",
       "\n",
       "                                      PMd_unit_guide  \\\n",
       "0  [[1, 1], [1, 2], [7, 4], [7, 5], [8, 2], [8, 3...   \n",
       "1  [[1, 1], [1, 2], [7, 4], [7, 5], [8, 2], [8, 3...   \n",
       "2  [[1, 1], [1, 2], [7, 4], [7, 5], [8, 2], [8, 3...   \n",
       "3  [[1, 1], [1, 2], [7, 4], [7, 5], [8, 2], [8, 3...   \n",
       "4  [[1, 1], [1, 2], [7, 4], [7, 5], [8, 2], [8, 3...   \n",
       "\n",
       "                                         both_spikes  \\\n",
       "0  [[1.0, 1.0, 1.0, 1.4142135623730951, 0.0, 0.0,...   \n",
       "1  [[1.0, 1.0, 0.0, 1.0, 1.0, 1.4142135623730951,...   \n",
       "2  [[1.0, 1.0, 1.4142135623730951, 0.0, 0.0, 1.41...   \n",
       "3  [[0.0, 1.0, 0.0, 1.0, 0.0, 0.0, 0.0, 0.0, 0.0,...   \n",
       "4  [[0.0, 0.0, 1.0, 1.4142135623730951, 1.0, 1.0,...   \n",
       "\n",
       "                                            M1_rates  \\\n",
       "0  [[10.371933240023875, 15.773752026832693, 12.3...   \n",
       "1  [[11.264847879857852, 14.03731918590052, 8.031...   \n",
       "2  [[10.371933240023875, 16.66666666666667, 11.84...   \n",
       "3  [[0.8929146398339769, 8.635500399091704, 10.26...   \n",
       "4  [[8.031166267574964, 8.924080907408943, 13.144...   \n",
       "\n",
       "                                           PMd_rates  \\\n",
       "0  [[8.902097383481504, 8.635500399091704, 6.2947...   \n",
       "1  [[5.401818786808815, 14.407176539761242, 13.14...   \n",
       "2  [[16.66666666666667, 10.949669788579067, 7.742...   \n",
       "3  [[0.8929146398339769, 7.742585759257727, 5.401...   \n",
       "4  [[15.773752026832693, 16.66666666666667, 0.892...   \n",
       "\n",
       "                                          both_rates  \n",
       "0  [[10.371933240023875, 15.773752026832693, 12.3...  \n",
       "1  [[11.264847879857852, 14.03731918590052, 8.031...  \n",
       "2  [[10.371933240023875, 16.66666666666667, 11.84...  \n",
       "3  [[0.8929146398339769, 8.635500399091704, 10.26...  \n",
       "4  [[8.031166267574964, 8.924080907408943, 13.144...  \n",
       "\n",
       "[5 rows x 28 columns]"
      ]
     },
     "execution_count": 19,
     "metadata": {},
     "output_type": "execute_result"
    }
   ],
   "source": [
    "td.head()"
   ]
  },
  {
   "cell_type": "code",
   "execution_count": 29,
   "metadata": {},
   "outputs": [
    {
     "data": {
      "text/plain": [
       "0      [[10.371933240023875, 15.773752026832693, 12.3...\n",
       "1      [[11.264847879857852, 14.03731918590052, 8.031...\n",
       "2      [[10.371933240023875, 16.66666666666667, 11.84...\n",
       "3      [[0.8929146398339769, 8.635500399091704, 10.26...\n",
       "4      [[8.031166267574964, 8.924080907408943, 13.144...\n",
       "                             ...                        \n",
       "769    [[0.8929146398339769, 9.005357752952426, 0.0, ...\n",
       "770    [[6.294733426642792, 8.924080907408943, 0.8929...\n",
       "771    [[14.407176539761242, 9.120277654299834, 7.742...\n",
       "772    [[0.8929146398339769, 10.371933240023875, 0.0,...\n",
       "773    [[10.371933240023875, 16.66666666666667, 8.635...\n",
       "Name: both_rates, Length: 774, dtype: object"
      ]
     },
     "execution_count": 29,
     "metadata": {},
     "output_type": "execute_result"
    }
   ],
   "source": [
    "td.both_rates"
   ]
  },
  {
   "cell_type": "markdown",
   "metadata": {},
   "source": [
    "### 1.6 Select a time interval\n",
    "\n",
    "Perhaps we want to take spikes from a certain interval (this is optional). \n",
    "\n",
    "```Python\n",
    "\n",
    "if which_period == 'plan':\n",
    "    idx_start = df['idx_target_on'][0]\n",
    "    idx_end = df['idx_go_cue'][0]\n",
    "    \n",
    "elif which_period == 'move':\n",
    "    idx_start = df['idx_go_cue'][0]\n",
    "    idx_end = df['idx_trial_end'][0]\n",
    "\n",
    "elif which_period == 'all':\n",
    "    idx_start = df['idx_target_on'][0]\n",
    "    idx_end = df['idx_trial_end'][0]\n",
    "```"
   ]
  },
  {
   "cell_type": "code",
   "execution_count": 24,
   "metadata": {},
   "outputs": [],
   "source": [
    "# examples\n",
    "plan_td = pld.restrict_to_interval(td, start_point_name='idx_target_on', end_point_name='idx_go_cue', before=0, after=40)\n",
    "\n",
    "move_td = pld.restrict_to_interval(td, start_point_name='idx_go_cue', end_point_name='idx_trial_end', before=0, after=40)"
   ]
  },
  {
   "cell_type": "code",
   "execution_count": 25,
   "metadata": {},
   "outputs": [
    {
     "data": {
      "text/html": [
       "<div>\n",
       "<style scoped>\n",
       "    .dataframe tbody tr th:only-of-type {\n",
       "        vertical-align: middle;\n",
       "    }\n",
       "\n",
       "    .dataframe tbody tr th {\n",
       "        vertical-align: top;\n",
       "    }\n",
       "\n",
       "    .dataframe thead th {\n",
       "        text-align: right;\n",
       "    }\n",
       "</style>\n",
       "<table border=\"1\" class=\"dataframe\">\n",
       "  <thead>\n",
       "    <tr style=\"text-align: right;\">\n",
       "      <th></th>\n",
       "      <th>monkey</th>\n",
       "      <th>date</th>\n",
       "      <th>task</th>\n",
       "      <th>target_direction</th>\n",
       "      <th>trial_id</th>\n",
       "      <th>result</th>\n",
       "      <th>bin_size</th>\n",
       "      <th>perturbation</th>\n",
       "      <th>perturbation_info</th>\n",
       "      <th>epoch</th>\n",
       "      <th>...</th>\n",
       "      <th>acc</th>\n",
       "      <th>force</th>\n",
       "      <th>M1_spikes</th>\n",
       "      <th>M1_unit_guide</th>\n",
       "      <th>PMd_spikes</th>\n",
       "      <th>PMd_unit_guide</th>\n",
       "      <th>both_spikes</th>\n",
       "      <th>M1_rates</th>\n",
       "      <th>PMd_rates</th>\n",
       "      <th>both_rates</th>\n",
       "    </tr>\n",
       "  </thead>\n",
       "  <tbody>\n",
       "    <tr>\n",
       "      <td>0</td>\n",
       "      <td>Chewie</td>\n",
       "      <td>10-06-2016</td>\n",
       "      <td>CO</td>\n",
       "      <td>-2.356194</td>\n",
       "      <td>1</td>\n",
       "      <td>R</td>\n",
       "      <td>0.03</td>\n",
       "      <td>VR</td>\n",
       "      <td>-0.52</td>\n",
       "      <td>BL</td>\n",
       "      <td>...</td>\n",
       "      <td>[[10.970621675691566, -17.90932121190034], [-1...</td>\n",
       "      <td>[[0.3854857746577438, -0.18448026169727955], [...</td>\n",
       "      <td>[[1.0, 0.0, 0.0, 1.7320508075688772, 0.0, 1.73...</td>\n",
       "      <td>[[5, 1], [5, 2], [9, 1], [9, 2], [13, 1], [13,...</td>\n",
       "      <td>[[1.0, 0.0, 1.0, 0.0, 1.0, 1.0, 0.0, 0.0, 0.0,...</td>\n",
       "      <td>[[1, 1], [1, 2], [7, 4], [7, 5], [8, 2], [8, 3...</td>\n",
       "      <td>[[1.0, 0.0, 0.0, 1.7320508075688772, 0.0, 1.73...</td>\n",
       "      <td>[[19.90034827894956, 16.307925720776602, 16.95...</td>\n",
       "      <td>[[20.886990305324268, 21.855776722546853, 8.63...</td>\n",
       "      <td>[[19.90034827894956, 16.307925720776602, 16.95...</td>\n",
       "    </tr>\n",
       "    <tr>\n",
       "      <td>1</td>\n",
       "      <td>Chewie</td>\n",
       "      <td>10-06-2016</td>\n",
       "      <td>CO</td>\n",
       "      <td>1.570796</td>\n",
       "      <td>2</td>\n",
       "      <td>R</td>\n",
       "      <td>0.03</td>\n",
       "      <td>VR</td>\n",
       "      <td>-0.52</td>\n",
       "      <td>BL</td>\n",
       "      <td>...</td>\n",
       "      <td>[[-5.774060193805803, -14.365149464093918], [0...</td>\n",
       "      <td>[[0.1778157378731141, 0.12542049016429982], [0...</td>\n",
       "      <td>[[1.0, 1.4142135623730951, 1.0, 0.0, 0.0, 1.0,...</td>\n",
       "      <td>[[5, 1], [5, 2], [9, 1], [9, 2], [13, 1], [13,...</td>\n",
       "      <td>[[1.0, 1.0, 1.0, 1.0, 0.0, 0.0, 0.0, 0.0, 1.0,...</td>\n",
       "      <td>[[1, 1], [1, 2], [7, 4], [7, 5], [8, 2], [8, 3...</td>\n",
       "      <td>[[1.0, 1.4142135623730951, 1.0, 0.0, 0.0, 1.0,...</td>\n",
       "      <td>[[14.03731918590052, 24.84386514920307, 29.811...</td>\n",
       "      <td>[[12.353959266582722, 30.561414643284294, 7.74...</td>\n",
       "      <td>[[14.03731918590052, 24.84386514920307, 29.811...</td>\n",
       "    </tr>\n",
       "    <tr>\n",
       "      <td>2</td>\n",
       "      <td>Chewie</td>\n",
       "      <td>10-06-2016</td>\n",
       "      <td>CO</td>\n",
       "      <td>0.785398</td>\n",
       "      <td>3</td>\n",
       "      <td>R</td>\n",
       "      <td>0.03</td>\n",
       "      <td>VR</td>\n",
       "      <td>-0.52</td>\n",
       "      <td>BL</td>\n",
       "      <td>...</td>\n",
       "      <td>[[-14.026090735510317, 19.555698702439965], [-...</td>\n",
       "      <td>[[0.2833417683274762, -0.1285513884878812], [0...</td>\n",
       "      <td>[[1.0, 1.0, 1.4142135623730951, 0.0, 0.0, 0.0,...</td>\n",
       "      <td>[[5, 1], [5, 2], [9, 1], [9, 2], [13, 1], [13,...</td>\n",
       "      <td>[[1.0, 0.0, 0.0, 0.0, 1.0, 0.0, 0.0, 0.0, 0.0,...</td>\n",
       "      <td>[[1, 1], [1, 2], [7, 4], [7, 5], [8, 2], [8, 3...</td>\n",
       "      <td>[[1.0, 1.0, 1.4142135623730951, 0.0, 0.0, 0.0,...</td>\n",
       "      <td>[[18.114518999281604, 25.498363812649266, 25.6...</td>\n",
       "      <td>[[16.666666666666668, 21.606923489144744, 0.0,...</td>\n",
       "      <td>[[18.114518999281604, 25.498363812649266, 25.6...</td>\n",
       "    </tr>\n",
       "    <tr>\n",
       "      <td>3</td>\n",
       "      <td>Chewie</td>\n",
       "      <td>10-06-2016</td>\n",
       "      <td>CO</td>\n",
       "      <td>3.141593</td>\n",
       "      <td>4</td>\n",
       "      <td>R</td>\n",
       "      <td>0.03</td>\n",
       "      <td>VR</td>\n",
       "      <td>-0.52</td>\n",
       "      <td>BL</td>\n",
       "      <td>...</td>\n",
       "      <td>[[-7.076210661439639, -12.075892021608487], [5...</td>\n",
       "      <td>[[0.08675043530985374, 0.03658922221440793], [...</td>\n",
       "      <td>[[1.0, 1.0, 0.0, 1.0, 0.0, 1.4142135623730951,...</td>\n",
       "      <td>[[5, 1], [5, 2], [9, 1], [9, 2], [13, 1], [13,...</td>\n",
       "      <td>[[1.4142135623730951, 0.0, 0.0, 0.0, 0.0, 0.0,...</td>\n",
       "      <td>[[1, 1], [1, 2], [7, 4], [7, 5], [8, 2], [8, 3...</td>\n",
       "      <td>[[1.0, 1.0, 0.0, 1.0, 0.0, 1.4142135623730951,...</td>\n",
       "      <td>[[29.352769296177907, 30.388807761288398, 13.8...</td>\n",
       "      <td>[[27.904916963562975, 16.66666666666667, 3.522...</td>\n",
       "      <td>[[29.352769296177907, 30.388807761288398, 13.8...</td>\n",
       "    </tr>\n",
       "    <tr>\n",
       "      <td>4</td>\n",
       "      <td>Chewie</td>\n",
       "      <td>10-06-2016</td>\n",
       "      <td>CO</td>\n",
       "      <td>-1.570796</td>\n",
       "      <td>5</td>\n",
       "      <td>R</td>\n",
       "      <td>0.03</td>\n",
       "      <td>VR</td>\n",
       "      <td>-0.52</td>\n",
       "      <td>BL</td>\n",
       "      <td>...</td>\n",
       "      <td>[[-8.645102876130663, -15.463265695438906], [1...</td>\n",
       "      <td>[[0.2054977133197953, -0.12485484173352068], [...</td>\n",
       "      <td>[[1.0, 0.0, 0.0, 0.0, 0.0, 1.4142135623730951,...</td>\n",
       "      <td>[[5, 1], [5, 2], [9, 1], [9, 2], [13, 1], [13,...</td>\n",
       "      <td>[[1.0, 1.0, 0.0, 0.0, 0.0, 1.0, 0.0, 0.0, 1.0,...</td>\n",
       "      <td>[[1, 1], [1, 2], [7, 4], [7, 5], [8, 2], [8, 3...</td>\n",
       "      <td>[[1.0, 0.0, 0.0, 0.0, 0.0, 1.4142135623730951,...</td>\n",
       "      <td>[[25.30216706575838, 14.325899694217757, 9.816...</td>\n",
       "      <td>[[30.703985852567193, 25.498363812649266, 14.0...</td>\n",
       "      <td>[[25.30216706575838, 14.325899694217757, 9.816...</td>\n",
       "    </tr>\n",
       "  </tbody>\n",
       "</table>\n",
       "<p>5 rows × 28 columns</p>\n",
       "</div>"
      ],
      "text/plain": [
       "   monkey        date task  target_direction  trial_id result  bin_size  \\\n",
       "0  Chewie  10-06-2016   CO         -2.356194         1      R      0.03   \n",
       "1  Chewie  10-06-2016   CO          1.570796         2      R      0.03   \n",
       "2  Chewie  10-06-2016   CO          0.785398         3      R      0.03   \n",
       "3  Chewie  10-06-2016   CO          3.141593         4      R      0.03   \n",
       "4  Chewie  10-06-2016   CO         -1.570796         5      R      0.03   \n",
       "\n",
       "  perturbation  perturbation_info epoch  ...  \\\n",
       "0           VR              -0.52    BL  ...   \n",
       "1           VR              -0.52    BL  ...   \n",
       "2           VR              -0.52    BL  ...   \n",
       "3           VR              -0.52    BL  ...   \n",
       "4           VR              -0.52    BL  ...   \n",
       "\n",
       "                                                 acc  \\\n",
       "0  [[10.970621675691566, -17.90932121190034], [-1...   \n",
       "1  [[-5.774060193805803, -14.365149464093918], [0...   \n",
       "2  [[-14.026090735510317, 19.555698702439965], [-...   \n",
       "3  [[-7.076210661439639, -12.075892021608487], [5...   \n",
       "4  [[-8.645102876130663, -15.463265695438906], [1...   \n",
       "\n",
       "                                               force  \\\n",
       "0  [[0.3854857746577438, -0.18448026169727955], [...   \n",
       "1  [[0.1778157378731141, 0.12542049016429982], [0...   \n",
       "2  [[0.2833417683274762, -0.1285513884878812], [0...   \n",
       "3  [[0.08675043530985374, 0.03658922221440793], [...   \n",
       "4  [[0.2054977133197953, -0.12485484173352068], [...   \n",
       "\n",
       "                                           M1_spikes  \\\n",
       "0  [[1.0, 0.0, 0.0, 1.7320508075688772, 0.0, 1.73...   \n",
       "1  [[1.0, 1.4142135623730951, 1.0, 0.0, 0.0, 1.0,...   \n",
       "2  [[1.0, 1.0, 1.4142135623730951, 0.0, 0.0, 0.0,...   \n",
       "3  [[1.0, 1.0, 0.0, 1.0, 0.0, 1.4142135623730951,...   \n",
       "4  [[1.0, 0.0, 0.0, 0.0, 0.0, 1.4142135623730951,...   \n",
       "\n",
       "                                       M1_unit_guide  \\\n",
       "0  [[5, 1], [5, 2], [9, 1], [9, 2], [13, 1], [13,...   \n",
       "1  [[5, 1], [5, 2], [9, 1], [9, 2], [13, 1], [13,...   \n",
       "2  [[5, 1], [5, 2], [9, 1], [9, 2], [13, 1], [13,...   \n",
       "3  [[5, 1], [5, 2], [9, 1], [9, 2], [13, 1], [13,...   \n",
       "4  [[5, 1], [5, 2], [9, 1], [9, 2], [13, 1], [13,...   \n",
       "\n",
       "                                          PMd_spikes  \\\n",
       "0  [[1.0, 0.0, 1.0, 0.0, 1.0, 1.0, 0.0, 0.0, 0.0,...   \n",
       "1  [[1.0, 1.0, 1.0, 1.0, 0.0, 0.0, 0.0, 0.0, 1.0,...   \n",
       "2  [[1.0, 0.0, 0.0, 0.0, 1.0, 0.0, 0.0, 0.0, 0.0,...   \n",
       "3  [[1.4142135623730951, 0.0, 0.0, 0.0, 0.0, 0.0,...   \n",
       "4  [[1.0, 1.0, 0.0, 0.0, 0.0, 1.0, 0.0, 0.0, 1.0,...   \n",
       "\n",
       "                                      PMd_unit_guide  \\\n",
       "0  [[1, 1], [1, 2], [7, 4], [7, 5], [8, 2], [8, 3...   \n",
       "1  [[1, 1], [1, 2], [7, 4], [7, 5], [8, 2], [8, 3...   \n",
       "2  [[1, 1], [1, 2], [7, 4], [7, 5], [8, 2], [8, 3...   \n",
       "3  [[1, 1], [1, 2], [7, 4], [7, 5], [8, 2], [8, 3...   \n",
       "4  [[1, 1], [1, 2], [7, 4], [7, 5], [8, 2], [8, 3...   \n",
       "\n",
       "                                         both_spikes  \\\n",
       "0  [[1.0, 0.0, 0.0, 1.7320508075688772, 0.0, 1.73...   \n",
       "1  [[1.0, 1.4142135623730951, 1.0, 0.0, 0.0, 1.0,...   \n",
       "2  [[1.0, 1.0, 1.4142135623730951, 0.0, 0.0, 0.0,...   \n",
       "3  [[1.0, 1.0, 0.0, 1.0, 0.0, 1.4142135623730951,...   \n",
       "4  [[1.0, 0.0, 0.0, 0.0, 0.0, 1.4142135623730951,...   \n",
       "\n",
       "                                            M1_rates  \\\n",
       "0  [[19.90034827894956, 16.307925720776602, 16.95...   \n",
       "1  [[14.03731918590052, 24.84386514920307, 29.811...   \n",
       "2  [[18.114518999281604, 25.498363812649266, 25.6...   \n",
       "3  [[29.352769296177907, 30.388807761288398, 13.8...   \n",
       "4  [[25.30216706575838, 14.325899694217757, 9.816...   \n",
       "\n",
       "                                           PMd_rates  \\\n",
       "0  [[20.886990305324268, 21.855776722546853, 8.63...   \n",
       "1  [[12.353959266582722, 30.561414643284294, 7.74...   \n",
       "2  [[16.666666666666668, 21.606923489144744, 0.0,...   \n",
       "3  [[27.904916963562975, 16.66666666666667, 3.522...   \n",
       "4  [[30.703985852567193, 25.498363812649266, 14.0...   \n",
       "\n",
       "                                          both_rates  \n",
       "0  [[19.90034827894956, 16.307925720776602, 16.95...  \n",
       "1  [[14.03731918590052, 24.84386514920307, 29.811...  \n",
       "2  [[18.114518999281604, 25.498363812649266, 25.6...  \n",
       "3  [[29.352769296177907, 30.388807761288398, 13.8...  \n",
       "4  [[25.30216706575838, 14.325899694217757, 9.816...  \n",
       "\n",
       "[5 rows x 28 columns]"
      ]
     },
     "execution_count": 25,
     "metadata": {},
     "output_type": "execute_result"
    }
   ],
   "source": [
    "plan_td.head()"
   ]
  },
  {
   "cell_type": "code",
   "execution_count": 26,
   "metadata": {},
   "outputs": [
    {
     "name": "stdout",
     "output_type": "stream",
     "text": [
      "Total trial length: (149, 143)\n",
      "Plan trial length: (75, 143)\n",
      "Move trial length: (53, 143)\n"
     ]
    }
   ],
   "source": [
    "print(f'Total trial length: {td.both_spikes[0].shape}')\n",
    "\n",
    "print(f'Plan trial length: {plan_td.both_spikes[0].shape}')\n",
    "\n",
    "print(f'Move trial length: {move_td.both_spikes[0].shape}')"
   ]
  },
  {
   "cell_type": "code",
   "execution_count": 28,
   "metadata": {},
   "outputs": [
    {
     "data": {
      "text/plain": [
       "0      BL\n",
       "1      BL\n",
       "2      BL\n",
       "3      BL\n",
       "4      BL\n",
       "       ..\n",
       "769    WO\n",
       "770    WO\n",
       "771    WO\n",
       "772    WO\n",
       "773    WO\n",
       "Name: epoch, Length: 774, dtype: object"
      ]
     },
     "execution_count": 28,
     "metadata": {},
     "output_type": "execute_result"
    }
   ],
   "source": [
    "td.epoch # what is this?"
   ]
  },
  {
   "cell_type": "markdown",
   "metadata": {},
   "source": [
    "## 2 Dimensionality reduction"
   ]
  },
  {
   "cell_type": "markdown",
   "metadata": {},
   "source": [
    "We want to perform dimensionality reduction on different subsets;\n",
    "\n",
    "- Do PCA on all the data together (both the M1 neurons and the PMd neurons) $\\rightarrow$ `'all_spikes'`\n",
    "- Do PCA on the M1 neurons only $\\rightarrow$ `'M1_spikes'`\n",
    "- Do PCA on the PMd neurons only $\\rightarrow$ `'PMd_spikes'`"
   ]
  },
  {
   "cell_type": "markdown",
   "metadata": {},
   "source": [
    "Now we have the firing rates for all the neurons in the M1 and PMd combined:"
   ]
  },
  {
   "cell_type": "code",
   "execution_count": 70,
   "metadata": {
    "scrolled": true
   },
   "outputs": [
    {
     "name": "stdout",
     "output_type": "stream",
     "text": [
      "Number of trials: (774,)\n",
      "Each trial has 149 observations x 143 neurons \n"
     ]
    }
   ],
   "source": [
    "print(f'Number of trials: {td.both_rates.shape}')\n",
    "print(f'Each trial has {td.both_rates[0].shape[0]} observations x {td.both_rates[0].shape[1]} neurons ')"
   ]
  },
  {
   "cell_type": "code",
   "execution_count": 71,
   "metadata": {},
   "outputs": [
    {
     "data": {
      "text/plain": [
       "0      [[10.371933240023875, 15.773752026832693, 12.3...\n",
       "1      [[11.264847879857852, 14.03731918590052, 8.031...\n",
       "2      [[10.371933240023875, 16.66666666666667, 11.84...\n",
       "3      [[0.8929146398339769, 8.635500399091704, 10.26...\n",
       "4      [[8.031166267574964, 8.924080907408943, 13.144...\n",
       "                             ...                        \n",
       "769    [[0.8929146398339769, 9.005357752952426, 0.0, ...\n",
       "770    [[6.294733426642792, 8.924080907408943, 0.8929...\n",
       "771    [[14.407176539761242, 9.120277654299834, 7.742...\n",
       "772    [[0.8929146398339769, 10.371933240023875, 0.0,...\n",
       "773    [[10.371933240023875, 16.66666666666667, 8.635...\n",
       "Name: both_rates, Length: 774, dtype: object"
      ]
     },
     "execution_count": 71,
     "metadata": {},
     "output_type": "execute_result"
    }
   ],
   "source": [
    "td['both_rates']"
   ]
  },
  {
   "cell_type": "code",
   "execution_count": 88,
   "metadata": {},
   "outputs": [
    {
     "name": "stdout",
     "output_type": "stream",
     "text": [
      "(100575, 143)\n",
      "\n",
      "[[10.37193324 15.77375203 12.35395927 ...  0.89291464  7.74258576\n",
      "   2.62934748]\n",
      " [14.03731919 21.77990495 18.01125863 ...  2.62934748  7.74258576\n",
      "   6.29473343]\n",
      " [16.66666667 24.40925243 22.646222   ...  5.40181879  5.40181879\n",
      "  10.37193324]\n",
      " ...\n",
      " [ 0.         16.66666667 15.77375203 ... 13.14440455  5.40181879\n",
      "  20.64060611]\n",
      " [ 0.         14.03731919 14.03731919 ... 15.48517152  7.74258576\n",
      "  17.75577805]\n",
      " [ 0.         10.37193324 10.37193324 ... 13.14440455  7.74258576\n",
      "  14.40717654]]\n"
     ]
    }
   ],
   "source": [
    "# concatenate the rates from different trials in time\n",
    "all_rates = np.concatenate(td['both_rates'].values, axis=0)\n",
    "#M1_rates = np.concatenate(td['both_rates'].values, axis=0)\n",
    "\n",
    "print(all_rates.shape) # observations x neurons\n",
    "print()\n",
    "print(all_rates)"
   ]
  },
  {
   "cell_type": "code",
   "execution_count": 89,
   "metadata": {},
   "outputs": [
    {
     "data": {
      "text/plain": [
       "PCA(copy=True, iterated_power='auto', n_components=30, random_state=None,\n",
       "    svd_solver='auto', tol=0.0, whiten=False)"
      ]
     },
     "execution_count": 89,
     "metadata": {},
     "output_type": "execute_result"
    }
   ],
   "source": [
    "'''\n",
    "Principal Component Analysis\n",
    "'''\n",
    "\n",
    "dims = 30\n",
    "model = PCA(dims)\n",
    "model.fit(all_rates)"
   ]
  },
  {
   "cell_type": "code",
   "execution_count": 91,
   "metadata": {},
   "outputs": [
    {
     "data": {
      "text/plain": [
       "array([9816.07306223, 7966.50981958, 7137.56952928, 5807.7612821 ,\n",
       "       4947.24021901, 4828.00568035, 4369.20161483, 4133.87446275,\n",
       "       3961.95161103, 3879.05029029, 3792.91134994, 3674.4699034 ,\n",
       "       3511.98152747, 3419.16409335, 3323.76143917, 3294.67773337,\n",
       "       3157.13796577, 3130.17616319, 3111.54076507, 3058.90278952,\n",
       "       2922.76371232, 2908.84437925, 2818.15769974, 2741.49289308,\n",
       "       2701.33070601, 2684.48491859, 2620.07318658, 2584.01226543,\n",
       "       2551.24645073, 2525.17259575])"
      ]
     },
     "execution_count": 91,
     "metadata": {},
     "output_type": "execute_result"
    }
   ],
   "source": [
    "model.singular_values_"
   ]
  },
  {
   "cell_type": "code",
   "execution_count": 93,
   "metadata": {},
   "outputs": [
    {
     "name": "stdout",
     "output_type": "stream",
     "text": [
      "[0.09973066 0.0656885  0.05272952 0.03491167 0.02533256 0.02412619\n",
      " 0.01975865 0.01768755 0.01624694 0.01557414 0.01489013 0.0139747\n",
      " 0.01276608 0.01210021 0.01143439 0.01123515 0.01031669 0.01014123\n",
      " 0.01002084 0.00968466 0.0088418  0.00875778 0.00822023 0.00777906\n",
      " 0.00755281 0.0074589  0.00710526 0.00691102 0.00673687 0.00659987]\n"
     ]
    }
   ],
   "source": [
    "print(model.explained_variance_ratio_)"
   ]
  },
  {
   "cell_type": "code",
   "execution_count": null,
   "metadata": {},
   "outputs": [],
   "source": []
  },
  {
   "cell_type": "code",
   "execution_count": null,
   "metadata": {},
   "outputs": [],
   "source": []
  },
  {
   "cell_type": "code",
   "execution_count": null,
   "metadata": {},
   "outputs": [],
   "source": []
  },
  {
   "cell_type": "code",
   "execution_count": null,
   "metadata": {},
   "outputs": [],
   "source": []
  },
  {
   "cell_type": "code",
   "execution_count": null,
   "metadata": {},
   "outputs": [],
   "source": [
    "#eigen_sum = np.zeros([len(sessions), 3]) #TODO: where does the 3 come from??"
   ]
  },
  {
   "cell_type": "code",
   "execution_count": null,
   "metadata": {},
   "outputs": [],
   "source": []
  },
  {
   "cell_type": "code",
   "execution_count": null,
   "metadata": {},
   "outputs": [],
   "source": []
  },
  {
   "cell_type": "code",
   "execution_count": null,
   "metadata": {},
   "outputs": [],
   "source": []
  },
  {
   "cell_type": "code",
   "execution_count": null,
   "metadata": {},
   "outputs": [],
   "source": []
  },
  {
   "cell_type": "code",
   "execution_count": null,
   "metadata": {},
   "outputs": [],
   "source": []
  }
 ],
 "metadata": {
  "kernelspec": {
   "display_name": "Python 3",
   "language": "python",
   "name": "python3"
  },
  "language_info": {
   "codemirror_mode": {
    "name": "ipython",
    "version": 3
   },
   "file_extension": ".py",
   "mimetype": "text/x-python",
   "name": "python",
   "nbconvert_exporter": "python",
   "pygments_lexer": "ipython3",
   "version": "3.7.4"
  }
 },
 "nbformat": 4,
 "nbformat_minor": 2
}
