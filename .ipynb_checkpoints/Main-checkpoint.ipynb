{
 "cells": [
  {
   "cell_type": "markdown",
   "metadata": {},
   "source": [
    "# Main"
   ]
  },
  {
   "cell_type": "code",
   "execution_count": 1,
   "metadata": {},
   "outputs": [],
   "source": [
    "'''\n",
    "Dependencies\n",
    "'''\n",
    "import scipy.io as sio\n",
    "import matplotlib.pyplot as plt\n",
    "import matplotlib as mpl\n",
    "import numpy as np\n",
    "import scipy\n",
    "import pandas as pd\n",
    "import scipy.stats as stats\n",
    "import scipy.sparse as sparse\n",
    "import warnings \n",
    "from scipy import integrate\n",
    "import seaborn as sns\n",
    "warnings.simplefilter('ignore')\n",
    "from sklearn.decomposition import PCA\n",
    "import scipy.io as sio\n",
    "import os\n",
    "from tqdm.auto import tqdm\n",
    "\n",
    "sns.set_style('white')\n",
    "# to change default color cycle\n",
    "cs = ['#616F85', '#C2BAA3', '#F5E6CE', '#DD9D7C', '#C9445F']\n",
    "csbr = ['#074B6A', '#0A82A4', '#C0E995', '#3F9552', '#F3EE7E', '#E64248', '#E35330']\n",
    "plt.rcParams['axes.prop_cycle'] = plt.cycler(color=csbr)\n",
    "\n",
    "import pyaldata as pld # using functions from PyalData\n",
    "import tools # matlab2python functions"
   ]
  },
  {
   "cell_type": "markdown",
   "metadata": {},
   "source": [
    "### General data info\n",
    "\n",
    "> In our experiment, we recorded simultaneously from electrode arrays implanted in both M1 and PMd as macaque monkeys learned to make accurate reaching movements that were perturbed (`perturbation`) either by\n",
    "- curl-field forces (CF) forces\n",
    "- rotation of visual feedback (VR)\n",
    "\n",
    "**VR**: Each trial began when the monkey moved to the center target. Each trial began when the monkey moved to the center target. After a variable hold period (0.5 – 1.5 s), one of the eight outer targets appeared. The monkey had a variable instructed delay period (0.5 – 1.5 s) which allowed us to study neural activity during explicit movement planning and preparation, in addition to movement execution. The monkeys then received an auditory go cue, and the center target disappeared. The monkeys had one sec- ond to reach the target, and were required to hold there for 0.5 s.\n",
    "\n",
    "**CF**: two motors applied torques to the elbow and shoulder joints of the manipulandum in order to achieve the desired endpoint force.\n",
    "\n",
    "> Each experimental session consisted of three behavioral epochs (`epoch`), each beginning with reaches with no perturbation (baseline epoch) before the monkeys were exposed to a perturbation: either the CF (force epoch) or the VR (rotation epoch)."
   ]
  },
  {
   "cell_type": "markdown",
   "metadata": {},
   "source": [
    "## 0 Load data and convert to pandas dataframe\n",
    "\n",
    "The original data is in the form of `.mat` files. Pandas makes it very easy to work with the data. The entire dataset is a set of sessions $S$ of $T$ trials and each trial has $F$ features. The dataset is of the form\n",
    "\\begin{align}\n",
    "    S \\times T \\times F\n",
    "\\end{align}\n",
    "\n",
    "We will do the analysis for one session to begin with, yielding a $T \\times F$ matrix."
   ]
  },
  {
   "cell_type": "code",
   "execution_count": 2,
   "metadata": {},
   "outputs": [],
   "source": [
    "'''\n",
    "Insert path and filename \n",
    "'''\n",
    "path = '/Users/Daphne/Data/'  \n",
    "fname = 'Chewie_CO_VR_2016-10-06.mat' \n",
    "df = pld.mat2dataframe(path+fname, shift_idx_fields=True)"
   ]
  },
  {
   "cell_type": "code",
   "execution_count": 3,
   "metadata": {
    "scrolled": true
   },
   "outputs": [
    {
     "data": {
      "text/plain": [
       "(774, 24)"
      ]
     },
     "execution_count": 3,
     "metadata": {},
     "output_type": "execute_result"
    }
   ],
   "source": [
    "df.shape # T x F"
   ]
  },
  {
   "cell_type": "code",
   "execution_count": 4,
   "metadata": {},
   "outputs": [
    {
     "data": {
      "text/html": [
       "<div>\n",
       "<style scoped>\n",
       "    .dataframe tbody tr th:only-of-type {\n",
       "        vertical-align: middle;\n",
       "    }\n",
       "\n",
       "    .dataframe tbody tr th {\n",
       "        vertical-align: top;\n",
       "    }\n",
       "\n",
       "    .dataframe thead th {\n",
       "        text-align: right;\n",
       "    }\n",
       "</style>\n",
       "<table border=\"1\" class=\"dataframe\">\n",
       "  <thead>\n",
       "    <tr style=\"text-align: right;\">\n",
       "      <th></th>\n",
       "      <th>monkey</th>\n",
       "      <th>date</th>\n",
       "      <th>task</th>\n",
       "      <th>target_direction</th>\n",
       "      <th>trial_id</th>\n",
       "      <th>result</th>\n",
       "      <th>bin_size</th>\n",
       "      <th>perturbation</th>\n",
       "      <th>perturbation_info</th>\n",
       "      <th>epoch</th>\n",
       "      <th>...</th>\n",
       "      <th>idx_peak_speed</th>\n",
       "      <th>idx_trial_end</th>\n",
       "      <th>pos</th>\n",
       "      <th>vel</th>\n",
       "      <th>acc</th>\n",
       "      <th>force</th>\n",
       "      <th>M1_spikes</th>\n",
       "      <th>M1_unit_guide</th>\n",
       "      <th>PMd_spikes</th>\n",
       "      <th>PMd_unit_guide</th>\n",
       "    </tr>\n",
       "  </thead>\n",
       "  <tbody>\n",
       "    <tr>\n",
       "      <td>0</td>\n",
       "      <td>Chewie</td>\n",
       "      <td>10-06-2016</td>\n",
       "      <td>CO</td>\n",
       "      <td>-2.356194</td>\n",
       "      <td>1</td>\n",
       "      <td>R</td>\n",
       "      <td>0.01</td>\n",
       "      <td>VR</td>\n",
       "      <td>-0.52</td>\n",
       "      <td>BL</td>\n",
       "      <td>...</td>\n",
       "      <td>363</td>\n",
       "      <td>436</td>\n",
       "      <td>[[-5.399950889827338, -25.11058978269873], [-5...</td>\n",
       "      <td>[[4.615264447089089, -3.6781866137904946], [4....</td>\n",
       "      <td>[[34.913180411358354, -17.92603186704403], [13...</td>\n",
       "      <td>[[0.3854857746577438, -0.18448026169727955], [...</td>\n",
       "      <td>[[0, 1, 0, 0, 0, 1, 0, 1, 0, 0, 0, 1, 1, 0, 0,...</td>\n",
       "      <td>[[5, 1], [5, 2], [5, 3], [5, 4], [9, 1], [9, 2...</td>\n",
       "      <td>[[0, 0, 0, 0, 0, 0, 0, 0, 0, 0, 0, 0, 0, 0, 0,...</td>\n",
       "      <td>[[1, 1], [1, 2], [2, 1], [2, 2], [3, 1], [3, 2...</td>\n",
       "    </tr>\n",
       "    <tr>\n",
       "      <td>1</td>\n",
       "      <td>Chewie</td>\n",
       "      <td>10-06-2016</td>\n",
       "      <td>CO</td>\n",
       "      <td>1.570796</td>\n",
       "      <td>2</td>\n",
       "      <td>R</td>\n",
       "      <td>0.01</td>\n",
       "      <td>VR</td>\n",
       "      <td>-0.52</td>\n",
       "      <td>BL</td>\n",
       "      <td>...</td>\n",
       "      <td>356</td>\n",
       "      <td>447</td>\n",
       "      <td>[[-5.194667657852522, -35.190944353130526], [-...</td>\n",
       "      <td>[[2.3921738136280783, 2.833707639241631], [2.7...</td>\n",
       "      <td>[[31.99226756476989, 80.42711312188004], [34.1...</td>\n",
       "      <td>[[0.1778157378731141, 0.12542049016429982], [0...</td>\n",
       "      <td>[[0, 1, 0, 0, 0, 0, 0, 0, 0, 1, 0, 0, 0, 1, 0,...</td>\n",
       "      <td>[[5, 1], [5, 2], [5, 3], [5, 4], [9, 1], [9, 2...</td>\n",
       "      <td>[[0, 0, 0, 0, 0, 0, 0, 0, 0, 0, 0, 0, 0, 0, 0,...</td>\n",
       "      <td>[[1, 1], [1, 2], [2, 1], [2, 2], [3, 1], [3, 2...</td>\n",
       "    </tr>\n",
       "    <tr>\n",
       "      <td>2</td>\n",
       "      <td>Chewie</td>\n",
       "      <td>10-06-2016</td>\n",
       "      <td>CO</td>\n",
       "      <td>0.785398</td>\n",
       "      <td>3</td>\n",
       "      <td>R</td>\n",
       "      <td>0.01</td>\n",
       "      <td>VR</td>\n",
       "      <td>-0.52</td>\n",
       "      <td>BL</td>\n",
       "      <td>...</td>\n",
       "      <td>414</td>\n",
       "      <td>483</td>\n",
       "      <td>[[0.35267826312911055, -22.923278550949004], [...</td>\n",
       "      <td>[[0.5017102009485903, -3.146994710197926], [0....</td>\n",
       "      <td>[[-7.180978950112355, -35.21789901845524], [3....</td>\n",
       "      <td>[[0.2833417683274762, -0.1285513884878812], [0...</td>\n",
       "      <td>[[0, 0, 0, 0, 1, 0, 0, 0, 0, 1, 0, 0, 0, 0, 0,...</td>\n",
       "      <td>[[5, 1], [5, 2], [5, 3], [5, 4], [9, 1], [9, 2...</td>\n",
       "      <td>[[0, 2, 0, 0, 0, 0, 0, 0, 0, 0, 0, 0, 0, 0, 0,...</td>\n",
       "      <td>[[1, 1], [1, 2], [2, 1], [2, 2], [3, 1], [3, 2...</td>\n",
       "    </tr>\n",
       "    <tr>\n",
       "      <td>3</td>\n",
       "      <td>Chewie</td>\n",
       "      <td>10-06-2016</td>\n",
       "      <td>CO</td>\n",
       "      <td>3.141593</td>\n",
       "      <td>4</td>\n",
       "      <td>R</td>\n",
       "      <td>0.01</td>\n",
       "      <td>VR</td>\n",
       "      <td>-0.52</td>\n",
       "      <td>BL</td>\n",
       "      <td>...</td>\n",
       "      <td>397</td>\n",
       "      <td>458</td>\n",
       "      <td>[[5.072834875801728, -24.89410841851521], [5.0...</td>\n",
       "      <td>[[-1.3275097541588876, -3.5308863978243985], [...</td>\n",
       "      <td>[[-6.932033881542791, 0.17982626642873387], [-...</td>\n",
       "      <td>[[0.08675043530985374, 0.03658922221440793], [...</td>\n",
       "      <td>[[0, 1, 0, 0, 0, 0, 0, 0, 0, 0, 0, 0, 0, 0, 0,...</td>\n",
       "      <td>[[5, 1], [5, 2], [5, 3], [5, 4], [9, 1], [9, 2...</td>\n",
       "      <td>[[0, 0, 0, 0, 0, 0, 0, 0, 0, 0, 0, 0, 0, 0, 0,...</td>\n",
       "      <td>[[1, 1], [1, 2], [2, 1], [2, 2], [3, 1], [3, 2...</td>\n",
       "    </tr>\n",
       "    <tr>\n",
       "      <td>4</td>\n",
       "      <td>Chewie</td>\n",
       "      <td>10-06-2016</td>\n",
       "      <td>CO</td>\n",
       "      <td>-1.570796</td>\n",
       "      <td>5</td>\n",
       "      <td>R</td>\n",
       "      <td>0.01</td>\n",
       "      <td>VR</td>\n",
       "      <td>-0.52</td>\n",
       "      <td>BL</td>\n",
       "      <td>...</td>\n",
       "      <td>301</td>\n",
       "      <td>362</td>\n",
       "      <td>[[-8.194254800472459, -30.26359832666607], [-8...</td>\n",
       "      <td>[[1.8501123719868446, 0.8394848146862552], [2....</td>\n",
       "      <td>[[48.123169514922175, -9.081942493745938], [58...</td>\n",
       "      <td>[[0.2054977133197953, -0.12485484173352068], [...</td>\n",
       "      <td>[[0, 0, 0, 0, 1, 1, 0, 0, 1, 1, 0, 0, 1, 0, 0,...</td>\n",
       "      <td>[[5, 1], [5, 2], [5, 3], [5, 4], [9, 1], [9, 2...</td>\n",
       "      <td>[[1, 1, 0, 0, 0, 0, 0, 0, 0, 0, 0, 0, 0, 0, 0,...</td>\n",
       "      <td>[[1, 1], [1, 2], [2, 1], [2, 2], [3, 1], [3, 2...</td>\n",
       "    </tr>\n",
       "  </tbody>\n",
       "</table>\n",
       "<p>5 rows × 24 columns</p>\n",
       "</div>"
      ],
      "text/plain": [
       "   monkey        date task  target_direction  trial_id result  bin_size  \\\n",
       "0  Chewie  10-06-2016   CO         -2.356194         1      R      0.01   \n",
       "1  Chewie  10-06-2016   CO          1.570796         2      R      0.01   \n",
       "2  Chewie  10-06-2016   CO          0.785398         3      R      0.01   \n",
       "3  Chewie  10-06-2016   CO          3.141593         4      R      0.01   \n",
       "4  Chewie  10-06-2016   CO         -1.570796         5      R      0.01   \n",
       "\n",
       "  perturbation  perturbation_info epoch  ...  idx_peak_speed  idx_trial_end  \\\n",
       "0           VR              -0.52    BL  ...             363            436   \n",
       "1           VR              -0.52    BL  ...             356            447   \n",
       "2           VR              -0.52    BL  ...             414            483   \n",
       "3           VR              -0.52    BL  ...             397            458   \n",
       "4           VR              -0.52    BL  ...             301            362   \n",
       "\n",
       "                                                 pos  \\\n",
       "0  [[-5.399950889827338, -25.11058978269873], [-5...   \n",
       "1  [[-5.194667657852522, -35.190944353130526], [-...   \n",
       "2  [[0.35267826312911055, -22.923278550949004], [...   \n",
       "3  [[5.072834875801728, -24.89410841851521], [5.0...   \n",
       "4  [[-8.194254800472459, -30.26359832666607], [-8...   \n",
       "\n",
       "                                                 vel  \\\n",
       "0  [[4.615264447089089, -3.6781866137904946], [4....   \n",
       "1  [[2.3921738136280783, 2.833707639241631], [2.7...   \n",
       "2  [[0.5017102009485903, -3.146994710197926], [0....   \n",
       "3  [[-1.3275097541588876, -3.5308863978243985], [...   \n",
       "4  [[1.8501123719868446, 0.8394848146862552], [2....   \n",
       "\n",
       "                                                 acc  \\\n",
       "0  [[34.913180411358354, -17.92603186704403], [13...   \n",
       "1  [[31.99226756476989, 80.42711312188004], [34.1...   \n",
       "2  [[-7.180978950112355, -35.21789901845524], [3....   \n",
       "3  [[-6.932033881542791, 0.17982626642873387], [-...   \n",
       "4  [[48.123169514922175, -9.081942493745938], [58...   \n",
       "\n",
       "                                               force  \\\n",
       "0  [[0.3854857746577438, -0.18448026169727955], [...   \n",
       "1  [[0.1778157378731141, 0.12542049016429982], [0...   \n",
       "2  [[0.2833417683274762, -0.1285513884878812], [0...   \n",
       "3  [[0.08675043530985374, 0.03658922221440793], [...   \n",
       "4  [[0.2054977133197953, -0.12485484173352068], [...   \n",
       "\n",
       "                                           M1_spikes  \\\n",
       "0  [[0, 1, 0, 0, 0, 1, 0, 1, 0, 0, 0, 1, 1, 0, 0,...   \n",
       "1  [[0, 1, 0, 0, 0, 0, 0, 0, 0, 1, 0, 0, 0, 1, 0,...   \n",
       "2  [[0, 0, 0, 0, 1, 0, 0, 0, 0, 1, 0, 0, 0, 0, 0,...   \n",
       "3  [[0, 1, 0, 0, 0, 0, 0, 0, 0, 0, 0, 0, 0, 0, 0,...   \n",
       "4  [[0, 0, 0, 0, 1, 1, 0, 0, 1, 1, 0, 0, 1, 0, 0,...   \n",
       "\n",
       "                                       M1_unit_guide  \\\n",
       "0  [[5, 1], [5, 2], [5, 3], [5, 4], [9, 1], [9, 2...   \n",
       "1  [[5, 1], [5, 2], [5, 3], [5, 4], [9, 1], [9, 2...   \n",
       "2  [[5, 1], [5, 2], [5, 3], [5, 4], [9, 1], [9, 2...   \n",
       "3  [[5, 1], [5, 2], [5, 3], [5, 4], [9, 1], [9, 2...   \n",
       "4  [[5, 1], [5, 2], [5, 3], [5, 4], [9, 1], [9, 2...   \n",
       "\n",
       "                                          PMd_spikes  \\\n",
       "0  [[0, 0, 0, 0, 0, 0, 0, 0, 0, 0, 0, 0, 0, 0, 0,...   \n",
       "1  [[0, 0, 0, 0, 0, 0, 0, 0, 0, 0, 0, 0, 0, 0, 0,...   \n",
       "2  [[0, 2, 0, 0, 0, 0, 0, 0, 0, 0, 0, 0, 0, 0, 0,...   \n",
       "3  [[0, 0, 0, 0, 0, 0, 0, 0, 0, 0, 0, 0, 0, 0, 0,...   \n",
       "4  [[1, 1, 0, 0, 0, 0, 0, 0, 0, 0, 0, 0, 0, 0, 0,...   \n",
       "\n",
       "                                      PMd_unit_guide  \n",
       "0  [[1, 1], [1, 2], [2, 1], [2, 2], [3, 1], [3, 2...  \n",
       "1  [[1, 1], [1, 2], [2, 1], [2, 2], [3, 1], [3, 2...  \n",
       "2  [[1, 1], [1, 2], [2, 1], [2, 2], [3, 1], [3, 2...  \n",
       "3  [[1, 1], [1, 2], [2, 1], [2, 2], [3, 1], [3, 2...  \n",
       "4  [[1, 1], [1, 2], [2, 1], [2, 2], [3, 1], [3, 2...  \n",
       "\n",
       "[5 rows x 24 columns]"
      ]
     },
     "execution_count": 4,
     "metadata": {},
     "output_type": "execute_result"
    }
   ],
   "source": [
    "df.head()"
   ]
  },
  {
   "cell_type": "markdown",
   "metadata": {},
   "source": [
    "### Plot a few hand trajectories\n",
    "\n",
    "- Baseline epoch (range across sessions: 170 – 225 rewards)\n",
    "- Force epoch with the CF perturbations (201 – 337 rewards)\n",
    "- Washout epoch, in which the perturbation was removed and the monkeys readapted to making normal reaches (153 – 404 rewards)"
   ]
  },
  {
   "cell_type": "code",
   "execution_count": 5,
   "metadata": {},
   "outputs": [
    {
     "data": {
      "text/plain": [
       "array(['BL', 'AD', 'WO'], dtype=object)"
      ]
     },
     "execution_count": 5,
     "metadata": {},
     "output_type": "execute_result"
    }
   ],
   "source": [
    "df['epoch'].unique()"
   ]
  },
  {
   "cell_type": "code",
   "execution_count": 6,
   "metadata": {},
   "outputs": [
    {
     "data": {
      "text/plain": [
       "(447, 2)"
      ]
     },
     "execution_count": 6,
     "metadata": {},
     "output_type": "execute_result"
    }
   ],
   "source": [
    "df['pos'][0].shape # number of observations x (x,y) coordinates"
   ]
  },
  {
   "cell_type": "code",
   "execution_count": 7,
   "metadata": {},
   "outputs": [],
   "source": [
    "# get positions that belong to respective periods\n",
    "BL_pos = df.loc[df['epoch'] == 'BL']['pos'].values\n",
    "AD_pos = df.loc[df['epoch'] == 'AD']['pos'].values\n",
    "WO_pos = df.loc[df['epoch'] == 'WO']['pos'].values\n",
    "\n",
    "# choose number of trajectories to plot\n",
    "num_traj = 7\n",
    "\n",
    "# TODO: ONLY use  data from Baseline (BL)"
   ]
  },
  {
   "cell_type": "code",
   "execution_count": 8,
   "metadata": {},
   "outputs": [
    {
     "data": {
      "image/png": "[encoded data removed]",
      "text/plain": [
       "<Figure size 1440x480 with 3 Axes>"
      ]
     },
     "metadata": {
      "needs_background": "light"
     },
     "output_type": "display_data"
    }
   ],
   "source": [
    "fig, (ax1, ax2, ax3) = plt.subplots(1, 3, figsize=(18,6), dpi=80)\n",
    "fig.suptitle('Hand position trajectories', fontsize=16)\n",
    "for i in range(num_traj): ax1.plot(BL_pos[i][:, 0], BL_pos[i][:, 1])\n",
    "ax1.set_title('Baseline (BL)', fontsize=14)\n",
    "ax1.set_xlabel('x', fontsize=13)\n",
    "ax1.set_ylabel('y', fontsize=13)\n",
    "    \n",
    "for i in range(num_traj): ax2.plot(AD_pos[i][:, 0], AD_pos[i][:, 1]);\n",
    "ax2.set_title('CF perturbations (AD)', fontsize=14)\n",
    "ax2.set_xlabel('x', fontsize=13)\n",
    "ax2.set_ylabel('y', fontsize=13);\n",
    "    \n",
    "for i in range(num_traj): ax3.plot(WO_pos[i][:, 0], WO_pos[i][:, 1]);\n",
    "ax3.set_title('Washout (WO)', fontsize=14)\n",
    "ax3.set_xlabel('x', fontsize=13)\n",
    "ax3.set_ylabel('y', fontsize=13);"
   ]
  },
  {
   "cell_type": "code",
   "execution_count": 9,
   "metadata": {},
   "outputs": [
    {
     "data": {
      "text/plain": [
       "(447, 2)"
      ]
     },
     "execution_count": 9,
     "metadata": {},
     "output_type": "execute_result"
    }
   ],
   "source": [
    "df['vel'][0].shape"
   ]
  },
  {
   "cell_type": "code",
   "execution_count": 10,
   "metadata": {
    "scrolled": true
   },
   "outputs": [
    {
     "data": {
      "text/plain": [
       "Index(['monkey', 'date', 'task', 'target_direction', 'trial_id', 'result',\n",
       "       'bin_size', 'perturbation', 'perturbation_info', 'epoch',\n",
       "       'idx_trial_start', 'idx_target_on', 'idx_go_cue', 'idx_movement_on',\n",
       "       'idx_peak_speed', 'idx_trial_end', 'pos', 'vel', 'acc', 'force',\n",
       "       'M1_spikes', 'M1_unit_guide', 'PMd_spikes', 'PMd_unit_guide'],\n",
       "      dtype='object')"
      ]
     },
     "execution_count": 10,
     "metadata": {},
     "output_type": "execute_result"
    }
   ],
   "source": [
    "df.columns"
   ]
  },
  {
   "cell_type": "code",
   "execution_count": 11,
   "metadata": {},
   "outputs": [
    {
     "data": {
      "text/plain": [
       "0        1\n",
       "1        2\n",
       "2        3\n",
       "3        4\n",
       "4        5\n",
       "      ... \n",
       "769    340\n",
       "770    341\n",
       "771    342\n",
       "772    343\n",
       "773    344\n",
       "Name: trial_id, Length: 774, dtype: int64"
      ]
     },
     "execution_count": 11,
     "metadata": {},
     "output_type": "execute_result"
    }
   ],
   "source": [
    "df.trial_id"
   ]
  },
  {
   "cell_type": "code",
   "execution_count": 12,
   "metadata": {},
   "outputs": [
    {
     "data": {
      "text/plain": [
       "array(['Chewie'], dtype=object)"
      ]
     },
     "execution_count": 12,
     "metadata": {},
     "output_type": "execute_result"
    }
   ],
   "source": [
    "df.monkey.unique()"
   ]
  },
  {
   "cell_type": "markdown",
   "metadata": {},
   "source": [
    "## 1 Preprocess \n",
    "\n",
    "Following the parameters and workflow from `compare_weights_spatially.m`"
   ]
  },
  {
   "cell_type": "markdown",
   "metadata": {},
   "source": [
    "### 1.1 Combine time bins\n",
    "\n",
    "Combine time bins into larger ones, here "
   ]
  },
  {
   "cell_type": "code",
   "execution_count": 13,
   "metadata": {},
   "outputs": [],
   "source": [
    "td = pld.combine_time_bins(df, n_bins=3)"
   ]
  },
  {
   "cell_type": "code",
   "execution_count": 14,
   "metadata": {
    "scrolled": true
   },
   "outputs": [],
   "source": [
    "# print(f'before \\n {df.head().bin_size} \\n')\n",
    "# print(f'after combining time bins \\n {td.head().bin_size}')"
   ]
  },
  {
   "cell_type": "markdown",
   "metadata": {},
   "source": [
    "### 1.2 Remove low firing neurons"
   ]
  },
  {
   "cell_type": "code",
   "execution_count": 15,
   "metadata": {},
   "outputs": [
    {
     "data": {
      "text/plain": [
       "array([[0, 1, 0, ..., 0, 0, 0],\n",
       "       [1, 0, 0, ..., 0, 0, 0],\n",
       "       [0, 0, 0, ..., 0, 1, 0],\n",
       "       ...,\n",
       "       [0, 0, 0, ..., 0, 0, 0],\n",
       "       [0, 0, 0, ..., 0, 0, 0],\n",
       "       [0, 1, 0, ..., 1, 0, 0]], dtype=uint8)"
      ]
     },
     "execution_count": 15,
     "metadata": {},
     "output_type": "execute_result"
    }
   ],
   "source": [
    "df.M1_spikes[0]"
   ]
  },
  {
   "cell_type": "code",
   "execution_count": 16,
   "metadata": {},
   "outputs": [
    {
     "name": "stdout",
     "output_type": "stream",
     "text": [
      "original M1 spikes: (447, 63)\n",
      "after removing low firing neurons: (149, 44) \n",
      "\n",
      "original PMd spikes: (447, 192)\n",
      "after removing low firing neurons: (149, 99)\n"
     ]
    }
   ],
   "source": [
    "td = pld.remove_low_firing_neurons(td, signal='M1_spikes', threshold=5)\n",
    "td = pld.remove_low_firing_neurons(td, signal='PMd_spikes', threshold=5)\n",
    "\n",
    "print(f'original M1 spikes: {df.M1_spikes[0].shape}')\n",
    "print(f'after removing low firing neurons: {td.M1_spikes[0].shape} \\n')\n",
    "\n",
    "print(f'original PMd spikes: {df.PMd_spikes[0].shape}')\n",
    "print(f'after removing low firing neurons: {td.PMd_spikes[0].shape}')"
   ]
  },
  {
   "cell_type": "markdown",
   "metadata": {},
   "source": [
    "### 1.3 Transform signals"
   ]
  },
  {
   "cell_type": "code",
   "execution_count": 17,
   "metadata": {},
   "outputs": [
    {
     "name": "stdout",
     "output_type": "stream",
     "text": [
      "[[1.         1.         1.         ... 0.         0.         1.        ]\n",
      " [0.         1.         0.         ... 0.         1.         0.        ]\n",
      " [1.         1.         1.41421356 ... 0.         1.         0.        ]\n",
      " ...\n",
      " [1.         0.         0.         ... 0.         0.         0.        ]\n",
      " [1.         1.         1.41421356 ... 0.         1.         1.        ]\n",
      " [0.         1.         0.         ... 0.         1.         0.        ]]\n"
     ]
    }
   ],
   "source": [
    "td = pld.transform_signal(td, signal='M1_spikes',  transformations='sqrt')\n",
    "td = pld.transform_signal(td, signal='PMd_spikes', transformations='sqrt')\n",
    "\n",
    "print(td.M1_spikes[0]) # trials x neurons"
   ]
  },
  {
   "cell_type": "markdown",
   "metadata": {},
   "source": [
    "### 1.4 Merge signals from multiple brain areas"
   ]
  },
  {
   "cell_type": "markdown",
   "metadata": {},
   "source": [
    "Here we add a column `'both_spikes'` to that we can perform PCA on all the neurons"
   ]
  },
  {
   "cell_type": "code",
   "execution_count": 18,
   "metadata": {},
   "outputs": [
    {
     "name": "stdout",
     "output_type": "stream",
     "text": [
      "Merging M1 and PMd gives 44 + 99 = 143 neurons\n"
     ]
    }
   ],
   "source": [
    "td = pld.merge_signals(td, ['M1_spikes', 'PMd_spikes'], 'both_spikes')\n",
    "\n",
    "print(f'Merging M1 and PMd gives {td.M1_spikes[0].shape[1]} + {td.PMd_spikes[0].shape[1]} = {td.both_spikes[0].shape[1]} neurons')"
   ]
  },
  {
   "cell_type": "code",
   "execution_count": 19,
   "metadata": {
    "scrolled": true
   },
   "outputs": [
    {
     "data": {
      "text/plain": [
       "0      [[1.0, 1.0, 1.0, 1.4142135623730951, 0.0, 0.0,...\n",
       "1      [[1.0, 1.0, 0.0, 1.0, 1.0, 1.4142135623730951,...\n",
       "2      [[1.0, 1.0, 1.4142135623730951, 0.0, 0.0, 1.41...\n",
       "3      [[0.0, 1.0, 0.0, 1.0, 0.0, 0.0, 0.0, 0.0, 0.0,...\n",
       "4      [[0.0, 0.0, 1.0, 1.4142135623730951, 1.0, 1.0,...\n",
       "                             ...                        \n",
       "769    [[0.0, 1.0, 0.0, 1.0, 0.0, 0.0, 1.0, 0.0, 0.0,...\n",
       "770    [[0.0, 0.0, 0.0, 1.0, 0.0, 0.0, 0.0, 0.0, 0.0,...\n",
       "771    [[1.0, 0.0, 1.0, 0.0, 0.0, 0.0, 0.0, 0.0, 1.41...\n",
       "772    [[0.0, 1.0, 0.0, 0.0, 0.0, 0.0, 1.0, 0.0, 0.0,...\n",
       "773    [[1.0, 1.0, 1.0, 1.0, 1.0, 0.0, 0.0, 0.0, 0.0,...\n",
       "Name: both_spikes, Length: 774, dtype: object"
      ]
     },
     "execution_count": 19,
     "metadata": {},
     "output_type": "execute_result"
    }
   ],
   "source": [
    "td['both_spikes']"
   ]
  },
  {
   "cell_type": "markdown",
   "metadata": {},
   "source": [
    "### 1.5 Compute firing rates from spike trains\n",
    "\n",
    "We convolve the spike trains of each neuron with a non-causal Gaussian kernel to get a smooth firing rate. The columns are added to our dataframe as `'__rates'`.\n",
    "PCA is performed on these firing rates."
   ]
  },
  {
   "cell_type": "code",
   "execution_count": 20,
   "metadata": {},
   "outputs": [],
   "source": [
    "# works on '_spikes' fields and automatically divides by bin_size\n",
    "td = pld.add_firing_rates(td, 'smooth')"
   ]
  },
  {
   "cell_type": "code",
   "execution_count": 21,
   "metadata": {},
   "outputs": [
    {
     "data": {
      "text/html": [
       "<div>\n",
       "<style scoped>\n",
       "    .dataframe tbody tr th:only-of-type {\n",
       "        vertical-align: middle;\n",
       "    }\n",
       "\n",
       "    .dataframe tbody tr th {\n",
       "        vertical-align: top;\n",
       "    }\n",
       "\n",
       "    .dataframe thead th {\n",
       "        text-align: right;\n",
       "    }\n",
       "</style>\n",
       "<table border=\"1\" class=\"dataframe\">\n",
       "  <thead>\n",
       "    <tr style=\"text-align: right;\">\n",
       "      <th></th>\n",
       "      <th>monkey</th>\n",
       "      <th>date</th>\n",
       "      <th>task</th>\n",
       "      <th>target_direction</th>\n",
       "      <th>trial_id</th>\n",
       "      <th>result</th>\n",
       "      <th>bin_size</th>\n",
       "      <th>perturbation</th>\n",
       "      <th>perturbation_info</th>\n",
       "      <th>epoch</th>\n",
       "      <th>...</th>\n",
       "      <th>acc</th>\n",
       "      <th>force</th>\n",
       "      <th>M1_spikes</th>\n",
       "      <th>M1_unit_guide</th>\n",
       "      <th>PMd_spikes</th>\n",
       "      <th>PMd_unit_guide</th>\n",
       "      <th>both_spikes</th>\n",
       "      <th>M1_rates</th>\n",
       "      <th>PMd_rates</th>\n",
       "      <th>both_rates</th>\n",
       "    </tr>\n",
       "  </thead>\n",
       "  <tbody>\n",
       "    <tr>\n",
       "      <td>0</td>\n",
       "      <td>Chewie</td>\n",
       "      <td>10-06-2016</td>\n",
       "      <td>CO</td>\n",
       "      <td>-2.356194</td>\n",
       "      <td>1</td>\n",
       "      <td>R</td>\n",
       "      <td>0.03</td>\n",
       "      <td>VR</td>\n",
       "      <td>-0.52</td>\n",
       "      <td>BL</td>\n",
       "      <td>...</td>\n",
       "      <td>[[25.292273710326047, 23.948816622289783], [26...</td>\n",
       "      <td>[[0.3854857746577438, -0.18448026169727955], [...</td>\n",
       "      <td>[[1.0, 1.0, 1.0, 1.4142135623730951, 0.0, 0.0,...</td>\n",
       "      <td>[[5, 1], [5, 2], [9, 1], [9, 2], [13, 1], [13,...</td>\n",
       "      <td>[[0.0, 1.0, 0.0, 0.0, 0.0, 0.0, 0.0, 1.0, 0.0,...</td>\n",
       "      <td>[[1, 1], [1, 2], [7, 4], [7, 5], [8, 2], [8, 3...</td>\n",
       "      <td>[[1.0, 1.0, 1.0, 1.4142135623730951, 0.0, 0.0,...</td>\n",
       "      <td>[[10.371933240023875, 15.773752026832693, 12.3...</td>\n",
       "      <td>[[8.902097383481504, 8.635500399091704, 6.2947...</td>\n",
       "      <td>[[10.371933240023875, 15.773752026832693, 12.3...</td>\n",
       "    </tr>\n",
       "    <tr>\n",
       "      <td>1</td>\n",
       "      <td>Chewie</td>\n",
       "      <td>10-06-2016</td>\n",
       "      <td>CO</td>\n",
       "      <td>1.570796</td>\n",
       "      <td>2</td>\n",
       "      <td>R</td>\n",
       "      <td>0.03</td>\n",
       "      <td>VR</td>\n",
       "      <td>-0.52</td>\n",
       "      <td>BL</td>\n",
       "      <td>...</td>\n",
       "      <td>[[33.67115720999763, 79.08430607100303], [23.7...</td>\n",
       "      <td>[[0.1778157378731141, 0.12542049016429982], [0...</td>\n",
       "      <td>[[1.0, 1.0, 0.0, 1.0, 1.0, 1.4142135623730951,...</td>\n",
       "      <td>[[5, 1], [5, 2], [9, 1], [9, 2], [13, 1], [13,...</td>\n",
       "      <td>[[0.0, 1.0, 1.0, 0.0, 0.0, 0.0, 1.414213562373...</td>\n",
       "      <td>[[1, 1], [1, 2], [7, 4], [7, 5], [8, 2], [8, 3...</td>\n",
       "      <td>[[1.0, 1.0, 0.0, 1.0, 1.0, 1.4142135623730951,...</td>\n",
       "      <td>[[11.264847879857852, 14.03731918590052, 8.031...</td>\n",
       "      <td>[[5.401818786808815, 14.407176539761242, 13.14...</td>\n",
       "      <td>[[11.264847879857852, 14.03731918590052, 8.031...</td>\n",
       "    </tr>\n",
       "    <tr>\n",
       "      <td>2</td>\n",
       "      <td>Chewie</td>\n",
       "      <td>10-06-2016</td>\n",
       "      <td>CO</td>\n",
       "      <td>0.785398</td>\n",
       "      <td>3</td>\n",
       "      <td>R</td>\n",
       "      <td>0.03</td>\n",
       "      <td>VR</td>\n",
       "      <td>-0.52</td>\n",
       "      <td>BL</td>\n",
       "      <td>...</td>\n",
       "      <td>[[1.6623846773446733, -20.151668914256682], [4...</td>\n",
       "      <td>[[0.2833417683274762, -0.1285513884878812], [0...</td>\n",
       "      <td>[[1.0, 1.0, 1.4142135623730951, 0.0, 0.0, 1.41...</td>\n",
       "      <td>[[5, 1], [5, 2], [9, 1], [9, 2], [13, 1], [13,...</td>\n",
       "      <td>[[1.0, 1.4142135623730951, 1.0, 0.0, 0.0, 0.0,...</td>\n",
       "      <td>[[1, 1], [1, 2], [7, 4], [7, 5], [8, 2], [8, 3...</td>\n",
       "      <td>[[1.0, 1.0, 1.4142135623730951, 0.0, 0.0, 1.41...</td>\n",
       "      <td>[[10.371933240023875, 16.66666666666667, 11.84...</td>\n",
       "      <td>[[16.66666666666667, 10.949669788579067, 7.742...</td>\n",
       "      <td>[[10.371933240023875, 16.66666666666667, 11.84...</td>\n",
       "    </tr>\n",
       "    <tr>\n",
       "      <td>3</td>\n",
       "      <td>Chewie</td>\n",
       "      <td>10-06-2016</td>\n",
       "      <td>CO</td>\n",
       "      <td>3.141593</td>\n",
       "      <td>4</td>\n",
       "      <td>R</td>\n",
       "      <td>0.03</td>\n",
       "      <td>VR</td>\n",
       "      <td>-0.52</td>\n",
       "      <td>BL</td>\n",
       "      <td>...</td>\n",
       "      <td>[[-10.229040288523265, -22.654816986306813], [...</td>\n",
       "      <td>[[0.08675043530985374, 0.03658922221440793], [...</td>\n",
       "      <td>[[0.0, 1.0, 0.0, 1.0, 0.0, 0.0, 0.0, 0.0, 0.0,...</td>\n",
       "      <td>[[5, 1], [5, 2], [9, 1], [9, 2], [13, 1], [13,...</td>\n",
       "      <td>[[0.0, 1.0, 0.0, 0.0, 0.0, 1.4142135623730951,...</td>\n",
       "      <td>[[1, 1], [1, 2], [7, 4], [7, 5], [8, 2], [8, 3...</td>\n",
       "      <td>[[0.0, 1.0, 0.0, 1.0, 0.0, 0.0, 0.0, 0.0, 0.0,...</td>\n",
       "      <td>[[0.8929146398339769, 8.635500399091704, 10.26...</td>\n",
       "      <td>[[0.8929146398339769, 7.742585759257727, 5.401...</td>\n",
       "      <td>[[0.8929146398339769, 8.635500399091704, 10.26...</td>\n",
       "    </tr>\n",
       "    <tr>\n",
       "      <td>4</td>\n",
       "      <td>Chewie</td>\n",
       "      <td>10-06-2016</td>\n",
       "      <td>CO</td>\n",
       "      <td>-1.570796</td>\n",
       "      <td>5</td>\n",
       "      <td>R</td>\n",
       "      <td>0.03</td>\n",
       "      <td>VR</td>\n",
       "      <td>-0.52</td>\n",
       "      <td>BL</td>\n",
       "      <td>...</td>\n",
       "      <td>[[55.86100520057167, -6.586410543949703], [45....</td>\n",
       "      <td>[[0.2054977133197953, -0.12485484173352068], [...</td>\n",
       "      <td>[[0.0, 0.0, 1.0, 1.4142135623730951, 1.0, 1.0,...</td>\n",
       "      <td>[[5, 1], [5, 2], [9, 1], [9, 2], [13, 1], [13,...</td>\n",
       "      <td>[[1.0, 1.0, 0.0, 1.4142135623730951, 0.0, 0.0,...</td>\n",
       "      <td>[[1, 1], [1, 2], [7, 4], [7, 5], [8, 2], [8, 3...</td>\n",
       "      <td>[[0.0, 0.0, 1.0, 1.4142135623730951, 1.0, 1.0,...</td>\n",
       "      <td>[[8.031166267574964, 8.924080907408943, 13.144...</td>\n",
       "      <td>[[15.773752026832693, 16.66666666666667, 0.892...</td>\n",
       "      <td>[[8.031166267574964, 8.924080907408943, 13.144...</td>\n",
       "    </tr>\n",
       "  </tbody>\n",
       "</table>\n",
       "<p>5 rows × 28 columns</p>\n",
       "</div>"
      ],
      "text/plain": [
       "   monkey        date task  target_direction  trial_id result  bin_size  \\\n",
       "0  Chewie  10-06-2016   CO         -2.356194         1      R      0.03   \n",
       "1  Chewie  10-06-2016   CO          1.570796         2      R      0.03   \n",
       "2  Chewie  10-06-2016   CO          0.785398         3      R      0.03   \n",
       "3  Chewie  10-06-2016   CO          3.141593         4      R      0.03   \n",
       "4  Chewie  10-06-2016   CO         -1.570796         5      R      0.03   \n",
       "\n",
       "  perturbation  perturbation_info epoch  ...  \\\n",
       "0           VR              -0.52    BL  ...   \n",
       "1           VR              -0.52    BL  ...   \n",
       "2           VR              -0.52    BL  ...   \n",
       "3           VR              -0.52    BL  ...   \n",
       "4           VR              -0.52    BL  ...   \n",
       "\n",
       "                                                 acc  \\\n",
       "0  [[25.292273710326047, 23.948816622289783], [26...   \n",
       "1  [[33.67115720999763, 79.08430607100303], [23.7...   \n",
       "2  [[1.6623846773446733, -20.151668914256682], [4...   \n",
       "3  [[-10.229040288523265, -22.654816986306813], [...   \n",
       "4  [[55.86100520057167, -6.586410543949703], [45....   \n",
       "\n",
       "                                               force  \\\n",
       "0  [[0.3854857746577438, -0.18448026169727955], [...   \n",
       "1  [[0.1778157378731141, 0.12542049016429982], [0...   \n",
       "2  [[0.2833417683274762, -0.1285513884878812], [0...   \n",
       "3  [[0.08675043530985374, 0.03658922221440793], [...   \n",
       "4  [[0.2054977133197953, -0.12485484173352068], [...   \n",
       "\n",
       "                                           M1_spikes  \\\n",
       "0  [[1.0, 1.0, 1.0, 1.4142135623730951, 0.0, 0.0,...   \n",
       "1  [[1.0, 1.0, 0.0, 1.0, 1.0, 1.4142135623730951,...   \n",
       "2  [[1.0, 1.0, 1.4142135623730951, 0.0, 0.0, 1.41...   \n",
       "3  [[0.0, 1.0, 0.0, 1.0, 0.0, 0.0, 0.0, 0.0, 0.0,...   \n",
       "4  [[0.0, 0.0, 1.0, 1.4142135623730951, 1.0, 1.0,...   \n",
       "\n",
       "                                       M1_unit_guide  \\\n",
       "0  [[5, 1], [5, 2], [9, 1], [9, 2], [13, 1], [13,...   \n",
       "1  [[5, 1], [5, 2], [9, 1], [9, 2], [13, 1], [13,...   \n",
       "2  [[5, 1], [5, 2], [9, 1], [9, 2], [13, 1], [13,...   \n",
       "3  [[5, 1], [5, 2], [9, 1], [9, 2], [13, 1], [13,...   \n",
       "4  [[5, 1], [5, 2], [9, 1], [9, 2], [13, 1], [13,...   \n",
       "\n",
       "                                          PMd_spikes  \\\n",
       "0  [[0.0, 1.0, 0.0, 0.0, 0.0, 0.0, 0.0, 1.0, 0.0,...   \n",
       "1  [[0.0, 1.0, 1.0, 0.0, 0.0, 0.0, 1.414213562373...   \n",
       "2  [[1.0, 1.4142135623730951, 1.0, 0.0, 0.0, 0.0,...   \n",
       "3  [[0.0, 1.0, 0.0, 0.0, 0.0, 1.4142135623730951,...   \n",
       "4  [[1.0, 1.0, 0.0, 1.4142135623730951, 0.0, 0.0,...   \n",
       "\n",
       "                                      PMd_unit_guide  \\\n",
       "0  [[1, 1], [1, 2], [7, 4], [7, 5], [8, 2], [8, 3...   \n",
       "1  [[1, 1], [1, 2], [7, 4], [7, 5], [8, 2], [8, 3...   \n",
       "2  [[1, 1], [1, 2], [7, 4], [7, 5], [8, 2], [8, 3...   \n",
       "3  [[1, 1], [1, 2], [7, 4], [7, 5], [8, 2], [8, 3...   \n",
       "4  [[1, 1], [1, 2], [7, 4], [7, 5], [8, 2], [8, 3...   \n",
       "\n",
       "                                         both_spikes  \\\n",
       "0  [[1.0, 1.0, 1.0, 1.4142135623730951, 0.0, 0.0,...   \n",
       "1  [[1.0, 1.0, 0.0, 1.0, 1.0, 1.4142135623730951,...   \n",
       "2  [[1.0, 1.0, 1.4142135623730951, 0.0, 0.0, 1.41...   \n",
       "3  [[0.0, 1.0, 0.0, 1.0, 0.0, 0.0, 0.0, 0.0, 0.0,...   \n",
       "4  [[0.0, 0.0, 1.0, 1.4142135623730951, 1.0, 1.0,...   \n",
       "\n",
       "                                            M1_rates  \\\n",
       "0  [[10.371933240023875, 15.773752026832693, 12.3...   \n",
       "1  [[11.264847879857852, 14.03731918590052, 8.031...   \n",
       "2  [[10.371933240023875, 16.66666666666667, 11.84...   \n",
       "3  [[0.8929146398339769, 8.635500399091704, 10.26...   \n",
       "4  [[8.031166267574964, 8.924080907408943, 13.144...   \n",
       "\n",
       "                                           PMd_rates  \\\n",
       "0  [[8.902097383481504, 8.635500399091704, 6.2947...   \n",
       "1  [[5.401818786808815, 14.407176539761242, 13.14...   \n",
       "2  [[16.66666666666667, 10.949669788579067, 7.742...   \n",
       "3  [[0.8929146398339769, 7.742585759257727, 5.401...   \n",
       "4  [[15.773752026832693, 16.66666666666667, 0.892...   \n",
       "\n",
       "                                          both_rates  \n",
       "0  [[10.371933240023875, 15.773752026832693, 12.3...  \n",
       "1  [[11.264847879857852, 14.03731918590052, 8.031...  \n",
       "2  [[10.371933240023875, 16.66666666666667, 11.84...  \n",
       "3  [[0.8929146398339769, 8.635500399091704, 10.26...  \n",
       "4  [[8.031166267574964, 8.924080907408943, 13.144...  \n",
       "\n",
       "[5 rows x 28 columns]"
      ]
     },
     "execution_count": 21,
     "metadata": {},
     "output_type": "execute_result"
    }
   ],
   "source": [
    "td.head()"
   ]
  },
  {
   "cell_type": "code",
   "execution_count": 22,
   "metadata": {},
   "outputs": [
    {
     "data": {
      "text/plain": [
       "0      [[10.371933240023875, 15.773752026832693, 12.3...\n",
       "1      [[11.264847879857852, 14.03731918590052, 8.031...\n",
       "2      [[10.371933240023875, 16.66666666666667, 11.84...\n",
       "3      [[0.8929146398339769, 8.635500399091704, 10.26...\n",
       "4      [[8.031166267574964, 8.924080907408943, 13.144...\n",
       "                             ...                        \n",
       "769    [[0.8929146398339769, 9.005357752952426, 0.0, ...\n",
       "770    [[6.294733426642792, 8.924080907408943, 0.8929...\n",
       "771    [[14.407176539761242, 9.120277654299834, 7.742...\n",
       "772    [[0.8929146398339769, 10.371933240023875, 0.0,...\n",
       "773    [[10.371933240023875, 16.66666666666667, 8.635...\n",
       "Name: both_rates, Length: 774, dtype: object"
      ]
     },
     "execution_count": 22,
     "metadata": {},
     "output_type": "execute_result"
    }
   ],
   "source": [
    "td.both_rates"
   ]
  },
  {
   "cell_type": "markdown",
   "metadata": {},
   "source": [
    "### 1.6 Select a time interval\n",
    "\n",
    "Perhaps we want to take spikes from a certain interval (this is optional). "
   ]
  },
  {
   "cell_type": "code",
   "execution_count": 23,
   "metadata": {},
   "outputs": [],
   "source": [
    "# examples\n",
    "plan_td = pld.restrict_to_interval(td, start_point_name='idx_target_on', end_point_name='idx_go_cue', before=0, after=40)\n",
    "\n",
    "move_td = pld.restrict_to_interval(td, start_point_name='idx_go_cue', end_point_name='idx_trial_end', before=0, after=40)"
   ]
  },
  {
   "cell_type": "code",
   "execution_count": 24,
   "metadata": {},
   "outputs": [],
   "source": [
    "#plan_td.head()"
   ]
  },
  {
   "cell_type": "code",
   "execution_count": 25,
   "metadata": {},
   "outputs": [],
   "source": [
    "# print(f'Total trial length: {td.both_spikes[0].shape}')\n",
    "\n",
    "# print(f'Plan trial length: {plan_td.both_spikes[0].shape}')\n",
    "\n",
    "# print(f'Move trial length: {move_td.both_spikes[0].shape}')"
   ]
  },
  {
   "cell_type": "code",
   "execution_count": 26,
   "metadata": {},
   "outputs": [
    {
     "data": {
      "text/plain": [
       "0      BL\n",
       "1      BL\n",
       "2      BL\n",
       "3      BL\n",
       "4      BL\n",
       "       ..\n",
       "769    WO\n",
       "770    WO\n",
       "771    WO\n",
       "772    WO\n",
       "773    WO\n",
       "Name: epoch, Length: 774, dtype: object"
      ]
     },
     "execution_count": 26,
     "metadata": {},
     "output_type": "execute_result"
    }
   ],
   "source": [
    "td.epoch "
   ]
  },
  {
   "cell_type": "markdown",
   "metadata": {},
   "source": [
    "## 2 Dimensionality reduction"
   ]
  },
  {
   "cell_type": "markdown",
   "metadata": {},
   "source": [
    " > PCA finds the dominant covariation patterns in the population and provides a set of orthogonal basis vectors that capture the population variance. We call these covariance patterns ‘‘latent activity.’’ Importantly, this latent activity reflected the firing of nearly all individual neurons (Perich et al., 2018).\n",
    " \n",
    "We want to perform dimensionality reduction on different subsets;\n",
    "\n",
    "- Do PCA on all the data together (both the M1 neurons and the PMd neurons) $\\rightarrow$ `'both_spikes'`\n",
    "- Do PCA on the M1 neurons only $\\rightarrow$ `'M1_spikes'`\n",
    "- Do PCA on the PMd neurons only $\\rightarrow$ `'PMd_spikes'`\n",
    "\n",
    "\n",
    "`.components_` is the set of all eigenvectors (aka loadings) for your projection space (one eigenvector for each principal component)"
   ]
  },
  {
   "cell_type": "markdown",
   "metadata": {},
   "source": [
    "Now we have the firing rates for all the neurons in the M1 and PMd combined:"
   ]
  },
  {
   "cell_type": "code",
   "execution_count": 27,
   "metadata": {
    "scrolled": true
   },
   "outputs": [
    {
     "name": "stdout",
     "output_type": "stream",
     "text": [
      "Number of trials: (774,)\n",
      "Each trial has 149 observations x 143 neurons \n"
     ]
    }
   ],
   "source": [
    "print(f'Number of trials: {td.both_rates.shape}')\n",
    "print(f'Each trial has {td.both_rates[0].shape[0]} observations x {td.both_rates[0].shape[1]} neurons ')"
   ]
  },
  {
   "cell_type": "code",
   "execution_count": 28,
   "metadata": {},
   "outputs": [
    {
     "data": {
      "text/plain": [
       "0      [[10.371933240023875, 15.773752026832693, 12.3...\n",
       "1      [[11.264847879857852, 14.03731918590052, 8.031...\n",
       "2      [[10.371933240023875, 16.66666666666667, 11.84...\n",
       "3      [[0.8929146398339769, 8.635500399091704, 10.26...\n",
       "4      [[8.031166267574964, 8.924080907408943, 13.144...\n",
       "                             ...                        \n",
       "769    [[0.8929146398339769, 9.005357752952426, 0.0, ...\n",
       "770    [[6.294733426642792, 8.924080907408943, 0.8929...\n",
       "771    [[14.407176539761242, 9.120277654299834, 7.742...\n",
       "772    [[0.8929146398339769, 10.371933240023875, 0.0,...\n",
       "773    [[10.371933240023875, 16.66666666666667, 8.635...\n",
       "Name: M1_rates, Length: 774, dtype: object"
      ]
     },
     "execution_count": 28,
     "metadata": {},
     "output_type": "execute_result"
    }
   ],
   "source": [
    "td['M1_rates']"
   ]
  },
  {
   "cell_type": "code",
   "execution_count": 29,
   "metadata": {},
   "outputs": [
    {
     "name": "stdout",
     "output_type": "stream",
     "text": [
      "(100575, 143)\n",
      "(100575, 44)\n",
      "(100575, 99)\n"
     ]
    }
   ],
   "source": [
    "# concatenate the rates from different trials in time\n",
    "rates_m1pmd = np.concatenate(td['both_rates'].values, axis=0)\n",
    "rates_m1 = np.concatenate(td['M1_rates'].values, axis=0)\n",
    "rates_pmd = np.concatenate(td['PMd_rates'].values, axis=0)\n",
    "\n",
    "print(rates_m1pmd.shape) # observations x neurons\n",
    "print(rates_m1.shape)\n",
    "print(rates_pmd.shape)"
   ]
  },
  {
   "cell_type": "markdown",
   "metadata": {},
   "source": [
    "### 2.1 PCA on all neurons"
   ]
  },
  {
   "cell_type": "code",
   "execution_count": 30,
   "metadata": {},
   "outputs": [
    {
     "data": {
      "text/plain": [
       "array([0.09973066, 0.0656885 , 0.05272952, 0.03491168, 0.02533259,\n",
       "       0.02412623, 0.01975881, 0.01768813, 0.01624798, 0.01557538,\n",
       "       0.01489181, 0.01397789, 0.01277519, 0.01210356, 0.01144775])"
      ]
     },
     "execution_count": 30,
     "metadata": {},
     "output_type": "execute_result"
    }
   ],
   "source": [
    "model_m1pmd = PCA()\n",
    "transformed_vals = pd.DataFrame(model_m1pmd.fit_transform(rates_m1pmd))\n",
    "\n",
    "# principal component weights \n",
    "pca_loadings_m1pmd = pd.DataFrame(model_m1pmd.components_)\n",
    "#pca_loadings_m1pmd.head() # each row contains the weigths or loadings of one PC\n",
    "\n",
    "variance_exp_cumsum_m1pmd = model_m1pmd.explained_variance_ratio_.cumsum().round(2)\n",
    "\n",
    "model_m1pmd.explained_variance_ratio_[:15]"
   ]
  },
  {
   "cell_type": "markdown",
   "metadata": {},
   "source": [
    "PC1 contributed 10%, PC2 contributed 6.6% and so on."
   ]
  },
  {
   "cell_type": "code",
   "execution_count": 31,
   "metadata": {},
   "outputs": [
    {
     "data": {
      "image/png": "[encoded data removed]",
      "text/plain": [
       "<Figure size 1360x400 with 2 Axes>"
      ]
     },
     "metadata": {
      "needs_background": "light"
     },
     "output_type": "display_data"
    }
   ],
   "source": [
    "fig, (ax1, ax2) = plt.subplots(1, 2, figsize=(17,5), dpi=80)\n",
    "fig.suptitle(f'Explained variance on all neurons | {fname}', fontsize=15)\n",
    "ax1.plot(variance_exp_cumsum_m1pmd, lw=2.5)\n",
    "ax1.set_xlabel('eigenvalue number', fontsize=13)\n",
    "ax1.set_ylabel('explained variance', fontsize=13)\n",
    "\n",
    "ax2.bar(range(0, len(model_m1pmd.explained_variance_ratio_)), model_m1pmd.explained_variance_ratio_, alpha=0.5, align='center')\n",
    "ax2.set_xlabel('eigenvalue number', fontsize=13)\n",
    "ax2.set_ylabel('explained variance', fontsize=13)\n",
    "sns.despine(left=True, bottom=True);"
   ]
  },
  {
   "cell_type": "code",
   "execution_count": 32,
   "metadata": {},
   "outputs": [
    {
     "data": {
      "text/plain": [
       "array([[-0.09257895, -0.04976282, -0.09884685, ..., -0.0033796 ,\n",
       "         0.24612069, -0.07991114],\n",
       "       [-0.11525689, -0.16789862, -0.17755237, ...,  0.01195134,\n",
       "         0.18383936, -0.00826234],\n",
       "       [ 0.18250418,  0.20102647,  0.13952209, ...,  0.04255159,\n",
       "         0.16208462, -0.07781298],\n",
       "       ...,\n",
       "       [ 0.0860489 , -0.08272472, -0.0368433 , ..., -0.03924823,\n",
       "        -0.00968876, -0.00182384],\n",
       "       [ 0.72116723, -0.47028311,  0.00754136, ..., -0.01730903,\n",
       "         0.01135002,  0.01201014],\n",
       "       [-0.00757641,  0.00552947,  0.0017994 , ...,  0.00575537,\n",
       "        -0.00448501,  0.00735529]])"
      ]
     },
     "execution_count": 32,
     "metadata": {},
     "output_type": "execute_result"
    }
   ],
   "source": [
    "model_m1pmd.components_"
   ]
  },
  {
   "cell_type": "markdown",
   "metadata": {},
   "source": [
    "The singular values corresponding to each of the selected components. The singular values are equal to the 2-norms of the n_components variables in the lower-dimensional space."
   ]
  },
  {
   "cell_type": "code",
   "execution_count": 33,
   "metadata": {},
   "outputs": [
    {
     "data": {
      "image/png": "[encoded data removed]",
      "text/plain": [
       "<Figure size 1350x450 with 2 Axes>"
      ]
     },
     "metadata": {
      "needs_background": "light"
     },
     "output_type": "display_data"
    }
   ],
   "source": [
    "fig, ax = plt.subplots(1, figsize = (15, 5), dpi=90)\n",
    "ax.set_title('', fontsize=15)\n",
    "sns.heatmap(np.abs(model_m1pmd.components_), cmap='Blues', ax=ax, xticklabels=False, yticklabels=False);\n",
    "ax.set_xlabel('PC', fontsize=16) \n",
    "ax.set_ylabel('Neuron', fontsize=16);"
   ]
  },
  {
   "cell_type": "markdown",
   "metadata": {},
   "source": [
    "### 2.2 PCA on M1 neurons"
   ]
  },
  {
   "cell_type": "code",
   "execution_count": 34,
   "metadata": {},
   "outputs": [
    {
     "data": {
      "text/plain": [
       "array([0.12331053, 0.09966624, 0.08789667, 0.05502105, 0.04286803,\n",
       "       0.04042454, 0.03572576, 0.03503671, 0.02701463, 0.02658214,\n",
       "       0.02638351, 0.02163223, 0.02141103, 0.01992707, 0.01935312])"
      ]
     },
     "execution_count": 34,
     "metadata": {},
     "output_type": "execute_result"
    }
   ],
   "source": [
    "model_m1 = PCA()\n",
    "transformed_vals = pd.DataFrame(model_m1.fit_transform(rates_m1))\n",
    "\n",
    "# principal component weights \n",
    "pca_loadings_m1 = pd.DataFrame(model_m1.components_)\n",
    "variance_exp_cumsum_m1 = model_m1.explained_variance_ratio_.cumsum().round(2)\n",
    "\n",
    "model_m1.explained_variance_ratio_[:15]"
   ]
  },
  {
   "cell_type": "code",
   "execution_count": 35,
   "metadata": {},
   "outputs": [
    {
     "data": {
      "image/png": "[encoded data removed]",
      "text/plain": [
       "<Figure size 1360x400 with 2 Axes>"
      ]
     },
     "metadata": {
      "needs_background": "light"
     },
     "output_type": "display_data"
    }
   ],
   "source": [
    "fig, (ax1, ax2) = plt.subplots(1, 2, figsize=(17,5), dpi=80)\n",
    "fig.suptitle(f'Explained variance on M1 neurons | {fname}', fontsize=15)\n",
    "ax1.plot(variance_exp_cumsum_m1, lw=2.5)\n",
    "ax1.set_xlabel('eigenvalue number', fontsize=13)\n",
    "ax1.set_ylabel('explained variance', fontsize=13)\n",
    "\n",
    "ax2.bar(range(0, len(model_m1.explained_variance_ratio_)), model_m1.explained_variance_ratio_, alpha=0.5, align='center')\n",
    "ax2.set_xlabel('eigenvalue number', fontsize=13)\n",
    "ax2.set_ylabel('explained variance', fontsize=13)\n",
    "sns.despine(left=True, bottom=True);"
   ]
  },
  {
   "cell_type": "markdown",
   "metadata": {},
   "source": [
    "### 2.3 PCA on PMd neurons"
   ]
  },
  {
   "cell_type": "code",
   "execution_count": 36,
   "metadata": {},
   "outputs": [
    {
     "data": {
      "text/plain": [
       "array([0.11224548, 0.07278479, 0.04256417, 0.0345311 , 0.02605734,\n",
       "       0.02308141, 0.02107253, 0.02006923, 0.01768764, 0.01743519,\n",
       "       0.0168857 , 0.01526974, 0.01454986, 0.01411731, 0.01351465])"
      ]
     },
     "execution_count": 36,
     "metadata": {},
     "output_type": "execute_result"
    }
   ],
   "source": [
    "model_pmd = PCA()\n",
    "transformed_vals = pd.DataFrame(model_pmd.fit_transform(rates_pmd))\n",
    "\n",
    "# principal component weights \n",
    "pca_loadings_pmd = pd.DataFrame(model_pmd.components_)\n",
    "variance_exp_cumsum_pmd = model_pmd.explained_variance_ratio_.cumsum().round(2)\n",
    "\n",
    "model_pmd.explained_variance_ratio_[:15]"
   ]
  },
  {
   "cell_type": "code",
   "execution_count": 37,
   "metadata": {},
   "outputs": [
    {
     "data": {
      "image/png": "[encoded data removed]",
      "text/plain": [
       "<Figure size 1360x400 with 2 Axes>"
      ]
     },
     "metadata": {
      "needs_background": "light"
     },
     "output_type": "display_data"
    }
   ],
   "source": [
    "fig, (ax1, ax2) = plt.subplots(1, 2, figsize=(17,5), dpi=80)\n",
    "fig.suptitle(f'Explained variance on PMd neurons | {fname}', fontsize=15)\n",
    "ax1.plot(variance_exp_cumsum_pmd, lw=2.5)\n",
    "ax1.set_xlabel('eigenvalue number', fontsize=13)\n",
    "ax1.set_ylabel('explained variance', fontsize=13)\n",
    "\n",
    "ax2.bar(range(0, len(model_pmd.explained_variance_ratio_)), model_pmd.explained_variance_ratio_, alpha=0.5, align='center')\n",
    "ax2.set_xlabel('eigenvalue number', fontsize=13)\n",
    "ax2.set_ylabel('explained variance', fontsize=13)\n",
    "sns.despine(left=True, bottom=True);"
   ]
  },
  {
   "cell_type": "markdown",
   "metadata": {},
   "source": [
    "### 2.4 Global and self manifold\n",
    "\n",
    "- We did PCA on the M1 and PMd neurons separately and together\n",
    "- Let's take the first PC and correlate that with the combined PC\n",
    "- How similar of a dimension do you find when performing dimensionality reduction on these firing rates when taken alone vs. when taking them together?\n",
    "\n",
    "> **Global manifold** PMd + M1 together\n",
    "\n",
    "> **Self manifold** PMd or M1\n",
    "\n",
    "ASK"
   ]
  },
  {
   "cell_type": "code",
   "execution_count": 38,
   "metadata": {},
   "outputs": [
    {
     "name": "stdout",
     "output_type": "stream",
     "text": [
      "(143,)\n"
     ]
    }
   ],
   "source": [
    "# of the form n_components x n_features, take the first row\n",
    "\n",
    "first_pc_m1pmd = model_m1pmd.components_[0, : ]\n",
    "\n",
    "print(first_pc_m1pmd.shape)\n",
    "\n",
    "first_pc_m1 = model_m1.components_[0, : ]\n",
    "\n",
    "first_pc_pmd = model_pmd.components_[0, : ]"
   ]
  },
  {
   "cell_type": "code",
   "execution_count": 39,
   "metadata": {},
   "outputs": [
    {
     "data": {
      "text/plain": [
       "(143, 143)"
      ]
     },
     "execution_count": 39,
     "metadata": {},
     "output_type": "execute_result"
    }
   ],
   "source": [
    "model_m1pmd.components_.shape # how can I correlate arrays of a different shape??"
   ]
  },
  {
   "cell_type": "code",
   "execution_count": 40,
   "metadata": {},
   "outputs": [
    {
     "data": {
      "text/plain": [
       "(44, 44)"
      ]
     },
     "execution_count": 40,
     "metadata": {},
     "output_type": "execute_result"
    }
   ],
   "source": [
    "model_m1.components_.shape"
   ]
  },
  {
   "cell_type": "code",
   "execution_count": 41,
   "metadata": {},
   "outputs": [
    {
     "data": {
      "text/plain": [
       "(99, 99)"
      ]
     },
     "execution_count": 41,
     "metadata": {},
     "output_type": "execute_result"
    }
   ],
   "source": [
    "model_pmd.components_.shape"
   ]
  },
  {
   "cell_type": "markdown",
   "metadata": {},
   "source": [
    "## 3. Robust Principal Component analysis\n",
    "\n",
    "- PCA is sensitive to outliers and corrupted data\n",
    "- Robust PCA (RPCA) wants to decompose a data matrix $X$ into a structured low-rank matrix $L$ and a sparse matrix $S$ that contains the outliers and corrupted data\n",
    "\\begin{align}\n",
    "    X = L + S\n",
    "\\end{align}\n",
    "- The principal components $L$ are robust to the outliers and corrupted data in $S$\n",
    "- Goal is to find $L, S$ that satisfy the following minimisation function\n",
    "\\begin{align}\n",
    "    \\underset{L, S}{\\text{min}} \\| L \\|_* + \\lambda \\| S \\|_1 \n",
    "\\end{align}\n",
    "subject to $L+S=X$.\n",
    "Here we use $\\| . \\|_*$ to denote the nuclear norm (a proxy for rank).\n",
    "\n",
    "Can be solved with the augmented Lagrangian multiplier (ALM) algorithm.\n",
    "\n",
    "---\n",
    "\n",
    "Steve Brunton (2021) Data-Driven Science and Engineering: Machine Learning, Dynamical Systems, and Control - Chapter 3\n",
    "\n"
   ]
  },
  {
   "cell_type": "code",
   "execution_count": 42,
   "metadata": {},
   "outputs": [
    {
     "data": {
      "text/plain": [
       "False"
      ]
     },
     "execution_count": 42,
     "metadata": {},
     "output_type": "execute_result"
    }
   ],
   "source": [
    "'''\n",
    "Check if matrix is sparse (will it converge)\n",
    "'''\n",
    "\n",
    "scipy.sparse.issparse(rates_m1pmd)"
   ]
  },
  {
   "cell_type": "code",
   "execution_count": 43,
   "metadata": {},
   "outputs": [],
   "source": [
    "# ASK: RPCA relevance\n",
    "\n",
    "def shrink(X,tau):\n",
    "    ''' Shrinkage operator '''\n",
    "    Y = np.abs(X)-tau\n",
    "    return np.sign(X) * np.maximum(Y,np.zeros_like(Y))\n",
    "\n",
    "def SVT(X,tau):\n",
    "    ''' Singular value operator '''\n",
    "    U,S,VT = np.linalg.svd(X, full_matrices=0)\n",
    "    out = U @ np.diag(shrink(S,tau)) @ VT\n",
    "    return out\n",
    "\n",
    "def RPCA(X):\n",
    "    ''' \n",
    "    RPCA uses the shrinkage operator and SVT operator iteratively to solve for L and S \n",
    "    \n",
    "    Parameters\n",
    "    ----------\n",
    "    X: Data to be reduced\n",
    "    \n",
    "    Returns\n",
    "    -------\n",
    "    L: Structured low-rank matrix\n",
    "    \n",
    "    S: Sparse matrix containing outliers and corrupt data\n",
    "    '''\n",
    "    \n",
    "    n1,n2 = X.shape\n",
    "    mu = n1*n2/(4*np.sum(np.abs(X.reshape(-1))))\n",
    "    lambd = 1/np.sqrt(np.maximum(n1,n2))\n",
    "    thresh = 10**(-7) * np.linalg.norm(X)\n",
    "    \n",
    "    S = np.zeros_like(X)\n",
    "    Y = np.zeros_like(X)\n",
    "    L = np.zeros_like(X)\n",
    "    count = 0\n",
    "    while (np.linalg.norm(X-L-S) > thresh) and (count < 15):\n",
    "        print(f'iter {count}')\n",
    "        L = SVT(X-S+(1/mu)*Y,1/mu)\n",
    "        S = shrink(X-L+(1/mu)*Y,lambd/mu)\n",
    "        Y = Y + mu*(X-L-S)\n",
    "        count += 1\n",
    "    return L,S"
   ]
  },
  {
   "cell_type": "code",
   "execution_count": 44,
   "metadata": {},
   "outputs": [
    {
     "name": "stdout",
     "output_type": "stream",
     "text": [
      "iter 0\n",
      "iter 1\n",
      "iter 2\n",
      "iter 3\n",
      "iter 4\n",
      "iter 5\n",
      "iter 6\n",
      "iter 7\n",
      "iter 8\n",
      "iter 9\n",
      "iter 10\n",
      "iter 11\n",
      "iter 12\n",
      "iter 13\n",
      "iter 14\n"
     ]
    }
   ],
   "source": [
    "X = rates_m1pmd\n",
    "L,S = RPCA(X)"
   ]
  },
  {
   "cell_type": "code",
   "execution_count": 45,
   "metadata": {},
   "outputs": [
    {
     "data": {
      "text/plain": [
       "array([[10.37214832, 15.77392041, 12.35326224, ...,  0.89355386,\n",
       "         7.74276044,  2.6298761 ],\n",
       "       [14.03766643, 21.78004895, 17.89537633, ...,  2.62991936,\n",
       "         7.74309068,  6.29517229],\n",
       "       [16.66684262, 24.40947212, 22.11085917, ...,  5.40203983,\n",
       "         6.31646795, 10.37211312],\n",
       "       ...,\n",
       "       [ 1.34185791, 16.66639526, 15.77253866, ..., 11.62373552,\n",
       "         5.4018853 , 20.40461428],\n",
       "       [ 1.07220727, 14.03721825, 14.03622026, ..., 13.20817927,\n",
       "         7.74232101, 17.75521063],\n",
       "       [ 0.50186865, 10.37173725, 10.37111261, ..., 11.49746815,\n",
       "         7.7423768 , 14.40670905]])"
      ]
     },
     "execution_count": 45,
     "metadata": {},
     "output_type": "execute_result"
    }
   ],
   "source": [
    "L"
   ]
  },
  {
   "cell_type": "code",
   "execution_count": 46,
   "metadata": {},
   "outputs": [
    {
     "data": {
      "text/plain": [
       "array([[ 0.00000000e+00,  0.00000000e+00,  0.00000000e+00, ...,\n",
       "        -0.00000000e+00, -0.00000000e+00, -0.00000000e+00],\n",
       "       [ 0.00000000e+00,  0.00000000e+00,  1.15882296e-01, ...,\n",
       "        -0.00000000e+00, -0.00000000e+00, -0.00000000e+00],\n",
       "       [ 0.00000000e+00,  0.00000000e+00,  5.35362832e-01, ...,\n",
       "        -0.00000000e+00, -9.14649163e-01, -0.00000000e+00],\n",
       "       ...,\n",
       "       [-1.34185791e+00,  0.00000000e+00,  9.76165908e-05, ...,\n",
       "         1.52066903e+00, -0.00000000e+00,  2.35991827e-01],\n",
       "       [-1.07220727e+00,  0.00000000e+00,  0.00000000e+00, ...,\n",
       "         2.27699225e+00, -0.00000000e+00,  0.00000000e+00],\n",
       "       [-5.01868653e-01,  0.00000000e+00,  0.00000000e+00, ...,\n",
       "         1.64693639e+00, -0.00000000e+00,  0.00000000e+00]])"
      ]
     },
     "execution_count": 46,
     "metadata": {},
     "output_type": "execute_result"
    }
   ],
   "source": [
    "S"
   ]
  },
  {
   "cell_type": "code",
   "execution_count": 47,
   "metadata": {},
   "outputs": [
    {
     "data": {
      "text/plain": [
       "<matplotlib.image.AxesImage at 0x168bd66d0>"
      ]
     },
     "execution_count": 47,
     "metadata": {},
     "output_type": "execute_result"
    },
    {
     "data": {
      "image/png": "[encoded data removed]",
      "text/plain": [
       "<Figure size 432x288 with 1 Axes>"
      ]
     },
     "metadata": {
      "needs_background": "light"
     },
     "output_type": "display_data"
    }
   ],
   "source": [
    "plt.spy(S)"
   ]
  },
  {
   "cell_type": "markdown",
   "metadata": {},
   "source": [
    "## 4 Compare PCAs Spatially\n",
    "\n",
    "- Is there a relationship between similarity in spiking patterns and spatial distance? This is a good dataset to investigate that because we have data from M1 and PMd.\n",
    "- How different is the weight found on the first PC for various distances?\n",
    "- There are 3 types of distance to consider:\n",
    "    - 1. On one electrode we have $n$ neurons. How similar are the neurons on the same electrode?\n",
    "    - 2. Compare the neurons on different electorodes, but on the same array [within array PMd and M1]\n",
    "    - 3. Compare the neurons on different electrodes and different arrays [M1 -> PMd, PMd -> M1]\n",
    "- Prediction: inverse relationship between distance and similarity"
   ]
  },
  {
   "cell_type": "code",
   "execution_count": 48,
   "metadata": {},
   "outputs": [
    {
     "data": {
      "text/plain": [
       "0      [[5, 1], [5, 2], [9, 1], [9, 2], [13, 1], [13,...\n",
       "1      [[5, 1], [5, 2], [9, 1], [9, 2], [13, 1], [13,...\n",
       "2      [[5, 1], [5, 2], [9, 1], [9, 2], [13, 1], [13,...\n",
       "3      [[5, 1], [5, 2], [9, 1], [9, 2], [13, 1], [13,...\n",
       "4      [[5, 1], [5, 2], [9, 1], [9, 2], [13, 1], [13,...\n",
       "                             ...                        \n",
       "769    [[5, 1], [5, 2], [9, 1], [9, 2], [13, 1], [13,...\n",
       "770    [[5, 1], [5, 2], [9, 1], [9, 2], [13, 1], [13,...\n",
       "771    [[5, 1], [5, 2], [9, 1], [9, 2], [13, 1], [13,...\n",
       "772    [[5, 1], [5, 2], [9, 1], [9, 2], [13, 1], [13,...\n",
       "773    [[5, 1], [5, 2], [9, 1], [9, 2], [13, 1], [13,...\n",
       "Name: M1_unit_guide, Length: 774, dtype: object"
      ]
     },
     "execution_count": 48,
     "metadata": {},
     "output_type": "execute_result"
    }
   ],
   "source": [
    "'''\n",
    "The unit guides specify how many cells each electrode measures (I think, ASK)\n",
    "\n",
    "[Electrode number, # cells that electrode covers]\n",
    "'''\n",
    "\n",
    "td['M1_unit_guide'] "
   ]
  },
  {
   "cell_type": "code",
   "execution_count": 49,
   "metadata": {},
   "outputs": [
    {
     "data": {
      "text/plain": [
       "774"
      ]
     },
     "execution_count": 49,
     "metadata": {},
     "output_type": "execute_result"
    }
   ],
   "source": [
    "td['PMd_unit_guide'].shape[0]"
   ]
  },
  {
   "cell_type": "code",
   "execution_count": 50,
   "metadata": {},
   "outputs": [],
   "source": [
    "num_cells_elec_m1 = []\n",
    "num_cells_elec_pmd = []\n",
    "\n",
    "for i in range(td['M1_unit_guide'].shape[0]):\n",
    "    num_cells_elec_m1.append(td['M1_unit_guide'][i][:, 1])\n",
    "    num_cells_elec_pmd.append(td['PMd_unit_guide'][i][:, 1])\n",
    "    \n",
    "num_cells_elec_m1 = np.concatenate(num_cells_elec_m1, axis=0)\n",
    "num_cells_elec_pmd = np.concatenate(num_cells_elec_pmd, axis=0)"
   ]
  },
  {
   "cell_type": "code",
   "execution_count": 51,
   "metadata": {},
   "outputs": [
    {
     "data": {
      "image/png": "[encoded data removed]",
      "text/plain": [
       "<Figure size 800x400 with 1 Axes>"
      ]
     },
     "metadata": {
      "needs_background": "light"
     },
     "output_type": "display_data"
    }
   ],
   "source": [
    "fig, ax = plt.subplots(1, figsize=(10,5), dpi=80)\n",
    "fig.suptitle('', fontsize=14)\n",
    "sns.histplot(data=num_cells_elec_pmd, ax=ax, discrete=True, label='PMd')\n",
    "sns.histplot(data=num_cells_elec_m1, ax=ax, discrete=True, label='M1', color=csbr[5])\n",
    "ax.set_xlabel('number of neurons', fontsize=13)\n",
    "ax.set_ylabel('Count', fontsize=13)\n",
    "ax.legend();"
   ]
  },
  {
   "cell_type": "code",
   "execution_count": 52,
   "metadata": {},
   "outputs": [
    {
     "data": {
      "text/plain": [
       "95"
      ]
     },
     "execution_count": 52,
     "metadata": {},
     "output_type": "execute_result"
    }
   ],
   "source": [
    "td['M1_unit_guide'][0].max() # this should be the electrode number"
   ]
  },
  {
   "cell_type": "code",
   "execution_count": 53,
   "metadata": {},
   "outputs": [
    {
     "data": {
      "text/plain": [
       "(44, 2)"
      ]
     },
     "execution_count": 53,
     "metadata": {},
     "output_type": "execute_result"
    }
   ],
   "source": [
    "td['M1_unit_guide'][0].shape"
   ]
  },
  {
   "cell_type": "code",
   "execution_count": 54,
   "metadata": {},
   "outputs": [
    {
     "data": {
      "text/plain": [
       "(99, 2)"
      ]
     },
     "execution_count": 54,
     "metadata": {},
     "output_type": "execute_result"
    }
   ],
   "source": [
    "td['PMd_unit_guide'][0].shape"
   ]
  },
  {
   "cell_type": "code",
   "execution_count": 55,
   "metadata": {},
   "outputs": [],
   "source": [
    "#td['M1_unit_guide'][0] # ASK - L: electrode number & R: number of neurons"
   ]
  },
  {
   "cell_type": "code",
   "execution_count": null,
   "metadata": {},
   "outputs": [],
   "source": []
  },
  {
   "cell_type": "code",
   "execution_count": 56,
   "metadata": {},
   "outputs": [
    {
     "ename": "TypeError",
     "evalue": "where() missing 1 required positional argument: 'condition'",
     "output_type": "error",
     "traceback": [
      "\u001b[0;31m---------------------------------------------------------------------------\u001b[0m",
      "\u001b[0;31mTypeError\u001b[0m                                 Traceback (most recent call last)",
      "\u001b[0;32m<ipython-input-56-24658ca3225d>\u001b[0m in \u001b[0;36m<module>\u001b[0;34m\u001b[0m\n\u001b[1;32m     11\u001b[0m \u001b[0;32mfor\u001b[0m \u001b[0mi\u001b[0m \u001b[0;32min\u001b[0m \u001b[0mrange\u001b[0m\u001b[0;34m(\u001b[0m\u001b[0mlen\u001b[0m\u001b[0;34m(\u001b[0m\u001b[0melecs\u001b[0m\u001b[0;34m)\u001b[0m\u001b[0;34m)\u001b[0m\u001b[0;34m:\u001b[0m\u001b[0;34m\u001b[0m\u001b[0;34m\u001b[0m\u001b[0m\n\u001b[1;32m     12\u001b[0m     \u001b[0;31m# m1\u001b[0m\u001b[0;34m\u001b[0m\u001b[0;34m\u001b[0m\u001b[0;34m\u001b[0m\u001b[0m\n\u001b[0;32m---> 13\u001b[0;31m     \u001b[0mm1_units\u001b[0m\u001b[0;34m[\u001b[0m\u001b[0mi\u001b[0m\u001b[0;34m]\u001b[0m \u001b[0;34m=\u001b[0m \u001b[0mnp\u001b[0m\u001b[0;34m.\u001b[0m\u001b[0mwhere\u001b[0m\u001b[0;34m(\u001b[0m\u001b[0;34m)\u001b[0m \u001b[0;31m# store indices that belong to a certain electrode\u001b[0m\u001b[0;34m\u001b[0m\u001b[0;34m\u001b[0m\u001b[0m\n\u001b[0m\u001b[1;32m     14\u001b[0m     \u001b[0;31m# pmd\u001b[0m\u001b[0;34m\u001b[0m\u001b[0;34m\u001b[0m\u001b[0;34m\u001b[0m\u001b[0m\n\u001b[1;32m     15\u001b[0m \u001b[0;34m\u001b[0m\u001b[0m\n",
      "\u001b[0;32m<__array_function__ internals>\u001b[0m in \u001b[0;36mwhere\u001b[0;34m(*args, **kwargs)\u001b[0m\n",
      "\u001b[0;31mTypeError\u001b[0m: where() missing 1 required positional argument: 'condition'"
     ]
    }
   ],
   "source": [
    "'''\n",
    "Find out which cell belongs to which electrode\n",
    "'''\n",
    "\n",
    "elecs = np.arange(0, 95)\n",
    "\n",
    "# make arrays to store cells in elecs\n",
    "m1_units = np.zeros(len(elecs))\n",
    "pmd_units = np.zeros(len(elecs))\n",
    "\n",
    "for i in range(len(elecs)):\n",
    "    # m1\n",
    "    m1_units[i] = np.where() # store indices that belong to a certain electrode\n",
    "    # pmd\n",
    "    "
   ]
  },
  {
   "cell_type": "code",
   "execution_count": null,
   "metadata": {},
   "outputs": [],
   "source": [
    "td['M1_unit_guide'][0][:, 0]"
   ]
  },
  {
   "cell_type": "code",
   "execution_count": null,
   "metadata": {},
   "outputs": [],
   "source": [
    "np.where()"
   ]
  },
  {
   "cell_type": "code",
   "execution_count": 58,
   "metadata": {},
   "outputs": [],
   "source": [
    "'''\n",
    "Read the cmp file\n",
    "'''\n",
    "\n",
    "cmp_path = '/Users/Daphne/Desktop'\n",
    "filename = '/Chewie Left M1 SN 6250-001474.cmp'\n",
    "\n",
    "# Open the file as f.\n",
    "# The function readlines() reads the file.\n",
    "with open(cmpfilename) as f:\n",
    "    content = f.readlines()"
   ]
  },
  {
   "cell_type": "code",
   "execution_count": 59,
   "metadata": {},
   "outputs": [
    {
     "data": {
      "text/plain": [
       "['// Auto generated mapfile\\t\\t\\t\\t\\t\\n',\n",
       " '//\\t\\t\\t\\t\\t\\n',\n",
       " '//   legend\\t\\t\\t\\t\\t\\n',\n",
       " '//   col - 0 based column from left to right\\t\\t\\t\\t\\t\\n',\n",
       " '//   row - 0 based row from bottom to top\\t\\t\\t\\t\\t\\n',\n",
       " '//   bank - bank name - values can be A B C or D\\t\\t\\t\\t\\t\\n',\n",
       " '//   elec - 1 based electrode number within the bank - values can be 1-32\\t\\t\\t\\t\\t\\n',\n",
       " '//   label - label used to rename channels in Central (optional)\\t\\t\\t\\t\\t\\n',\n",
       " '//\\t\\t\\t\\t\\t\\n',\n",
       " '// Comments begin with //\\t\\t\\t\\t\\t\\n',\n",
       " '// First non-comment line is the Mapfile description\\t\\t\\t\\t\\t\\n',\n",
       " '//\\t\\t\\t\\t\\t\\n',\n",
       " 'Cerebus mapping for array 13965-21    SN: 6250-001474\\t\\t\\t\\t\\t\\n',\n",
       " '//col\\trow\\tbank\\telec\\tlabel\\t\\n',\n",
       " '0\\t8\\tC\\t1\\telec96\\t\\n',\n",
       " '0\\t7\\tC\\t3\\telec95\\t\\n',\n",
       " '0\\t6\\tC\\t5\\telec94\\t\\n',\n",
       " '0\\t5\\tC\\t7\\telec93\\t\\n',\n",
       " '0\\t4\\tC\\t9\\telec92\\t\\n',\n",
       " '0\\t3\\tC\\t11\\telec91\\t\\n',\n",
       " '0\\t2\\tC\\t13\\telec90\\t\\n',\n",
       " '0\\t1\\tC\\t15\\telec89\\t\\n',\n",
       " '1\\t9\\tA\\t2\\telec88\\t\\n',\n",
       " '1\\t8\\tC\\t2\\telec87\\t\\n',\n",
       " '1\\t7\\tC\\t4\\telec86\\t\\n',\n",
       " '1\\t6\\tC\\t6\\telec85\\t\\n',\n",
       " '1\\t5\\tC\\t8\\telec84\\t\\n',\n",
       " '1\\t4\\tC\\t10\\telec83\\t\\n',\n",
       " '1\\t3\\tC\\t12\\telec82\\t\\n',\n",
       " '1\\t2\\tC\\t14\\telec81\\t\\n',\n",
       " '1\\t1\\tC\\t16\\telec80\\t\\n',\n",
       " '1\\t0\\tC\\t17\\telec79\\t\\n',\n",
       " '2\\t9\\tA\\t1\\telec78\\t\\n',\n",
       " '2\\t8\\tB\\t1\\telec77\\t\\n',\n",
       " '2\\t7\\tB\\t3\\telec76\\t\\n',\n",
       " '2\\t6\\tB\\t5\\telec75\\t\\n',\n",
       " '2\\t5\\tB\\t7\\telec74\\t\\n',\n",
       " '2\\t4\\tB\\t9\\telec73\\t\\n',\n",
       " '2\\t3\\tB\\t13\\telec72\\t\\n',\n",
       " '2\\t2\\tC\\t18\\telec71\\t\\n',\n",
       " '2\\t1\\tC\\t20\\telec70\\t\\n',\n",
       " '2\\t0\\tC\\t19\\telec69\\t\\n',\n",
       " '3\\t9\\tA\\t3\\telec68\\t\\n',\n",
       " '3\\t8\\tB\\t2\\telec67\\t\\n',\n",
       " '3\\t7\\tB\\t4\\telec66\\t\\n',\n",
       " '3\\t6\\tB\\t6\\telec65\\t\\n',\n",
       " '3\\t5\\tB\\t8\\telec64\\t\\n',\n",
       " '3\\t4\\tB\\t11\\telec63\\t\\n',\n",
       " '3\\t3\\tB\\t15\\telec62\\t\\n',\n",
       " '3\\t2\\tB\\t17\\telec61\\t\\n',\n",
       " '3\\t1\\tC\\t22\\telec60\\t\\n',\n",
       " '3\\t0\\tC\\t21\\telec59\\t\\n',\n",
       " '4\\t9\\tA\\t4\\telec58\\t\\n',\n",
       " '4\\t8\\tA\\t7\\telec57\\t\\n',\n",
       " '4\\t7\\tA\\t5\\telec56\\t\\n',\n",
       " '4\\t6\\tB\\t16\\telec55\\t\\n',\n",
       " '4\\t5\\tB\\t10\\telec54\\t\\n',\n",
       " '4\\t4\\tB\\t12\\telec53\\t\\n',\n",
       " '4\\t3\\tB\\t19\\telec52\\t\\n',\n",
       " '4\\t2\\tB\\t21\\telec51\\t\\n',\n",
       " '4\\t1\\tC\\t23\\telec50\\t\\n',\n",
       " '4\\t0\\tC\\t24\\telec49\\t\\n',\n",
       " '5\\t9\\tA\\t6\\telec48\\t\\n',\n",
       " '5\\t8\\tA\\t9\\telec47\\t\\n',\n",
       " '5\\t7\\tA\\t17\\telec46\\t\\n',\n",
       " '5\\t6\\tA\\t15\\telec45\\t\\n',\n",
       " '5\\t5\\tB\\t18\\telec44\\t\\n',\n",
       " '5\\t4\\tB\\t14\\telec43\\t\\n',\n",
       " '5\\t3\\tB\\t24\\telec42\\t\\n',\n",
       " '5\\t2\\tB\\t23\\telec41\\t\\n',\n",
       " '5\\t1\\tC\\t25\\telec40\\t\\n',\n",
       " '5\\t0\\tC\\t26\\telec39\\t\\n',\n",
       " '6\\t9\\tA\\t8\\telec38\\t\\n',\n",
       " '6\\t8\\tA\\t11\\telec37\\t\\n',\n",
       " '6\\t7\\tA\\t13\\telec36\\t\\n',\n",
       " '6\\t6\\tA\\t19\\telec35\\t\\n',\n",
       " '6\\t5\\tB\\t22\\telec34\\t\\n',\n",
       " '6\\t4\\tB\\t20\\telec33\\t\\n',\n",
       " '6\\t3\\tB\\t26\\telec32\\t\\n',\n",
       " '6\\t2\\tB\\t25\\telec31\\t\\n',\n",
       " '6\\t1\\tC\\t27\\telec30\\t\\n',\n",
       " '6\\t0\\tC\\t28\\telec29\\t\\n',\n",
       " '7\\t9\\tA\\t10\\telec28\\t\\n',\n",
       " '7\\t8\\tA\\t12\\telec27\\t\\n',\n",
       " '7\\t7\\tA\\t23\\telec26\\t\\n',\n",
       " '7\\t6\\tA\\t25\\telec25\\t\\n',\n",
       " '7\\t5\\tA\\t21\\telec24\\t\\n',\n",
       " '7\\t4\\tB\\t30\\telec23\\t\\n',\n",
       " '7\\t3\\tB\\t28\\telec22\\t\\n',\n",
       " '7\\t2\\tB\\t27\\telec21\\t\\n',\n",
       " '7\\t1\\tC\\t30\\telec20\\t\\n',\n",
       " '7\\t0\\tC\\t29\\telec19\\t\\n',\n",
       " '8\\t9\\tA\\t14\\telec18\\t\\n',\n",
       " '8\\t8\\tA\\t16\\telec17\\t\\n',\n",
       " '8\\t7\\tA\\t20\\telec16\\t\\n',\n",
       " '8\\t6\\tA\\t27\\telec15\\t\\n',\n",
       " '8\\t5\\tA\\t29\\telec14\\t\\n',\n",
       " '8\\t4\\tA\\t31\\telec13\\t\\n',\n",
       " '8\\t3\\tB\\t32\\telec12\\t\\n',\n",
       " '8\\t2\\tB\\t29\\telec11\\t\\n',\n",
       " '8\\t1\\tB\\t31\\telec10\\t\\n',\n",
       " '8\\t0\\tC\\t32\\telec9\\t\\n',\n",
       " '9\\t8\\tA\\t18\\telec8\\t\\n',\n",
       " '9\\t7\\tA\\t22\\telec7\\t\\n',\n",
       " '9\\t6\\tA\\t24\\telec6\\t\\n',\n",
       " '9\\t5\\tA\\t26\\telec5\\t\\n',\n",
       " '9\\t4\\tA\\t28\\telec4\\t\\n',\n",
       " '9\\t3\\tA\\t30\\telec3\\t\\n',\n",
       " '9\\t2\\tA\\t32\\telec2\\t\\n',\n",
       " '9\\t1\\tC\\t31\\telec1\\t\\n',\n",
       " '\\t\\t\\t\\t\\t\\n',\n",
       " '\\t\\t\\t\\t\\t\\n']"
      ]
     },
     "execution_count": 59,
     "metadata": {},
     "output_type": "execute_result"
    }
   ],
   "source": [
    "contentb"
   ]
  },
  {
   "cell_type": "code",
   "execution_count": null,
   "metadata": {},
   "outputs": [],
   "source": [
    "'''\n",
    "\n",
    "'''"
   ]
  },
  {
   "cell_type": "markdown",
   "metadata": {},
   "source": [
    "# Notes"
   ]
  },
  {
   "cell_type": "markdown",
   "metadata": {},
   "source": [
    "### Singular Value Decomposition\n",
    "\n",
    "> $A = USV^T$\n",
    "\n",
    "- SVD separates any matrix $A$ into rank one pieces\n",
    "- SVD factors $A$ into $USV^T = u_1 \\sigma_1 v_1^T, \\dots , u_r \\sigma_r v_r^T$, with $r$ singular values that are ordered in terms of importance $\\sigma_1 \\geq \\dots \\geq \\sigma_r \\geq 0$\n",
    "- The numbers $\\sigma_1^2, \\dots , \\sigma_r^2$ are the nonzero eigenvalues of $AA^T$ and $A^TA$\n",
    "- The orthonormal columns of $U$ and $V$ are the eigenvectors of $AA^T$ and $A^TA$: they make an orthonormal basis for the four fundamental subspaces of $A$\n",
    "   - $Av_i = \\sigma_i u_i$\n",
    "- Only if $A$ is a positive (semi) definite symmetric matrix we have that $A = USV^T$ (the singular values) are the same as $X \\Lambda X^{-1}$ (the eigenvalues of $A$)\n",
    "\n",
    "### Principal Component Analysis\n",
    "\n",
    "> Finds low-dimensional manifolds with high data density\n",
    "\n",
    "> Provides insight into associations between variables and whether they can be considered functions of a smaller set of latent variables. PCA looks for linear combinations of variables that capture as much variance as possible, and which are mutually orthogonal\n",
    "\n",
    "- PCA is an application of SVD\n",
    "- Here, we have a data matrix $A$ of $m$ *measurements* (the neurons from which is recorded) and $n$ *samples* (timepoints) [e.g. 143 neurons x 100575 timepoints]\n",
    "- **Goal**: reduce the dimensionality of $A$ from $m$ numerical variables to $r < m$ while preserving as much information as possible\n",
    "- Center each row of $A$ by subtracting the mean from each measurement\n",
    "- The SVD finds combinations of the data that contains the most information\n",
    "- The singular values and singular vectors of $A$ come from the eigenvalues $\\lambda = \\sigma^2$ and the eigenvectors $u$ of the sample covariance matrix $S = AA^T/(n-1)$ \n",
    "- The total variance (T) in the data is the sum of all the eigenvalues and sample variances $s^2$\n",
    "\\begin{align}\n",
    "    T = \\sigma_1^2 + \\dots + \\sigma_m^2 = s_1^2 + \\dots + s_m^2 = \\text{trace}\n",
    "\\end{align}\n",
    "- The first eigenvector $u_1$ of $S$ points in the most significant direction of the data. That direction explains most of the variance in the data: it explains a fraction of $\\sigma_1^2 / T$ of the total variance.\n",
    "- The next eigenvector $u_2$ (which is orthogonal to $u_1$) explains a smaller fraction of the variance $\\sigma_2^2 / T$\n",
    "- The idea is to stop when these fractions get really small, we now have $R$ directions that explain most of the data. The $n$ data points are close to an $R$-dimensional subspace with basis $u_1$ to $u_R$. These $u$'s are the **principal components** in $m$-dimensional space.  \n",
    "\n",
    "--- \n",
    "\n",
    "Gilbert Strang (2016): Chapter 7 [SVD] \n",
    "\n"
   ]
  },
  {
   "cell_type": "markdown",
   "metadata": {},
   "source": [
    "### Sparse Principal Component Analysis\n",
    "\n",
    "> More interpretability\n",
    "\n",
    "- PCA necessarily leads to nonzero loadings on all variables\n",
    "- Benefits of a sparse variant:\n",
    "    - Interpretation is simpler\n",
    "    - Computationally it can be more convenient, especially for large problems\n",
    "    \n",
    "TODO"
   ]
  },
  {
   "cell_type": "code",
   "execution_count": null,
   "metadata": {},
   "outputs": [],
   "source": []
  },
  {
   "cell_type": "code",
   "execution_count": null,
   "metadata": {},
   "outputs": [],
   "source": []
  },
  {
   "cell_type": "markdown",
   "metadata": {},
   "source": [
    "TODO\n",
    "\n",
    "- Look at the weights\n",
    "- Look at the median\n",
    "- Look at the quantiles\n",
    "- Sparse PCA\n",
    "- RPCA"
   ]
  },
  {
   "cell_type": "code",
   "execution_count": null,
   "metadata": {},
   "outputs": [],
   "source": []
  }
 ],
 "metadata": {
  "kernelspec": {
   "display_name": "uni",
   "language": "python",
   "name": "uni"
  },
  "language_info": {
   "codemirror_mode": {
    "name": "ipython",
    "version": 3
   },
   "file_extension": ".py",
   "mimetype": "text/x-python",
   "name": "python",
   "nbconvert_exporter": "python",
   "pygments_lexer": "ipython3",
   "version": "3.7.4"
  }
 },
 "nbformat": 4,
 "nbformat_minor": 4
}
