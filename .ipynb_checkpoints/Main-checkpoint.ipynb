{
 "cells": [
  {
   "cell_type": "markdown",
   "metadata": {},
   "source": [
    "# Main"
   ]
  },
  {
   "cell_type": "code",
   "execution_count": 40,
   "metadata": {},
   "outputs": [
    {
     "data": {
      "text/html": [
       "<style>.container { width:95% !important; }</style>"
      ],
      "text/plain": [
       "<IPython.core.display.HTML object>"
      ]
     },
     "metadata": {},
     "output_type": "display_data"
    }
   ],
   "source": [
    "'''\n",
    "Dependencies\n",
    "'''\n",
    "import scipy.io as sio\n",
    "import matplotlib.pyplot as plt\n",
    "import matplotlib as mpl\n",
    "import numpy as np\n",
    "import scipy\n",
    "import pandas as pd\n",
    "import scipy.stats as stats\n",
    "import scipy.sparse as sparse\n",
    "import copy\n",
    "import time\n",
    "import warnings \n",
    "from scipy import integrate\n",
    "import seaborn as sns\n",
    "warnings.simplefilter('ignore')\n",
    "from sklearn.decomposition import PCA\n",
    "import scipy.io as sio\n",
    "import os\n",
    "from tqdm.auto import tqdm\n",
    "from IPython.core.display import display, HTML\n",
    "display(HTML(\"<style>.container { width:95% !important; }</style>\"))\n",
    "\n",
    "sns.set_style('white')\n",
    "# to change default color cycle\n",
    "color_scheme = ['#616F85', '#C2BAA3', '#F5E6CE', '#DD9D7C', '#C9445F']\n",
    "color_scheme_bluered = ['#074B6A', '#0A82A4', '#C0E995', '#F3EE7E', '#E64248']\n",
    "plt.rcParams['axes.prop_cycle'] = plt.cycler(color=color_scheme_bluered)\n",
    "\n",
    "import pyaldata as pld # using functions from PyalData\n",
    "import tools # matlab2python functions"
   ]
  },
  {
   "cell_type": "markdown",
   "metadata": {},
   "source": [
    "## 0.  Load data and convert to pandas dataframe\n",
    "\n",
    "The original data are in the form of `.mat` files. Pandas makes it very easy to work with the data. The entire dataset is a set of sessions $S$ of $T$ trials and each trial has $F$ features. The dataset is of the form\n",
    "\\begin{align}\n",
    "    S \\times T \\times F\n",
    "\\end{align}\n",
    "\n",
    "We will do the analysis for one session to begin with, yielding a $T \\times F$ matrix."
   ]
  },
  {
   "cell_type": "code",
   "execution_count": 45,
   "metadata": {},
   "outputs": [],
   "source": [
    "'''\n",
    "Insert path and filename \n",
    "'''\n",
    "path = '/Users/Daphne/Data/'  \n",
    "fname = 'Chewie_CO_VR_2016-10-06.mat' \n",
    "df = pld.mat2dataframe(path+fname, shift_idx_fields=True)"
   ]
  },
  {
   "cell_type": "code",
   "execution_count": 46,
   "metadata": {
    "scrolled": true
   },
   "outputs": [
    {
     "data": {
      "text/plain": [
       "(774, 24)"
      ]
     },
     "execution_count": 46,
     "metadata": {},
     "output_type": "execute_result"
    }
   ],
   "source": [
    "df.shape # T x F"
   ]
  },
  {
   "cell_type": "code",
   "execution_count": 47,
   "metadata": {
    "scrolled": false
   },
   "outputs": [
    {
     "data": {
      "text/html": [
       "<div>\n",
       "<style scoped>\n",
       "    .dataframe tbody tr th:only-of-type {\n",
       "        vertical-align: middle;\n",
       "    }\n",
       "\n",
       "    .dataframe tbody tr th {\n",
       "        vertical-align: top;\n",
       "    }\n",
       "\n",
       "    .dataframe thead th {\n",
       "        text-align: right;\n",
       "    }\n",
       "</style>\n",
       "<table border=\"1\" class=\"dataframe\">\n",
       "  <thead>\n",
       "    <tr style=\"text-align: right;\">\n",
       "      <th></th>\n",
       "      <th>monkey</th>\n",
       "      <th>date</th>\n",
       "      <th>task</th>\n",
       "      <th>target_direction</th>\n",
       "      <th>trial_id</th>\n",
       "      <th>result</th>\n",
       "      <th>bin_size</th>\n",
       "      <th>perturbation</th>\n",
       "      <th>perturbation_info</th>\n",
       "      <th>epoch</th>\n",
       "      <th>...</th>\n",
       "      <th>idx_peak_speed</th>\n",
       "      <th>idx_trial_end</th>\n",
       "      <th>pos</th>\n",
       "      <th>vel</th>\n",
       "      <th>acc</th>\n",
       "      <th>force</th>\n",
       "      <th>M1_spikes</th>\n",
       "      <th>M1_unit_guide</th>\n",
       "      <th>PMd_spikes</th>\n",
       "      <th>PMd_unit_guide</th>\n",
       "    </tr>\n",
       "  </thead>\n",
       "  <tbody>\n",
       "    <tr>\n",
       "      <td>0</td>\n",
       "      <td>Chewie</td>\n",
       "      <td>10-06-2016</td>\n",
       "      <td>CO</td>\n",
       "      <td>-2.356194</td>\n",
       "      <td>1</td>\n",
       "      <td>R</td>\n",
       "      <td>0.01</td>\n",
       "      <td>VR</td>\n",
       "      <td>-0.52</td>\n",
       "      <td>BL</td>\n",
       "      <td>...</td>\n",
       "      <td>363</td>\n",
       "      <td>436</td>\n",
       "      <td>[[-5.399950889827338, -25.11058978269873], [-5...</td>\n",
       "      <td>[[4.615264447089089, -3.6781866137904946], [4....</td>\n",
       "      <td>[[34.913180411358354, -17.92603186704403], [13...</td>\n",
       "      <td>[[0.3854857746577438, -0.18448026169727955], [...</td>\n",
       "      <td>[[0, 1, 0, 0, 0, 1, 0, 1, 0, 0, 0, 1, 1, 0, 0,...</td>\n",
       "      <td>[[5, 1], [5, 2], [5, 3], [5, 4], [9, 1], [9, 2...</td>\n",
       "      <td>[[0, 0, 0, 0, 0, 0, 0, 0, 0, 0, 0, 0, 0, 0, 0,...</td>\n",
       "      <td>[[1, 1], [1, 2], [2, 1], [2, 2], [3, 1], [3, 2...</td>\n",
       "    </tr>\n",
       "    <tr>\n",
       "      <td>1</td>\n",
       "      <td>Chewie</td>\n",
       "      <td>10-06-2016</td>\n",
       "      <td>CO</td>\n",
       "      <td>1.570796</td>\n",
       "      <td>2</td>\n",
       "      <td>R</td>\n",
       "      <td>0.01</td>\n",
       "      <td>VR</td>\n",
       "      <td>-0.52</td>\n",
       "      <td>BL</td>\n",
       "      <td>...</td>\n",
       "      <td>356</td>\n",
       "      <td>447</td>\n",
       "      <td>[[-5.194667657852522, -35.190944353130526], [-...</td>\n",
       "      <td>[[2.3921738136280783, 2.833707639241631], [2.7...</td>\n",
       "      <td>[[31.99226756476989, 80.42711312188004], [34.1...</td>\n",
       "      <td>[[0.1778157378731141, 0.12542049016429982], [0...</td>\n",
       "      <td>[[0, 1, 0, 0, 0, 0, 0, 0, 0, 1, 0, 0, 0, 1, 0,...</td>\n",
       "      <td>[[5, 1], [5, 2], [5, 3], [5, 4], [9, 1], [9, 2...</td>\n",
       "      <td>[[0, 0, 0, 0, 0, 0, 0, 0, 0, 0, 0, 0, 0, 0, 0,...</td>\n",
       "      <td>[[1, 1], [1, 2], [2, 1], [2, 2], [3, 1], [3, 2...</td>\n",
       "    </tr>\n",
       "    <tr>\n",
       "      <td>2</td>\n",
       "      <td>Chewie</td>\n",
       "      <td>10-06-2016</td>\n",
       "      <td>CO</td>\n",
       "      <td>0.785398</td>\n",
       "      <td>3</td>\n",
       "      <td>R</td>\n",
       "      <td>0.01</td>\n",
       "      <td>VR</td>\n",
       "      <td>-0.52</td>\n",
       "      <td>BL</td>\n",
       "      <td>...</td>\n",
       "      <td>414</td>\n",
       "      <td>483</td>\n",
       "      <td>[[0.35267826312911055, -22.923278550949004], [...</td>\n",
       "      <td>[[0.5017102009485903, -3.146994710197926], [0....</td>\n",
       "      <td>[[-7.180978950112355, -35.21789901845524], [3....</td>\n",
       "      <td>[[0.2833417683274762, -0.1285513884878812], [0...</td>\n",
       "      <td>[[0, 0, 0, 0, 1, 0, 0, 0, 0, 1, 0, 0, 0, 0, 0,...</td>\n",
       "      <td>[[5, 1], [5, 2], [5, 3], [5, 4], [9, 1], [9, 2...</td>\n",
       "      <td>[[0, 2, 0, 0, 0, 0, 0, 0, 0, 0, 0, 0, 0, 0, 0,...</td>\n",
       "      <td>[[1, 1], [1, 2], [2, 1], [2, 2], [3, 1], [3, 2...</td>\n",
       "    </tr>\n",
       "    <tr>\n",
       "      <td>3</td>\n",
       "      <td>Chewie</td>\n",
       "      <td>10-06-2016</td>\n",
       "      <td>CO</td>\n",
       "      <td>3.141593</td>\n",
       "      <td>4</td>\n",
       "      <td>R</td>\n",
       "      <td>0.01</td>\n",
       "      <td>VR</td>\n",
       "      <td>-0.52</td>\n",
       "      <td>BL</td>\n",
       "      <td>...</td>\n",
       "      <td>397</td>\n",
       "      <td>458</td>\n",
       "      <td>[[5.072834875801728, -24.89410841851521], [5.0...</td>\n",
       "      <td>[[-1.3275097541588876, -3.5308863978243985], [...</td>\n",
       "      <td>[[-6.932033881542791, 0.17982626642873387], [-...</td>\n",
       "      <td>[[0.08675043530985374, 0.03658922221440793], [...</td>\n",
       "      <td>[[0, 1, 0, 0, 0, 0, 0, 0, 0, 0, 0, 0, 0, 0, 0,...</td>\n",
       "      <td>[[5, 1], [5, 2], [5, 3], [5, 4], [9, 1], [9, 2...</td>\n",
       "      <td>[[0, 0, 0, 0, 0, 0, 0, 0, 0, 0, 0, 0, 0, 0, 0,...</td>\n",
       "      <td>[[1, 1], [1, 2], [2, 1], [2, 2], [3, 1], [3, 2...</td>\n",
       "    </tr>\n",
       "    <tr>\n",
       "      <td>4</td>\n",
       "      <td>Chewie</td>\n",
       "      <td>10-06-2016</td>\n",
       "      <td>CO</td>\n",
       "      <td>-1.570796</td>\n",
       "      <td>5</td>\n",
       "      <td>R</td>\n",
       "      <td>0.01</td>\n",
       "      <td>VR</td>\n",
       "      <td>-0.52</td>\n",
       "      <td>BL</td>\n",
       "      <td>...</td>\n",
       "      <td>301</td>\n",
       "      <td>362</td>\n",
       "      <td>[[-8.194254800472459, -30.26359832666607], [-8...</td>\n",
       "      <td>[[1.8501123719868446, 0.8394848146862552], [2....</td>\n",
       "      <td>[[48.123169514922175, -9.081942493745938], [58...</td>\n",
       "      <td>[[0.2054977133197953, -0.12485484173352068], [...</td>\n",
       "      <td>[[0, 0, 0, 0, 1, 1, 0, 0, 1, 1, 0, 0, 1, 0, 0,...</td>\n",
       "      <td>[[5, 1], [5, 2], [5, 3], [5, 4], [9, 1], [9, 2...</td>\n",
       "      <td>[[1, 1, 0, 0, 0, 0, 0, 0, 0, 0, 0, 0, 0, 0, 0,...</td>\n",
       "      <td>[[1, 1], [1, 2], [2, 1], [2, 2], [3, 1], [3, 2...</td>\n",
       "    </tr>\n",
       "  </tbody>\n",
       "</table>\n",
       "<p>5 rows × 24 columns</p>\n",
       "</div>"
      ],
      "text/plain": [
       "   monkey        date task  target_direction  trial_id result  bin_size  \\\n",
       "0  Chewie  10-06-2016   CO         -2.356194         1      R      0.01   \n",
       "1  Chewie  10-06-2016   CO          1.570796         2      R      0.01   \n",
       "2  Chewie  10-06-2016   CO          0.785398         3      R      0.01   \n",
       "3  Chewie  10-06-2016   CO          3.141593         4      R      0.01   \n",
       "4  Chewie  10-06-2016   CO         -1.570796         5      R      0.01   \n",
       "\n",
       "  perturbation  perturbation_info epoch  ...  idx_peak_speed  idx_trial_end  \\\n",
       "0           VR              -0.52    BL  ...             363            436   \n",
       "1           VR              -0.52    BL  ...             356            447   \n",
       "2           VR              -0.52    BL  ...             414            483   \n",
       "3           VR              -0.52    BL  ...             397            458   \n",
       "4           VR              -0.52    BL  ...             301            362   \n",
       "\n",
       "                                                 pos  \\\n",
       "0  [[-5.399950889827338, -25.11058978269873], [-5...   \n",
       "1  [[-5.194667657852522, -35.190944353130526], [-...   \n",
       "2  [[0.35267826312911055, -22.923278550949004], [...   \n",
       "3  [[5.072834875801728, -24.89410841851521], [5.0...   \n",
       "4  [[-8.194254800472459, -30.26359832666607], [-8...   \n",
       "\n",
       "                                                 vel  \\\n",
       "0  [[4.615264447089089, -3.6781866137904946], [4....   \n",
       "1  [[2.3921738136280783, 2.833707639241631], [2.7...   \n",
       "2  [[0.5017102009485903, -3.146994710197926], [0....   \n",
       "3  [[-1.3275097541588876, -3.5308863978243985], [...   \n",
       "4  [[1.8501123719868446, 0.8394848146862552], [2....   \n",
       "\n",
       "                                                 acc  \\\n",
       "0  [[34.913180411358354, -17.92603186704403], [13...   \n",
       "1  [[31.99226756476989, 80.42711312188004], [34.1...   \n",
       "2  [[-7.180978950112355, -35.21789901845524], [3....   \n",
       "3  [[-6.932033881542791, 0.17982626642873387], [-...   \n",
       "4  [[48.123169514922175, -9.081942493745938], [58...   \n",
       "\n",
       "                                               force  \\\n",
       "0  [[0.3854857746577438, -0.18448026169727955], [...   \n",
       "1  [[0.1778157378731141, 0.12542049016429982], [0...   \n",
       "2  [[0.2833417683274762, -0.1285513884878812], [0...   \n",
       "3  [[0.08675043530985374, 0.03658922221440793], [...   \n",
       "4  [[0.2054977133197953, -0.12485484173352068], [...   \n",
       "\n",
       "                                           M1_spikes  \\\n",
       "0  [[0, 1, 0, 0, 0, 1, 0, 1, 0, 0, 0, 1, 1, 0, 0,...   \n",
       "1  [[0, 1, 0, 0, 0, 0, 0, 0, 0, 1, 0, 0, 0, 1, 0,...   \n",
       "2  [[0, 0, 0, 0, 1, 0, 0, 0, 0, 1, 0, 0, 0, 0, 0,...   \n",
       "3  [[0, 1, 0, 0, 0, 0, 0, 0, 0, 0, 0, 0, 0, 0, 0,...   \n",
       "4  [[0, 0, 0, 0, 1, 1, 0, 0, 1, 1, 0, 0, 1, 0, 0,...   \n",
       "\n",
       "                                       M1_unit_guide  \\\n",
       "0  [[5, 1], [5, 2], [5, 3], [5, 4], [9, 1], [9, 2...   \n",
       "1  [[5, 1], [5, 2], [5, 3], [5, 4], [9, 1], [9, 2...   \n",
       "2  [[5, 1], [5, 2], [5, 3], [5, 4], [9, 1], [9, 2...   \n",
       "3  [[5, 1], [5, 2], [5, 3], [5, 4], [9, 1], [9, 2...   \n",
       "4  [[5, 1], [5, 2], [5, 3], [5, 4], [9, 1], [9, 2...   \n",
       "\n",
       "                                          PMd_spikes  \\\n",
       "0  [[0, 0, 0, 0, 0, 0, 0, 0, 0, 0, 0, 0, 0, 0, 0,...   \n",
       "1  [[0, 0, 0, 0, 0, 0, 0, 0, 0, 0, 0, 0, 0, 0, 0,...   \n",
       "2  [[0, 2, 0, 0, 0, 0, 0, 0, 0, 0, 0, 0, 0, 0, 0,...   \n",
       "3  [[0, 0, 0, 0, 0, 0, 0, 0, 0, 0, 0, 0, 0, 0, 0,...   \n",
       "4  [[1, 1, 0, 0, 0, 0, 0, 0, 0, 0, 0, 0, 0, 0, 0,...   \n",
       "\n",
       "                                      PMd_unit_guide  \n",
       "0  [[1, 1], [1, 2], [2, 1], [2, 2], [3, 1], [3, 2...  \n",
       "1  [[1, 1], [1, 2], [2, 1], [2, 2], [3, 1], [3, 2...  \n",
       "2  [[1, 1], [1, 2], [2, 1], [2, 2], [3, 1], [3, 2...  \n",
       "3  [[1, 1], [1, 2], [2, 1], [2, 2], [3, 1], [3, 2...  \n",
       "4  [[1, 1], [1, 2], [2, 1], [2, 2], [3, 1], [3, 2...  \n",
       "\n",
       "[5 rows x 24 columns]"
      ]
     },
     "execution_count": 47,
     "metadata": {},
     "output_type": "execute_result"
    }
   ],
   "source": [
    "df.head()"
   ]
  },
  {
   "cell_type": "code",
   "execution_count": 48,
   "metadata": {
    "scrolled": true
   },
   "outputs": [
    {
     "data": {
      "text/plain": [
       "Index(['monkey', 'date', 'task', 'target_direction', 'trial_id', 'result',\n",
       "       'bin_size', 'perturbation', 'perturbation_info', 'epoch',\n",
       "       'idx_trial_start', 'idx_target_on', 'idx_go_cue', 'idx_movement_on',\n",
       "       'idx_peak_speed', 'idx_trial_end', 'pos', 'vel', 'acc', 'force',\n",
       "       'M1_spikes', 'M1_unit_guide', 'PMd_spikes', 'PMd_unit_guide'],\n",
       "      dtype='object')"
      ]
     },
     "execution_count": 48,
     "metadata": {},
     "output_type": "execute_result"
    }
   ],
   "source": [
    "df.columns"
   ]
  },
  {
   "cell_type": "code",
   "execution_count": 53,
   "metadata": {},
   "outputs": [
    {
     "data": {
      "text/plain": [
       "array(['Chewie'], dtype=object)"
      ]
     },
     "execution_count": 53,
     "metadata": {},
     "output_type": "execute_result"
    }
   ],
   "source": [
    "df.monkey.unique()"
   ]
  },
  {
   "cell_type": "markdown",
   "metadata": {},
   "source": [
    "## 1. Preprocess \n",
    "\n",
    "I am following the parameters and workflow from `compare_weights_spatially.m`"
   ]
  },
  {
   "cell_type": "markdown",
   "metadata": {},
   "source": [
    "### 1.1 Combine time bins\n",
    "\n",
    "Combine time bins into larger ones, here "
   ]
  },
  {
   "cell_type": "code",
   "execution_count": 49,
   "metadata": {},
   "outputs": [],
   "source": [
    "td = pld.combine_time_bins(df, n_bins=3)"
   ]
  },
  {
   "cell_type": "code",
   "execution_count": 7,
   "metadata": {
    "scrolled": true
   },
   "outputs": [],
   "source": [
    "# print(f'before \\n {df.head().bin_size} \\n')\n",
    "# print(f'after combining time bins \\n {td.head().bin_size}')"
   ]
  },
  {
   "cell_type": "markdown",
   "metadata": {},
   "source": [
    "### 1.2 Remove low firing neurons"
   ]
  },
  {
   "cell_type": "code",
   "execution_count": 8,
   "metadata": {},
   "outputs": [
    {
     "data": {
      "text/plain": [
       "array([[0, 1, 0, ..., 0, 0, 0],\n",
       "       [1, 0, 0, ..., 0, 0, 0],\n",
       "       [0, 0, 0, ..., 0, 1, 0],\n",
       "       ...,\n",
       "       [0, 0, 0, ..., 0, 0, 0],\n",
       "       [0, 0, 0, ..., 0, 0, 0],\n",
       "       [0, 1, 0, ..., 1, 0, 0]], dtype=uint8)"
      ]
     },
     "execution_count": 8,
     "metadata": {},
     "output_type": "execute_result"
    }
   ],
   "source": [
    "df.M1_spikes[0]"
   ]
  },
  {
   "cell_type": "code",
   "execution_count": 9,
   "metadata": {},
   "outputs": [
    {
     "name": "stdout",
     "output_type": "stream",
     "text": [
      "original M1 spikes: (447, 63)\n",
      "after removing low firing neurons: (149, 44) \n",
      "\n",
      "original PMd spikes: (447, 192)\n",
      "after removing low firing neurons: (149, 99)\n"
     ]
    }
   ],
   "source": [
    "td = pld.remove_low_firing_neurons(td, signal='M1_spikes', threshold=5)\n",
    "td = pld.remove_low_firing_neurons(td, signal='PMd_spikes', threshold=5)\n",
    "\n",
    "print(f'original M1 spikes: {df.M1_spikes[0].shape}')\n",
    "print(f'after removing low firing neurons: {td.M1_spikes[0].shape} \\n')\n",
    "\n",
    "print(f'original PMd spikes: {df.PMd_spikes[0].shape}')\n",
    "print(f'after removing low firing neurons: {td.PMd_spikes[0].shape}')"
   ]
  },
  {
   "cell_type": "markdown",
   "metadata": {},
   "source": [
    "### 1.3 Transform signals"
   ]
  },
  {
   "cell_type": "code",
   "execution_count": 10,
   "metadata": {},
   "outputs": [
    {
     "name": "stdout",
     "output_type": "stream",
     "text": [
      "[[1.         1.         1.         ... 0.         0.         1.        ]\n",
      " [0.         1.         0.         ... 0.         1.         0.        ]\n",
      " [1.         1.         1.41421356 ... 0.         1.         0.        ]\n",
      " ...\n",
      " [1.         0.         0.         ... 0.         0.         0.        ]\n",
      " [1.         1.         1.41421356 ... 0.         1.         1.        ]\n",
      " [0.         1.         0.         ... 0.         1.         0.        ]]\n"
     ]
    }
   ],
   "source": [
    "td = pld.transform_signal(td, signal='M1_spikes',  transformations='sqrt')\n",
    "td = pld.transform_signal(td, signal='PMd_spikes', transformations='sqrt')\n",
    "\n",
    "print(td.M1_spikes[0]) # trials x neurons"
   ]
  },
  {
   "cell_type": "markdown",
   "metadata": {},
   "source": [
    "### 1.4 Merge signals from multiple brain areas"
   ]
  },
  {
   "cell_type": "markdown",
   "metadata": {},
   "source": [
    "Here we add a column `'both_spikes'` to that we can perform PCA on all the neurons"
   ]
  },
  {
   "cell_type": "code",
   "execution_count": 11,
   "metadata": {},
   "outputs": [
    {
     "name": "stdout",
     "output_type": "stream",
     "text": [
      "Merging M1 and PMd gives 44 + 99 = 143 neurons\n"
     ]
    }
   ],
   "source": [
    "td = pld.merge_signals(td, ['M1_spikes', 'PMd_spikes'], 'both_spikes')\n",
    "\n",
    "print(f'Merging M1 and PMd gives {td.M1_spikes[0].shape[1]} + {td.PMd_spikes[0].shape[1]} = {td.both_spikes[0].shape[1]} neurons')"
   ]
  },
  {
   "cell_type": "code",
   "execution_count": 12,
   "metadata": {
    "scrolled": true
   },
   "outputs": [
    {
     "data": {
      "text/plain": [
       "0      [[1.0, 1.0, 1.0, 1.4142135623730951, 0.0, 0.0,...\n",
       "1      [[1.0, 1.0, 0.0, 1.0, 1.0, 1.4142135623730951,...\n",
       "2      [[1.0, 1.0, 1.4142135623730951, 0.0, 0.0, 1.41...\n",
       "3      [[0.0, 1.0, 0.0, 1.0, 0.0, 0.0, 0.0, 0.0, 0.0,...\n",
       "4      [[0.0, 0.0, 1.0, 1.4142135623730951, 1.0, 1.0,...\n",
       "                             ...                        \n",
       "769    [[0.0, 1.0, 0.0, 1.0, 0.0, 0.0, 1.0, 0.0, 0.0,...\n",
       "770    [[0.0, 0.0, 0.0, 1.0, 0.0, 0.0, 0.0, 0.0, 0.0,...\n",
       "771    [[1.0, 0.0, 1.0, 0.0, 0.0, 0.0, 0.0, 0.0, 1.41...\n",
       "772    [[0.0, 1.0, 0.0, 0.0, 0.0, 0.0, 1.0, 0.0, 0.0,...\n",
       "773    [[1.0, 1.0, 1.0, 1.0, 1.0, 0.0, 0.0, 0.0, 0.0,...\n",
       "Name: both_spikes, Length: 774, dtype: object"
      ]
     },
     "execution_count": 12,
     "metadata": {},
     "output_type": "execute_result"
    }
   ],
   "source": [
    "td['both_spikes']"
   ]
  },
  {
   "cell_type": "markdown",
   "metadata": {},
   "source": [
    "### 1.5 Compute firing rates from spike trains\n"
   ]
  },
  {
   "cell_type": "code",
   "execution_count": 13,
   "metadata": {},
   "outputs": [],
   "source": [
    "# works on '_spikes' fields and automatically divides by bin_size\n",
    "td = pld.add_firing_rates(td, 'smooth')"
   ]
  },
  {
   "cell_type": "code",
   "execution_count": 14,
   "metadata": {},
   "outputs": [
    {
     "data": {
      "text/html": [
       "<div>\n",
       "<style scoped>\n",
       "    .dataframe tbody tr th:only-of-type {\n",
       "        vertical-align: middle;\n",
       "    }\n",
       "\n",
       "    .dataframe tbody tr th {\n",
       "        vertical-align: top;\n",
       "    }\n",
       "\n",
       "    .dataframe thead th {\n",
       "        text-align: right;\n",
       "    }\n",
       "</style>\n",
       "<table border=\"1\" class=\"dataframe\">\n",
       "  <thead>\n",
       "    <tr style=\"text-align: right;\">\n",
       "      <th></th>\n",
       "      <th>monkey</th>\n",
       "      <th>date</th>\n",
       "      <th>task</th>\n",
       "      <th>target_direction</th>\n",
       "      <th>trial_id</th>\n",
       "      <th>result</th>\n",
       "      <th>bin_size</th>\n",
       "      <th>perturbation</th>\n",
       "      <th>perturbation_info</th>\n",
       "      <th>epoch</th>\n",
       "      <th>...</th>\n",
       "      <th>acc</th>\n",
       "      <th>force</th>\n",
       "      <th>M1_spikes</th>\n",
       "      <th>M1_unit_guide</th>\n",
       "      <th>PMd_spikes</th>\n",
       "      <th>PMd_unit_guide</th>\n",
       "      <th>both_spikes</th>\n",
       "      <th>M1_rates</th>\n",
       "      <th>PMd_rates</th>\n",
       "      <th>both_rates</th>\n",
       "    </tr>\n",
       "  </thead>\n",
       "  <tbody>\n",
       "    <tr>\n",
       "      <td>0</td>\n",
       "      <td>Chewie</td>\n",
       "      <td>10-06-2016</td>\n",
       "      <td>CO</td>\n",
       "      <td>-2.356194</td>\n",
       "      <td>1</td>\n",
       "      <td>R</td>\n",
       "      <td>0.03</td>\n",
       "      <td>VR</td>\n",
       "      <td>-0.52</td>\n",
       "      <td>BL</td>\n",
       "      <td>...</td>\n",
       "      <td>[[25.292273710326047, 23.948816622289783], [26...</td>\n",
       "      <td>[[0.3854857746577438, -0.18448026169727955], [...</td>\n",
       "      <td>[[1.0, 1.0, 1.0, 1.4142135623730951, 0.0, 0.0,...</td>\n",
       "      <td>[[5, 1], [5, 2], [9, 1], [9, 2], [13, 1], [13,...</td>\n",
       "      <td>[[0.0, 1.0, 0.0, 0.0, 0.0, 0.0, 0.0, 1.0, 0.0,...</td>\n",
       "      <td>[[1, 1], [1, 2], [7, 4], [7, 5], [8, 2], [8, 3...</td>\n",
       "      <td>[[1.0, 1.0, 1.0, 1.4142135623730951, 0.0, 0.0,...</td>\n",
       "      <td>[[10.371933240023875, 15.773752026832693, 12.3...</td>\n",
       "      <td>[[8.902097383481504, 8.635500399091704, 6.2947...</td>\n",
       "      <td>[[10.371933240023875, 15.773752026832693, 12.3...</td>\n",
       "    </tr>\n",
       "    <tr>\n",
       "      <td>1</td>\n",
       "      <td>Chewie</td>\n",
       "      <td>10-06-2016</td>\n",
       "      <td>CO</td>\n",
       "      <td>1.570796</td>\n",
       "      <td>2</td>\n",
       "      <td>R</td>\n",
       "      <td>0.03</td>\n",
       "      <td>VR</td>\n",
       "      <td>-0.52</td>\n",
       "      <td>BL</td>\n",
       "      <td>...</td>\n",
       "      <td>[[33.67115720999763, 79.08430607100303], [23.7...</td>\n",
       "      <td>[[0.1778157378731141, 0.12542049016429982], [0...</td>\n",
       "      <td>[[1.0, 1.0, 0.0, 1.0, 1.0, 1.4142135623730951,...</td>\n",
       "      <td>[[5, 1], [5, 2], [9, 1], [9, 2], [13, 1], [13,...</td>\n",
       "      <td>[[0.0, 1.0, 1.0, 0.0, 0.0, 0.0, 1.414213562373...</td>\n",
       "      <td>[[1, 1], [1, 2], [7, 4], [7, 5], [8, 2], [8, 3...</td>\n",
       "      <td>[[1.0, 1.0, 0.0, 1.0, 1.0, 1.4142135623730951,...</td>\n",
       "      <td>[[11.264847879857852, 14.03731918590052, 8.031...</td>\n",
       "      <td>[[5.401818786808815, 14.407176539761242, 13.14...</td>\n",
       "      <td>[[11.264847879857852, 14.03731918590052, 8.031...</td>\n",
       "    </tr>\n",
       "    <tr>\n",
       "      <td>2</td>\n",
       "      <td>Chewie</td>\n",
       "      <td>10-06-2016</td>\n",
       "      <td>CO</td>\n",
       "      <td>0.785398</td>\n",
       "      <td>3</td>\n",
       "      <td>R</td>\n",
       "      <td>0.03</td>\n",
       "      <td>VR</td>\n",
       "      <td>-0.52</td>\n",
       "      <td>BL</td>\n",
       "      <td>...</td>\n",
       "      <td>[[1.6623846773446733, -20.151668914256682], [4...</td>\n",
       "      <td>[[0.2833417683274762, -0.1285513884878812], [0...</td>\n",
       "      <td>[[1.0, 1.0, 1.4142135623730951, 0.0, 0.0, 1.41...</td>\n",
       "      <td>[[5, 1], [5, 2], [9, 1], [9, 2], [13, 1], [13,...</td>\n",
       "      <td>[[1.0, 1.4142135623730951, 1.0, 0.0, 0.0, 0.0,...</td>\n",
       "      <td>[[1, 1], [1, 2], [7, 4], [7, 5], [8, 2], [8, 3...</td>\n",
       "      <td>[[1.0, 1.0, 1.4142135623730951, 0.0, 0.0, 1.41...</td>\n",
       "      <td>[[10.371933240023875, 16.66666666666667, 11.84...</td>\n",
       "      <td>[[16.66666666666667, 10.949669788579067, 7.742...</td>\n",
       "      <td>[[10.371933240023875, 16.66666666666667, 11.84...</td>\n",
       "    </tr>\n",
       "    <tr>\n",
       "      <td>3</td>\n",
       "      <td>Chewie</td>\n",
       "      <td>10-06-2016</td>\n",
       "      <td>CO</td>\n",
       "      <td>3.141593</td>\n",
       "      <td>4</td>\n",
       "      <td>R</td>\n",
       "      <td>0.03</td>\n",
       "      <td>VR</td>\n",
       "      <td>-0.52</td>\n",
       "      <td>BL</td>\n",
       "      <td>...</td>\n",
       "      <td>[[-10.229040288523265, -22.654816986306813], [...</td>\n",
       "      <td>[[0.08675043530985374, 0.03658922221440793], [...</td>\n",
       "      <td>[[0.0, 1.0, 0.0, 1.0, 0.0, 0.0, 0.0, 0.0, 0.0,...</td>\n",
       "      <td>[[5, 1], [5, 2], [9, 1], [9, 2], [13, 1], [13,...</td>\n",
       "      <td>[[0.0, 1.0, 0.0, 0.0, 0.0, 1.4142135623730951,...</td>\n",
       "      <td>[[1, 1], [1, 2], [7, 4], [7, 5], [8, 2], [8, 3...</td>\n",
       "      <td>[[0.0, 1.0, 0.0, 1.0, 0.0, 0.0, 0.0, 0.0, 0.0,...</td>\n",
       "      <td>[[0.8929146398339769, 8.635500399091704, 10.26...</td>\n",
       "      <td>[[0.8929146398339769, 7.742585759257727, 5.401...</td>\n",
       "      <td>[[0.8929146398339769, 8.635500399091704, 10.26...</td>\n",
       "    </tr>\n",
       "    <tr>\n",
       "      <td>4</td>\n",
       "      <td>Chewie</td>\n",
       "      <td>10-06-2016</td>\n",
       "      <td>CO</td>\n",
       "      <td>-1.570796</td>\n",
       "      <td>5</td>\n",
       "      <td>R</td>\n",
       "      <td>0.03</td>\n",
       "      <td>VR</td>\n",
       "      <td>-0.52</td>\n",
       "      <td>BL</td>\n",
       "      <td>...</td>\n",
       "      <td>[[55.86100520057167, -6.586410543949703], [45....</td>\n",
       "      <td>[[0.2054977133197953, -0.12485484173352068], [...</td>\n",
       "      <td>[[0.0, 0.0, 1.0, 1.4142135623730951, 1.0, 1.0,...</td>\n",
       "      <td>[[5, 1], [5, 2], [9, 1], [9, 2], [13, 1], [13,...</td>\n",
       "      <td>[[1.0, 1.0, 0.0, 1.4142135623730951, 0.0, 0.0,...</td>\n",
       "      <td>[[1, 1], [1, 2], [7, 4], [7, 5], [8, 2], [8, 3...</td>\n",
       "      <td>[[0.0, 0.0, 1.0, 1.4142135623730951, 1.0, 1.0,...</td>\n",
       "      <td>[[8.031166267574964, 8.924080907408943, 13.144...</td>\n",
       "      <td>[[15.773752026832693, 16.66666666666667, 0.892...</td>\n",
       "      <td>[[8.031166267574964, 8.924080907408943, 13.144...</td>\n",
       "    </tr>\n",
       "  </tbody>\n",
       "</table>\n",
       "<p>5 rows × 28 columns</p>\n",
       "</div>"
      ],
      "text/plain": [
       "   monkey        date task  target_direction  trial_id result  bin_size  \\\n",
       "0  Chewie  10-06-2016   CO         -2.356194         1      R      0.03   \n",
       "1  Chewie  10-06-2016   CO          1.570796         2      R      0.03   \n",
       "2  Chewie  10-06-2016   CO          0.785398         3      R      0.03   \n",
       "3  Chewie  10-06-2016   CO          3.141593         4      R      0.03   \n",
       "4  Chewie  10-06-2016   CO         -1.570796         5      R      0.03   \n",
       "\n",
       "  perturbation  perturbation_info epoch  ...  \\\n",
       "0           VR              -0.52    BL  ...   \n",
       "1           VR              -0.52    BL  ...   \n",
       "2           VR              -0.52    BL  ...   \n",
       "3           VR              -0.52    BL  ...   \n",
       "4           VR              -0.52    BL  ...   \n",
       "\n",
       "                                                 acc  \\\n",
       "0  [[25.292273710326047, 23.948816622289783], [26...   \n",
       "1  [[33.67115720999763, 79.08430607100303], [23.7...   \n",
       "2  [[1.6623846773446733, -20.151668914256682], [4...   \n",
       "3  [[-10.229040288523265, -22.654816986306813], [...   \n",
       "4  [[55.86100520057167, -6.586410543949703], [45....   \n",
       "\n",
       "                                               force  \\\n",
       "0  [[0.3854857746577438, -0.18448026169727955], [...   \n",
       "1  [[0.1778157378731141, 0.12542049016429982], [0...   \n",
       "2  [[0.2833417683274762, -0.1285513884878812], [0...   \n",
       "3  [[0.08675043530985374, 0.03658922221440793], [...   \n",
       "4  [[0.2054977133197953, -0.12485484173352068], [...   \n",
       "\n",
       "                                           M1_spikes  \\\n",
       "0  [[1.0, 1.0, 1.0, 1.4142135623730951, 0.0, 0.0,...   \n",
       "1  [[1.0, 1.0, 0.0, 1.0, 1.0, 1.4142135623730951,...   \n",
       "2  [[1.0, 1.0, 1.4142135623730951, 0.0, 0.0, 1.41...   \n",
       "3  [[0.0, 1.0, 0.0, 1.0, 0.0, 0.0, 0.0, 0.0, 0.0,...   \n",
       "4  [[0.0, 0.0, 1.0, 1.4142135623730951, 1.0, 1.0,...   \n",
       "\n",
       "                                       M1_unit_guide  \\\n",
       "0  [[5, 1], [5, 2], [9, 1], [9, 2], [13, 1], [13,...   \n",
       "1  [[5, 1], [5, 2], [9, 1], [9, 2], [13, 1], [13,...   \n",
       "2  [[5, 1], [5, 2], [9, 1], [9, 2], [13, 1], [13,...   \n",
       "3  [[5, 1], [5, 2], [9, 1], [9, 2], [13, 1], [13,...   \n",
       "4  [[5, 1], [5, 2], [9, 1], [9, 2], [13, 1], [13,...   \n",
       "\n",
       "                                          PMd_spikes  \\\n",
       "0  [[0.0, 1.0, 0.0, 0.0, 0.0, 0.0, 0.0, 1.0, 0.0,...   \n",
       "1  [[0.0, 1.0, 1.0, 0.0, 0.0, 0.0, 1.414213562373...   \n",
       "2  [[1.0, 1.4142135623730951, 1.0, 0.0, 0.0, 0.0,...   \n",
       "3  [[0.0, 1.0, 0.0, 0.0, 0.0, 1.4142135623730951,...   \n",
       "4  [[1.0, 1.0, 0.0, 1.4142135623730951, 0.0, 0.0,...   \n",
       "\n",
       "                                      PMd_unit_guide  \\\n",
       "0  [[1, 1], [1, 2], [7, 4], [7, 5], [8, 2], [8, 3...   \n",
       "1  [[1, 1], [1, 2], [7, 4], [7, 5], [8, 2], [8, 3...   \n",
       "2  [[1, 1], [1, 2], [7, 4], [7, 5], [8, 2], [8, 3...   \n",
       "3  [[1, 1], [1, 2], [7, 4], [7, 5], [8, 2], [8, 3...   \n",
       "4  [[1, 1], [1, 2], [7, 4], [7, 5], [8, 2], [8, 3...   \n",
       "\n",
       "                                         both_spikes  \\\n",
       "0  [[1.0, 1.0, 1.0, 1.4142135623730951, 0.0, 0.0,...   \n",
       "1  [[1.0, 1.0, 0.0, 1.0, 1.0, 1.4142135623730951,...   \n",
       "2  [[1.0, 1.0, 1.4142135623730951, 0.0, 0.0, 1.41...   \n",
       "3  [[0.0, 1.0, 0.0, 1.0, 0.0, 0.0, 0.0, 0.0, 0.0,...   \n",
       "4  [[0.0, 0.0, 1.0, 1.4142135623730951, 1.0, 1.0,...   \n",
       "\n",
       "                                            M1_rates  \\\n",
       "0  [[10.371933240023875, 15.773752026832693, 12.3...   \n",
       "1  [[11.264847879857852, 14.03731918590052, 8.031...   \n",
       "2  [[10.371933240023875, 16.66666666666667, 11.84...   \n",
       "3  [[0.8929146398339769, 8.635500399091704, 10.26...   \n",
       "4  [[8.031166267574964, 8.924080907408943, 13.144...   \n",
       "\n",
       "                                           PMd_rates  \\\n",
       "0  [[8.902097383481504, 8.635500399091704, 6.2947...   \n",
       "1  [[5.401818786808815, 14.407176539761242, 13.14...   \n",
       "2  [[16.66666666666667, 10.949669788579067, 7.742...   \n",
       "3  [[0.8929146398339769, 7.742585759257727, 5.401...   \n",
       "4  [[15.773752026832693, 16.66666666666667, 0.892...   \n",
       "\n",
       "                                          both_rates  \n",
       "0  [[10.371933240023875, 15.773752026832693, 12.3...  \n",
       "1  [[11.264847879857852, 14.03731918590052, 8.031...  \n",
       "2  [[10.371933240023875, 16.66666666666667, 11.84...  \n",
       "3  [[0.8929146398339769, 8.635500399091704, 10.26...  \n",
       "4  [[8.031166267574964, 8.924080907408943, 13.144...  \n",
       "\n",
       "[5 rows x 28 columns]"
      ]
     },
     "execution_count": 14,
     "metadata": {},
     "output_type": "execute_result"
    }
   ],
   "source": [
    "td.head()"
   ]
  },
  {
   "cell_type": "code",
   "execution_count": 15,
   "metadata": {},
   "outputs": [
    {
     "data": {
      "text/plain": [
       "0      [[10.371933240023875, 15.773752026832693, 12.3...\n",
       "1      [[11.264847879857852, 14.03731918590052, 8.031...\n",
       "2      [[10.371933240023875, 16.66666666666667, 11.84...\n",
       "3      [[0.8929146398339769, 8.635500399091704, 10.26...\n",
       "4      [[8.031166267574964, 8.924080907408943, 13.144...\n",
       "                             ...                        \n",
       "769    [[0.8929146398339769, 9.005357752952426, 0.0, ...\n",
       "770    [[6.294733426642792, 8.924080907408943, 0.8929...\n",
       "771    [[14.407176539761242, 9.120277654299834, 7.742...\n",
       "772    [[0.8929146398339769, 10.371933240023875, 0.0,...\n",
       "773    [[10.371933240023875, 16.66666666666667, 8.635...\n",
       "Name: both_rates, Length: 774, dtype: object"
      ]
     },
     "execution_count": 15,
     "metadata": {},
     "output_type": "execute_result"
    }
   ],
   "source": [
    "td.both_rates"
   ]
  },
  {
   "cell_type": "markdown",
   "metadata": {},
   "source": [
    "### 1.6 Select a time interval\n",
    "\n",
    "Perhaps we want to take spikes from a certain interval (this is optional). \n",
    "\n",
    "```Python\n",
    "\n",
    "if which_period == 'plan':\n",
    "    idx_start = df['idx_target_on'][0]\n",
    "    idx_end = df['idx_go_cue'][0]\n",
    "    \n",
    "elif which_period == 'move':\n",
    "    idx_start = df['idx_go_cue'][0]\n",
    "    idx_end = df['idx_trial_end'][0]\n",
    "\n",
    "elif which_period == 'all':\n",
    "    idx_start = df['idx_target_on'][0]\n",
    "    idx_end = df['idx_trial_end'][0]\n",
    "```"
   ]
  },
  {
   "cell_type": "code",
   "execution_count": 16,
   "metadata": {},
   "outputs": [],
   "source": [
    "# examples\n",
    "plan_td = pld.restrict_to_interval(td, start_point_name='idx_target_on', end_point_name='idx_go_cue', before=0, after=40)\n",
    "\n",
    "move_td = pld.restrict_to_interval(td, start_point_name='idx_go_cue', end_point_name='idx_trial_end', before=0, after=40)"
   ]
  },
  {
   "cell_type": "code",
   "execution_count": 17,
   "metadata": {},
   "outputs": [
    {
     "data": {
      "text/html": [
       "<div>\n",
       "<style scoped>\n",
       "    .dataframe tbody tr th:only-of-type {\n",
       "        vertical-align: middle;\n",
       "    }\n",
       "\n",
       "    .dataframe tbody tr th {\n",
       "        vertical-align: top;\n",
       "    }\n",
       "\n",
       "    .dataframe thead th {\n",
       "        text-align: right;\n",
       "    }\n",
       "</style>\n",
       "<table border=\"1\" class=\"dataframe\">\n",
       "  <thead>\n",
       "    <tr style=\"text-align: right;\">\n",
       "      <th></th>\n",
       "      <th>monkey</th>\n",
       "      <th>date</th>\n",
       "      <th>task</th>\n",
       "      <th>target_direction</th>\n",
       "      <th>trial_id</th>\n",
       "      <th>result</th>\n",
       "      <th>bin_size</th>\n",
       "      <th>perturbation</th>\n",
       "      <th>perturbation_info</th>\n",
       "      <th>epoch</th>\n",
       "      <th>...</th>\n",
       "      <th>acc</th>\n",
       "      <th>force</th>\n",
       "      <th>M1_spikes</th>\n",
       "      <th>M1_unit_guide</th>\n",
       "      <th>PMd_spikes</th>\n",
       "      <th>PMd_unit_guide</th>\n",
       "      <th>both_spikes</th>\n",
       "      <th>M1_rates</th>\n",
       "      <th>PMd_rates</th>\n",
       "      <th>both_rates</th>\n",
       "    </tr>\n",
       "  </thead>\n",
       "  <tbody>\n",
       "    <tr>\n",
       "      <td>0</td>\n",
       "      <td>Chewie</td>\n",
       "      <td>10-06-2016</td>\n",
       "      <td>CO</td>\n",
       "      <td>-2.356194</td>\n",
       "      <td>1</td>\n",
       "      <td>R</td>\n",
       "      <td>0.03</td>\n",
       "      <td>VR</td>\n",
       "      <td>-0.52</td>\n",
       "      <td>BL</td>\n",
       "      <td>...</td>\n",
       "      <td>[[10.970621675691566, -17.90932121190034], [-1...</td>\n",
       "      <td>[[0.3854857746577438, -0.18448026169727955], [...</td>\n",
       "      <td>[[1.0, 0.0, 0.0, 1.7320508075688772, 0.0, 1.73...</td>\n",
       "      <td>[[5, 1], [5, 2], [9, 1], [9, 2], [13, 1], [13,...</td>\n",
       "      <td>[[1.0, 0.0, 1.0, 0.0, 1.0, 1.0, 0.0, 0.0, 0.0,...</td>\n",
       "      <td>[[1, 1], [1, 2], [7, 4], [7, 5], [8, 2], [8, 3...</td>\n",
       "      <td>[[1.0, 0.0, 0.0, 1.7320508075688772, 0.0, 1.73...</td>\n",
       "      <td>[[19.90034827894956, 16.307925720776602, 16.95...</td>\n",
       "      <td>[[20.886990305324268, 21.855776722546853, 8.63...</td>\n",
       "      <td>[[19.90034827894956, 16.307925720776602, 16.95...</td>\n",
       "    </tr>\n",
       "    <tr>\n",
       "      <td>1</td>\n",
       "      <td>Chewie</td>\n",
       "      <td>10-06-2016</td>\n",
       "      <td>CO</td>\n",
       "      <td>1.570796</td>\n",
       "      <td>2</td>\n",
       "      <td>R</td>\n",
       "      <td>0.03</td>\n",
       "      <td>VR</td>\n",
       "      <td>-0.52</td>\n",
       "      <td>BL</td>\n",
       "      <td>...</td>\n",
       "      <td>[[-5.774060193805803, -14.365149464093918], [0...</td>\n",
       "      <td>[[0.1778157378731141, 0.12542049016429982], [0...</td>\n",
       "      <td>[[1.0, 1.4142135623730951, 1.0, 0.0, 0.0, 1.0,...</td>\n",
       "      <td>[[5, 1], [5, 2], [9, 1], [9, 2], [13, 1], [13,...</td>\n",
       "      <td>[[1.0, 1.0, 1.0, 1.0, 0.0, 0.0, 0.0, 0.0, 1.0,...</td>\n",
       "      <td>[[1, 1], [1, 2], [7, 4], [7, 5], [8, 2], [8, 3...</td>\n",
       "      <td>[[1.0, 1.4142135623730951, 1.0, 0.0, 0.0, 1.0,...</td>\n",
       "      <td>[[14.03731918590052, 24.84386514920307, 29.811...</td>\n",
       "      <td>[[12.353959266582722, 30.561414643284294, 7.74...</td>\n",
       "      <td>[[14.03731918590052, 24.84386514920307, 29.811...</td>\n",
       "    </tr>\n",
       "    <tr>\n",
       "      <td>2</td>\n",
       "      <td>Chewie</td>\n",
       "      <td>10-06-2016</td>\n",
       "      <td>CO</td>\n",
       "      <td>0.785398</td>\n",
       "      <td>3</td>\n",
       "      <td>R</td>\n",
       "      <td>0.03</td>\n",
       "      <td>VR</td>\n",
       "      <td>-0.52</td>\n",
       "      <td>BL</td>\n",
       "      <td>...</td>\n",
       "      <td>[[-14.026090735510317, 19.555698702439965], [-...</td>\n",
       "      <td>[[0.2833417683274762, -0.1285513884878812], [0...</td>\n",
       "      <td>[[1.0, 1.0, 1.4142135623730951, 0.0, 0.0, 0.0,...</td>\n",
       "      <td>[[5, 1], [5, 2], [9, 1], [9, 2], [13, 1], [13,...</td>\n",
       "      <td>[[1.0, 0.0, 0.0, 0.0, 1.0, 0.0, 0.0, 0.0, 0.0,...</td>\n",
       "      <td>[[1, 1], [1, 2], [7, 4], [7, 5], [8, 2], [8, 3...</td>\n",
       "      <td>[[1.0, 1.0, 1.4142135623730951, 0.0, 0.0, 0.0,...</td>\n",
       "      <td>[[18.114518999281604, 25.498363812649266, 25.6...</td>\n",
       "      <td>[[16.666666666666668, 21.606923489144744, 0.0,...</td>\n",
       "      <td>[[18.114518999281604, 25.498363812649266, 25.6...</td>\n",
       "    </tr>\n",
       "    <tr>\n",
       "      <td>3</td>\n",
       "      <td>Chewie</td>\n",
       "      <td>10-06-2016</td>\n",
       "      <td>CO</td>\n",
       "      <td>3.141593</td>\n",
       "      <td>4</td>\n",
       "      <td>R</td>\n",
       "      <td>0.03</td>\n",
       "      <td>VR</td>\n",
       "      <td>-0.52</td>\n",
       "      <td>BL</td>\n",
       "      <td>...</td>\n",
       "      <td>[[-7.076210661439639, -12.075892021608487], [5...</td>\n",
       "      <td>[[0.08675043530985374, 0.03658922221440793], [...</td>\n",
       "      <td>[[1.0, 1.0, 0.0, 1.0, 0.0, 1.4142135623730951,...</td>\n",
       "      <td>[[5, 1], [5, 2], [9, 1], [9, 2], [13, 1], [13,...</td>\n",
       "      <td>[[1.4142135623730951, 0.0, 0.0, 0.0, 0.0, 0.0,...</td>\n",
       "      <td>[[1, 1], [1, 2], [7, 4], [7, 5], [8, 2], [8, 3...</td>\n",
       "      <td>[[1.0, 1.0, 0.0, 1.0, 0.0, 1.4142135623730951,...</td>\n",
       "      <td>[[29.352769296177907, 30.388807761288398, 13.8...</td>\n",
       "      <td>[[27.904916963562975, 16.66666666666667, 3.522...</td>\n",
       "      <td>[[29.352769296177907, 30.388807761288398, 13.8...</td>\n",
       "    </tr>\n",
       "    <tr>\n",
       "      <td>4</td>\n",
       "      <td>Chewie</td>\n",
       "      <td>10-06-2016</td>\n",
       "      <td>CO</td>\n",
       "      <td>-1.570796</td>\n",
       "      <td>5</td>\n",
       "      <td>R</td>\n",
       "      <td>0.03</td>\n",
       "      <td>VR</td>\n",
       "      <td>-0.52</td>\n",
       "      <td>BL</td>\n",
       "      <td>...</td>\n",
       "      <td>[[-8.645102876130663, -15.463265695438906], [1...</td>\n",
       "      <td>[[0.2054977133197953, -0.12485484173352068], [...</td>\n",
       "      <td>[[1.0, 0.0, 0.0, 0.0, 0.0, 1.4142135623730951,...</td>\n",
       "      <td>[[5, 1], [5, 2], [9, 1], [9, 2], [13, 1], [13,...</td>\n",
       "      <td>[[1.0, 1.0, 0.0, 0.0, 0.0, 1.0, 0.0, 0.0, 1.0,...</td>\n",
       "      <td>[[1, 1], [1, 2], [7, 4], [7, 5], [8, 2], [8, 3...</td>\n",
       "      <td>[[1.0, 0.0, 0.0, 0.0, 0.0, 1.4142135623730951,...</td>\n",
       "      <td>[[25.30216706575838, 14.325899694217757, 9.816...</td>\n",
       "      <td>[[30.703985852567193, 25.498363812649266, 14.0...</td>\n",
       "      <td>[[25.30216706575838, 14.325899694217757, 9.816...</td>\n",
       "    </tr>\n",
       "  </tbody>\n",
       "</table>\n",
       "<p>5 rows × 28 columns</p>\n",
       "</div>"
      ],
      "text/plain": [
       "   monkey        date task  target_direction  trial_id result  bin_size  \\\n",
       "0  Chewie  10-06-2016   CO         -2.356194         1      R      0.03   \n",
       "1  Chewie  10-06-2016   CO          1.570796         2      R      0.03   \n",
       "2  Chewie  10-06-2016   CO          0.785398         3      R      0.03   \n",
       "3  Chewie  10-06-2016   CO          3.141593         4      R      0.03   \n",
       "4  Chewie  10-06-2016   CO         -1.570796         5      R      0.03   \n",
       "\n",
       "  perturbation  perturbation_info epoch  ...  \\\n",
       "0           VR              -0.52    BL  ...   \n",
       "1           VR              -0.52    BL  ...   \n",
       "2           VR              -0.52    BL  ...   \n",
       "3           VR              -0.52    BL  ...   \n",
       "4           VR              -0.52    BL  ...   \n",
       "\n",
       "                                                 acc  \\\n",
       "0  [[10.970621675691566, -17.90932121190034], [-1...   \n",
       "1  [[-5.774060193805803, -14.365149464093918], [0...   \n",
       "2  [[-14.026090735510317, 19.555698702439965], [-...   \n",
       "3  [[-7.076210661439639, -12.075892021608487], [5...   \n",
       "4  [[-8.645102876130663, -15.463265695438906], [1...   \n",
       "\n",
       "                                               force  \\\n",
       "0  [[0.3854857746577438, -0.18448026169727955], [...   \n",
       "1  [[0.1778157378731141, 0.12542049016429982], [0...   \n",
       "2  [[0.2833417683274762, -0.1285513884878812], [0...   \n",
       "3  [[0.08675043530985374, 0.03658922221440793], [...   \n",
       "4  [[0.2054977133197953, -0.12485484173352068], [...   \n",
       "\n",
       "                                           M1_spikes  \\\n",
       "0  [[1.0, 0.0, 0.0, 1.7320508075688772, 0.0, 1.73...   \n",
       "1  [[1.0, 1.4142135623730951, 1.0, 0.0, 0.0, 1.0,...   \n",
       "2  [[1.0, 1.0, 1.4142135623730951, 0.0, 0.0, 0.0,...   \n",
       "3  [[1.0, 1.0, 0.0, 1.0, 0.0, 1.4142135623730951,...   \n",
       "4  [[1.0, 0.0, 0.0, 0.0, 0.0, 1.4142135623730951,...   \n",
       "\n",
       "                                       M1_unit_guide  \\\n",
       "0  [[5, 1], [5, 2], [9, 1], [9, 2], [13, 1], [13,...   \n",
       "1  [[5, 1], [5, 2], [9, 1], [9, 2], [13, 1], [13,...   \n",
       "2  [[5, 1], [5, 2], [9, 1], [9, 2], [13, 1], [13,...   \n",
       "3  [[5, 1], [5, 2], [9, 1], [9, 2], [13, 1], [13,...   \n",
       "4  [[5, 1], [5, 2], [9, 1], [9, 2], [13, 1], [13,...   \n",
       "\n",
       "                                          PMd_spikes  \\\n",
       "0  [[1.0, 0.0, 1.0, 0.0, 1.0, 1.0, 0.0, 0.0, 0.0,...   \n",
       "1  [[1.0, 1.0, 1.0, 1.0, 0.0, 0.0, 0.0, 0.0, 1.0,...   \n",
       "2  [[1.0, 0.0, 0.0, 0.0, 1.0, 0.0, 0.0, 0.0, 0.0,...   \n",
       "3  [[1.4142135623730951, 0.0, 0.0, 0.0, 0.0, 0.0,...   \n",
       "4  [[1.0, 1.0, 0.0, 0.0, 0.0, 1.0, 0.0, 0.0, 1.0,...   \n",
       "\n",
       "                                      PMd_unit_guide  \\\n",
       "0  [[1, 1], [1, 2], [7, 4], [7, 5], [8, 2], [8, 3...   \n",
       "1  [[1, 1], [1, 2], [7, 4], [7, 5], [8, 2], [8, 3...   \n",
       "2  [[1, 1], [1, 2], [7, 4], [7, 5], [8, 2], [8, 3...   \n",
       "3  [[1, 1], [1, 2], [7, 4], [7, 5], [8, 2], [8, 3...   \n",
       "4  [[1, 1], [1, 2], [7, 4], [7, 5], [8, 2], [8, 3...   \n",
       "\n",
       "                                         both_spikes  \\\n",
       "0  [[1.0, 0.0, 0.0, 1.7320508075688772, 0.0, 1.73...   \n",
       "1  [[1.0, 1.4142135623730951, 1.0, 0.0, 0.0, 1.0,...   \n",
       "2  [[1.0, 1.0, 1.4142135623730951, 0.0, 0.0, 0.0,...   \n",
       "3  [[1.0, 1.0, 0.0, 1.0, 0.0, 1.4142135623730951,...   \n",
       "4  [[1.0, 0.0, 0.0, 0.0, 0.0, 1.4142135623730951,...   \n",
       "\n",
       "                                            M1_rates  \\\n",
       "0  [[19.90034827894956, 16.307925720776602, 16.95...   \n",
       "1  [[14.03731918590052, 24.84386514920307, 29.811...   \n",
       "2  [[18.114518999281604, 25.498363812649266, 25.6...   \n",
       "3  [[29.352769296177907, 30.388807761288398, 13.8...   \n",
       "4  [[25.30216706575838, 14.325899694217757, 9.816...   \n",
       "\n",
       "                                           PMd_rates  \\\n",
       "0  [[20.886990305324268, 21.855776722546853, 8.63...   \n",
       "1  [[12.353959266582722, 30.561414643284294, 7.74...   \n",
       "2  [[16.666666666666668, 21.606923489144744, 0.0,...   \n",
       "3  [[27.904916963562975, 16.66666666666667, 3.522...   \n",
       "4  [[30.703985852567193, 25.498363812649266, 14.0...   \n",
       "\n",
       "                                          both_rates  \n",
       "0  [[19.90034827894956, 16.307925720776602, 16.95...  \n",
       "1  [[14.03731918590052, 24.84386514920307, 29.811...  \n",
       "2  [[18.114518999281604, 25.498363812649266, 25.6...  \n",
       "3  [[29.352769296177907, 30.388807761288398, 13.8...  \n",
       "4  [[25.30216706575838, 14.325899694217757, 9.816...  \n",
       "\n",
       "[5 rows x 28 columns]"
      ]
     },
     "execution_count": 17,
     "metadata": {},
     "output_type": "execute_result"
    }
   ],
   "source": [
    "plan_td.head()"
   ]
  },
  {
   "cell_type": "code",
   "execution_count": 18,
   "metadata": {},
   "outputs": [
    {
     "name": "stdout",
     "output_type": "stream",
     "text": [
      "Total trial length: (149, 143)\n",
      "Plan trial length: (75, 143)\n",
      "Move trial length: (53, 143)\n"
     ]
    }
   ],
   "source": [
    "print(f'Total trial length: {td.both_spikes[0].shape}')\n",
    "\n",
    "print(f'Plan trial length: {plan_td.both_spikes[0].shape}')\n",
    "\n",
    "print(f'Move trial length: {move_td.both_spikes[0].shape}')"
   ]
  },
  {
   "cell_type": "code",
   "execution_count": 19,
   "metadata": {},
   "outputs": [
    {
     "data": {
      "text/plain": [
       "0      BL\n",
       "1      BL\n",
       "2      BL\n",
       "3      BL\n",
       "4      BL\n",
       "       ..\n",
       "769    WO\n",
       "770    WO\n",
       "771    WO\n",
       "772    WO\n",
       "773    WO\n",
       "Name: epoch, Length: 774, dtype: object"
      ]
     },
     "execution_count": 19,
     "metadata": {},
     "output_type": "execute_result"
    }
   ],
   "source": [
    "td.epoch # what is this?"
   ]
  },
  {
   "cell_type": "markdown",
   "metadata": {},
   "source": [
    "## 2 Dimensionality reduction"
   ]
  },
  {
   "cell_type": "markdown",
   "metadata": {},
   "source": [
    "We want to perform dimensionality reduction on different subsets;\n",
    "\n",
    "- Do PCA on all the data together (both the M1 neurons and the PMd neurons) $\\rightarrow$ `'all_spikes'`\n",
    "- Do PCA on the M1 neurons only $\\rightarrow$ `'M1_spikes'`\n",
    "- Do PCA on the PMd neurons only $\\rightarrow$ `'PMd_spikes'`"
   ]
  },
  {
   "cell_type": "markdown",
   "metadata": {},
   "source": [
    "Now we have the firing rates for all the neurons in the M1 and PMd combined:"
   ]
  },
  {
   "cell_type": "code",
   "execution_count": 20,
   "metadata": {
    "scrolled": true
   },
   "outputs": [
    {
     "name": "stdout",
     "output_type": "stream",
     "text": [
      "Number of trials: (774,)\n",
      "Each trial has 149 observations x 143 neurons \n"
     ]
    }
   ],
   "source": [
    "print(f'Number of trials: {td.both_rates.shape}')\n",
    "print(f'Each trial has {td.both_rates[0].shape[0]} observations x {td.both_rates[0].shape[1]} neurons ')"
   ]
  },
  {
   "cell_type": "code",
   "execution_count": 21,
   "metadata": {},
   "outputs": [
    {
     "data": {
      "text/plain": [
       "0      [[10.371933240023875, 15.773752026832693, 12.3...\n",
       "1      [[11.264847879857852, 14.03731918590052, 8.031...\n",
       "2      [[10.371933240023875, 16.66666666666667, 11.84...\n",
       "3      [[0.8929146398339769, 8.635500399091704, 10.26...\n",
       "4      [[8.031166267574964, 8.924080907408943, 13.144...\n",
       "                             ...                        \n",
       "769    [[0.8929146398339769, 9.005357752952426, 0.0, ...\n",
       "770    [[6.294733426642792, 8.924080907408943, 0.8929...\n",
       "771    [[14.407176539761242, 9.120277654299834, 7.742...\n",
       "772    [[0.8929146398339769, 10.371933240023875, 0.0,...\n",
       "773    [[10.371933240023875, 16.66666666666667, 8.635...\n",
       "Name: both_rates, Length: 774, dtype: object"
      ]
     },
     "execution_count": 21,
     "metadata": {},
     "output_type": "execute_result"
    }
   ],
   "source": [
    "td['both_rates']"
   ]
  },
  {
   "cell_type": "code",
   "execution_count": 22,
   "metadata": {},
   "outputs": [
    {
     "name": "stdout",
     "output_type": "stream",
     "text": [
      "(100575, 143)\n",
      "\n",
      "[[10.37193324 15.77375203 12.35395927 ...  0.89291464  7.74258576\n",
      "   2.62934748]\n",
      " [14.03731919 21.77990495 18.01125863 ...  2.62934748  7.74258576\n",
      "   6.29473343]\n",
      " [16.66666667 24.40925243 22.646222   ...  5.40181879  5.40181879\n",
      "  10.37193324]\n",
      " ...\n",
      " [ 0.         16.66666667 15.77375203 ... 13.14440455  5.40181879\n",
      "  20.64060611]\n",
      " [ 0.         14.03731919 14.03731919 ... 15.48517152  7.74258576\n",
      "  17.75577805]\n",
      " [ 0.         10.37193324 10.37193324 ... 13.14440455  7.74258576\n",
      "  14.40717654]]\n"
     ]
    }
   ],
   "source": [
    "# concatenate the rates from different trials in time\n",
    "all_rates = np.concatenate(td['both_rates'].values, axis=0)\n",
    "#M1_rates = np.concatenate(td['both_rates'].values, axis=0)\n",
    "\n",
    "print(all_rates.shape) # observations x neurons\n",
    "print()\n",
    "print(all_rates)"
   ]
  },
  {
   "cell_type": "code",
   "execution_count": 23,
   "metadata": {},
   "outputs": [
    {
     "data": {
      "text/plain": [
       "PCA(copy=True, iterated_power='auto', n_components=30, random_state=None,\n",
       "    svd_solver='auto', tol=0.0, whiten=False)"
      ]
     },
     "execution_count": 23,
     "metadata": {},
     "output_type": "execute_result"
    }
   ],
   "source": [
    "'''\n",
    "Principal Component Analysis\n",
    "'''\n",
    "\n",
    "dims = 30\n",
    "model = PCA(dims)\n",
    "model.fit(all_rates)"
   ]
  },
  {
   "cell_type": "code",
   "execution_count": 24,
   "metadata": {},
   "outputs": [
    {
     "data": {
      "text/plain": [
       "array([9816.07306226, 7966.50981902, 7137.56953385, 5807.76126788,\n",
       "       4947.23370345, 4828.00675611, 4369.19099826, 4133.90862314,\n",
       "       3961.79651118, 3878.84801488, 3792.69805092, 3674.42273209,\n",
       "       3512.34449691, 3417.94792127, 3324.76517139, 3295.69718779,\n",
       "       3155.22351989, 3127.71590043, 3107.66696883, 3061.92569969,\n",
       "       2926.07008415, 2917.82367283, 2818.00691557, 2749.48958817,\n",
       "       2706.26463877, 2691.49425707, 2613.80881828, 2583.32577271,\n",
       "       2568.049409  , 2503.46625248])"
      ]
     },
     "execution_count": 24,
     "metadata": {},
     "output_type": "execute_result"
    }
   ],
   "source": [
    "model.singular_values_"
   ]
  },
  {
   "cell_type": "code",
   "execution_count": 25,
   "metadata": {},
   "outputs": [
    {
     "name": "stdout",
     "output_type": "stream",
     "text": [
      "[0.09973066 0.0656885  0.05272952 0.03491167 0.0253325  0.0241262\n",
      " 0.01975856 0.01768784 0.01624566 0.01557251 0.01488846 0.01397434\n",
      " 0.01276872 0.01209161 0.01144129 0.01124211 0.01030418 0.0101253\n",
      " 0.0099959  0.00970381 0.00886181 0.00881193 0.00821935 0.00782451\n",
      " 0.00758043 0.00749791 0.00707132 0.00690735 0.0068259  0.00648689]\n"
     ]
    }
   ],
   "source": [
    "print(model.explained_variance_ratio_)"
   ]
  },
  {
   "cell_type": "code",
   "execution_count": null,
   "metadata": {},
   "outputs": [],
   "source": []
  },
  {
   "cell_type": "markdown",
   "metadata": {},
   "source": [
    "## PCA fit transform"
   ]
  },
  {
   "cell_type": "code",
   "execution_count": 26,
   "metadata": {},
   "outputs": [
    {
     "name": "stdout",
     "output_type": "stream",
     "text": [
      "(100575, 143)\n"
     ]
    },
    {
     "data": {
      "text/html": [
       "<div>\n",
       "<style scoped>\n",
       "    .dataframe tbody tr th:only-of-type {\n",
       "        vertical-align: middle;\n",
       "    }\n",
       "\n",
       "    .dataframe tbody tr th {\n",
       "        vertical-align: top;\n",
       "    }\n",
       "\n",
       "    .dataframe thead th {\n",
       "        text-align: right;\n",
       "    }\n",
       "</style>\n",
       "<table border=\"1\" class=\"dataframe\">\n",
       "  <thead>\n",
       "    <tr style=\"text-align: right;\">\n",
       "      <th></th>\n",
       "      <th>0</th>\n",
       "      <th>1</th>\n",
       "      <th>2</th>\n",
       "      <th>3</th>\n",
       "      <th>4</th>\n",
       "      <th>5</th>\n",
       "      <th>6</th>\n",
       "      <th>7</th>\n",
       "      <th>8</th>\n",
       "      <th>9</th>\n",
       "      <th>...</th>\n",
       "      <th>133</th>\n",
       "      <th>134</th>\n",
       "      <th>135</th>\n",
       "      <th>136</th>\n",
       "      <th>137</th>\n",
       "      <th>138</th>\n",
       "      <th>139</th>\n",
       "      <th>140</th>\n",
       "      <th>141</th>\n",
       "      <th>142</th>\n",
       "    </tr>\n",
       "  </thead>\n",
       "  <tbody>\n",
       "    <tr>\n",
       "      <td>0</td>\n",
       "      <td>30.84</td>\n",
       "      <td>-33.89</td>\n",
       "      <td>-24.73</td>\n",
       "      <td>-13.89</td>\n",
       "      <td>-12.99</td>\n",
       "      <td>8.61</td>\n",
       "      <td>2.38</td>\n",
       "      <td>-14.62</td>\n",
       "      <td>8.87</td>\n",
       "      <td>11.57</td>\n",
       "      <td>...</td>\n",
       "      <td>-1.12</td>\n",
       "      <td>-0.53</td>\n",
       "      <td>4.91</td>\n",
       "      <td>1.69</td>\n",
       "      <td>-4.46</td>\n",
       "      <td>-2.08</td>\n",
       "      <td>1.83</td>\n",
       "      <td>3.10</td>\n",
       "      <td>-1.13</td>\n",
       "      <td>0.40</td>\n",
       "    </tr>\n",
       "    <tr>\n",
       "      <td>1</td>\n",
       "      <td>26.55</td>\n",
       "      <td>-32.16</td>\n",
       "      <td>-3.29</td>\n",
       "      <td>-9.55</td>\n",
       "      <td>-12.24</td>\n",
       "      <td>8.82</td>\n",
       "      <td>-11.29</td>\n",
       "      <td>-9.25</td>\n",
       "      <td>2.13</td>\n",
       "      <td>13.52</td>\n",
       "      <td>...</td>\n",
       "      <td>-0.68</td>\n",
       "      <td>-0.72</td>\n",
       "      <td>5.90</td>\n",
       "      <td>1.29</td>\n",
       "      <td>-4.16</td>\n",
       "      <td>-2.56</td>\n",
       "      <td>2.03</td>\n",
       "      <td>4.37</td>\n",
       "      <td>-1.27</td>\n",
       "      <td>2.10</td>\n",
       "    </tr>\n",
       "    <tr>\n",
       "      <td>2</td>\n",
       "      <td>18.85</td>\n",
       "      <td>-30.99</td>\n",
       "      <td>11.38</td>\n",
       "      <td>-8.93</td>\n",
       "      <td>-4.92</td>\n",
       "      <td>10.87</td>\n",
       "      <td>-20.05</td>\n",
       "      <td>-6.76</td>\n",
       "      <td>-4.21</td>\n",
       "      <td>12.23</td>\n",
       "      <td>...</td>\n",
       "      <td>0.02</td>\n",
       "      <td>-1.15</td>\n",
       "      <td>7.02</td>\n",
       "      <td>-0.26</td>\n",
       "      <td>-4.72</td>\n",
       "      <td>-1.90</td>\n",
       "      <td>1.00</td>\n",
       "      <td>5.97</td>\n",
       "      <td>-0.24</td>\n",
       "      <td>3.73</td>\n",
       "    </tr>\n",
       "    <tr>\n",
       "      <td>3</td>\n",
       "      <td>8.69</td>\n",
       "      <td>-28.26</td>\n",
       "      <td>18.75</td>\n",
       "      <td>-11.76</td>\n",
       "      <td>6.09</td>\n",
       "      <td>13.66</td>\n",
       "      <td>-24.64</td>\n",
       "      <td>-6.87</td>\n",
       "      <td>-10.82</td>\n",
       "      <td>8.06</td>\n",
       "      <td>...</td>\n",
       "      <td>0.35</td>\n",
       "      <td>-1.95</td>\n",
       "      <td>8.69</td>\n",
       "      <td>-2.53</td>\n",
       "      <td>-7.37</td>\n",
       "      <td>0.33</td>\n",
       "      <td>-1.00</td>\n",
       "      <td>8.06</td>\n",
       "      <td>1.72</td>\n",
       "      <td>4.12</td>\n",
       "    </tr>\n",
       "    <tr>\n",
       "      <td>4</td>\n",
       "      <td>0.34</td>\n",
       "      <td>-23.36</td>\n",
       "      <td>22.72</td>\n",
       "      <td>-15.22</td>\n",
       "      <td>14.88</td>\n",
       "      <td>16.35</td>\n",
       "      <td>-26.60</td>\n",
       "      <td>-6.87</td>\n",
       "      <td>-18.05</td>\n",
       "      <td>3.34</td>\n",
       "      <td>...</td>\n",
       "      <td>-0.20</td>\n",
       "      <td>-3.81</td>\n",
       "      <td>10.80</td>\n",
       "      <td>-4.01</td>\n",
       "      <td>-10.65</td>\n",
       "      <td>2.70</td>\n",
       "      <td>-2.20</td>\n",
       "      <td>8.92</td>\n",
       "      <td>3.96</td>\n",
       "      <td>3.48</td>\n",
       "    </tr>\n",
       "  </tbody>\n",
       "</table>\n",
       "<p>5 rows × 143 columns</p>\n",
       "</div>"
      ],
      "text/plain": [
       "     0      1      2      3      4      5      6      7      8      9    ...  \\\n",
       "0  30.84 -33.89 -24.73 -13.89 -12.99   8.61   2.38 -14.62   8.87  11.57  ...   \n",
       "1  26.55 -32.16  -3.29  -9.55 -12.24   8.82 -11.29  -9.25   2.13  13.52  ...   \n",
       "2  18.85 -30.99  11.38  -8.93  -4.92  10.87 -20.05  -6.76  -4.21  12.23  ...   \n",
       "3   8.69 -28.26  18.75 -11.76   6.09  13.66 -24.64  -6.87 -10.82   8.06  ...   \n",
       "4   0.34 -23.36  22.72 -15.22  14.88  16.35 -26.60  -6.87 -18.05   3.34  ...   \n",
       "\n",
       "    133   134    135   136    137   138   139   140   141   142  \n",
       "0 -1.12 -0.53   4.91  1.69  -4.46 -2.08  1.83  3.10 -1.13  0.40  \n",
       "1 -0.68 -0.72   5.90  1.29  -4.16 -2.56  2.03  4.37 -1.27  2.10  \n",
       "2  0.02 -1.15   7.02 -0.26  -4.72 -1.90  1.00  5.97 -0.24  3.73  \n",
       "3  0.35 -1.95   8.69 -2.53  -7.37  0.33 -1.00  8.06  1.72  4.12  \n",
       "4 -0.20 -3.81  10.80 -4.01 -10.65  2.70 -2.20  8.92  3.96  3.48  \n",
       "\n",
       "[5 rows x 143 columns]"
      ]
     },
     "execution_count": 26,
     "metadata": {},
     "output_type": "execute_result"
    }
   ],
   "source": [
    "# PCA\n",
    "pca = PCA()\n",
    "df_pca = pca.fit_transform(all_rates)\n",
    "\n",
    "# Store as dataframe and print\n",
    "df_pca = pd.DataFrame(df_pca)\n",
    "print(df_pca.shape)  \n",
    "df_pca.round(2).head()"
   ]
  },
  {
   "cell_type": "code",
   "execution_count": 27,
   "metadata": {},
   "outputs": [
    {
     "data": {
      "text/html": [
       "<div>\n",
       "<style scoped>\n",
       "    .dataframe tbody tr th:only-of-type {\n",
       "        vertical-align: middle;\n",
       "    }\n",
       "\n",
       "    .dataframe tbody tr th {\n",
       "        vertical-align: top;\n",
       "    }\n",
       "\n",
       "    .dataframe thead th {\n",
       "        text-align: right;\n",
       "    }\n",
       "</style>\n",
       "<table border=\"1\" class=\"dataframe\">\n",
       "  <thead>\n",
       "    <tr style=\"text-align: right;\">\n",
       "      <th></th>\n",
       "      <th>0</th>\n",
       "      <th>1</th>\n",
       "      <th>2</th>\n",
       "      <th>3</th>\n",
       "      <th>4</th>\n",
       "      <th>5</th>\n",
       "      <th>6</th>\n",
       "      <th>7</th>\n",
       "      <th>8</th>\n",
       "      <th>9</th>\n",
       "      <th>...</th>\n",
       "      <th>133</th>\n",
       "      <th>134</th>\n",
       "      <th>135</th>\n",
       "      <th>136</th>\n",
       "      <th>137</th>\n",
       "      <th>138</th>\n",
       "      <th>139</th>\n",
       "      <th>140</th>\n",
       "      <th>141</th>\n",
       "      <th>142</th>\n",
       "    </tr>\n",
       "  </thead>\n",
       "  <tbody>\n",
       "    <tr>\n",
       "      <td>0</td>\n",
       "      <td>-0.092579</td>\n",
       "      <td>-0.049763</td>\n",
       "      <td>-0.098847</td>\n",
       "      <td>0.068122</td>\n",
       "      <td>0.030066</td>\n",
       "      <td>0.126294</td>\n",
       "      <td>-0.116442</td>\n",
       "      <td>-0.001172</td>\n",
       "      <td>0.052950</td>\n",
       "      <td>0.074804</td>\n",
       "      <td>...</td>\n",
       "      <td>-0.025893</td>\n",
       "      <td>-0.111930</td>\n",
       "      <td>-0.026005</td>\n",
       "      <td>-0.015751</td>\n",
       "      <td>0.077641</td>\n",
       "      <td>-0.183244</td>\n",
       "      <td>0.007308</td>\n",
       "      <td>-0.003380</td>\n",
       "      <td>0.246121</td>\n",
       "      <td>-0.079911</td>\n",
       "    </tr>\n",
       "    <tr>\n",
       "      <td>1</td>\n",
       "      <td>-0.115257</td>\n",
       "      <td>-0.167899</td>\n",
       "      <td>-0.177552</td>\n",
       "      <td>-0.187255</td>\n",
       "      <td>-0.091580</td>\n",
       "      <td>0.037434</td>\n",
       "      <td>-0.012773</td>\n",
       "      <td>-0.008880</td>\n",
       "      <td>-0.059865</td>\n",
       "      <td>0.018422</td>\n",
       "      <td>...</td>\n",
       "      <td>0.006887</td>\n",
       "      <td>0.004827</td>\n",
       "      <td>0.025076</td>\n",
       "      <td>-0.008623</td>\n",
       "      <td>0.072452</td>\n",
       "      <td>0.128328</td>\n",
       "      <td>-0.099575</td>\n",
       "      <td>0.011951</td>\n",
       "      <td>0.183839</td>\n",
       "      <td>-0.008262</td>\n",
       "    </tr>\n",
       "    <tr>\n",
       "      <td>2</td>\n",
       "      <td>0.182504</td>\n",
       "      <td>0.201026</td>\n",
       "      <td>0.139522</td>\n",
       "      <td>0.169846</td>\n",
       "      <td>0.190105</td>\n",
       "      <td>0.131181</td>\n",
       "      <td>-0.008674</td>\n",
       "      <td>0.013614</td>\n",
       "      <td>0.117575</td>\n",
       "      <td>0.081361</td>\n",
       "      <td>...</td>\n",
       "      <td>0.029894</td>\n",
       "      <td>-0.012017</td>\n",
       "      <td>0.027075</td>\n",
       "      <td>0.003329</td>\n",
       "      <td>0.069836</td>\n",
       "      <td>0.033092</td>\n",
       "      <td>0.120333</td>\n",
       "      <td>0.042552</td>\n",
       "      <td>0.162085</td>\n",
       "      <td>-0.077813</td>\n",
       "    </tr>\n",
       "    <tr>\n",
       "      <td>3</td>\n",
       "      <td>-0.019358</td>\n",
       "      <td>-0.090796</td>\n",
       "      <td>0.092808</td>\n",
       "      <td>0.204580</td>\n",
       "      <td>0.025638</td>\n",
       "      <td>0.276798</td>\n",
       "      <td>0.005954</td>\n",
       "      <td>0.108890</td>\n",
       "      <td>-0.075985</td>\n",
       "      <td>0.010896</td>\n",
       "      <td>...</td>\n",
       "      <td>0.049525</td>\n",
       "      <td>0.002130</td>\n",
       "      <td>-0.003676</td>\n",
       "      <td>0.008950</td>\n",
       "      <td>0.040731</td>\n",
       "      <td>0.146902</td>\n",
       "      <td>-0.035910</td>\n",
       "      <td>0.015239</td>\n",
       "      <td>-0.104200</td>\n",
       "      <td>0.161135</td>\n",
       "    </tr>\n",
       "    <tr>\n",
       "      <td>4</td>\n",
       "      <td>-0.032314</td>\n",
       "      <td>-0.112025</td>\n",
       "      <td>-0.068264</td>\n",
       "      <td>-0.053151</td>\n",
       "      <td>0.132713</td>\n",
       "      <td>0.061960</td>\n",
       "      <td>0.030345</td>\n",
       "      <td>0.082347</td>\n",
       "      <td>0.030847</td>\n",
       "      <td>-0.052165</td>\n",
       "      <td>...</td>\n",
       "      <td>0.050329</td>\n",
       "      <td>-0.032277</td>\n",
       "      <td>0.003006</td>\n",
       "      <td>0.029479</td>\n",
       "      <td>0.036516</td>\n",
       "      <td>-0.002644</td>\n",
       "      <td>-0.008664</td>\n",
       "      <td>0.041312</td>\n",
       "      <td>-0.010845</td>\n",
       "      <td>0.027815</td>\n",
       "    </tr>\n",
       "  </tbody>\n",
       "</table>\n",
       "<p>5 rows × 143 columns</p>\n",
       "</div>"
      ],
      "text/plain": [
       "        0         1         2         3         4         5         6    \\\n",
       "0 -0.092579 -0.049763 -0.098847  0.068122  0.030066  0.126294 -0.116442   \n",
       "1 -0.115257 -0.167899 -0.177552 -0.187255 -0.091580  0.037434 -0.012773   \n",
       "2  0.182504  0.201026  0.139522  0.169846  0.190105  0.131181 -0.008674   \n",
       "3 -0.019358 -0.090796  0.092808  0.204580  0.025638  0.276798  0.005954   \n",
       "4 -0.032314 -0.112025 -0.068264 -0.053151  0.132713  0.061960  0.030345   \n",
       "\n",
       "        7         8         9    ...       133       134       135       136  \\\n",
       "0 -0.001172  0.052950  0.074804  ... -0.025893 -0.111930 -0.026005 -0.015751   \n",
       "1 -0.008880 -0.059865  0.018422  ...  0.006887  0.004827  0.025076 -0.008623   \n",
       "2  0.013614  0.117575  0.081361  ...  0.029894 -0.012017  0.027075  0.003329   \n",
       "3  0.108890 -0.075985  0.010896  ...  0.049525  0.002130 -0.003676  0.008950   \n",
       "4  0.082347  0.030847 -0.052165  ...  0.050329 -0.032277  0.003006  0.029479   \n",
       "\n",
       "        137       138       139       140       141       142  \n",
       "0  0.077641 -0.183244  0.007308 -0.003380  0.246121 -0.079911  \n",
       "1  0.072452  0.128328 -0.099575  0.011951  0.183839 -0.008262  \n",
       "2  0.069836  0.033092  0.120333  0.042552  0.162085 -0.077813  \n",
       "3  0.040731  0.146902 -0.035910  0.015239 -0.104200  0.161135  \n",
       "4  0.036516 -0.002644 -0.008664  0.041312 -0.010845  0.027815  \n",
       "\n",
       "[5 rows x 143 columns]"
      ]
     },
     "execution_count": 27,
     "metadata": {},
     "output_type": "execute_result"
    }
   ],
   "source": [
    "# principal component weights \n",
    "pca_loadings = pd.DataFrame(pca.components_)\n",
    "pca_loadings.head() # each row contains the weigths or loadings of one PC"
   ]
  },
  {
   "cell_type": "markdown",
   "metadata": {},
   "source": [
    "PC1 contributed 10%, PC2 contributed 7% and so on."
   ]
  },
  {
   "cell_type": "code",
   "execution_count": 28,
   "metadata": {},
   "outputs": [
    {
     "data": {
      "text/plain": [
       "array([0.1 , 0.07, 0.05, 0.03, 0.03, 0.02, 0.02, 0.02, 0.02, 0.02, 0.01,\n",
       "       0.01, 0.01, 0.01, 0.01, 0.01, 0.01, 0.01, 0.01, 0.01, 0.01, 0.01,\n",
       "       0.01, 0.01, 0.01, 0.01, 0.01, 0.01, 0.01, 0.01, 0.01, 0.01, 0.01,\n",
       "       0.01, 0.01, 0.01, 0.01, 0.01, 0.01, 0.01, 0.01, 0.01, 0.01, 0.01,\n",
       "       0.01, 0.01, 0.01, 0.01, 0.01, 0.  , 0.  , 0.  , 0.  , 0.  , 0.  ,\n",
       "       0.  , 0.  , 0.  , 0.  , 0.  , 0.  , 0.  , 0.  , 0.  , 0.  , 0.  ,\n",
       "       0.  , 0.  , 0.  , 0.  , 0.  , 0.  , 0.  , 0.  , 0.  , 0.  , 0.  ,\n",
       "       0.  , 0.  , 0.  , 0.  , 0.  , 0.  , 0.  , 0.  , 0.  , 0.  , 0.  ,\n",
       "       0.  , 0.  , 0.  , 0.  , 0.  , 0.  , 0.  , 0.  , 0.  , 0.  , 0.  ,\n",
       "       0.  , 0.  , 0.  , 0.  , 0.  , 0.  , 0.  , 0.  , 0.  , 0.  , 0.  ,\n",
       "       0.  , 0.  , 0.  , 0.  , 0.  , 0.  , 0.  , 0.  , 0.  , 0.  , 0.  ,\n",
       "       0.  , 0.  , 0.  , 0.  , 0.  , 0.  , 0.  , 0.  , 0.  , 0.  , 0.  ,\n",
       "       0.  , 0.  , 0.  , 0.  , 0.  , 0.  , 0.  , 0.  , 0.  , 0.  , 0.  ])"
      ]
     },
     "execution_count": 28,
     "metadata": {},
     "output_type": "execute_result"
    }
   ],
   "source": [
    "pca.explained_variance_ratio_.round(2)"
   ]
  },
  {
   "cell_type": "code",
   "execution_count": 29,
   "metadata": {
    "scrolled": true
   },
   "outputs": [
    {
     "data": {
      "text/plain": [
       "143"
      ]
     },
     "execution_count": 29,
     "metadata": {},
     "output_type": "execute_result"
    }
   ],
   "source": [
    "len(pca.explained_variance_ratio_) # for each of the 143 neurons"
   ]
  },
  {
   "cell_type": "code",
   "execution_count": 30,
   "metadata": {},
   "outputs": [],
   "source": [
    "binz = np.arange(0, 0.5, 0.005)"
   ]
  },
  {
   "cell_type": "code",
   "execution_count": 50,
   "metadata": {
    "scrolled": false
   },
   "outputs": [
    {
     "data": {
      "image/png": "[encoded data removed]",
      "text/plain": [
       "<Figure size 1360x400 with 2 Axes>"
      ]
     },
     "metadata": {},
     "output_type": "display_data"
    }
   ],
   "source": [
    "fig, (ax1, ax2) = plt.subplots(1, 2, figsize=(17,5), dpi=80)\n",
    "fig.suptitle(f'Variance explained by the principal components session: {fname}', fontsize=15)\n",
    "variance_exp_cumsum = pca.explained_variance_ratio_.cumsum().round(2)\n",
    "ax1.plot(variance_exp_cumsum, lw=2.5)\n",
    "ax1.set_xlabel('eigenvalue number', fontsize=13)\n",
    "ax1.set_ylabel('explained variance', fontsize=13);\n",
    "\n",
    "ax2.bar(range(0, len(pca.explained_variance_ratio_)), pca.explained_variance_ratio_, alpha=0.5, align='center')\n",
    "ax2.set_xlabel('eigenvalue number', fontsize=13)\n",
    "ax2.set_ylabel('explained variance', fontsize=13)\n",
    "sns.despine(left=True, bottom=True);"
   ]
  },
  {
   "attachments": {
    "image.png": {
     "image/png": "[encoded data removed]"
    }
   },
   "cell_type": "markdown",
   "metadata": {},
   "source": [
    "### A. Investigating the principal component weights\n",
    "\n",
    "> Motivation\n",
    "\n",
    "It is standard to perform dimensionality reduction on the data to find a lower dimensional Manifold. Not much attention is payed to the lower principal components, while this could be interesting as well. Let's say we have the following decomposition of the spike trains\n",
    "![image.png](attachment:image.png)\n",
    "where $\\mathbf{u}_1 = [u_{11}, u_{21}, u_{31}]$ and $\\mathbf{u}_2 = [u_{12}, u_{22}, u_{32}]$ are the weight vectors. These weight vectors in themselves can also be informative because they tell us what the loading of each of the dimensions - for each neuron - is.\n",
    "\n",
    "We would like to understand if there is a relationship (correlation) between the weight vectors and the spatial location in the brain. "
   ]
  },
  {
   "cell_type": "code",
   "execution_count": null,
   "metadata": {},
   "outputs": [],
   "source": []
  },
  {
   "cell_type": "code",
   "execution_count": null,
   "metadata": {},
   "outputs": [],
   "source": []
  },
  {
   "cell_type": "code",
   "execution_count": null,
   "metadata": {},
   "outputs": [],
   "source": []
  }
 ],
 "metadata": {
  "kernelspec": {
   "display_name": "Python 3",
   "language": "python",
   "name": "python3"
  },
  "language_info": {
   "codemirror_mode": {
    "name": "ipython",
    "version": 3
   },
   "file_extension": ".py",
   "mimetype": "text/x-python",
   "name": "python",
   "nbconvert_exporter": "python",
   "pygments_lexer": "ipython3",
   "version": "3.7.4"
  }
 },
 "nbformat": 4,
 "nbformat_minor": 2
}
