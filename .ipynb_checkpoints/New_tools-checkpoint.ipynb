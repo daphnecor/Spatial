{
 "cells": [
  {
   "cell_type": "markdown",
   "metadata": {},
   "source": [
    "## Localise electrodes on arrays"
   ]
  },
  {
   "cell_type": "code",
   "execution_count": 25,
   "metadata": {},
   "outputs": [],
   "source": [
    "'''\n",
    "Dependencies\n",
    "'''\n",
    "import scipy.io as sio\n",
    "import matplotlib.pyplot as plt\n",
    "import matplotlib as mpl\n",
    "import numpy as np\n",
    "import scipy\n",
    "import pandas as pd\n",
    "import scipy.stats as stats\n",
    "import scipy.sparse as sparse\n",
    "import warnings \n",
    "from scipy import integrate\n",
    "import seaborn as sns\n",
    "warnings.simplefilter('ignore')\n",
    "from sklearn.decomposition import PCA\n",
    "import scipy.io as sio\n",
    "import os\n",
    "from tqdm.auto import tqdm\n",
    "\n",
    "sns.set_style('white')\n",
    "# to change default color cycle\n",
    "cs = ['#081D30', '#D7A928', '#CDB275', '#1C5F69', '#984B3F', '#C23F33', '#2E3D30']\n",
    "plt.rcParams['axes.prop_cycle'] = plt.cycler(color=cs)\n",
    "\n",
    "import pyaldata as pld # using functions from PyalData\n",
    "import tools # matlab2python functions"
   ]
  },
  {
   "cell_type": "markdown",
   "metadata": {},
   "source": [
    "### Functions \n",
    "\n",
    "To be implemented in tools.py"
   ]
  },
  {
   "cell_type": "code",
   "execution_count": 2,
   "metadata": {},
   "outputs": [],
   "source": [
    "def cleanup_text(s):\n",
    "    ''' Removes .cmp file formatting '''\n",
    "    for r in (('\\t', ' '), ('\\n', ''), ('elec', '')):\n",
    "        s = s.replace(*r)\n",
    "    s = s.split()        \n",
    "    return s"
   ]
  },
  {
   "cell_type": "code",
   "execution_count": 3,
   "metadata": {},
   "outputs": [],
   "source": [
    "def read_cmp(cmp_file):\n",
    "    '''\n",
    "    reads Blackrock .cmp file into Python\n",
    "    \n",
    "    Parameters\n",
    "    ----------\n",
    "    cmp_file: str\n",
    "        string file path to .cmp file\n",
    "        \n",
    "    Returns\n",
    "    -------\n",
    "    elec_map: dataframe of shape (96, 5)\n",
    "        [col (int), row (int), channel number (str), within_channel_num (int), global electrode number (int)]\n",
    "    '''\n",
    "    \n",
    "    f = open(cmp_file)\n",
    "    # remove comments in file\n",
    "    temp = [line for line in f.readlines() if not line.startswith('//')] \n",
    "    pre_df = [cleanup_text(row) for i, row in enumerate(temp) if not i == 0] \n",
    "    df = pd.DataFrame(pre_df, columns=['array_col', 'array_row', 'channel_num', 'within_channel_num', 'global_enum']).dropna()\n",
    "\n",
    "    # ugly way to convert all possible cols to int.. to be improved\n",
    "    for i in df.columns:\n",
    "        try: df[[i]] = df[[i]].astype(str).astype(int) \n",
    "        except: pass\n",
    "    \n",
    "    return df"
   ]
  },
  {
   "cell_type": "code",
   "execution_count": 4,
   "metadata": {},
   "outputs": [],
   "source": [
    "def show_electrode_pos(elec_map, elecs, verbose=False):\n",
    "    '''\n",
    "    Display the position of specified electrodes on the array\n",
    "    \n",
    "    Parameters\n",
    "    ----------\n",
    "    elec_map: \n",
    "    \n",
    "    elecs: the electrodes for which you want to get the position\n",
    "    \n",
    "    Returns\n",
    "    -------\n",
    "    \n",
    "    A: np.array\n",
    "        matrix with the spatial position of the electrodes\n",
    "    '''\n",
    "    # construct multi electrode array (assuming 10x10)\n",
    "    A = np.zeros((10,10))\n",
    "    \n",
    "    for elec in elecs:\n",
    "        if elec in elec_map['global_enum'].values:\n",
    "            # find corresponding row and column in array\n",
    "            r = int(elec_map.loc[elec_map['global_enum'] == elec]['array_row'])\n",
    "            c = int(elec_map.loc[elec_map['global_enum'] == elec]['array_col'])\n",
    "            A[r, c] = elec\n",
    "        else:\n",
    "            if verbose:\n",
    "                print(f'Electrode number {elec} does not exist in array \\n')\n",
    "    \n",
    "    if verbose:\n",
    "        fig, ax = plt.subplots(1, figsize=(6,6), dpi=80)\n",
    "        sns.heatmap(A, cmap='vlag', annot=True, vmin=0, vmax=1, cbar=False, ax=ax, linewidths=.5)\n",
    "    \n",
    "    return A"
   ]
  },
  {
   "cell_type": "markdown",
   "metadata": {},
   "source": [
    "## Load data"
   ]
  },
  {
   "cell_type": "code",
   "execution_count": 5,
   "metadata": {},
   "outputs": [],
   "source": [
    "'''\n",
    "Insert path and filename \n",
    "'''\n",
    "path = '/Users/Daphne/Data/'  \n",
    "fname = 'Chewie_CO_VR_2016-10-06.mat' \n",
    "df = pld.mat2dataframe(path+fname, shift_idx_fields=True)"
   ]
  },
  {
   "cell_type": "markdown",
   "metadata": {},
   "source": [
    "## Read cmp file\n",
    "\n",
    "The `.cmp` file contains the location of the electrodes on the array.\n",
    "\n",
    "We want to know the spatial location of electrodes so that we know the spatial location of the recorded neurons.\n",
    "\n",
    "Note that, while an array is a 10x10 grid, there are only 96 electrodes on a given array due to hardware constraints. \n",
    "\n",
    "By default, omitted electrodes (dead electrodes) are the 4 corner grids. If something goes wrong during fabrication however, this may change."
   ]
  },
  {
   "cell_type": "code",
   "execution_count": 6,
   "metadata": {},
   "outputs": [],
   "source": [
    "elec_map_M1 = read_cmp(cmp_file='/Users/Daphne/Desktop/Chewie Left M1 SN 6250-001474.cmp')\n",
    "elec_map_PMd = read_cmp(cmp_file='/Users/Daphne/Desktop/Chewie Left PMd SN 6251-001469.cmp')"
   ]
  },
  {
   "cell_type": "code",
   "execution_count": 7,
   "metadata": {},
   "outputs": [
    {
     "data": {
      "text/plain": [
       "(96, 5)"
      ]
     },
     "execution_count": 7,
     "metadata": {},
     "output_type": "execute_result"
    }
   ],
   "source": [
    "elec_map_M1.shape"
   ]
  },
  {
   "cell_type": "markdown",
   "metadata": {},
   "source": [
    "`show_electrode_pos()` returns a 10x10 matrix with the electrode numbers. Set `verbose=True` and it will display the array with the given electrodes in red and the rest blue."
   ]
  },
  {
   "cell_type": "code",
   "execution_count": 40,
   "metadata": {},
   "outputs": [
    {
     "data": {
      "image/png": "[encoded data removed]",
      "text/plain": [
       "<Figure size 480x480 with 1 Axes>"
      ]
     },
     "metadata": {},
     "output_type": "display_data"
    }
   ],
   "source": [
    "show_electrode_pos(elec_map_M1, elecs=[96, 13, 45], verbose=True);"
   ]
  },
  {
   "cell_type": "markdown",
   "metadata": {},
   "source": [
    "For the M1 array, we see that indeed all corner squares are omitted."
   ]
  },
  {
   "cell_type": "code",
   "execution_count": 41,
   "metadata": {},
   "outputs": [
    {
     "data": {
      "image/png": "[encoded data removed]",
      "text/plain": [
       "<Figure size 480x480 with 1 Axes>"
      ]
     },
     "metadata": {},
     "output_type": "display_data"
    }
   ],
   "source": [
    "show_electrode_pos(elec_map_M1, elecs=range(1,97), verbose=True);"
   ]
  },
  {
   "cell_type": "markdown",
   "metadata": {},
   "source": [
    "For the PMd array one dead electrode has a different location."
   ]
  },
  {
   "cell_type": "code",
   "execution_count": 42,
   "metadata": {},
   "outputs": [
    {
     "data": {
      "image/png": "[encoded data removed]",
      "text/plain": [
       "<Figure size 480x480 with 1 Axes>"
      ]
     },
     "metadata": {},
     "output_type": "display_data"
    }
   ],
   "source": [
    "show_electrode_pos(elec_map_PMd, elecs=range(1,97), verbose=True);"
   ]
  },
  {
   "cell_type": "markdown",
   "metadata": {},
   "source": [
    "The colored grids are just for visualisation purposes, we can use the np arrays to continue.\n",
    "\n",
    "We have the spatial location of each electrode and we have **unit guides** that specify how many neurons each electrode covers.\n",
    "\n",
    "Connecting these two, we can get the spatial location of $n$ neurons on the array."
   ]
  },
  {
   "cell_type": "code",
   "execution_count": 43,
   "metadata": {},
   "outputs": [],
   "source": [
    "M1_elecmap = show_electrode_pos(elec_map_M1, elecs=range(1,97))\n",
    "PMd_elecmap = show_electrode_pos(elec_map_PMd, elecs=range(1,97))"
   ]
  },
  {
   "cell_type": "code",
   "execution_count": 44,
   "metadata": {},
   "outputs": [
    {
     "data": {
      "text/plain": [
       "array([[59., 79., 69.,  0., 49., 39., 29., 19.,  9.,  0.],\n",
       "       [89., 80., 70., 60., 50., 40., 30., 20., 10.,  1.],\n",
       "       [90., 81., 71., 61., 51., 41., 31., 21., 11.,  2.],\n",
       "       [91., 82., 72., 62., 52., 42., 32., 22., 12.,  3.],\n",
       "       [92., 83., 73., 63., 53., 43., 33., 23., 13.,  4.],\n",
       "       [93., 84., 74., 64., 54., 44., 34., 24., 14.,  5.],\n",
       "       [94., 85., 75., 65., 55., 45., 35., 25., 15.,  6.],\n",
       "       [95., 86., 76., 66., 56., 46., 36., 26., 16.,  7.],\n",
       "       [96., 87., 77., 67., 57., 47., 37., 27., 17.,  8.],\n",
       "       [ 0., 88., 78., 68., 58., 48., 38., 28., 18.,  0.]])"
      ]
     },
     "execution_count": 44,
     "metadata": {},
     "output_type": "execute_result"
    }
   ],
   "source": [
    "PMd_elecmap"
   ]
  },
  {
   "cell_type": "markdown",
   "metadata": {},
   "source": [
    "## Unit guides\n",
    "\n",
    "The unit guides specify the number of neurons per electrode. `[elec num, num cells that electrode covers]`\n",
    "\n",
    "While the unit guides are `(774 x N)` (we have a unit guide for each row), they are all equal.\n",
    "\n",
    "We can pick an arbitrary one. "
   ]
  },
  {
   "cell_type": "code",
   "execution_count": 12,
   "metadata": {},
   "outputs": [
    {
     "data": {
      "text/plain": [
       "array([ 5,  5,  5,  5,  9,  9,  9, 10, 13, 13, 13, 13, 15, 16, 18, 20, 20,\n",
       "       24, 24, 24, 26, 28, 28, 28, 32, 32, 32, 34, 36, 40, 40, 42, 43, 44,\n",
       "       46, 46, 46, 46, 47, 50, 50, 51, 52, 53, 53, 54, 54, 54, 54, 56, 62,\n",
       "       62, 65, 75, 79, 86, 91, 91, 92, 92, 92, 95, 96], dtype=uint8)"
      ]
     },
     "execution_count": 12,
     "metadata": {},
     "output_type": "execute_result"
    }
   ],
   "source": [
    "df['M1_unit_guide'][0][:, 0] # the electrodes"
   ]
  },
  {
   "cell_type": "code",
   "execution_count": 35,
   "metadata": {},
   "outputs": [
    {
     "data": {
      "text/plain": [
       "0      [[5, 1], [5, 2], [5, 3], [5, 4], [9, 1], [9, 2...\n",
       "1      [[5, 1], [5, 2], [5, 3], [5, 4], [9, 1], [9, 2...\n",
       "2      [[5, 1], [5, 2], [5, 3], [5, 4], [9, 1], [9, 2...\n",
       "3      [[5, 1], [5, 2], [5, 3], [5, 4], [9, 1], [9, 2...\n",
       "4      [[5, 1], [5, 2], [5, 3], [5, 4], [9, 1], [9, 2...\n",
       "                             ...                        \n",
       "769    [[5, 1], [5, 2], [5, 3], [5, 4], [9, 1], [9, 2...\n",
       "770    [[5, 1], [5, 2], [5, 3], [5, 4], [9, 1], [9, 2...\n",
       "771    [[5, 1], [5, 2], [5, 3], [5, 4], [9, 1], [9, 2...\n",
       "772    [[5, 1], [5, 2], [5, 3], [5, 4], [9, 1], [9, 2...\n",
       "773    [[5, 1], [5, 2], [5, 3], [5, 4], [9, 1], [9, 2...\n",
       "Name: M1_unit_guide, Length: 774, dtype: object"
      ]
     },
     "execution_count": 35,
     "metadata": {},
     "output_type": "execute_result"
    }
   ],
   "source": [
    "df['M1_unit_guide'] # rows are all equal "
   ]
  },
  {
   "cell_type": "code",
   "execution_count": 36,
   "metadata": {},
   "outputs": [],
   "source": [
    "# to check equality or rows (.unique did not work)\n",
    "# for i in range(700):\n",
    "#     if not np.array_equal(df['M1_unit_guide'][0], df['M1_unit_guide'][i]):\n",
    "#         print('not equal')"
   ]
  },
  {
   "cell_type": "code",
   "execution_count": 37,
   "metadata": {},
   "outputs": [],
   "source": [
    "M1_unit_guide = df['M1_unit_guide'][0]\n",
    "PMd_unit_guide = df['PMd_unit_guide'][0]\n",
    "\n",
    "cell_distrib_M1 = M1_unit_guide[:, 1]\n",
    "cell_distrib_PMd = PMd_unit_guide[:, 1]"
   ]
  },
  {
   "cell_type": "markdown",
   "metadata": {},
   "source": [
    "Distribution of number of neurons per electrode"
   ]
  },
  {
   "cell_type": "code",
   "execution_count": 38,
   "metadata": {},
   "outputs": [
    {
     "data": {
      "image/png": "[encoded data removed]",
      "text/plain": [
       "<Figure size 960x400 with 2 Axes>"
      ]
     },
     "metadata": {},
     "output_type": "display_data"
    }
   ],
   "source": [
    "fig, (ax1, ax2) = plt.subplots(1, 2, figsize=(12,5), dpi=80)\n",
    "\n",
    "sns.countplot(x=cell_distrib_M1, ax=ax1)\n",
    "ax1.set_title('M1', fontsize=14)\n",
    "ax1.set_xlabel('number of neurons', fontsize=13)\n",
    "ax1.set_ylabel('Count', fontsize=13)\n",
    "\n",
    "sns.countplot(x=cell_distrib_PMd, ax=ax2)\n",
    "ax2.set_title('PMd', fontsize=14)\n",
    "ax2.set_xlabel('number of neurons', fontsize=13)\n",
    "ax2.set_ylabel('Count', fontsize=13);"
   ]
  },
  {
   "cell_type": "code",
   "execution_count": 49,
   "metadata": {},
   "outputs": [
    {
     "data": {
      "text/plain": [
       "array([[ 5,  1],\n",
       "       [ 5,  2],\n",
       "       [ 5,  3],\n",
       "       [ 5,  4],\n",
       "       [ 9,  1],\n",
       "       [ 9,  2],\n",
       "       [ 9,  3],\n",
       "       [10,  1],\n",
       "       [13,  1],\n",
       "       [13,  2],\n",
       "       [13,  3],\n",
       "       [13,  4],\n",
       "       [15,  1],\n",
       "       [16,  1],\n",
       "       [18,  1],\n",
       "       [20,  1],\n",
       "       [20,  2],\n",
       "       [24,  1],\n",
       "       [24,  2],\n",
       "       [24,  3]], dtype=uint8)"
      ]
     },
     "execution_count": 49,
     "metadata": {},
     "output_type": "execute_result"
    }
   ],
   "source": [
    "M1_unit_guide[:20] # Q: why are there multiple entries for some electrodes and none for others?"
   ]
  },
  {
   "cell_type": "code",
   "execution_count": 48,
   "metadata": {},
   "outputs": [
    {
     "data": {
      "text/plain": [
       "(array([0, 1, 2, 3]), array([0, 0, 0, 0]))"
      ]
     },
     "execution_count": 48,
     "metadata": {},
     "output_type": "execute_result"
    }
   ],
   "source": [
    "np.where(M1_unit_guide == 5)"
   ]
  },
  {
   "cell_type": "code",
   "execution_count": 51,
   "metadata": {},
   "outputs": [],
   "source": [
    "elecs = range(1,97)\n",
    "\n",
    "loc_m1_units = []\n",
    "loc_pmd_units = []\n",
    "\n",
    "# for i, e in enumerate(elecs):\n",
    "# #     # find indices of certain electrodes\n",
    "# #     m1_units.append(np.where(M1_unit_guide == e)) \n",
    "# #     # pmd"
   ]
  },
  {
   "cell_type": "markdown",
   "metadata": {},
   "source": [
    "## Old"
   ]
  },
  {
   "cell_type": "markdown",
   "metadata": {},
   "source": [
    "//   legend\t\t\t\t\t\n",
    "\n",
    "//   col - 0 based column from left to right\t\t\t\t\t\n",
    "\n",
    "//   row - 0 based row from bottom to top\t\t\t\t\t\n",
    "\n",
    "//   bank - bank name - values can be A B C or D\t\t\t\t\t\n",
    "\n",
    "//   elec - 1 based electrode number within the bank - values can be 1-32\t\t\t\t\t\n",
    "\n",
    "//   label - label used to rename channels in Central (optional)\t\t\t\t\t\n",
    "\n",
    "Cerebus mapping for array 13965-21    SN: 6250-001474\t\t\t\t"
   ]
  }
 ],
 "metadata": {
  "kernelspec": {
   "display_name": "Python 3",
   "language": "python",
   "name": "python3"
  },
  "language_info": {
   "codemirror_mode": {
    "name": "ipython",
    "version": 3
   },
   "file_extension": ".py",
   "mimetype": "text/x-python",
   "name": "python",
   "nbconvert_exporter": "python",
   "pygments_lexer": "ipython3",
   "version": "3.7.4"
  }
 },
 "nbformat": 4,
 "nbformat_minor": 4
}
