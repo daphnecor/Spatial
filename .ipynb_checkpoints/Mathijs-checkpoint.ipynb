{
 "cells": [
  {
   "cell_type": "code",
   "execution_count": 1,
   "metadata": {},
   "outputs": [],
   "source": [
    "'''\n",
    "Dependencies\n",
    "'''\n",
    "import scipy.io as sio\n",
    "import matplotlib.pyplot as plt\n",
    "import matplotlib as mpl\n",
    "import numpy as np\n",
    "import scipy\n",
    "import pandas as pd\n",
    "import scipy.stats as stats\n",
    "import scipy.sparse as sparse\n",
    "import warnings \n",
    "from scipy import integrate\n",
    "import seaborn as sns\n",
    "warnings.simplefilter('ignore')\n",
    "from sklearn import decomposition\n",
    "from sklearn.preprocessing import normalize\n",
    "from scipy.stats import ks_2samp\n",
    "import scipy.io as sio\n",
    "import os\n",
    "import importlib\n",
    "import rutils\n",
    "from pyaldata import *\n",
    "from rutils import *\n",
    "\n",
    "%load_ext autoreload\n",
    "%autoreload 2"
   ]
  },
  {
   "cell_type": "markdown",
   "metadata": {},
   "source": [
    "## Load data "
   ]
  },
  {
   "cell_type": "code",
   "execution_count": 7,
   "metadata": {},
   "outputs": [],
   "source": [
    "binz = np.arange(0, 0.5, 0.005)\n",
    "\n",
    "# normalise for histogram\n",
    "same_elec = np.load('same_elec.npy')\n",
    "same_arr = np.load('same_arr.npy')\n",
    "other_arr = np.load('other_arr.npy')"
   ]
  },
  {
   "cell_type": "code",
   "execution_count": 8,
   "metadata": {},
   "outputs": [
    {
     "data": {
      "image/png": "[encoded data removed]",
      "text/plain": [
       "<Figure size 960x480 with 1 Axes>"
      ]
     },
     "metadata": {
      "needs_background": "light"
     },
     "output_type": "display_data"
    }
   ],
   "source": [
    "# get the counts per bin\n",
    "n_se, _ = np.histogram(same_elec, bins=binz)\n",
    "n_se = n_se/max(n_se) # normalise\n",
    "\n",
    "# get the counts per bin\n",
    "n_sa, _ = np.histogram(same_arr, bins=binz)\n",
    "n_sa = n_sa/max(n_sa) # normalise\n",
    "\n",
    "# get the counts per bin\n",
    "n_oa, _ = np.histogram(other_arr, bins=binz)\n",
    "n_oa = n_oa/max(n_oa) # normalise\n",
    "\n",
    "fig, ax = plt.subplots(1, figsize=(12, 6), dpi=80)\n",
    "ax.hist(n_oa, bins=binz)\n",
    "ax.hist(n_sa, bins=binz)\n",
    "ax.hist(n_se, bins=binz);"
   ]
  },
  {
   "cell_type": "code",
   "execution_count": null,
   "metadata": {},
   "outputs": [],
   "source": []
  }
 ],
 "metadata": {
  "kernelspec": {
   "display_name": "Python 3",
   "language": "python",
   "name": "python3"
  },
  "language_info": {
   "codemirror_mode": {
    "name": "ipython",
    "version": 3
   },
   "file_extension": ".py",
   "mimetype": "text/x-python",
   "name": "python",
   "nbconvert_exporter": "python",
   "pygments_lexer": "ipython3",
   "version": "3.7.4"
  }
 },
 "nbformat": 4,
 "nbformat_minor": 4
}
