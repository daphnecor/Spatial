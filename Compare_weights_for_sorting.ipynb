{
 "cells": [
  {
   "cell_type": "markdown",
   "metadata": {},
   "source": [
    "Python version of the matlab file `compare_weights_spatially_controlForSorting.m`"
   ]
  },
  {
   "cell_type": "code",
   "execution_count": 3,
   "metadata": {},
   "outputs": [],
   "source": [
    "import scipy.io as sio\n",
    "import matplotlib.pyplot as plt\n",
    "import matplotlib as mpl\n",
    "import numpy as np\n",
    "import scipy\n",
    "import pandas as pd\n",
    "import scipy.stats as stats\n",
    "import scipy.sparse as sparse\n",
    "import copy\n",
    "import time\n",
    "import warnings \n",
    "from scipy import integrate\n",
    "import seaborn as sns\n",
    "from numpy import sqrt, cosh, tanh, pi, exp\n",
    "warnings.simplefilter('ignore')\n",
    "\n",
    "import scipy.io as sio\n",
    "import os\n",
    "from tqdm.auto import tqdm\n",
    "\n",
    "# using functions from PyalData\n",
    "from pyaldata import *"
   ]
  },
  {
   "cell_type": "markdown",
   "metadata": {},
   "source": [
    "The control for spike sorting is as follows:\n",
    "- 1) run this for each neuron\n",
    "- 2) copy some percentage of spikes to all neighboring cells\n",
    "- 3) recalculate PCA\n",
    "- 4) compare the chosen neuron to all others\n",
    "- 5) move on to the next neuron and repeat"
   ]
  },
  {
   "cell_type": "code",
   "execution_count": 4,
   "metadata": {},
   "outputs": [],
   "source": [
    "percent_spikes = [1,2,3,5,10]\n",
    "num_iters = 10\n",
    "which_dim = 1\n",
    "binz = np.arange(0, 0.005, 0.5) # start, step, stop"
   ]
  },
  {
   "cell_type": "markdown",
   "metadata": {},
   "source": [
    "## 1. Load data and convert to pandas df"
   ]
  },
  {
   "cell_type": "code",
   "execution_count": 10,
   "metadata": {},
   "outputs": [],
   "source": [
    "'''\n",
    "Insert path and filename \n",
    "'''\n",
    "\n",
    "path = '/Users/Daphne/Data/'  \n",
    "fname = 'Chewie_CO_VR_2016-10-06.mat' \n",
    "mat = scipy.io.loadmat(path + fname) "
   ]
  },
  {
   "cell_type": "code",
   "execution_count": 11,
   "metadata": {},
   "outputs": [],
   "source": [
    "'''\n",
    "Convert matlab file to df\n",
    "'''\n",
    "df = mat2dataframe(path+fname, shift_idx_fields=True)"
   ]
  },
  {
   "cell_type": "code",
   "execution_count": 12,
   "metadata": {},
   "outputs": [],
   "source": [
    "'''\n",
    "Session parameters\n",
    "'''\n",
    "\n",
    "sessions = [...] # TODO: for all sessions (currently only doing one session)\n",
    "\n",
    "task = 'CO'\n",
    "\n",
    "# set the start and end indices \n",
    "num_bins = 3\n",
    "which_period = 'all' \n",
    "\n",
    "if which_period == 'plan':\n",
    "    idx_start = df['idx_target_on'][0]\n",
    "    idx_end = df['idx_go_cue'][0]\n",
    "    \n",
    "elif which_period == 'move':\n",
    "    idx_start = df['idx_go_cue'][0]\n",
    "    idx_end = df['idx_trial_end'][0]\n",
    "\n",
    "elif which_period == 'all':\n",
    "    idx_start = df['idx_target_on'][0]\n",
    "    idx_end = df['idx_trial_end'][0]"
   ]
  },
  {
   "cell_type": "code",
   "execution_count": null,
   "metadata": {},
   "outputs": [],
   "source": [
    "eigen_sum = np.zeros([len(sessions), 3]) #TODO: where does the 3 come from??"
   ]
  },
  {
   "cell_type": "code",
   "execution_count": null,
   "metadata": {},
   "outputs": [],
   "source": [
    "#for s in sessions:\n",
    "\n",
    "file = "
   ]
  },
  {
   "cell_type": "code",
   "execution_count": null,
   "metadata": {},
   "outputs": [],
   "source": []
  },
  {
   "cell_type": "code",
   "execution_count": null,
   "metadata": {},
   "outputs": [],
   "source": []
  }
 ],
 "metadata": {
  "kernelspec": {
   "display_name": "Python 3",
   "language": "python",
   "name": "python3"
  },
  "language_info": {
   "codemirror_mode": {
    "name": "ipython",
    "version": 3
   },
   "file_extension": ".py",
   "mimetype": "text/x-python",
   "name": "python",
   "nbconvert_exporter": "python",
   "pygments_lexer": "ipython3",
   "version": "3.7.4"
  }
 },
 "nbformat": 4,
 "nbformat_minor": 2
}
