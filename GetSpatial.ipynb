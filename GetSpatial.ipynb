{
 "cells": [
  {
   "cell_type": "markdown",
   "metadata": {},
   "source": [
    "## Get spatial location of electrodes and neurons on arrays"
   ]
  },
  {
   "cell_type": "code",
   "execution_count": 1,
   "metadata": {},
   "outputs": [],
   "source": [
    "'''\n",
    "Dependencies\n",
    "'''\n",
    "import scipy.io as sio\n",
    "import matplotlib.pyplot as plt\n",
    "import matplotlib as mpl\n",
    "import numpy as np\n",
    "import scipy\n",
    "import pandas as pd\n",
    "import scipy.stats as stats\n",
    "import scipy.sparse as sparse\n",
    "import warnings \n",
    "from scipy import integrate\n",
    "import seaborn as sns\n",
    "warnings.simplefilter('ignore')\n",
    "from sklearn.decomposition import PCA\n",
    "import scipy.io as sio\n",
    "from tqdm.auto import tqdm\n",
    "import importlib\n",
    "\n",
    "sns.set_style('white')\n",
    "# to change default color cycle\n",
    "cs = ['#0D7BBF', '#716568', '#EE922F', '#E6E4C1', '#BCC2C3', '#4D7399', '#CDBCA5']\n",
    "plt.rcParams['axes.prop_cycle'] = plt.cycler(color=cs)\n",
    "cmap = sns.diverging_palette(250, 30, l=65, center=\"dark\", as_cmap=True)\n",
    "\n",
    "from pyaldata import *\n",
    "import rutils\n",
    "from rutils import *\n",
    "\n",
    "importlib.reload(rutils);"
   ]
  },
  {
   "cell_type": "markdown",
   "metadata": {},
   "source": [
    "## Load session data"
   ]
  },
  {
   "cell_type": "code",
   "execution_count": 2,
   "metadata": {},
   "outputs": [],
   "source": [
    "'''\n",
    "Insert path and filename \n",
    "'''\n",
    "path = '/Users/Daphne/Data/'  \n",
    "fname = 'Chewie_CO_VR_2016-10-06.mat' \n",
    "df = mat2dataframe(path+fname, shift_idx_fields=True)"
   ]
  },
  {
   "cell_type": "code",
   "execution_count": 3,
   "metadata": {},
   "outputs": [
    {
     "data": {
      "text/plain": [
       "(774, 24)"
      ]
     },
     "execution_count": 3,
     "metadata": {},
     "output_type": "execute_result"
    }
   ],
   "source": [
    "df.shape"
   ]
  },
  {
   "cell_type": "code",
   "execution_count": 4,
   "metadata": {},
   "outputs": [
    {
     "data": {
      "text/html": [
       "<div>\n",
       "<style scoped>\n",
       "    .dataframe tbody tr th:only-of-type {\n",
       "        vertical-align: middle;\n",
       "    }\n",
       "\n",
       "    .dataframe tbody tr th {\n",
       "        vertical-align: top;\n",
       "    }\n",
       "\n",
       "    .dataframe thead th {\n",
       "        text-align: right;\n",
       "    }\n",
       "</style>\n",
       "<table border=\"1\" class=\"dataframe\">\n",
       "  <thead>\n",
       "    <tr style=\"text-align: right;\">\n",
       "      <th></th>\n",
       "      <th>monkey</th>\n",
       "      <th>date</th>\n",
       "      <th>task</th>\n",
       "      <th>target_direction</th>\n",
       "      <th>trial_id</th>\n",
       "      <th>result</th>\n",
       "      <th>bin_size</th>\n",
       "      <th>perturbation</th>\n",
       "      <th>perturbation_info</th>\n",
       "      <th>epoch</th>\n",
       "      <th>...</th>\n",
       "      <th>idx_peak_speed</th>\n",
       "      <th>idx_trial_end</th>\n",
       "      <th>pos</th>\n",
       "      <th>vel</th>\n",
       "      <th>acc</th>\n",
       "      <th>force</th>\n",
       "      <th>M1_spikes</th>\n",
       "      <th>M1_unit_guide</th>\n",
       "      <th>PMd_spikes</th>\n",
       "      <th>PMd_unit_guide</th>\n",
       "    </tr>\n",
       "  </thead>\n",
       "  <tbody>\n",
       "    <tr>\n",
       "      <td>0</td>\n",
       "      <td>Chewie</td>\n",
       "      <td>10-06-2016</td>\n",
       "      <td>CO</td>\n",
       "      <td>-2.356194</td>\n",
       "      <td>1</td>\n",
       "      <td>R</td>\n",
       "      <td>0.01</td>\n",
       "      <td>VR</td>\n",
       "      <td>-0.52</td>\n",
       "      <td>BL</td>\n",
       "      <td>...</td>\n",
       "      <td>363</td>\n",
       "      <td>436</td>\n",
       "      <td>[[-5.399950889827338, -25.11058978269873], [-5...</td>\n",
       "      <td>[[4.615264447089089, -3.6781866137904946], [4....</td>\n",
       "      <td>[[34.913180411358354, -17.92603186704403], [13...</td>\n",
       "      <td>[[0.3854857746577438, -0.18448026169727955], [...</td>\n",
       "      <td>[[0, 1, 0, 0, 0, 1, 0, 1, 0, 0, 0, 1, 1, 0, 0,...</td>\n",
       "      <td>[[5, 1], [5, 2], [5, 3], [5, 4], [9, 1], [9, 2...</td>\n",
       "      <td>[[0, 0, 0, 0, 0, 0, 0, 0, 0, 0, 0, 0, 0, 0, 0,...</td>\n",
       "      <td>[[1, 1], [1, 2], [2, 1], [2, 2], [3, 1], [3, 2...</td>\n",
       "    </tr>\n",
       "    <tr>\n",
       "      <td>1</td>\n",
       "      <td>Chewie</td>\n",
       "      <td>10-06-2016</td>\n",
       "      <td>CO</td>\n",
       "      <td>1.570796</td>\n",
       "      <td>2</td>\n",
       "      <td>R</td>\n",
       "      <td>0.01</td>\n",
       "      <td>VR</td>\n",
       "      <td>-0.52</td>\n",
       "      <td>BL</td>\n",
       "      <td>...</td>\n",
       "      <td>356</td>\n",
       "      <td>447</td>\n",
       "      <td>[[-5.194667657852522, -35.190944353130526], [-...</td>\n",
       "      <td>[[2.3921738136280783, 2.833707639241631], [2.7...</td>\n",
       "      <td>[[31.99226756476989, 80.42711312188004], [34.1...</td>\n",
       "      <td>[[0.1778157378731141, 0.12542049016429982], [0...</td>\n",
       "      <td>[[0, 1, 0, 0, 0, 0, 0, 0, 0, 1, 0, 0, 0, 1, 0,...</td>\n",
       "      <td>[[5, 1], [5, 2], [5, 3], [5, 4], [9, 1], [9, 2...</td>\n",
       "      <td>[[0, 0, 0, 0, 0, 0, 0, 0, 0, 0, 0, 0, 0, 0, 0,...</td>\n",
       "      <td>[[1, 1], [1, 2], [2, 1], [2, 2], [3, 1], [3, 2...</td>\n",
       "    </tr>\n",
       "    <tr>\n",
       "      <td>2</td>\n",
       "      <td>Chewie</td>\n",
       "      <td>10-06-2016</td>\n",
       "      <td>CO</td>\n",
       "      <td>0.785398</td>\n",
       "      <td>3</td>\n",
       "      <td>R</td>\n",
       "      <td>0.01</td>\n",
       "      <td>VR</td>\n",
       "      <td>-0.52</td>\n",
       "      <td>BL</td>\n",
       "      <td>...</td>\n",
       "      <td>414</td>\n",
       "      <td>483</td>\n",
       "      <td>[[0.35267826312911055, -22.923278550949004], [...</td>\n",
       "      <td>[[0.5017102009485903, -3.146994710197926], [0....</td>\n",
       "      <td>[[-7.180978950112355, -35.21789901845524], [3....</td>\n",
       "      <td>[[0.2833417683274762, -0.1285513884878812], [0...</td>\n",
       "      <td>[[0, 0, 0, 0, 1, 0, 0, 0, 0, 1, 0, 0, 0, 0, 0,...</td>\n",
       "      <td>[[5, 1], [5, 2], [5, 3], [5, 4], [9, 1], [9, 2...</td>\n",
       "      <td>[[0, 2, 0, 0, 0, 0, 0, 0, 0, 0, 0, 0, 0, 0, 0,...</td>\n",
       "      <td>[[1, 1], [1, 2], [2, 1], [2, 2], [3, 1], [3, 2...</td>\n",
       "    </tr>\n",
       "    <tr>\n",
       "      <td>3</td>\n",
       "      <td>Chewie</td>\n",
       "      <td>10-06-2016</td>\n",
       "      <td>CO</td>\n",
       "      <td>3.141593</td>\n",
       "      <td>4</td>\n",
       "      <td>R</td>\n",
       "      <td>0.01</td>\n",
       "      <td>VR</td>\n",
       "      <td>-0.52</td>\n",
       "      <td>BL</td>\n",
       "      <td>...</td>\n",
       "      <td>397</td>\n",
       "      <td>458</td>\n",
       "      <td>[[5.072834875801728, -24.89410841851521], [5.0...</td>\n",
       "      <td>[[-1.3275097541588876, -3.5308863978243985], [...</td>\n",
       "      <td>[[-6.932033881542791, 0.17982626642873387], [-...</td>\n",
       "      <td>[[0.08675043530985374, 0.03658922221440793], [...</td>\n",
       "      <td>[[0, 1, 0, 0, 0, 0, 0, 0, 0, 0, 0, 0, 0, 0, 0,...</td>\n",
       "      <td>[[5, 1], [5, 2], [5, 3], [5, 4], [9, 1], [9, 2...</td>\n",
       "      <td>[[0, 0, 0, 0, 0, 0, 0, 0, 0, 0, 0, 0, 0, 0, 0,...</td>\n",
       "      <td>[[1, 1], [1, 2], [2, 1], [2, 2], [3, 1], [3, 2...</td>\n",
       "    </tr>\n",
       "    <tr>\n",
       "      <td>4</td>\n",
       "      <td>Chewie</td>\n",
       "      <td>10-06-2016</td>\n",
       "      <td>CO</td>\n",
       "      <td>-1.570796</td>\n",
       "      <td>5</td>\n",
       "      <td>R</td>\n",
       "      <td>0.01</td>\n",
       "      <td>VR</td>\n",
       "      <td>-0.52</td>\n",
       "      <td>BL</td>\n",
       "      <td>...</td>\n",
       "      <td>301</td>\n",
       "      <td>362</td>\n",
       "      <td>[[-8.194254800472459, -30.26359832666607], [-8...</td>\n",
       "      <td>[[1.8501123719868446, 0.8394848146862552], [2....</td>\n",
       "      <td>[[48.123169514922175, -9.081942493745938], [58...</td>\n",
       "      <td>[[0.2054977133197953, -0.12485484173352068], [...</td>\n",
       "      <td>[[0, 0, 0, 0, 1, 1, 0, 0, 1, 1, 0, 0, 1, 0, 0,...</td>\n",
       "      <td>[[5, 1], [5, 2], [5, 3], [5, 4], [9, 1], [9, 2...</td>\n",
       "      <td>[[1, 1, 0, 0, 0, 0, 0, 0, 0, 0, 0, 0, 0, 0, 0,...</td>\n",
       "      <td>[[1, 1], [1, 2], [2, 1], [2, 2], [3, 1], [3, 2...</td>\n",
       "    </tr>\n",
       "  </tbody>\n",
       "</table>\n",
       "<p>5 rows × 24 columns</p>\n",
       "</div>"
      ],
      "text/plain": [
       "   monkey        date task  target_direction  trial_id result  bin_size  \\\n",
       "0  Chewie  10-06-2016   CO         -2.356194         1      R      0.01   \n",
       "1  Chewie  10-06-2016   CO          1.570796         2      R      0.01   \n",
       "2  Chewie  10-06-2016   CO          0.785398         3      R      0.01   \n",
       "3  Chewie  10-06-2016   CO          3.141593         4      R      0.01   \n",
       "4  Chewie  10-06-2016   CO         -1.570796         5      R      0.01   \n",
       "\n",
       "  perturbation  perturbation_info epoch  ...  idx_peak_speed  idx_trial_end  \\\n",
       "0           VR              -0.52    BL  ...             363            436   \n",
       "1           VR              -0.52    BL  ...             356            447   \n",
       "2           VR              -0.52    BL  ...             414            483   \n",
       "3           VR              -0.52    BL  ...             397            458   \n",
       "4           VR              -0.52    BL  ...             301            362   \n",
       "\n",
       "                                                 pos  \\\n",
       "0  [[-5.399950889827338, -25.11058978269873], [-5...   \n",
       "1  [[-5.194667657852522, -35.190944353130526], [-...   \n",
       "2  [[0.35267826312911055, -22.923278550949004], [...   \n",
       "3  [[5.072834875801728, -24.89410841851521], [5.0...   \n",
       "4  [[-8.194254800472459, -30.26359832666607], [-8...   \n",
       "\n",
       "                                                 vel  \\\n",
       "0  [[4.615264447089089, -3.6781866137904946], [4....   \n",
       "1  [[2.3921738136280783, 2.833707639241631], [2.7...   \n",
       "2  [[0.5017102009485903, -3.146994710197926], [0....   \n",
       "3  [[-1.3275097541588876, -3.5308863978243985], [...   \n",
       "4  [[1.8501123719868446, 0.8394848146862552], [2....   \n",
       "\n",
       "                                                 acc  \\\n",
       "0  [[34.913180411358354, -17.92603186704403], [13...   \n",
       "1  [[31.99226756476989, 80.42711312188004], [34.1...   \n",
       "2  [[-7.180978950112355, -35.21789901845524], [3....   \n",
       "3  [[-6.932033881542791, 0.17982626642873387], [-...   \n",
       "4  [[48.123169514922175, -9.081942493745938], [58...   \n",
       "\n",
       "                                               force  \\\n",
       "0  [[0.3854857746577438, -0.18448026169727955], [...   \n",
       "1  [[0.1778157378731141, 0.12542049016429982], [0...   \n",
       "2  [[0.2833417683274762, -0.1285513884878812], [0...   \n",
       "3  [[0.08675043530985374, 0.03658922221440793], [...   \n",
       "4  [[0.2054977133197953, -0.12485484173352068], [...   \n",
       "\n",
       "                                           M1_spikes  \\\n",
       "0  [[0, 1, 0, 0, 0, 1, 0, 1, 0, 0, 0, 1, 1, 0, 0,...   \n",
       "1  [[0, 1, 0, 0, 0, 0, 0, 0, 0, 1, 0, 0, 0, 1, 0,...   \n",
       "2  [[0, 0, 0, 0, 1, 0, 0, 0, 0, 1, 0, 0, 0, 0, 0,...   \n",
       "3  [[0, 1, 0, 0, 0, 0, 0, 0, 0, 0, 0, 0, 0, 0, 0,...   \n",
       "4  [[0, 0, 0, 0, 1, 1, 0, 0, 1, 1, 0, 0, 1, 0, 0,...   \n",
       "\n",
       "                                       M1_unit_guide  \\\n",
       "0  [[5, 1], [5, 2], [5, 3], [5, 4], [9, 1], [9, 2...   \n",
       "1  [[5, 1], [5, 2], [5, 3], [5, 4], [9, 1], [9, 2...   \n",
       "2  [[5, 1], [5, 2], [5, 3], [5, 4], [9, 1], [9, 2...   \n",
       "3  [[5, 1], [5, 2], [5, 3], [5, 4], [9, 1], [9, 2...   \n",
       "4  [[5, 1], [5, 2], [5, 3], [5, 4], [9, 1], [9, 2...   \n",
       "\n",
       "                                          PMd_spikes  \\\n",
       "0  [[0, 0, 0, 0, 0, 0, 0, 0, 0, 0, 0, 0, 0, 0, 0,...   \n",
       "1  [[0, 0, 0, 0, 0, 0, 0, 0, 0, 0, 0, 0, 0, 0, 0,...   \n",
       "2  [[0, 2, 0, 0, 0, 0, 0, 0, 0, 0, 0, 0, 0, 0, 0,...   \n",
       "3  [[0, 0, 0, 0, 0, 0, 0, 0, 0, 0, 0, 0, 0, 0, 0,...   \n",
       "4  [[1, 1, 0, 0, 0, 0, 0, 0, 0, 0, 0, 0, 0, 0, 0,...   \n",
       "\n",
       "                                      PMd_unit_guide  \n",
       "0  [[1, 1], [1, 2], [2, 1], [2, 2], [3, 1], [3, 2...  \n",
       "1  [[1, 1], [1, 2], [2, 1], [2, 2], [3, 1], [3, 2...  \n",
       "2  [[1, 1], [1, 2], [2, 1], [2, 2], [3, 1], [3, 2...  \n",
       "3  [[1, 1], [1, 2], [2, 1], [2, 2], [3, 1], [3, 2...  \n",
       "4  [[1, 1], [1, 2], [2, 1], [2, 2], [3, 1], [3, 2...  \n",
       "\n",
       "[5 rows x 24 columns]"
      ]
     },
     "execution_count": 4,
     "metadata": {},
     "output_type": "execute_result"
    }
   ],
   "source": [
    "df.head()"
   ]
  },
  {
   "cell_type": "code",
   "execution_count": 5,
   "metadata": {},
   "outputs": [
    {
     "data": {
      "text/plain": [
       "array([[ 5,  1],\n",
       "       [ 5,  2],\n",
       "       [ 5,  3],\n",
       "       [ 5,  4],\n",
       "       [ 9,  1],\n",
       "       [ 9,  2],\n",
       "       [ 9,  3],\n",
       "       [10,  1],\n",
       "       [13,  1],\n",
       "       [13,  2],\n",
       "       [13,  3],\n",
       "       [13,  4],\n",
       "       [15,  1],\n",
       "       [16,  1],\n",
       "       [18,  1],\n",
       "       [20,  1],\n",
       "       [20,  2],\n",
       "       [24,  1],\n",
       "       [24,  2],\n",
       "       [24,  3],\n",
       "       [26,  1],\n",
       "       [28,  1],\n",
       "       [28,  2],\n",
       "       [28,  3],\n",
       "       [32,  1],\n",
       "       [32,  2],\n",
       "       [32,  3],\n",
       "       [34,  1],\n",
       "       [36,  1],\n",
       "       [40,  1],\n",
       "       [40,  2],\n",
       "       [42,  1],\n",
       "       [43,  1],\n",
       "       [44,  1],\n",
       "       [46,  1],\n",
       "       [46,  2],\n",
       "       [46,  3],\n",
       "       [46,  4],\n",
       "       [47,  1],\n",
       "       [50,  1],\n",
       "       [50,  2],\n",
       "       [51,  1],\n",
       "       [52,  1],\n",
       "       [53,  1],\n",
       "       [53,  2],\n",
       "       [54,  1],\n",
       "       [54,  2],\n",
       "       [54,  3],\n",
       "       [54,  4],\n",
       "       [56,  1],\n",
       "       [62,  1],\n",
       "       [62,  2],\n",
       "       [65,  1],\n",
       "       [75,  1],\n",
       "       [79,  1],\n",
       "       [86,  1],\n",
       "       [91,  1],\n",
       "       [91,  2],\n",
       "       [92,  1],\n",
       "       [92,  2],\n",
       "       [92,  3],\n",
       "       [95,  1],\n",
       "       [96,  1]], dtype=uint8)"
      ]
     },
     "execution_count": 5,
     "metadata": {},
     "output_type": "execute_result"
    }
   ],
   "source": [
    "df.M1_unit_guide[0]"
   ]
  },
  {
   "cell_type": "markdown",
   "metadata": {},
   "source": [
    "## Read cmp file\n",
    "\n",
    "The `.cmp` file contains the location of the electrodes on the array.\n",
    "\n",
    "We want to know the spatial location of electrodes so that we know the spatial location of the recorded neurons.\n",
    "\n",
    "Note that, while an array is a 10x10 grid, there are only 96 electrodes on a given array due to hardware constraints. \n",
    "\n",
    "By default, omitted electrodes (dead electrodes) are the 4 corner grids. If something goes wrong during fabrication however, this may change."
   ]
  },
  {
   "cell_type": "code",
   "execution_count": 6,
   "metadata": {},
   "outputs": [],
   "source": [
    "df_m1_arr = read_cmp('/Users/Daphne/Desktop/Chewie Left M1 SN 6250-001474.cmp')\n",
    "df_pmd_arr = read_cmp('/Users/Daphne/Desktop/Chewie Left PMd SN 6251-001469.cmp')"
   ]
  },
  {
   "cell_type": "code",
   "execution_count": 7,
   "metadata": {},
   "outputs": [
    {
     "data": {
      "text/html": [
       "<div>\n",
       "<style scoped>\n",
       "    .dataframe tbody tr th:only-of-type {\n",
       "        vertical-align: middle;\n",
       "    }\n",
       "\n",
       "    .dataframe tbody tr th {\n",
       "        vertical-align: top;\n",
       "    }\n",
       "\n",
       "    .dataframe thead th {\n",
       "        text-align: right;\n",
       "    }\n",
       "</style>\n",
       "<table border=\"1\" class=\"dataframe\">\n",
       "  <thead>\n",
       "    <tr style=\"text-align: right;\">\n",
       "      <th></th>\n",
       "      <th>array_col</th>\n",
       "      <th>array_row</th>\n",
       "      <th>channel_num</th>\n",
       "      <th>within_channel_num</th>\n",
       "      <th>global_enum</th>\n",
       "    </tr>\n",
       "  </thead>\n",
       "  <tbody>\n",
       "    <tr>\n",
       "      <td>0</td>\n",
       "      <td>0</td>\n",
       "      <td>8</td>\n",
       "      <td>C</td>\n",
       "      <td>1</td>\n",
       "      <td>96</td>\n",
       "    </tr>\n",
       "    <tr>\n",
       "      <td>1</td>\n",
       "      <td>0</td>\n",
       "      <td>7</td>\n",
       "      <td>C</td>\n",
       "      <td>3</td>\n",
       "      <td>95</td>\n",
       "    </tr>\n",
       "    <tr>\n",
       "      <td>2</td>\n",
       "      <td>0</td>\n",
       "      <td>6</td>\n",
       "      <td>C</td>\n",
       "      <td>5</td>\n",
       "      <td>94</td>\n",
       "    </tr>\n",
       "    <tr>\n",
       "      <td>3</td>\n",
       "      <td>0</td>\n",
       "      <td>5</td>\n",
       "      <td>C</td>\n",
       "      <td>7</td>\n",
       "      <td>93</td>\n",
       "    </tr>\n",
       "    <tr>\n",
       "      <td>4</td>\n",
       "      <td>0</td>\n",
       "      <td>4</td>\n",
       "      <td>C</td>\n",
       "      <td>9</td>\n",
       "      <td>92</td>\n",
       "    </tr>\n",
       "  </tbody>\n",
       "</table>\n",
       "</div>"
      ],
      "text/plain": [
       "   array_col  array_row channel_num  within_channel_num  global_enum\n",
       "0          0          8           C                   1           96\n",
       "1          0          7           C                   3           95\n",
       "2          0          6           C                   5           94\n",
       "3          0          5           C                   7           93\n",
       "4          0          4           C                   9           92"
      ]
     },
     "execution_count": 7,
     "metadata": {},
     "output_type": "execute_result"
    }
   ],
   "source": [
    "df_m1_arr.head()"
   ]
  },
  {
   "cell_type": "markdown",
   "metadata": {},
   "source": [
    "## Get spatial location of electrodes on arrays"
   ]
  },
  {
   "cell_type": "code",
   "execution_count": 8,
   "metadata": {},
   "outputs": [
    {
     "data": {
      "image/png": "[encoded data removed]",
      "text/plain": [
       "<Figure size 480x480 with 1 Axes>"
      ]
     },
     "metadata": {
      "needs_background": "light"
     },
     "output_type": "display_data"
    }
   ],
   "source": [
    "localize_elecs(df_m1_arr, elecs=[96, 18, 45], verbose=True);"
   ]
  },
  {
   "cell_type": "markdown",
   "metadata": {},
   "source": [
    "For the M1 array, we see that indeed all corner squares are omitted."
   ]
  },
  {
   "cell_type": "code",
   "execution_count": 9,
   "metadata": {},
   "outputs": [
    {
     "data": {
      "image/png": "[encoded data removed]",
      "text/plain": [
       "<Figure size 480x480 with 1 Axes>"
      ]
     },
     "metadata": {
      "needs_background": "light"
     },
     "output_type": "display_data"
    }
   ],
   "source": [
    "localize_elecs(df_m1_arr, elecs=range(1,97), verbose=True);"
   ]
  },
  {
   "cell_type": "markdown",
   "metadata": {},
   "source": [
    "For the PMd array one dead electrode has a different location."
   ]
  },
  {
   "cell_type": "code",
   "execution_count": 10,
   "metadata": {},
   "outputs": [
    {
     "data": {
      "image/png": "[encoded data removed]",
      "text/plain": [
       "<Figure size 480x480 with 1 Axes>"
      ]
     },
     "metadata": {
      "needs_background": "light"
     },
     "output_type": "display_data"
    }
   ],
   "source": [
    "localize_elecs(df_pmd_arr, elecs=range(1,97), verbose=True);"
   ]
  },
  {
   "cell_type": "markdown",
   "metadata": {},
   "source": [
    "The colored grids are just for visualisation purposes, we can use the np arrays to continue.\n",
    "\n",
    "We have the spatial location of each electrode and we have **unit guides** that specify how many neurons each electrode covers.\n",
    "\n",
    "Connecting these two, we can get the spatial location of $n$ neurons on the array."
   ]
  },
  {
   "cell_type": "code",
   "execution_count": 11,
   "metadata": {},
   "outputs": [],
   "source": [
    "m1_elecmap  = localize_elecs(df_m1_arr, elecs=range(1,97))\n",
    "pmd_elecmap = localize_elecs(df_pmd_arr, elecs=range(1,97))"
   ]
  },
  {
   "cell_type": "code",
   "execution_count": 12,
   "metadata": {},
   "outputs": [
    {
     "data": {
      "text/plain": [
       "array([[59., 79., 69.,  0., 49., 39., 29., 19.,  9.,  0.],\n",
       "       [89., 80., 70., 60., 50., 40., 30., 20., 10.,  1.],\n",
       "       [90., 81., 71., 61., 51., 41., 31., 21., 11.,  2.],\n",
       "       [91., 82., 72., 62., 52., 42., 32., 22., 12.,  3.],\n",
       "       [92., 83., 73., 63., 53., 43., 33., 23., 13.,  4.],\n",
       "       [93., 84., 74., 64., 54., 44., 34., 24., 14.,  5.],\n",
       "       [94., 85., 75., 65., 55., 45., 35., 25., 15.,  6.],\n",
       "       [95., 86., 76., 66., 56., 46., 36., 26., 16.,  7.],\n",
       "       [96., 87., 77., 67., 57., 47., 37., 27., 17.,  8.],\n",
       "       [ 0., 88., 78., 68., 58., 48., 38., 28., 18.,  0.]])"
      ]
     },
     "execution_count": 12,
     "metadata": {},
     "output_type": "execute_result"
    }
   ],
   "source": [
    "pmd_elecmap"
   ]
  },
  {
   "cell_type": "markdown",
   "metadata": {},
   "source": [
    "## Unit guides\n",
    "\n",
    "The unit guides specify the number of neurons per electrode. \n",
    "\n",
    "```\n",
    "[electrode k, neuron 1]\n",
    "[electrode k, neuron 2]\n",
    "[electrode k, neuron 3]\n",
    "[electrode k+1, neuron 1]\n",
    "etc.\n",
    "```\n",
    "\n",
    "While the unit guides are `(774 x N)` (we have a unit guide for each row), they are all equal.\n",
    "\n",
    "So we can pick an arbitrary row. "
   ]
  },
  {
   "cell_type": "code",
   "execution_count": 13,
   "metadata": {},
   "outputs": [],
   "source": [
    "m1_cell_distrib, m1_cells_on_arr = elecs_to_neurons(m1_elecmap, df['M1_unit_guide'][0])\n",
    "\n",
    "pmd_cell_distrib, pmd_cells_on_arr = elecs_to_neurons(pmd_elecmap, df['PMd_unit_guide'][0])"
   ]
  },
  {
   "cell_type": "code",
   "execution_count": 14,
   "metadata": {},
   "outputs": [
    {
     "data": {
      "image/png": "[encoded data removed]",
      "text/plain": [
       "<Figure size 960x400 with 2 Axes>"
      ]
     },
     "metadata": {
      "needs_background": "light"
     },
     "output_type": "display_data"
    }
   ],
   "source": [
    "fig, (ax1, ax2) = plt.subplots(1, 2, figsize=(12,5), dpi=80)\n",
    "\n",
    "sns.countplot(x=m1_cell_distrib, ax=ax1)\n",
    "ax1.set_title('M1', fontsize=14)\n",
    "ax1.set_xlabel('number of neurons', fontsize=13)\n",
    "ax1.set_ylabel('Count', fontsize=13)\n",
    "\n",
    "sns.countplot(x=pmd_cell_distrib, ax=ax2)\n",
    "ax2.set_title('PMd', fontsize=14)\n",
    "ax2.set_xlabel('number of neurons', fontsize=13)\n",
    "ax2.set_ylabel('Count', fontsize=13);"
   ]
  },
  {
   "cell_type": "markdown",
   "metadata": {},
   "source": [
    "This shows the number of neurons each electrode covers on the M1 array... why are there so many electrodes without neurons?"
   ]
  },
  {
   "cell_type": "code",
   "execution_count": 15,
   "metadata": {},
   "outputs": [
    {
     "name": "stdout",
     "output_type": "stream",
     "text": [
      "Total number of neurons on the M1 array is 63\n"
     ]
    },
    {
     "data": {
      "image/png": "[encoded data removed]",
      "text/plain": [
       "<Figure size 400x400 with 1 Axes>"
      ]
     },
     "metadata": {
      "needs_background": "light"
     },
     "output_type": "display_data"
    }
   ],
   "source": [
    "print(f'Total number of neurons on the M1 array is {sum(m1_cell_distrib)}')\n",
    "\n",
    "display_grid(m1_cells_on_arr)"
   ]
  },
  {
   "cell_type": "code",
   "execution_count": 16,
   "metadata": {},
   "outputs": [
    {
     "name": "stdout",
     "output_type": "stream",
     "text": [
      "Total number of neurons on the PMd array is 192\n"
     ]
    },
    {
     "data": {
      "image/png": "[encoded data removed]",
      "text/plain": [
       "<Figure size 400x400 with 1 Axes>"
      ]
     },
     "metadata": {
      "needs_background": "light"
     },
     "output_type": "display_data"
    }
   ],
   "source": [
    "print(f'Total number of neurons on the PMd array is {sum(pmd_cell_distrib)}')\n",
    "\n",
    "display_grid(pmd_cells_on_arr)"
   ]
  },
  {
   "cell_type": "code",
   "execution_count": null,
   "metadata": {},
   "outputs": [],
   "source": []
  },
  {
   "cell_type": "code",
   "execution_count": 20,
   "metadata": {},
   "outputs": [],
   "source": [
    "#np.where(unit_guide[:, 0] == 5)"
   ]
  },
  {
   "cell_type": "code",
   "execution_count": 19,
   "metadata": {},
   "outputs": [],
   "source": [
    "#np.unique(unit_guide[:, 0])"
   ]
  },
  {
   "cell_type": "code",
   "execution_count": 22,
   "metadata": {},
   "outputs": [],
   "source": [
    "#df['M1_spikes'][0][:, 0] # one trial, one spike train"
   ]
  },
  {
   "cell_type": "code",
   "execution_count": 23,
   "metadata": {},
   "outputs": [],
   "source": [
    "#df['M1_spikes'][0].shape"
   ]
  },
  {
   "cell_type": "code",
   "execution_count": 27,
   "metadata": {},
   "outputs": [],
   "source": [
    "unit_guide = df['M1_unit_guide'][0]\n",
    "\n",
    "df_flat = pd.DataFrame(columns=['electrode', 'neuron', 'trial', 'spikes'])\n",
    "\n",
    "for i, row in enumerate(unit_guide):\n",
    "    e, n = row\n",
    "    df_app = pd.DataFrame(columns=['trial', 'spikes'])\n",
    "    for tr in range(df.shape[0]):\n",
    "        df_app = df_app.append({\n",
    "            'trial' : tr,\n",
    "            'spikes' : df['M1_spikes'][tr][:, i]\n",
    "        }, ignore_index=True)\n",
    "    df_app['electrode'] = e\n",
    "    df_app['neuron'] = n\n",
    "    df_flat = df_flat.append(df_app, ignore_index=True)\n",
    "    \n",
    "df_flat = df_flat.loc[:, ['electrode', 'neuron', 'trial', 'spikes']]"
   ]
  },
  {
   "cell_type": "code",
   "execution_count": 29,
   "metadata": {},
   "outputs": [
    {
     "data": {
      "text/html": [
       "<div>\n",
       "<style scoped>\n",
       "    .dataframe tbody tr th:only-of-type {\n",
       "        vertical-align: middle;\n",
       "    }\n",
       "\n",
       "    .dataframe tbody tr th {\n",
       "        vertical-align: top;\n",
       "    }\n",
       "\n",
       "    .dataframe thead th {\n",
       "        text-align: right;\n",
       "    }\n",
       "</style>\n",
       "<table border=\"1\" class=\"dataframe\">\n",
       "  <thead>\n",
       "    <tr style=\"text-align: right;\">\n",
       "      <th></th>\n",
       "      <th>electrode</th>\n",
       "      <th>neuron</th>\n",
       "      <th>trial</th>\n",
       "      <th>spikes</th>\n",
       "    </tr>\n",
       "  </thead>\n",
       "  <tbody>\n",
       "    <tr>\n",
       "      <td>0</td>\n",
       "      <td>5</td>\n",
       "      <td>1</td>\n",
       "      <td>0</td>\n",
       "      <td>[0, 1, 0, 0, 0, 0, 0, 1, 0, 0, 0, 0, 0, 1, 0, ...</td>\n",
       "    </tr>\n",
       "    <tr>\n",
       "      <td>1</td>\n",
       "      <td>5</td>\n",
       "      <td>1</td>\n",
       "      <td>1</td>\n",
       "      <td>[0, 1, 0, 0, 0, 0, 1, 0, 0, 0, 1, 0, 1, 0, 0, ...</td>\n",
       "    </tr>\n",
       "    <tr>\n",
       "      <td>2</td>\n",
       "      <td>5</td>\n",
       "      <td>1</td>\n",
       "      <td>2</td>\n",
       "      <td>[0, 0, 1, 0, 0, 0, 0, 1, 0, 0, 0, 0, 1, 0, 0, ...</td>\n",
       "    </tr>\n",
       "    <tr>\n",
       "      <td>3</td>\n",
       "      <td>5</td>\n",
       "      <td>1</td>\n",
       "      <td>3</td>\n",
       "      <td>[0, 0, 0, 0, 0, 0, 0, 0, 0, 0, 0, 1, 0, 0, 0, ...</td>\n",
       "    </tr>\n",
       "    <tr>\n",
       "      <td>4</td>\n",
       "      <td>5</td>\n",
       "      <td>1</td>\n",
       "      <td>4</td>\n",
       "      <td>[0, 0, 0, 0, 1, 0, 0, 0, 1, 0, 0, 0, 0, 1, 0, ...</td>\n",
       "    </tr>\n",
       "    <tr>\n",
       "      <td>...</td>\n",
       "      <td>...</td>\n",
       "      <td>...</td>\n",
       "      <td>...</td>\n",
       "      <td>...</td>\n",
       "    </tr>\n",
       "    <tr>\n",
       "      <td>48757</td>\n",
       "      <td>96</td>\n",
       "      <td>1</td>\n",
       "      <td>769</td>\n",
       "      <td>[0, 0, 0, 0, 0, 0, 0, 0, 0, 0, 0, 0, 0, 0, 0, ...</td>\n",
       "    </tr>\n",
       "    <tr>\n",
       "      <td>48758</td>\n",
       "      <td>96</td>\n",
       "      <td>1</td>\n",
       "      <td>770</td>\n",
       "      <td>[0, 0, 0, 0, 0, 0, 0, 0, 1, 0, 0, 0, 0, 0, 0, ...</td>\n",
       "    </tr>\n",
       "    <tr>\n",
       "      <td>48759</td>\n",
       "      <td>96</td>\n",
       "      <td>1</td>\n",
       "      <td>771</td>\n",
       "      <td>[0, 0, 0, 0, 0, 0, 0, 0, 0, 0, 0, 0, 0, 0, 0, ...</td>\n",
       "    </tr>\n",
       "    <tr>\n",
       "      <td>48760</td>\n",
       "      <td>96</td>\n",
       "      <td>1</td>\n",
       "      <td>772</td>\n",
       "      <td>[0, 0, 0, 0, 0, 0, 0, 0, 0, 1, 0, 0, 0, 0, 0, ...</td>\n",
       "    </tr>\n",
       "    <tr>\n",
       "      <td>48761</td>\n",
       "      <td>96</td>\n",
       "      <td>1</td>\n",
       "      <td>773</td>\n",
       "      <td>[0, 0, 0, 0, 0, 0, 0, 0, 0, 0, 0, 0, 0, 0, 0, ...</td>\n",
       "    </tr>\n",
       "  </tbody>\n",
       "</table>\n",
       "<p>48762 rows × 4 columns</p>\n",
       "</div>"
      ],
      "text/plain": [
       "      electrode neuron trial  \\\n",
       "0             5      1     0   \n",
       "1             5      1     1   \n",
       "2             5      1     2   \n",
       "3             5      1     3   \n",
       "4             5      1     4   \n",
       "...         ...    ...   ...   \n",
       "48757        96      1   769   \n",
       "48758        96      1   770   \n",
       "48759        96      1   771   \n",
       "48760        96      1   772   \n",
       "48761        96      1   773   \n",
       "\n",
       "                                                  spikes  \n",
       "0      [0, 1, 0, 0, 0, 0, 0, 1, 0, 0, 0, 0, 0, 1, 0, ...  \n",
       "1      [0, 1, 0, 0, 0, 0, 1, 0, 0, 0, 1, 0, 1, 0, 0, ...  \n",
       "2      [0, 0, 1, 0, 0, 0, 0, 1, 0, 0, 0, 0, 1, 0, 0, ...  \n",
       "3      [0, 0, 0, 0, 0, 0, 0, 0, 0, 0, 0, 1, 0, 0, 0, ...  \n",
       "4      [0, 0, 0, 0, 1, 0, 0, 0, 1, 0, 0, 0, 0, 1, 0, ...  \n",
       "...                                                  ...  \n",
       "48757  [0, 0, 0, 0, 0, 0, 0, 0, 0, 0, 0, 0, 0, 0, 0, ...  \n",
       "48758  [0, 0, 0, 0, 0, 0, 0, 0, 1, 0, 0, 0, 0, 0, 0, ...  \n",
       "48759  [0, 0, 0, 0, 0, 0, 0, 0, 0, 0, 0, 0, 0, 0, 0, ...  \n",
       "48760  [0, 0, 0, 0, 0, 0, 0, 0, 0, 1, 0, 0, 0, 0, 0, ...  \n",
       "48761  [0, 0, 0, 0, 0, 0, 0, 0, 0, 0, 0, 0, 0, 0, 0, ...  \n",
       "\n",
       "[48762 rows x 4 columns]"
      ]
     },
     "execution_count": 29,
     "metadata": {},
     "output_type": "execute_result"
    }
   ],
   "source": [
    "df_flat"
   ]
  },
  {
   "cell_type": "code",
   "execution_count": null,
   "metadata": {},
   "outputs": [],
   "source": []
  },
  {
   "cell_type": "code",
   "execution_count": null,
   "metadata": {},
   "outputs": [],
   "source": []
  },
  {
   "cell_type": "code",
   "execution_count": null,
   "metadata": {},
   "outputs": [],
   "source": []
  },
  {
   "cell_type": "markdown",
   "metadata": {},
   "source": [
    "## Do PCA on each for each electrode separately \n",
    "\n",
    "Get the spike trains for each individual electrode.\n",
    "\n",
    "Do PCA on these (transformed) spike trains.\n",
    "\n",
    "Make a histogram to compare the differences."
   ]
  },
  {
   "cell_type": "code",
   "execution_count": null,
   "metadata": {},
   "outputs": [],
   "source": []
  },
  {
   "cell_type": "markdown",
   "metadata": {},
   "source": [
    "## Spike trains\n",
    "\n",
    "In `[brain_area]_spikes` the rows indicate the timepoints and the columns the neurons `[timepoints, neurons] = [447, 63]`.\n",
    "\n",
    "We make a dictionary that serves as a mapping between the neurons on the electrodes and \n"
   ]
  },
  {
   "cell_type": "code",
   "execution_count": 72,
   "metadata": {},
   "outputs": [
    {
     "data": {
      "image/png": "[encoded data removed]",
      "text/plain": [
       "<Figure size 960x1008 with 1 Axes>"
      ]
     },
     "metadata": {},
     "output_type": "display_data"
    }
   ],
   "source": [
    "make_raster(df['M1_spikes'][0])"
   ]
  },
  {
   "cell_type": "code",
   "execution_count": 105,
   "metadata": {},
   "outputs": [],
   "source": [
    "def get_neuron_elec_mapping(elec_map, unit_guide, spikes, trial):\n",
    "    '''\n",
    "    \n",
    "    Parameters\n",
    "    ----------\n",
    "    elec_map:\n",
    "    \n",
    "    unit_guide: \n",
    "    \n",
    "    Returns\n",
    "    -------\n",
    "    unit_arr: \n",
    "\n",
    "    '''\n",
    "    elecs = list(range(1, 97)) # total number of electrodes\n",
    "    unit_arr = np.zeros((10, 10)) # assuming 10x10 array\n",
    "    neuron_distrib = []\n",
    "    elecs_to_spikes = {}\n",
    "    \n",
    "    # get the spike trains from a particular trial\n",
    "    spikes_trial_i = spikes[trial]\n",
    "\n",
    "    for e in elecs:\n",
    "\n",
    "        # find indices in unit guide of this electrode number \n",
    "        e_indices = np.where(unit_guide[:, 0] == e)\n",
    "\n",
    "        if np.size(e_indices) == 0: # skip if electrode number is not in col\n",
    "            neuron_distrib.append(0)\n",
    "            elecs_to_spikes.update({e: np.array([])}) # add empty array?\n",
    "            continue\n",
    "\n",
    "        # take neurons that belong to these indices \n",
    "        neurons_at_e = max(unit_guide[:, 1][e_indices])\n",
    "\n",
    "        neuron_distrib.append(neurons_at_e) # largest number is total number of neurons\n",
    "\n",
    "        arr_idx = np.where(elec_map == e) # get spatial location of electrode\n",
    "        unit_arr[arr_idx] = neurons_at_e # store number of neurons in array\n",
    "\n",
    "        # spiketrains of neurons that belong to electrode e\n",
    "        spikes_elec_k = np.array([spikes_trial_i[:, k] for k in e_indices])[0]\n",
    "\n",
    "        # append to dictionary with electrode num as key and spiketrains as values\n",
    "        elecs_to_spikes.update({e:spikes_elec_k})\n",
    "        \n",
    "    return neuron_distrib, unit_arr, elecs_to_spikes"
   ]
  },
  {
   "cell_type": "code",
   "execution_count": null,
   "metadata": {},
   "outputs": [],
   "source": [
    "# unit_guide = df['M1_unit_guide'][0]\n",
    "# elecs = list(range(1, 97)) # total number of electrodes\n",
    "# unit_arr = np.zeros((10, 10)) # assuming 10x10 array\n",
    "# elecs_to_spikes = {}\n",
    "\n",
    "# # get the spike trains from a particular trial\n",
    "# spikes_trial_i = spikes[trial]\n",
    "\n",
    "\n",
    "#     # find indices in unit guide of this electrode number \n",
    "#     e_indices = np.where(unit_guide[:, 0] == e)\n",
    "\n",
    "#     if np.size(e_indices) == 0: # skip if electrode number is not in col\n",
    "#         neuron_distrib.append(0)\n",
    "#         elecs_to_spikes.update({e: np.array([])}) # add empty array?\n",
    "#         continue\n",
    "\n",
    "#     # take neurons that belong to these indices \n",
    "#     neurons_at_e = max(unit_guide[:, 1][e_indices])\n",
    "\n",
    "#     neuron_distrib.append(neurons_at_e) # largest number is total number of neurons\n",
    "\n",
    "#     arr_idx = np.where(elec_map == e) # get spatial location of electrode\n",
    "#     unit_arr[arr_idx] = neurons_at_e # store number of neurons in array\n",
    "\n",
    "#     # spiketrains of neurons that belong to electrode e\n",
    "#     spikes_elec_k = np.array([spikes_trial_i[:, k] for k in e_indices])[0]\n",
    "\n",
    "#     # append to dictionary with electrode num as key and spiketrains as values\n",
    "#     elecs_to_spikes.update({e:spikes_elec_k})\n"
   ]
  }
 ],
 "metadata": {
  "kernelspec": {
   "display_name": "Python 3",
   "language": "python",
   "name": "python3"
  },
  "language_info": {
   "codemirror_mode": {
    "name": "ipython",
    "version": 3
   },
   "file_extension": ".py",
   "mimetype": "text/x-python",
   "name": "python",
   "nbconvert_exporter": "python",
   "pygments_lexer": "ipython3",
   "version": "3.7.4"
  }
 },
 "nbformat": 4,
 "nbformat_minor": 4
}
