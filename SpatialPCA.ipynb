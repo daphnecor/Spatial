{
 "cells": [
  {
   "cell_type": "markdown",
   "metadata": {},
   "source": [
    "## Compare PCA weights spatially"
   ]
  },
  {
   "cell_type": "code",
   "execution_count": 4,
   "metadata": {},
   "outputs": [
    {
     "name": "stdout",
     "output_type": "stream",
     "text": [
      "The autoreload extension is already loaded. To reload it, use:\n",
      "  %reload_ext autoreload\n"
     ]
    }
   ],
   "source": [
    "'''\n",
    "Dependencies\n",
    "'''\n",
    "import scipy.io as sio\n",
    "import matplotlib.pyplot as plt\n",
    "import matplotlib as mpl\n",
    "import numpy as np\n",
    "import scipy\n",
    "import pandas as pd\n",
    "import scipy.stats as stats\n",
    "import scipy.sparse as sparse\n",
    "import warnings \n",
    "from scipy import integrate\n",
    "import seaborn as sns\n",
    "warnings.simplefilter('ignore')\n",
    "from sklearn import decomposition\n",
    "import scipy.io as sio\n",
    "import os\n",
    "\n",
    "sns.set_style('white')\n",
    "# to change default color cycle\n",
    "cs = ['#264653', '#3DC1AB', '#92F0E4', '#CEE2DA', '#DC7253', '#4D7399', '#CDBCA5']\n",
    "plt.rcParams['axes.prop_cycle'] = plt.cycler(color=cs)\n",
    "cmap = sns.diverging_palette(250, 30, l=65, center=\"dark\", as_cmap=True)\n",
    "import importlib\n",
    "import rutils\n",
    "\n",
    "%load_ext autoreload\n",
    "%autoreload 2\n",
    "\n",
    "from pyaldata import *\n",
    "from rutils import *"
   ]
  },
  {
   "cell_type": "markdown",
   "metadata": {},
   "source": [
    "## Load data"
   ]
  },
  {
   "cell_type": "code",
   "execution_count": 5,
   "metadata": {},
   "outputs": [],
   "source": [
    "'''\n",
    "Insert path and filename \n",
    "'''\n",
    "path = '/Users/Daphne/Data/'  \n",
    "fname = 'Chewie_CO_VR_2016-10-06.mat' \n",
    "df = mat2dataframe(path+fname, shift_idx_fields=True)"
   ]
  },
  {
   "cell_type": "code",
   "execution_count": 6,
   "metadata": {},
   "outputs": [
    {
     "data": {
      "text/plain": [
       "(774, 24)"
      ]
     },
     "execution_count": 6,
     "metadata": {},
     "output_type": "execute_result"
    }
   ],
   "source": [
    "df.shape"
   ]
  },
  {
   "cell_type": "markdown",
   "metadata": {},
   "source": [
    "## 1 Preprocess "
   ]
  },
  {
   "cell_type": "markdown",
   "metadata": {},
   "source": [
    "### 1.1 Combine time bins"
   ]
  },
  {
   "cell_type": "code",
   "execution_count": 7,
   "metadata": {},
   "outputs": [],
   "source": [
    "td = combine_time_bins(df, n_bins=3)"
   ]
  },
  {
   "cell_type": "markdown",
   "metadata": {},
   "source": [
    "### 1.2 Remove low firing neurons"
   ]
  },
  {
   "cell_type": "code",
   "execution_count": 8,
   "metadata": {},
   "outputs": [],
   "source": [
    "td = remove_low_firing_neurons(td, signal='M1_spikes', threshold=5)\n",
    "td = remove_low_firing_neurons(td, signal='PMd_spikes', threshold=5)"
   ]
  },
  {
   "cell_type": "markdown",
   "metadata": {},
   "source": [
    "### 1.3 Transform signals"
   ]
  },
  {
   "cell_type": "code",
   "execution_count": 9,
   "metadata": {},
   "outputs": [],
   "source": [
    "td = transform_signal(td, signal='M1_spikes',  transformations='sqrt')\n",
    "td = transform_signal(td, signal='PMd_spikes', transformations='sqrt')"
   ]
  },
  {
   "cell_type": "markdown",
   "metadata": {},
   "source": [
    "### 1.4 Merge signals"
   ]
  },
  {
   "cell_type": "code",
   "execution_count": 10,
   "metadata": {},
   "outputs": [],
   "source": [
    "td = merge_signals(td, ['M1_spikes', 'PMd_spikes'], 'both_spikes')"
   ]
  },
  {
   "cell_type": "markdown",
   "metadata": {},
   "source": [
    "### 1.5 Compute firing rates from spike trains\n",
    "\n",
    "Add firing rates for `M1_spikes`, `PMd_spikes` and `both_spikes`"
   ]
  },
  {
   "cell_type": "code",
   "execution_count": 11,
   "metadata": {},
   "outputs": [],
   "source": [
    "# works on '_spikes' fields and automatically divides by bin_size\n",
    "td = add_firing_rates(td, 'smooth')"
   ]
  },
  {
   "cell_type": "markdown",
   "metadata": {},
   "source": [
    "### 1.6 Select data from Baseline epoch\n",
    "\n",
    "Select only those rows from the baseline epoch `'BL'`"
   ]
  },
  {
   "cell_type": "code",
   "execution_count": 12,
   "metadata": {},
   "outputs": [],
   "source": [
    "td = td.loc[df['epoch'] == 'BL']"
   ]
  },
  {
   "cell_type": "code",
   "execution_count": 13,
   "metadata": {},
   "outputs": [
    {
     "data": {
      "text/plain": [
       "(217, 28)"
      ]
     },
     "execution_count": 13,
     "metadata": {},
     "output_type": "execute_result"
    }
   ],
   "source": [
    "td.shape"
   ]
  },
  {
   "cell_type": "markdown",
   "metadata": {},
   "source": [
    "## 2 Do Principal Component Analysis"
   ]
  },
  {
   "cell_type": "markdown",
   "metadata": {},
   "source": [
    "### 2.1 Do PCA on both arrays \n",
    "\n",
    "`both_rates`"
   ]
  },
  {
   "cell_type": "code",
   "execution_count": 14,
   "metadata": {},
   "outputs": [],
   "source": [
    "which_dim = 0 \n",
    "\n",
    "m1pmd_weights = getPCA(rates=td['both_rates'])\n",
    "\n",
    "w = m1pmd_weights[:, which_dim] "
   ]
  },
  {
   "cell_type": "markdown",
   "metadata": {},
   "source": [
    "This is the eigenvector associated with the first PC. \n",
    "\n",
    "Each element represents a loading, namely how much (the weight) each original neuron contributes to the corresponding principal component."
   ]
  },
  {
   "cell_type": "code",
   "execution_count": 15,
   "metadata": {},
   "outputs": [
    {
     "data": {
      "text/plain": [
       "(143,)"
      ]
     },
     "execution_count": 15,
     "metadata": {},
     "output_type": "execute_result"
    }
   ],
   "source": [
    "w.shape # total number of neurons"
   ]
  },
  {
   "cell_type": "markdown",
   "metadata": {},
   "source": [
    "### 2.2 Do PCA on PMd array"
   ]
  },
  {
   "cell_type": "code",
   "execution_count": null,
   "metadata": {},
   "outputs": [],
   "source": []
  },
  {
   "cell_type": "code",
   "execution_count": null,
   "metadata": {},
   "outputs": [],
   "source": [
    "# TODO"
   ]
  },
  {
   "cell_type": "markdown",
   "metadata": {},
   "source": [
    "### 2.3 Do PCA on all neurons combined"
   ]
  },
  {
   "cell_type": "code",
   "execution_count": null,
   "metadata": {},
   "outputs": [],
   "source": [
    "# TODO"
   ]
  },
  {
   "cell_type": "markdown",
   "metadata": {},
   "source": [
    "## 3 Analyse PC weights \n",
    "\n",
    "> Does weight on first PC inversely correlate with distance"
   ]
  },
  {
   "cell_type": "code",
   "execution_count": 17,
   "metadata": {},
   "outputs": [],
   "source": [
    "binz = np.arange(0, 0.5, 0.005)"
   ]
  },
  {
   "cell_type": "markdown",
   "metadata": {},
   "source": [
    "### 3.1 Read in cmp files"
   ]
  },
  {
   "cell_type": "code",
   "execution_count": 18,
   "metadata": {},
   "outputs": [],
   "source": [
    "df_m1_arr = read_cmp(file_path='/Users/Daphne/Desktop/Chewie Left M1 SN 6250-001474.cmp')\n",
    "df_pmd_arr = read_cmp(file_path='/Users/Daphne/Desktop/Chewie Left PMd SN 6251-001469.cmp')"
   ]
  },
  {
   "cell_type": "markdown",
   "metadata": {},
   "source": [
    "### 3.2 Create electrode maps"
   ]
  },
  {
   "cell_type": "code",
   "execution_count": 19,
   "metadata": {},
   "outputs": [],
   "source": [
    "m1_elecmap  = localize_elecs(df_m1_arr, elecs=range(1,97))\n",
    "pmd_elecmap = localize_elecs(df_pmd_arr, elecs=range(1,97))"
   ]
  },
  {
   "cell_type": "markdown",
   "metadata": {},
   "source": [
    "### 3.3 Compare PC weights for M1"
   ]
  },
  {
   "cell_type": "code",
   "execution_count": 20,
   "metadata": {},
   "outputs": [],
   "source": [
    "within_arr_dist, within_arr_w, between_arr_w = compare_pc_weights(main_arr=m1_elecmap, main_ug=td['M1_unit_guide'][0], w=w, other_ug=td['PMd_unit_guide'][0])"
   ]
  },
  {
   "cell_type": "code",
   "execution_count": 21,
   "metadata": {},
   "outputs": [],
   "source": [
    "other_dist = np.full(len(between_arr_w), np.nan)"
   ]
  },
  {
   "cell_type": "code",
   "execution_count": 22,
   "metadata": {},
   "outputs": [],
   "source": [
    "df = pd.DataFrame({'distance': np.concatenate((within_arr_dist, other_dist), axis=0),  'w_diff': np.concatenate((within_arr_w, between_arr_w), axis=0)})"
   ]
  },
  {
   "cell_type": "code",
   "execution_count": 23,
   "metadata": {},
   "outputs": [],
   "source": [
    "df['group'] = df['distance'].apply(lambda d: 'same elec' if d == 0 else ('same array' if d > 0 else 'other array'))"
   ]
  },
  {
   "cell_type": "code",
   "execution_count": 24,
   "metadata": {},
   "outputs": [
    {
     "data": {
      "text/html": [
       "<div>\n",
       "<style scoped>\n",
       "    .dataframe tbody tr th:only-of-type {\n",
       "        vertical-align: middle;\n",
       "    }\n",
       "\n",
       "    .dataframe tbody tr th {\n",
       "        vertical-align: top;\n",
       "    }\n",
       "\n",
       "    .dataframe thead th {\n",
       "        text-align: right;\n",
       "    }\n",
       "</style>\n",
       "<table border=\"1\" class=\"dataframe\">\n",
       "  <thead>\n",
       "    <tr style=\"text-align: right;\">\n",
       "      <th></th>\n",
       "      <th>distance</th>\n",
       "      <th>w_diff</th>\n",
       "      <th>group</th>\n",
       "    </tr>\n",
       "  </thead>\n",
       "  <tbody>\n",
       "    <tr>\n",
       "      <td>0</td>\n",
       "      <td>0.000000</td>\n",
       "      <td>0.043199</td>\n",
       "      <td>same elec</td>\n",
       "    </tr>\n",
       "    <tr>\n",
       "      <td>1</td>\n",
       "      <td>5.099020</td>\n",
       "      <td>0.206134</td>\n",
       "      <td>same array</td>\n",
       "    </tr>\n",
       "    <tr>\n",
       "      <td>2</td>\n",
       "      <td>5.099020</td>\n",
       "      <td>0.023563</td>\n",
       "      <td>same array</td>\n",
       "    </tr>\n",
       "    <tr>\n",
       "      <td>3</td>\n",
       "      <td>1.414214</td>\n",
       "      <td>0.084097</td>\n",
       "      <td>same array</td>\n",
       "    </tr>\n",
       "    <tr>\n",
       "      <td>4</td>\n",
       "      <td>1.414214</td>\n",
       "      <td>0.023512</td>\n",
       "      <td>same array</td>\n",
       "    </tr>\n",
       "    <tr>\n",
       "      <td>...</td>\n",
       "      <td>...</td>\n",
       "      <td>...</td>\n",
       "      <td>...</td>\n",
       "    </tr>\n",
       "    <tr>\n",
       "      <td>5297</td>\n",
       "      <td>NaN</td>\n",
       "      <td>0.395820</td>\n",
       "      <td>other array</td>\n",
       "    </tr>\n",
       "    <tr>\n",
       "      <td>5298</td>\n",
       "      <td>NaN</td>\n",
       "      <td>0.013173</td>\n",
       "      <td>other array</td>\n",
       "    </tr>\n",
       "    <tr>\n",
       "      <td>5299</td>\n",
       "      <td>NaN</td>\n",
       "      <td>0.019942</td>\n",
       "      <td>other array</td>\n",
       "    </tr>\n",
       "    <tr>\n",
       "      <td>5300</td>\n",
       "      <td>NaN</td>\n",
       "      <td>0.089246</td>\n",
       "      <td>other array</td>\n",
       "    </tr>\n",
       "    <tr>\n",
       "      <td>5301</td>\n",
       "      <td>NaN</td>\n",
       "      <td>0.005584</td>\n",
       "      <td>other array</td>\n",
       "    </tr>\n",
       "  </tbody>\n",
       "</table>\n",
       "<p>5302 rows × 3 columns</p>\n",
       "</div>"
      ],
      "text/plain": [
       "      distance    w_diff        group\n",
       "0     0.000000  0.043199    same elec\n",
       "1     5.099020  0.206134   same array\n",
       "2     5.099020  0.023563   same array\n",
       "3     1.414214  0.084097   same array\n",
       "4     1.414214  0.023512   same array\n",
       "...        ...       ...          ...\n",
       "5297       NaN  0.395820  other array\n",
       "5298       NaN  0.013173  other array\n",
       "5299       NaN  0.019942  other array\n",
       "5300       NaN  0.089246  other array\n",
       "5301       NaN  0.005584  other array\n",
       "\n",
       "[5302 rows x 3 columns]"
      ]
     },
     "execution_count": 24,
     "metadata": {},
     "output_type": "execute_result"
    }
   ],
   "source": [
    "df # now we can use the 'group' colum to select the rows"
   ]
  },
  {
   "cell_type": "code",
   "execution_count": 25,
   "metadata": {},
   "outputs": [],
   "source": [
    "#plt.scatter(within_arr_dist, within_arr_w); #TODO make categories from here"
   ]
  },
  {
   "cell_type": "code",
   "execution_count": 41,
   "metadata": {},
   "outputs": [
    {
     "name": "stdout",
     "output_type": "stream",
     "text": [
      "99\n"
     ]
    }
   ],
   "source": [
    "# get the counts per bin\n",
    "n, _ = np.histogram(df[], bins=binz)\n",
    "print(len(n))\n",
    "n = n/max(n) # normalise\n"
   ]
  },
  {
   "cell_type": "code",
   "execution_count": 50,
   "metadata": {},
   "outputs": [
    {
     "data": {
      "text/plain": [
       "array([0.83018868, 1.        , 0.83018868, 0.81132075, 0.64150943,\n",
       "       0.69811321, 0.56603774, 0.62264151, 0.62264151, 0.62264151,\n",
       "       0.66037736, 0.64150943, 0.75471698, 0.69811321, 0.52830189,\n",
       "       0.60377358, 0.45283019, 0.24528302, 0.35849057, 0.33962264,\n",
       "       0.22641509, 0.30188679, 0.20754717, 0.41509434, 0.33962264,\n",
       "       0.41509434, 0.45283019, 0.22641509, 0.22641509, 0.18867925,\n",
       "       0.13207547, 0.1509434 , 0.16981132, 0.09433962, 0.1509434 ,\n",
       "       0.24528302, 0.16981132, 0.20754717, 0.13207547, 0.22641509,\n",
       "       0.09433962, 0.09433962, 0.03773585, 0.03773585, 0.03773585,\n",
       "       0.01886792, 0.01886792, 0.        , 0.05660377, 0.05660377,\n",
       "       0.03773585, 0.05660377, 0.01886792, 0.05660377, 0.        ,\n",
       "       0.01886792, 0.        , 0.        , 0.        , 0.        ,\n",
       "       0.        , 0.        , 0.        , 0.        , 0.        ,\n",
       "       0.        , 0.        , 0.        , 0.        , 0.        ,\n",
       "       0.        , 0.        , 0.        , 0.        , 0.        ,\n",
       "       0.        , 0.        , 0.        , 0.        , 0.        ,\n",
       "       0.        , 0.        , 0.        , 0.        , 0.        ,\n",
       "       0.        , 0.        , 0.        , 0.        , 0.        ,\n",
       "       0.        , 0.        , 0.        , 0.        , 0.        ,\n",
       "       0.        , 0.        , 0.        , 0.        ])"
      ]
     },
     "execution_count": 50,
     "metadata": {},
     "output_type": "execute_result"
    }
   ],
   "source": [
    "n"
   ]
  },
  {
   "cell_type": "code",
   "execution_count": 57,
   "metadata": {},
   "outputs": [],
   "source": [
    "sns.set_theme(style=\"whitegrid\")"
   ]
  },
  {
   "cell_type": "code",
   "execution_count": 54,
   "metadata": {},
   "outputs": [
    {
     "data": {
      "text/plain": [
       "array([0.   , 0.005, 0.01 , 0.015, 0.02 , 0.025, 0.03 , 0.035, 0.04 ,\n",
       "       0.045, 0.05 , 0.055, 0.06 , 0.065, 0.07 , 0.075, 0.08 , 0.085,\n",
       "       0.09 , 0.095, 0.1  , 0.105, 0.11 , 0.115, 0.12 , 0.125, 0.13 ,\n",
       "       0.135, 0.14 , 0.145, 0.15 , 0.155, 0.16 , 0.165, 0.17 , 0.175,\n",
       "       0.18 , 0.185, 0.19 , 0.195, 0.2  , 0.205, 0.21 , 0.215, 0.22 ,\n",
       "       0.225, 0.23 , 0.235, 0.24 , 0.245, 0.25 , 0.255, 0.26 , 0.265,\n",
       "       0.27 , 0.275, 0.28 , 0.285, 0.29 , 0.295, 0.3  , 0.305, 0.31 ,\n",
       "       0.315, 0.32 , 0.325, 0.33 , 0.335, 0.34 , 0.345, 0.35 , 0.355,\n",
       "       0.36 , 0.365, 0.37 , 0.375, 0.38 , 0.385, 0.39 , 0.395, 0.4  ,\n",
       "       0.405, 0.41 , 0.415, 0.42 , 0.425, 0.43 , 0.435, 0.44 , 0.445,\n",
       "       0.45 , 0.455, 0.46 , 0.465, 0.47 , 0.475, 0.48 , 0.485, 0.49 ,\n",
       "       0.495])"
      ]
     },
     "execution_count": 54,
     "metadata": {},
     "output_type": "execute_result"
    }
   ],
   "source": [
    "binz"
   ]
  },
  {
   "cell_type": "code",
   "execution_count": 67,
   "metadata": {},
   "outputs": [
    {
     "data": {
      "image/png": "[encoded data removed]",
      "text/plain": [
       "<Figure size 960x480 with 1 Axes>"
      ]
     },
     "metadata": {},
     "output_type": "display_data"
    }
   ],
   "source": [
    "fig, ax = plt.subplots(1, figsize=(12, 6), dpi=80)\n",
    "sns.barplot(x=binz[:-1], y=n, color='b');\n",
    "plt.xticks([]);"
   ]
  },
  {
   "cell_type": "code",
   "execution_count": 82,
   "metadata": {},
   "outputs": [
    {
     "data": {
      "text/plain": [
       "99"
      ]
     },
     "execution_count": 82,
     "metadata": {},
     "output_type": "execute_result"
    }
   ],
   "source": []
  },
  {
   "cell_type": "code",
   "execution_count": 35,
   "metadata": {},
   "outputs": [
    {
     "ename": "SyntaxError",
     "evalue": "invalid syntax (<ipython-input-35-93a8effee1d2>, line 1)",
     "output_type": "error",
     "traceback": [
      "\u001b[0;36m  File \u001b[0;32m\"<ipython-input-35-93a8effee1d2>\"\u001b[0;36m, line \u001b[0;32m1\u001b[0m\n\u001b[0;31m    binz[[:1]]\u001b[0m\n\u001b[0m          ^\u001b[0m\n\u001b[0;31mSyntaxError\u001b[0m\u001b[0;31m:\u001b[0m invalid syntax\n"
     ]
    }
   ],
   "source": [
    "binz[]"
   ]
  },
  {
   "cell_type": "code",
   "execution_count": 28,
   "metadata": {},
   "outputs": [
    {
     "data": {
      "image/png": "[encoded data removed]",
      "text/plain": [
       "<Figure size 1200x600 with 1 Axes>"
      ]
     },
     "metadata": {},
     "output_type": "display_data"
    }
   ],
   "source": [
    "fig, ax = plt.subplots(1, figsize=(12, 6), dpi=100)\n",
    "\n",
    "sns.histplot(df, x='w_diff', hue='group', bins=binz)\n",
    "ax.set_title('', fontsize=14)\n",
    "ax.set_xlabel('', fontsize=13)\n",
    "ax.set_ylabel('', fontsize=13);"
   ]
  },
  {
   "cell_type": "code",
   "execution_count": null,
   "metadata": {},
   "outputs": [],
   "source": []
  },
  {
   "cell_type": "code",
   "execution_count": null,
   "metadata": {},
   "outputs": [],
   "source": []
  },
  {
   "cell_type": "code",
   "execution_count": null,
   "metadata": {},
   "outputs": [],
   "source": []
  },
  {
   "cell_type": "code",
   "execution_count": null,
   "metadata": {},
   "outputs": [],
   "source": []
  },
  {
   "cell_type": "code",
   "execution_count": null,
   "metadata": {},
   "outputs": [],
   "source": []
  },
  {
   "cell_type": "code",
   "execution_count": null,
   "metadata": {},
   "outputs": [],
   "source": [
    "# unit_guide = df['M1_unit_guide'][0]\n",
    "\n",
    "# df_flat = pd.DataFrame(columns=['electrode', 'neuron', 'trial', 'spikes'])\n",
    "\n",
    "# for i, row in enumerate(unit_guide):\n",
    "#     e, n = row\n",
    "#     df_app = pd.DataFrame(columns=['trial', 'spikes'])\n",
    "#     for tr in range(df.shape[0]):\n",
    "#         df_app = df_app.append({\n",
    "#             'trial' : tr,\n",
    "#             'spikes' : df['M1_spikes'][tr][:, i]\n",
    "#         }, ignore_index=True)\n",
    "#     df_app['electrode'] = e\n",
    "#     df_app['neuron'] = n\n",
    "#     df_flat = df_flat.append(df_app, ignore_index=True)\n",
    "    \n",
    "# df_flat = df_flat.loc[:, ['electrode', 'neuron', 'trial', 'spikes']]"
   ]
  }
 ],
 "metadata": {
  "kernelspec": {
   "display_name": "Python 3",
   "language": "python",
   "name": "python3"
  },
  "language_info": {
   "codemirror_mode": {
    "name": "ipython",
    "version": 3
   },
   "file_extension": ".py",
   "mimetype": "text/x-python",
   "name": "python",
   "nbconvert_exporter": "python",
   "pygments_lexer": "ipython3",
   "version": "3.7.4"
  }
 },
 "nbformat": 4,
 "nbformat_minor": 4
}
