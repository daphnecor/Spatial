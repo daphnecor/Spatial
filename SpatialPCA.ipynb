{
 "cells": [
  {
   "cell_type": "markdown",
   "metadata": {},
   "source": [
    "## Compare PCA weights spatially"
   ]
  },
  {
   "cell_type": "code",
   "execution_count": 35,
   "metadata": {},
   "outputs": [
    {
     "name": "stdout",
     "output_type": "stream",
     "text": [
      "The autoreload extension is already loaded. To reload it, use:\n",
      "  %reload_ext autoreload\n"
     ]
    }
   ],
   "source": [
    "'''\n",
    "Dependencies\n",
    "'''\n",
    "import scipy.io as sio\n",
    "import matplotlib.pyplot as plt\n",
    "import matplotlib as mpl\n",
    "import numpy as np\n",
    "import scipy\n",
    "import pandas as pd\n",
    "import scipy.stats as stats\n",
    "import scipy.sparse as sparse\n",
    "import warnings \n",
    "from scipy import integrate\n",
    "import seaborn as sns\n",
    "warnings.simplefilter('ignore')\n",
    "from sklearn import decomposition\n",
    "import scipy.io as sio\n",
    "import os\n",
    "\n",
    "sns.set_style('white')\n",
    "sns.set_context('notebook', font_scale=1.3)\n",
    "# to change default color cycle\n",
    "cs = ['#DC7253', '#264653', '#3DC1AB', '#92F0E4', '#CEE2DA', '#DC7253', '#4D7399', '#CDBCA5']\n",
    "plt.rcParams['axes.prop_cycle'] = plt.cycler(color=cs)\n",
    "cmap = sns.diverging_palette(250, 30, l=65, center=\"dark\", as_cmap=True)\n",
    "import importlib\n",
    "import rutils\n",
    "\n",
    "%load_ext autoreload\n",
    "%autoreload 2\n",
    "\n",
    "from pyaldata import *\n",
    "from rutils import *"
   ]
  },
  {
   "cell_type": "markdown",
   "metadata": {},
   "source": [
    "## Load data"
   ]
  },
  {
   "cell_type": "code",
   "execution_count": 2,
   "metadata": {},
   "outputs": [],
   "source": [
    "'''\n",
    "Insert path and filename \n",
    "'''\n",
    "path = '/Users/Daphne/Data/'  \n",
    "fname = 'Chewie_CO_VR_2016-10-06.mat' \n",
    "df = mat2dataframe(path+fname, shift_idx_fields=True)"
   ]
  },
  {
   "cell_type": "code",
   "execution_count": 3,
   "metadata": {},
   "outputs": [
    {
     "data": {
      "text/plain": [
       "(774, 24)"
      ]
     },
     "execution_count": 3,
     "metadata": {},
     "output_type": "execute_result"
    }
   ],
   "source": [
    "df.shape"
   ]
  },
  {
   "cell_type": "markdown",
   "metadata": {},
   "source": [
    "## 1 Preprocess "
   ]
  },
  {
   "cell_type": "markdown",
   "metadata": {},
   "source": [
    "### 1.1 Combine time bins"
   ]
  },
  {
   "cell_type": "code",
   "execution_count": 4,
   "metadata": {},
   "outputs": [],
   "source": [
    "td = combine_time_bins(df, n_bins=3)"
   ]
  },
  {
   "cell_type": "markdown",
   "metadata": {},
   "source": [
    "### 1.2 Remove low firing neurons"
   ]
  },
  {
   "cell_type": "code",
   "execution_count": 5,
   "metadata": {},
   "outputs": [],
   "source": [
    "td = remove_low_firing_neurons(td, signal='M1_spikes', threshold=5)\n",
    "td = remove_low_firing_neurons(td, signal='PMd_spikes', threshold=5)"
   ]
  },
  {
   "cell_type": "markdown",
   "metadata": {},
   "source": [
    "### 1.3 Transform signals"
   ]
  },
  {
   "cell_type": "code",
   "execution_count": 6,
   "metadata": {},
   "outputs": [],
   "source": [
    "td = transform_signal(td, signal='M1_spikes',  transformations='sqrt')\n",
    "td = transform_signal(td, signal='PMd_spikes', transformations='sqrt')"
   ]
  },
  {
   "cell_type": "markdown",
   "metadata": {},
   "source": [
    "### 1.4 Merge signals"
   ]
  },
  {
   "cell_type": "code",
   "execution_count": 7,
   "metadata": {},
   "outputs": [],
   "source": [
    "td = merge_signals(td, ['M1_spikes', 'PMd_spikes'], 'both_spikes')"
   ]
  },
  {
   "cell_type": "markdown",
   "metadata": {},
   "source": [
    "### 1.5 Compute firing rates from spike trains\n",
    "\n",
    "Add firing rates for `M1_spikes`, `PMd_spikes` and `both_spikes`"
   ]
  },
  {
   "cell_type": "code",
   "execution_count": 8,
   "metadata": {},
   "outputs": [],
   "source": [
    "# works on '_spikes' fields and automatically divides by bin_size\n",
    "td = add_firing_rates(td, 'smooth')"
   ]
  },
  {
   "cell_type": "markdown",
   "metadata": {},
   "source": [
    "### 1.6 Select data from Baseline epoch\n",
    "\n",
    "Select only those rows from the baseline epoch `'BL'`"
   ]
  },
  {
   "cell_type": "code",
   "execution_count": 9,
   "metadata": {},
   "outputs": [],
   "source": [
    "td = td.loc[df['epoch'] == 'BL']"
   ]
  },
  {
   "cell_type": "code",
   "execution_count": 10,
   "metadata": {},
   "outputs": [
    {
     "data": {
      "text/plain": [
       "(217, 28)"
      ]
     },
     "execution_count": 10,
     "metadata": {},
     "output_type": "execute_result"
    }
   ],
   "source": [
    "td.shape"
   ]
  },
  {
   "cell_type": "markdown",
   "metadata": {},
   "source": [
    "## 2 Do Principal Component Analysis"
   ]
  },
  {
   "cell_type": "markdown",
   "metadata": {},
   "source": [
    "### 2.1 Do PCA on both arrays \n",
    "\n",
    "`both_rates`"
   ]
  },
  {
   "cell_type": "code",
   "execution_count": 11,
   "metadata": {},
   "outputs": [],
   "source": [
    "which_dim = 0 \n",
    "\n",
    "m1pmd_weights = getPCA(rates=td['both_rates'])\n",
    "\n",
    "w = m1pmd_weights[:, which_dim] "
   ]
  },
  {
   "cell_type": "markdown",
   "metadata": {},
   "source": [
    "This is the eigenvector associated with the first PC. \n",
    "\n",
    "Each element represents a loading, namely how much (the weight) each original neuron contributes to the corresponding principal component."
   ]
  },
  {
   "cell_type": "code",
   "execution_count": 12,
   "metadata": {},
   "outputs": [
    {
     "data": {
      "text/plain": [
       "(143,)"
      ]
     },
     "execution_count": 12,
     "metadata": {},
     "output_type": "execute_result"
    }
   ],
   "source": [
    "w.shape # total number of neurons"
   ]
  },
  {
   "cell_type": "markdown",
   "metadata": {},
   "source": [
    "### 2.2 Do PCA on PMd array"
   ]
  },
  {
   "cell_type": "code",
   "execution_count": null,
   "metadata": {},
   "outputs": [],
   "source": []
  },
  {
   "cell_type": "code",
   "execution_count": 13,
   "metadata": {},
   "outputs": [],
   "source": [
    "# TODO"
   ]
  },
  {
   "cell_type": "markdown",
   "metadata": {},
   "source": [
    "### 2.3 Do PCA on all neurons combined"
   ]
  },
  {
   "cell_type": "code",
   "execution_count": 14,
   "metadata": {},
   "outputs": [],
   "source": [
    "# TODO"
   ]
  },
  {
   "cell_type": "markdown",
   "metadata": {},
   "source": [
    "## 3 Analyse PC weights "
   ]
  },
  {
   "cell_type": "code",
   "execution_count": 15,
   "metadata": {},
   "outputs": [],
   "source": [
    "binz = np.arange(0, 0.5, 0.005)"
   ]
  },
  {
   "cell_type": "markdown",
   "metadata": {},
   "source": [
    "### 3.1 Read in cmp files"
   ]
  },
  {
   "cell_type": "code",
   "execution_count": 16,
   "metadata": {},
   "outputs": [],
   "source": [
    "df_m1_arr  = read_cmp(file_path='/Users/Daphne/Desktop/Chewie Left M1 SN 6250-001474.cmp')\n",
    "df_pmd_arr = read_cmp(file_path='/Users/Daphne/Desktop/Chewie Left PMd SN 6251-001469.cmp')"
   ]
  },
  {
   "cell_type": "markdown",
   "metadata": {},
   "source": [
    "### 3.2 Create electrode maps"
   ]
  },
  {
   "cell_type": "code",
   "execution_count": 17,
   "metadata": {},
   "outputs": [],
   "source": [
    "m1_elecmap  = localize_elecs(df_m1_arr, elecs=range(1,97))\n",
    "pmd_elecmap = localize_elecs(df_pmd_arr, elecs=range(1,97))"
   ]
  },
  {
   "cell_type": "markdown",
   "metadata": {},
   "source": [
    "### 3.3 Compare PC weights \n",
    "\n",
    "- within M1\n",
    "- within PMd\n",
    "- Between M1 & PMd"
   ]
  },
  {
   "cell_type": "code",
   "execution_count": 18,
   "metadata": {},
   "outputs": [],
   "source": [
    "within_m1_dist, within_m1_w, within_pmd_dist, within_pmd_w, pmd_m1_w = compare_pc_weights(m1_arr=m1_elecmap, m1_ug=td['M1_unit_guide'][0], \n",
    "                                                                                          pmd_arr=pmd_elecmap, pmd_ug=td['PMd_unit_guide'][0], w=w)"
   ]
  },
  {
   "cell_type": "code",
   "execution_count": 19,
   "metadata": {},
   "outputs": [],
   "source": [
    "df = pd.DataFrame({'distance': np.concatenate((within_m1_dist, within_pmd_dist, np.full(len(pmd_m1_w), np.nan)), axis=0), 'w_diff': np.concatenate((within_m1_w, within_pmd_w, pmd_m1_w), axis=0)})"
   ]
  },
  {
   "cell_type": "code",
   "execution_count": 20,
   "metadata": {},
   "outputs": [
    {
     "data": {
      "text/plain": [
       "4851"
      ]
     },
     "execution_count": 20,
     "metadata": {},
     "output_type": "execute_result"
    }
   ],
   "source": [
    "len(within_pmd_w)"
   ]
  },
  {
   "cell_type": "code",
   "execution_count": 21,
   "metadata": {},
   "outputs": [
    {
     "data": {
      "text/plain": [
       "5302"
      ]
     },
     "execution_count": 21,
     "metadata": {},
     "output_type": "execute_result"
    }
   ],
   "source": [
    "len(within_m1_w) + len(pmd_m1_w)"
   ]
  },
  {
   "cell_type": "code",
   "execution_count": 22,
   "metadata": {},
   "outputs": [],
   "source": [
    "df['array'] = np.nan\n",
    "df['array'].iloc[:len(within_m1_w)] = 'M1'\n",
    "df['array'].iloc[len(within_m1_w): len(within_m1_w) + len(within_pmd_w)] = 'PMd'\n",
    "\n",
    "df['group'] = df['distance'].apply(lambda d: 'same elec' if d == 0 else ('same array' if d > 0 else ('other array')))"
   ]
  },
  {
   "cell_type": "code",
   "execution_count": 23,
   "metadata": {},
   "outputs": [
    {
     "data": {
      "text/html": [
       "<div>\n",
       "<style scoped>\n",
       "    .dataframe tbody tr th:only-of-type {\n",
       "        vertical-align: middle;\n",
       "    }\n",
       "\n",
       "    .dataframe tbody tr th {\n",
       "        vertical-align: top;\n",
       "    }\n",
       "\n",
       "    .dataframe thead th {\n",
       "        text-align: right;\n",
       "    }\n",
       "</style>\n",
       "<table border=\"1\" class=\"dataframe\">\n",
       "  <thead>\n",
       "    <tr style=\"text-align: right;\">\n",
       "      <th></th>\n",
       "      <th>distance</th>\n",
       "      <th>w_diff</th>\n",
       "      <th>array</th>\n",
       "      <th>group</th>\n",
       "    </tr>\n",
       "  </thead>\n",
       "  <tbody>\n",
       "    <tr>\n",
       "      <td>0</td>\n",
       "      <td>0.000000</td>\n",
       "      <td>0.043199</td>\n",
       "      <td>M1</td>\n",
       "      <td>same elec</td>\n",
       "    </tr>\n",
       "    <tr>\n",
       "      <td>1</td>\n",
       "      <td>5.099020</td>\n",
       "      <td>0.206134</td>\n",
       "      <td>M1</td>\n",
       "      <td>same array</td>\n",
       "    </tr>\n",
       "    <tr>\n",
       "      <td>2</td>\n",
       "      <td>5.099020</td>\n",
       "      <td>0.023563</td>\n",
       "      <td>M1</td>\n",
       "      <td>same array</td>\n",
       "    </tr>\n",
       "    <tr>\n",
       "      <td>3</td>\n",
       "      <td>1.414214</td>\n",
       "      <td>0.084097</td>\n",
       "      <td>M1</td>\n",
       "      <td>same array</td>\n",
       "    </tr>\n",
       "    <tr>\n",
       "      <td>4</td>\n",
       "      <td>1.414214</td>\n",
       "      <td>0.023512</td>\n",
       "      <td>M1</td>\n",
       "      <td>same array</td>\n",
       "    </tr>\n",
       "    <tr>\n",
       "      <td>...</td>\n",
       "      <td>...</td>\n",
       "      <td>...</td>\n",
       "      <td>...</td>\n",
       "      <td>...</td>\n",
       "    </tr>\n",
       "    <tr>\n",
       "      <td>10148</td>\n",
       "      <td>NaN</td>\n",
       "      <td>0.548914</td>\n",
       "      <td>NaN</td>\n",
       "      <td>other array</td>\n",
       "    </tr>\n",
       "    <tr>\n",
       "      <td>10149</td>\n",
       "      <td>NaN</td>\n",
       "      <td>0.139922</td>\n",
       "      <td>NaN</td>\n",
       "      <td>other array</td>\n",
       "    </tr>\n",
       "    <tr>\n",
       "      <td>10150</td>\n",
       "      <td>NaN</td>\n",
       "      <td>0.133153</td>\n",
       "      <td>NaN</td>\n",
       "      <td>other array</td>\n",
       "    </tr>\n",
       "    <tr>\n",
       "      <td>10151</td>\n",
       "      <td>NaN</td>\n",
       "      <td>0.063849</td>\n",
       "      <td>NaN</td>\n",
       "      <td>other array</td>\n",
       "    </tr>\n",
       "    <tr>\n",
       "      <td>10152</td>\n",
       "      <td>NaN</td>\n",
       "      <td>0.147511</td>\n",
       "      <td>NaN</td>\n",
       "      <td>other array</td>\n",
       "    </tr>\n",
       "  </tbody>\n",
       "</table>\n",
       "<p>10153 rows × 4 columns</p>\n",
       "</div>"
      ],
      "text/plain": [
       "       distance    w_diff array        group\n",
       "0      0.000000  0.043199    M1    same elec\n",
       "1      5.099020  0.206134    M1   same array\n",
       "2      5.099020  0.023563    M1   same array\n",
       "3      1.414214  0.084097    M1   same array\n",
       "4      1.414214  0.023512    M1   same array\n",
       "...         ...       ...   ...          ...\n",
       "10148       NaN  0.548914   NaN  other array\n",
       "10149       NaN  0.139922   NaN  other array\n",
       "10150       NaN  0.133153   NaN  other array\n",
       "10151       NaN  0.063849   NaN  other array\n",
       "10152       NaN  0.147511   NaN  other array\n",
       "\n",
       "[10153 rows x 4 columns]"
      ]
     },
     "execution_count": 23,
     "metadata": {},
     "output_type": "execute_result"
    }
   ],
   "source": [
    "df"
   ]
  },
  {
   "cell_type": "code",
   "execution_count": 24,
   "metadata": {},
   "outputs": [
    {
     "data": {
      "text/html": [
       "<div>\n",
       "<style scoped>\n",
       "    .dataframe tbody tr th:only-of-type {\n",
       "        vertical-align: middle;\n",
       "    }\n",
       "\n",
       "    .dataframe tbody tr th {\n",
       "        vertical-align: top;\n",
       "    }\n",
       "\n",
       "    .dataframe thead tr th {\n",
       "        text-align: left;\n",
       "    }\n",
       "\n",
       "    .dataframe thead tr:last-of-type th {\n",
       "        text-align: right;\n",
       "    }\n",
       "</style>\n",
       "<table border=\"1\" class=\"dataframe\">\n",
       "  <thead>\n",
       "    <tr>\n",
       "      <th></th>\n",
       "      <th colspan=\"8\" halign=\"left\">distance</th>\n",
       "      <th colspan=\"8\" halign=\"left\">w_diff</th>\n",
       "    </tr>\n",
       "    <tr>\n",
       "      <th></th>\n",
       "      <th>count</th>\n",
       "      <th>mean</th>\n",
       "      <th>std</th>\n",
       "      <th>min</th>\n",
       "      <th>25%</th>\n",
       "      <th>50%</th>\n",
       "      <th>75%</th>\n",
       "      <th>max</th>\n",
       "      <th>count</th>\n",
       "      <th>mean</th>\n",
       "      <th>std</th>\n",
       "      <th>min</th>\n",
       "      <th>25%</th>\n",
       "      <th>50%</th>\n",
       "      <th>75%</th>\n",
       "      <th>max</th>\n",
       "    </tr>\n",
       "    <tr>\n",
       "      <th>group</th>\n",
       "      <th></th>\n",
       "      <th></th>\n",
       "      <th></th>\n",
       "      <th></th>\n",
       "      <th></th>\n",
       "      <th></th>\n",
       "      <th></th>\n",
       "      <th></th>\n",
       "      <th></th>\n",
       "      <th></th>\n",
       "      <th></th>\n",
       "      <th></th>\n",
       "      <th></th>\n",
       "      <th></th>\n",
       "      <th></th>\n",
       "      <th></th>\n",
       "    </tr>\n",
       "  </thead>\n",
       "  <tbody>\n",
       "    <tr>\n",
       "      <td>other array</td>\n",
       "      <td>0.0</td>\n",
       "      <td>NaN</td>\n",
       "      <td>NaN</td>\n",
       "      <td>NaN</td>\n",
       "      <td>NaN</td>\n",
       "      <td>NaN</td>\n",
       "      <td>NaN</td>\n",
       "      <td>NaN</td>\n",
       "      <td>4356.0</td>\n",
       "      <td>0.098338</td>\n",
       "      <td>0.089709</td>\n",
       "      <td>0.000087</td>\n",
       "      <td>0.033601</td>\n",
       "      <td>0.072184</td>\n",
       "      <td>0.136501</td>\n",
       "      <td>0.564991</td>\n",
       "    </tr>\n",
       "    <tr>\n",
       "      <td>same array</td>\n",
       "      <td>5707.0</td>\n",
       "      <td>5.00061</td>\n",
       "      <td>2.333716</td>\n",
       "      <td>1.0</td>\n",
       "      <td>3.162278</td>\n",
       "      <td>5.0</td>\n",
       "      <td>6.708204</td>\n",
       "      <td>12.041595</td>\n",
       "      <td>5707.0</td>\n",
       "      <td>0.072156</td>\n",
       "      <td>0.055235</td>\n",
       "      <td>0.000008</td>\n",
       "      <td>0.027636</td>\n",
       "      <td>0.060553</td>\n",
       "      <td>0.105388</td>\n",
       "      <td>0.278429</td>\n",
       "    </tr>\n",
       "    <tr>\n",
       "      <td>same elec</td>\n",
       "      <td>90.0</td>\n",
       "      <td>0.00000</td>\n",
       "      <td>0.000000</td>\n",
       "      <td>0.0</td>\n",
       "      <td>0.000000</td>\n",
       "      <td>0.0</td>\n",
       "      <td>0.000000</td>\n",
       "      <td>0.000000</td>\n",
       "      <td>90.0</td>\n",
       "      <td>0.066884</td>\n",
       "      <td>0.052155</td>\n",
       "      <td>0.001131</td>\n",
       "      <td>0.025400</td>\n",
       "      <td>0.050566</td>\n",
       "      <td>0.094521</td>\n",
       "      <td>0.199151</td>\n",
       "    </tr>\n",
       "  </tbody>\n",
       "</table>\n",
       "</div>"
      ],
      "text/plain": [
       "            distance                                                   \\\n",
       "               count     mean       std  min       25%  50%       75%   \n",
       "group                                                                   \n",
       "other array      0.0      NaN       NaN  NaN       NaN  NaN       NaN   \n",
       "same array    5707.0  5.00061  2.333716  1.0  3.162278  5.0  6.708204   \n",
       "same elec       90.0  0.00000  0.000000  0.0  0.000000  0.0  0.000000   \n",
       "\n",
       "                        w_diff                                          \\\n",
       "                   max   count      mean       std       min       25%   \n",
       "group                                                                    \n",
       "other array        NaN  4356.0  0.098338  0.089709  0.000087  0.033601   \n",
       "same array   12.041595  5707.0  0.072156  0.055235  0.000008  0.027636   \n",
       "same elec     0.000000    90.0  0.066884  0.052155  0.001131  0.025400   \n",
       "\n",
       "                                           \n",
       "                  50%       75%       max  \n",
       "group                                      \n",
       "other array  0.072184  0.136501  0.564991  \n",
       "same array   0.060553  0.105388  0.278429  \n",
       "same elec    0.050566  0.094521  0.199151  "
      ]
     },
     "execution_count": 24,
     "metadata": {},
     "output_type": "execute_result"
    }
   ],
   "source": [
    "df.groupby(['group']).describe()"
   ]
  },
  {
   "cell_type": "code",
   "execution_count": 25,
   "metadata": {},
   "outputs": [
    {
     "data": {
      "text/html": [
       "<div>\n",
       "<style scoped>\n",
       "    .dataframe tbody tr th:only-of-type {\n",
       "        vertical-align: middle;\n",
       "    }\n",
       "\n",
       "    .dataframe tbody tr th {\n",
       "        vertical-align: top;\n",
       "    }\n",
       "\n",
       "    .dataframe thead tr th {\n",
       "        text-align: left;\n",
       "    }\n",
       "\n",
       "    .dataframe thead tr:last-of-type th {\n",
       "        text-align: right;\n",
       "    }\n",
       "</style>\n",
       "<table border=\"1\" class=\"dataframe\">\n",
       "  <thead>\n",
       "    <tr>\n",
       "      <th></th>\n",
       "      <th colspan=\"8\" halign=\"left\">distance</th>\n",
       "      <th colspan=\"8\" halign=\"left\">w_diff</th>\n",
       "    </tr>\n",
       "    <tr>\n",
       "      <th></th>\n",
       "      <th>count</th>\n",
       "      <th>mean</th>\n",
       "      <th>std</th>\n",
       "      <th>min</th>\n",
       "      <th>25%</th>\n",
       "      <th>50%</th>\n",
       "      <th>75%</th>\n",
       "      <th>max</th>\n",
       "      <th>count</th>\n",
       "      <th>mean</th>\n",
       "      <th>std</th>\n",
       "      <th>min</th>\n",
       "      <th>25%</th>\n",
       "      <th>50%</th>\n",
       "      <th>75%</th>\n",
       "      <th>max</th>\n",
       "    </tr>\n",
       "    <tr>\n",
       "      <th>array</th>\n",
       "      <th></th>\n",
       "      <th></th>\n",
       "      <th></th>\n",
       "      <th></th>\n",
       "      <th></th>\n",
       "      <th></th>\n",
       "      <th></th>\n",
       "      <th></th>\n",
       "      <th></th>\n",
       "      <th></th>\n",
       "      <th></th>\n",
       "      <th></th>\n",
       "      <th></th>\n",
       "      <th></th>\n",
       "      <th></th>\n",
       "      <th></th>\n",
       "    </tr>\n",
       "  </thead>\n",
       "  <tbody>\n",
       "    <tr>\n",
       "      <td>M1</td>\n",
       "      <td>946.0</td>\n",
       "      <td>4.554525</td>\n",
       "      <td>2.279065</td>\n",
       "      <td>0.0</td>\n",
       "      <td>3.000000</td>\n",
       "      <td>4.242641</td>\n",
       "      <td>6.082763</td>\n",
       "      <td>10.630146</td>\n",
       "      <td>946.0</td>\n",
       "      <td>0.076287</td>\n",
       "      <td>0.059933</td>\n",
       "      <td>0.000052</td>\n",
       "      <td>0.027387</td>\n",
       "      <td>0.062442</td>\n",
       "      <td>0.116781</td>\n",
       "      <td>0.278429</td>\n",
       "    </tr>\n",
       "    <tr>\n",
       "      <td>PMd</td>\n",
       "      <td>4851.0</td>\n",
       "      <td>4.994826</td>\n",
       "      <td>2.412590</td>\n",
       "      <td>0.0</td>\n",
       "      <td>3.162278</td>\n",
       "      <td>5.000000</td>\n",
       "      <td>6.708204</td>\n",
       "      <td>12.041595</td>\n",
       "      <td>4851.0</td>\n",
       "      <td>0.071253</td>\n",
       "      <td>0.054183</td>\n",
       "      <td>0.000008</td>\n",
       "      <td>0.027694</td>\n",
       "      <td>0.059968</td>\n",
       "      <td>0.103310</td>\n",
       "      <td>0.278429</td>\n",
       "    </tr>\n",
       "  </tbody>\n",
       "</table>\n",
       "</div>"
      ],
      "text/plain": [
       "      distance                                                         \\\n",
       "         count      mean       std  min       25%       50%       75%   \n",
       "array                                                                   \n",
       "M1       946.0  4.554525  2.279065  0.0  3.000000  4.242641  6.082763   \n",
       "PMd     4851.0  4.994826  2.412590  0.0  3.162278  5.000000  6.708204   \n",
       "\n",
       "                  w_diff                                                    \\\n",
       "             max   count      mean       std       min       25%       50%   \n",
       "array                                                                        \n",
       "M1     10.630146   946.0  0.076287  0.059933  0.000052  0.027387  0.062442   \n",
       "PMd    12.041595  4851.0  0.071253  0.054183  0.000008  0.027694  0.059968   \n",
       "\n",
       "                           \n",
       "            75%       max  \n",
       "array                      \n",
       "M1     0.116781  0.278429  \n",
       "PMd    0.103310  0.278429  "
      ]
     },
     "execution_count": 25,
     "metadata": {},
     "output_type": "execute_result"
    }
   ],
   "source": [
    "df.groupby(['array']).describe()"
   ]
  },
  {
   "cell_type": "code",
   "execution_count": 26,
   "metadata": {},
   "outputs": [],
   "source": [
    "df_m1_other = df.loc[df['array'].isin(['M1', np.nan])]\n",
    "df_pmd_other = df.loc[df['array'].isin(['PMd', np.nan])]"
   ]
  },
  {
   "cell_type": "code",
   "execution_count": 27,
   "metadata": {},
   "outputs": [
    {
     "data": {
      "text/html": [
       "<div>\n",
       "<style scoped>\n",
       "    .dataframe tbody tr th:only-of-type {\n",
       "        vertical-align: middle;\n",
       "    }\n",
       "\n",
       "    .dataframe tbody tr th {\n",
       "        vertical-align: top;\n",
       "    }\n",
       "\n",
       "    .dataframe thead th {\n",
       "        text-align: right;\n",
       "    }\n",
       "</style>\n",
       "<table border=\"1\" class=\"dataframe\">\n",
       "  <thead>\n",
       "    <tr style=\"text-align: right;\">\n",
       "      <th></th>\n",
       "      <th>distance</th>\n",
       "      <th>w_diff</th>\n",
       "    </tr>\n",
       "  </thead>\n",
       "  <tbody>\n",
       "    <tr>\n",
       "      <td>count</td>\n",
       "      <td>946.000000</td>\n",
       "      <td>5302.000000</td>\n",
       "    </tr>\n",
       "    <tr>\n",
       "      <td>mean</td>\n",
       "      <td>4.554525</td>\n",
       "      <td>0.094404</td>\n",
       "    </tr>\n",
       "    <tr>\n",
       "      <td>std</td>\n",
       "      <td>2.279065</td>\n",
       "      <td>0.085575</td>\n",
       "    </tr>\n",
       "    <tr>\n",
       "      <td>min</td>\n",
       "      <td>0.000000</td>\n",
       "      <td>0.000052</td>\n",
       "    </tr>\n",
       "    <tr>\n",
       "      <td>25%</td>\n",
       "      <td>3.000000</td>\n",
       "      <td>0.032535</td>\n",
       "    </tr>\n",
       "    <tr>\n",
       "      <td>50%</td>\n",
       "      <td>4.242641</td>\n",
       "      <td>0.069966</td>\n",
       "    </tr>\n",
       "    <tr>\n",
       "      <td>75%</td>\n",
       "      <td>6.082763</td>\n",
       "      <td>0.131840</td>\n",
       "    </tr>\n",
       "    <tr>\n",
       "      <td>max</td>\n",
       "      <td>10.630146</td>\n",
       "      <td>0.564991</td>\n",
       "    </tr>\n",
       "  </tbody>\n",
       "</table>\n",
       "</div>"
      ],
      "text/plain": [
       "         distance       w_diff\n",
       "count  946.000000  5302.000000\n",
       "mean     4.554525     0.094404\n",
       "std      2.279065     0.085575\n",
       "min      0.000000     0.000052\n",
       "25%      3.000000     0.032535\n",
       "50%      4.242641     0.069966\n",
       "75%      6.082763     0.131840\n",
       "max     10.630146     0.564991"
      ]
     },
     "execution_count": 27,
     "metadata": {},
     "output_type": "execute_result"
    }
   ],
   "source": [
    "df_m1_other.describe()"
   ]
  },
  {
   "cell_type": "code",
   "execution_count": 28,
   "metadata": {},
   "outputs": [
    {
     "data": {
      "text/html": [
       "<div>\n",
       "<style scoped>\n",
       "    .dataframe tbody tr th:only-of-type {\n",
       "        vertical-align: middle;\n",
       "    }\n",
       "\n",
       "    .dataframe tbody tr th {\n",
       "        vertical-align: top;\n",
       "    }\n",
       "\n",
       "    .dataframe thead th {\n",
       "        text-align: right;\n",
       "    }\n",
       "</style>\n",
       "<table border=\"1\" class=\"dataframe\">\n",
       "  <thead>\n",
       "    <tr style=\"text-align: right;\">\n",
       "      <th></th>\n",
       "      <th>distance</th>\n",
       "      <th>w_diff</th>\n",
       "    </tr>\n",
       "  </thead>\n",
       "  <tbody>\n",
       "    <tr>\n",
       "      <td>count</td>\n",
       "      <td>4851.000000</td>\n",
       "      <td>9207.000000</td>\n",
       "    </tr>\n",
       "    <tr>\n",
       "      <td>mean</td>\n",
       "      <td>4.994826</td>\n",
       "      <td>0.084067</td>\n",
       "    </tr>\n",
       "    <tr>\n",
       "      <td>std</td>\n",
       "      <td>2.412590</td>\n",
       "      <td>0.074408</td>\n",
       "    </tr>\n",
       "    <tr>\n",
       "      <td>min</td>\n",
       "      <td>0.000000</td>\n",
       "      <td>0.000008</td>\n",
       "    </tr>\n",
       "    <tr>\n",
       "      <td>25%</td>\n",
       "      <td>3.162278</td>\n",
       "      <td>0.030569</td>\n",
       "    </tr>\n",
       "    <tr>\n",
       "      <td>50%</td>\n",
       "      <td>5.000000</td>\n",
       "      <td>0.064807</td>\n",
       "    </tr>\n",
       "    <tr>\n",
       "      <td>75%</td>\n",
       "      <td>6.708204</td>\n",
       "      <td>0.117266</td>\n",
       "    </tr>\n",
       "    <tr>\n",
       "      <td>max</td>\n",
       "      <td>12.041595</td>\n",
       "      <td>0.564991</td>\n",
       "    </tr>\n",
       "  </tbody>\n",
       "</table>\n",
       "</div>"
      ],
      "text/plain": [
       "          distance       w_diff\n",
       "count  4851.000000  9207.000000\n",
       "mean      4.994826     0.084067\n",
       "std       2.412590     0.074408\n",
       "min       0.000000     0.000008\n",
       "25%       3.162278     0.030569\n",
       "50%       5.000000     0.064807\n",
       "75%       6.708204     0.117266\n",
       "max      12.041595     0.564991"
      ]
     },
     "execution_count": 28,
     "metadata": {},
     "output_type": "execute_result"
    }
   ],
   "source": [
    "df_pmd_other.describe()"
   ]
  },
  {
   "cell_type": "markdown",
   "metadata": {},
   "source": [
    "### 3.4 Plot weight differences "
   ]
  },
  {
   "cell_type": "code",
   "execution_count": 39,
   "metadata": {},
   "outputs": [
    {
     "data": {
      "image/png": "[encoded data removed]",
      "text/plain": [
       "<Figure size 1440x360 with 2 Axes>"
      ]
     },
     "metadata": {},
     "output_type": "display_data"
    }
   ],
   "source": [
    "fig, (ax1, ax2) = plt.subplots(1, 2, figsize=(20, 5))\n",
    "\n",
    "sns.histplot(df, x='w_diff', hue='array', bins=binz, stat='count', ax=ax1)\n",
    "ax1.set_title('Comparison PC weights within arrays')\n",
    "ax1.set_xlabel('Difference in weight to first PC')\n",
    "ax1.set_ylabel('Count')\n",
    "\n",
    "sns.histplot(df, x='w_diff', hue='group', bins=binz, stat='count', ax=ax2)\n",
    "ax2.set_title('Comparison PC weights for both arrays combined')\n",
    "ax2.set_xlabel('Difference in weight to first PC')\n",
    "ax2.set_ylabel('Count')\n",
    "sns.despine()"
   ]
  },
  {
   "cell_type": "code",
   "execution_count": 46,
   "metadata": {},
   "outputs": [
    {
     "data": {
      "image/png": "[encoded data removed]",
      "text/plain": [
       "<Figure size 1440x360 with 2 Axes>"
      ]
     },
     "metadata": {},
     "output_type": "display_data"
    }
   ],
   "source": [
    "fig, (ax1, ax2) = plt.subplots(1, 2, figsize=(20, 5))\n",
    "\n",
    "sns.histplot(df_m1_other, x='w_diff', hue='group', bins=binz, stat='count', ax=ax1)\n",
    "ax1.set_title('Comparison PC weights for M1')\n",
    "ax1.set_xlabel('Difference in weight to first PC')\n",
    "\n",
    "sns.histplot(df_pmd_other, x='w_diff', hue='group', bins=binz, stat='count', ax=ax2)\n",
    "ax2.set_title('Comparison PC weights for PMd')\n",
    "ax2.set_xlabel('Difference in weight to first PC')\n",
    "sns.despine()"
   ]
  },
  {
   "cell_type": "markdown",
   "metadata": {},
   "source": [
    "`probability` normalizes counts so that the sum of the bar heights is 1"
   ]
  },
  {
   "cell_type": "code",
   "execution_count": 45,
   "metadata": {},
   "outputs": [
    {
     "data": {
      "image/png": "[encoded data removed]",
      "text/plain": [
       "<Figure size 1440x360 with 2 Axes>"
      ]
     },
     "metadata": {},
     "output_type": "display_data"
    }
   ],
   "source": [
    "fig, (ax1, ax2) = plt.subplots(1, 2, figsize=(20, 5))\n",
    "\n",
    "sns.histplot(df_m1_other, x='w_diff', hue='group', bins=binz, stat='probability', ax=ax1)\n",
    "ax1.set_title('Comparison PC weights for M1')\n",
    "ax1.set_xlabel('Difference in weight to first PC')\n",
    "\n",
    "sns.histplot(df_pmd_other, x='w_diff', hue='group', bins=binz, stat='probability', ax=ax2)\n",
    "ax2.set_title('Comparison PC weights for PMd')\n",
    "ax2.set_xlabel('Difference in weight to first PC')\n",
    "sns.despine()"
   ]
  },
  {
   "cell_type": "markdown",
   "metadata": {},
   "source": [
    "### Normalise and statistical test"
   ]
  },
  {
   "cell_type": "code",
   "execution_count": null,
   "metadata": {},
   "outputs": [],
   "source": []
  },
  {
   "cell_type": "code",
   "execution_count": null,
   "metadata": {},
   "outputs": [],
   "source": []
  },
  {
   "cell_type": "code",
   "execution_count": null,
   "metadata": {},
   "outputs": [],
   "source": []
  },
  {
   "cell_type": "code",
   "execution_count": null,
   "metadata": {},
   "outputs": [],
   "source": []
  },
  {
   "cell_type": "code",
   "execution_count": 32,
   "metadata": {},
   "outputs": [
    {
     "data": {
      "image/png": "[encoded data removed]",
      "text/plain": [
       "<Figure size 960x480 with 1 Axes>"
      ]
     },
     "metadata": {
      "needs_background": "light"
     },
     "output_type": "display_data"
    }
   ],
   "source": [
    "# normalise for histogram\n",
    "same_elec = df.loc[df['group'] == 'same elec']['w_diff'].values\n",
    "same_arr = df.loc[df['group'] == 'same array']['w_diff'].values\n",
    "other_arr = df.loc[df['group'] == 'other array']['w_diff'].values\n",
    "\n",
    "# get the counts per bin\n",
    "n_se, _ = np.histogram(same_elec, bins=binz)\n",
    "n_se = n_se/max(n_se) # normalise\n",
    "\n",
    "# get the counts per bin\n",
    "n_sa, _ = np.histogram(same_arr, bins=binz)\n",
    "n_sa = n_sa/max(n_sa) # normalise\n",
    "\n",
    "# get the counts per bin\n",
    "n_oa, _ = np.histogram(other_arr, bins=binz)\n",
    "n_oa = n_oa/max(n_oa) # normalise\n",
    "\n",
    "fig, ax = plt.subplots(1, figsize=(12, 6), dpi=80)\n",
    "sns.barplot(x=binz[:-1], y=n_oa, color='k');\n",
    "sns.barplot(x=binz[:-1], y=n_sa, color='r');\n",
    "sns.barplot(x=binz[:-1], y=n_se, color='b');\n",
    "plt.xticks([]);"
   ]
  },
  {
   "cell_type": "code",
   "execution_count": null,
   "metadata": {},
   "outputs": [],
   "source": []
  },
  {
   "cell_type": "code",
   "execution_count": 33,
   "metadata": {},
   "outputs": [],
   "source": [
    "# unit_guide = df['M1_unit_guide'][0]\n",
    "\n",
    "# df_flat = pd.DataFrame(columns=['electrode', 'neuron', 'trial', 'spikes'])\n",
    "\n",
    "# for i, row in enumerate(unit_guide):\n",
    "#     e, n = row\n",
    "#     df_app = pd.DataFrame(columns=['trial', 'spikes'])\n",
    "#     for tr in range(df.shape[0]):\n",
    "#         df_app = df_app.append({\n",
    "#             'trial' : tr,\n",
    "#             'spikes' : df['M1_spikes'][tr][:, i]\n",
    "#         }, ignore_index=True)\n",
    "#     df_app['electrode'] = e\n",
    "#     df_app['neuron'] = n\n",
    "#     df_flat = df_flat.append(df_app, ignore_index=True)\n",
    "    \n",
    "# df_flat = df_flat.loc[:, ['electrode', 'neuron', 'trial', 'spikes']]"
   ]
  }
 ],
 "metadata": {
  "kernelspec": {
   "display_name": "Python 3",
   "language": "python",
   "name": "python3"
  },
  "language_info": {
   "codemirror_mode": {
    "name": "ipython",
    "version": 3
   },
   "file_extension": ".py",
   "mimetype": "text/x-python",
   "name": "python",
   "nbconvert_exporter": "python",
   "pygments_lexer": "ipython3",
   "version": "3.7.4"
  }
 },
 "nbformat": 4,
 "nbformat_minor": 4
}
