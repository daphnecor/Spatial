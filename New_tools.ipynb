{
 "cells": [
  {
   "cell_type": "markdown",
   "metadata": {},
   "source": [
    "## Get spatial location of electrodes and neurons on arrays"
   ]
  },
  {
   "cell_type": "code",
   "execution_count": 1,
   "metadata": {},
   "outputs": [],
   "source": [
    "'''\n",
    "Dependencies\n",
    "'''\n",
    "import scipy.io as sio\n",
    "import matplotlib.pyplot as plt\n",
    "import matplotlib as mpl\n",
    "import numpy as np\n",
    "import scipy\n",
    "import pandas as pd\n",
    "import scipy.stats as stats\n",
    "import scipy.sparse as sparse\n",
    "import warnings \n",
    "from scipy import integrate\n",
    "import seaborn as sns\n",
    "warnings.simplefilter('ignore')\n",
    "from sklearn.decomposition import PCA\n",
    "import scipy.io as sio\n",
    "import os\n",
    "from tqdm.auto import tqdm\n",
    "\n",
    "sns.set_style('white')\n",
    "# to change default color cycle\n",
    "cs = ['#081D30', '#D7A928', '#CDB275', '#1C5F69', '#984B3F', '#C23F33', '#2E3D30']\n",
    "plt.rcParams['axes.prop_cycle'] = plt.cycler(color=cs)\n",
    "\n",
    "import pyaldata as pld # using functions from PyalData\n",
    "import tools # matlab2python functions"
   ]
  },
  {
   "cell_type": "markdown",
   "metadata": {},
   "source": [
    "### Functions \n",
    "\n",
    "To be implemented in tools.py"
   ]
  },
  {
   "cell_type": "code",
   "execution_count": 2,
   "metadata": {},
   "outputs": [],
   "source": [
    "def cleanup_text(s):\n",
    "    ''' Removes .cmp file formatting '''\n",
    "    for r in (('\\t', ' '), ('\\n', ''), ('elec', '')):\n",
    "        s = s.replace(*r)\n",
    "    s = s.split()        \n",
    "    return s"
   ]
  },
  {
   "cell_type": "code",
   "execution_count": 3,
   "metadata": {},
   "outputs": [],
   "source": [
    "def read_cmp(cmp_file):\n",
    "    '''\n",
    "    reads Blackrock .cmp file into Python\n",
    "    \n",
    "    Parameters\n",
    "    ----------\n",
    "    cmp_file: str\n",
    "        string file path to .cmp file\n",
    "        \n",
    "    Returns\n",
    "    -------\n",
    "    elec_map: dataframe of shape (96, 5)\n",
    "        [col (int), row (int), channel number (str), within_channel_num (int), global electrode number (int)]\n",
    "    '''\n",
    "    \n",
    "    f = open(cmp_file)\n",
    "    # remove comments in file\n",
    "    temp = [line for line in f.readlines() if not line.startswith('//')] \n",
    "    pre_df = [cleanup_text(row) for i, row in enumerate(temp) if not i == 0] \n",
    "    df = pd.DataFrame(pre_df, columns=['array_col', 'array_row', 'channel_num', 'within_channel_num', 'global_enum']).dropna()\n",
    "\n",
    "    # ugly way to convert all possible cols to int.. to be improved\n",
    "    for i in df.columns:\n",
    "        try: df[[i]] = df[[i]].astype(str).astype(int) \n",
    "        except: pass\n",
    "    \n",
    "    return df"
   ]
  },
  {
   "cell_type": "code",
   "execution_count": 40,
   "metadata": {},
   "outputs": [],
   "source": [
    "def get_electrode_loc(elec_map, elecs, verbose=False):\n",
    "    '''\n",
    "    Get location of electrodes on array, displays the array if Verbose=True.\n",
    "    \n",
    "    Parameters\n",
    "    ----------\n",
    "    elec_map: \n",
    "    \n",
    "    elecs: the electrodes for which you want to get the position\n",
    "    \n",
    "    Returns\n",
    "    -------\n",
    "    \n",
    "    A: np.array\n",
    "        matrix with the spatial position of the electrodes\n",
    "    '''\n",
    "    # construct multi electrode array (assuming 10x10)\n",
    "    A = np.zeros((10,10))\n",
    "    \n",
    "    for elec in elecs:\n",
    "        if elec in elec_map['global_enum'].values:\n",
    "            # find corresponding row and column in array\n",
    "            r = int(elec_map.loc[elec_map['global_enum'] == elec]['array_row'])\n",
    "            c = int(elec_map.loc[elec_map['global_enum'] == elec]['array_col'])\n",
    "            A[r, c] = elec\n",
    "        else:\n",
    "            if verbose:\n",
    "                print(f'Electrode number {elec} does not exist in array \\n')\n",
    "    \n",
    "    if verbose: # display array with number of neurons\n",
    "        fig, ax = plt.subplots(1, figsize=(5,5), dpi=80)\n",
    "        im = ax.imshow(A, cmap='vlag', interpolation='none', vmin=0, vmax=1, aspect='equal')\n",
    "        # stuff to annotate the grid and draw white squares around each cell\n",
    "        def rect(pos):\n",
    "            r = plt.Rectangle(pos-0.5, 1,1, facecolor='none', edgecolor='w', linewidth=2)\n",
    "            plt.gca().add_patch(r)\n",
    "        x,y = np.meshgrid(np.arange(A.shape[1]),np.arange(A.shape[0]))\n",
    "        m = np.c_[x[A.astype(bool)], y[A.astype(bool)]]\n",
    "        for pos in m: rect(pos)\n",
    "        for i in range(len(A)):\n",
    "                for j in range(len(A)):\n",
    "                    text = ax.text(j, i, int(A[i, j]), ha='center', va='center', color='w')\n",
    " \n",
    "    return A"
   ]
  },
  {
   "cell_type": "code",
   "execution_count": 108,
   "metadata": {},
   "outputs": [],
   "source": [
    "def get_neuron_elec_mapping(elec_map, unit_guide, spikes, trial):\n",
    "    '''\n",
    "    \n",
    "    Parameters\n",
    "    ----------\n",
    "    elec_map:\n",
    "    \n",
    "    unit_guide: \n",
    "    \n",
    "    Returns\n",
    "    -------\n",
    "    unit_arr: \n",
    "\n",
    "    '''\n",
    "    elecs = list(range(1, 97)) # total number of electrodes\n",
    "    unit_arr = np.zeros((10, 10)) # assuming 10x10 array\n",
    "    neuron_distrib = []\n",
    "    elecs_to_spikes = {}\n",
    "    \n",
    "    # get the spike trains from a particular trial\n",
    "    spikes_trial_i = spikes[trial]\n",
    "\n",
    "    for e in elecs:\n",
    "\n",
    "        # find indices in unit guide of this electrode number \n",
    "        e_indices = np.where(unit_guide[:, 0] == e)\n",
    "\n",
    "        if np.size(e_indices) == 0: # skip if electrode number is not in col\n",
    "            neuron_distrib.append(0)\n",
    "            elecs_to_spikes.update({e: np.array([])}) # add empty array?\n",
    "            continue\n",
    "\n",
    "        # take neurons that belong to these indices \n",
    "        neurons_at_e = max(unit_guide[:, 1][e_indices])\n",
    "\n",
    "        neuron_distrib.append(neurons_at_e) # largest number is total number of neurons\n",
    "\n",
    "        arr_idx = np.where(elec_map == e) # get spatial location of electrode\n",
    "        unit_arr[arr_idx] = neurons_at_e # store number of neurons in array\n",
    "\n",
    "        # spiketrains of neurons that belong to electrode e\n",
    "        spikes_elec_k = np.array([spikes_trial_i[:, k] for k in e_indices])[0]\n",
    "\n",
    "        # append to dictionary with electrode num as key and spiketrains as values\n",
    "        elecs_to_spikes.update({e:spikes_elec_k})\n",
    "        \n",
    "    return neuron_distrib, unit_arr, elecs_to_spikes"
   ]
  },
  {
   "cell_type": "code",
   "execution_count": 96,
   "metadata": {},
   "outputs": [],
   "source": [
    "def show_array(unit_arr):\n",
    "    ''' Displays the number of neurons per electrode on array.'''\n",
    "    \n",
    "    fig, ax = plt.subplots(1, figsize=(5,5), dpi=80)\n",
    "    ax.imshow(unit_arr, cmap='Blues')\n",
    "    for i in range(len(unit_arr)):\n",
    "        for j in range(len(unit_arr)):\n",
    "            text = ax.text(j, i, int(unit_arr[i, j]), ha='center', va='center', color='w')"
   ]
  },
  {
   "cell_type": "code",
   "execution_count": 117,
   "metadata": {},
   "outputs": [],
   "source": [
    "def make_raster(n_spiketrains):\n",
    "    '''\n",
    "    Plots a raster given a set of spike trains.\n",
    "    \n",
    "    Parameters\n",
    "    ----------\n",
    "    n_spiketrains: nd array in the form [# timepoints, # neurons]\n",
    "        set of binary arrays that represent the spiking behaviour of some neurons\n",
    "    '''\n",
    "    if np.size(n_spiketrains) == 0:\n",
    "        print('This is an empty array')\n",
    "        return\n",
    "    \n",
    "    if n_spiketrains.shape[1] < 2: flen = 1\n",
    "    else: flen = n_spiketrains.shape[1]/4.5\n",
    "    \n",
    "    # convert higher values to ones\n",
    "    binary_spikes = np.isin(n_spiketrains, [1, 2, 3, 4]).astype(np.uint8) \n",
    "    \n",
    "    # scale length of plot by number of neurons    \n",
    "    fig, ax = plt.subplots(1, figsize=(12, flen), dpi=80)\n",
    "\n",
    "    for i in range(n_spiketrains.shape[1]): # for all neurons\n",
    "        # trick to fix place of spike train\n",
    "        y_int = i + 1 \n",
    "        n_i_spiketrain = binary_spikes[:, i] * y_int\n",
    "        # replace zeros with nan vals for plotting\n",
    "        n_i_spiketrain = [float('nan') if x==0 else x for x in n_i_spiketrain]\n",
    "\n",
    "        plt.scatter(range(n_spiketrains.shape[0]), n_i_spiketrain,  marker='|', c='darkblue', s=50);\n",
    "        ax.set_title(f'Raster plot of {n_spiketrains.shape[1]} neuron(s)', fontsize=15)\n",
    "        ax.set_xlabel('time', fontsize=13)\n",
    "        ax.set_ylabel('neuron', fontsize=13)"
   ]
  },
  {
   "cell_type": "markdown",
   "metadata": {},
   "source": [
    "## Load data"
   ]
  },
  {
   "cell_type": "code",
   "execution_count": 118,
   "metadata": {},
   "outputs": [],
   "source": [
    "'''\n",
    "Insert path and filename \n",
    "'''\n",
    "path = '/Users/Daphne/Data/'  \n",
    "fname = 'Chewie_CO_VR_2016-10-06.mat' \n",
    "df = pld.mat2dataframe(path+fname, shift_idx_fields=True)"
   ]
  },
  {
   "cell_type": "markdown",
   "metadata": {},
   "source": [
    "## Read cmp file\n",
    "\n",
    "The `.cmp` file contains the location of the electrodes on the array.\n",
    "\n",
    "We want to know the spatial location of electrodes so that we know the spatial location of the recorded neurons.\n",
    "\n",
    "Note that, while an array is a 10x10 grid, there are only 96 electrodes on a given array due to hardware constraints. \n",
    "\n",
    "By default, omitted electrodes (dead electrodes) are the 4 corner grids. If something goes wrong during fabrication however, this may change."
   ]
  },
  {
   "cell_type": "code",
   "execution_count": 119,
   "metadata": {},
   "outputs": [],
   "source": [
    "df_M1 = read_cmp(cmp_file='/Users/Daphne/Desktop/Chewie Left M1 SN 6250-001474.cmp')\n",
    "df_PMd = read_cmp(cmp_file='/Users/Daphne/Desktop/Chewie Left PMd SN 6251-001469.cmp')"
   ]
  },
  {
   "cell_type": "code",
   "execution_count": 120,
   "metadata": {},
   "outputs": [
    {
     "data": {
      "text/plain": [
       "(96, 5)"
      ]
     },
     "execution_count": 120,
     "metadata": {},
     "output_type": "execute_result"
    }
   ],
   "source": [
    "df_M1.shape"
   ]
  },
  {
   "cell_type": "markdown",
   "metadata": {},
   "source": [
    "`get_electrode_los()` returns a 10x10 matrix with the position of electrode numbers on the array. \n",
    "\n",
    "Set `verbose=True` and it will display the array with the given electrodes in red and the rest blue."
   ]
  },
  {
   "cell_type": "code",
   "execution_count": 121,
   "metadata": {},
   "outputs": [
    {
     "data": {
      "image/png": "[encoded data removed]",
      "text/plain": [
       "<Figure size 400x400 with 1 Axes>"
      ]
     },
     "metadata": {
      "needs_background": "light"
     },
     "output_type": "display_data"
    }
   ],
   "source": [
    "get_electrode_loc(df_M1, elecs=[96, 13, 45], verbose=True);"
   ]
  },
  {
   "cell_type": "markdown",
   "metadata": {},
   "source": [
    "For the M1 array, we see that indeed all corner squares are omitted."
   ]
  },
  {
   "cell_type": "code",
   "execution_count": 122,
   "metadata": {},
   "outputs": [
    {
     "data": {
      "image/png": "[encoded data removed]",
      "text/plain": [
       "<Figure size 400x400 with 1 Axes>"
      ]
     },
     "metadata": {
      "needs_background": "light"
     },
     "output_type": "display_data"
    }
   ],
   "source": [
    "get_electrode_loc(df_M1, elecs=range(1,97), verbose=True);"
   ]
  },
  {
   "cell_type": "markdown",
   "metadata": {},
   "source": [
    "For the PMd array one dead electrode has a different location."
   ]
  },
  {
   "cell_type": "code",
   "execution_count": 123,
   "metadata": {},
   "outputs": [
    {
     "data": {
      "image/png": "[encoded data removed]",
      "text/plain": [
       "<Figure size 400x400 with 1 Axes>"
      ]
     },
     "metadata": {
      "needs_background": "light"
     },
     "output_type": "display_data"
    }
   ],
   "source": [
    "get_electrode_loc(df_PMd, elecs=range(1,97), verbose=True);"
   ]
  },
  {
   "cell_type": "markdown",
   "metadata": {},
   "source": [
    "The colored grids are just for visualisation purposes, we can use the np arrays to continue.\n",
    "\n",
    "We have the spatial location of each electrode and we have **unit guides** that specify how many neurons each electrode covers.\n",
    "\n",
    "Connecting these two, we can get the spatial location of $n$ neurons on the array."
   ]
  },
  {
   "cell_type": "code",
   "execution_count": 124,
   "metadata": {},
   "outputs": [],
   "source": [
    "M1_elecmap = get_electrode_loc(df_M1, elecs=range(1,97))\n",
    "PMd_elecmap = get_electrode_loc(df_PMd, elecs=range(1,97))"
   ]
  },
  {
   "cell_type": "code",
   "execution_count": 125,
   "metadata": {},
   "outputs": [
    {
     "data": {
      "text/plain": [
       "array([[59., 79., 69.,  0., 49., 39., 29., 19.,  9.,  0.],\n",
       "       [89., 80., 70., 60., 50., 40., 30., 20., 10.,  1.],\n",
       "       [90., 81., 71., 61., 51., 41., 31., 21., 11.,  2.],\n",
       "       [91., 82., 72., 62., 52., 42., 32., 22., 12.,  3.],\n",
       "       [92., 83., 73., 63., 53., 43., 33., 23., 13.,  4.],\n",
       "       [93., 84., 74., 64., 54., 44., 34., 24., 14.,  5.],\n",
       "       [94., 85., 75., 65., 55., 45., 35., 25., 15.,  6.],\n",
       "       [95., 86., 76., 66., 56., 46., 36., 26., 16.,  7.],\n",
       "       [96., 87., 77., 67., 57., 47., 37., 27., 17.,  8.],\n",
       "       [ 0., 88., 78., 68., 58., 48., 38., 28., 18.,  0.]])"
      ]
     },
     "execution_count": 125,
     "metadata": {},
     "output_type": "execute_result"
    }
   ],
   "source": [
    "PMd_elecmap"
   ]
  },
  {
   "cell_type": "markdown",
   "metadata": {},
   "source": [
    "## Unit guides\n",
    "\n",
    "The unit guides specify the number of neurons per electrode. \n",
    "\n",
    "```\n",
    "[electrode k, neuron 1]\n",
    "[electrode k, neuron 2]\n",
    "[electrode k, neuron 3]\n",
    "[electrode k+1, neuron 1]\n",
    "etc.\n",
    "```\n",
    "\n",
    "While the unit guides are `(774 x N)` (we have a unit guide for each row), they are all equal.\n",
    "\n",
    "So we can pick an arbitrary row. "
   ]
  },
  {
   "cell_type": "markdown",
   "metadata": {},
   "source": [
    "## Spike trains\n",
    "\n",
    "In `[brain_area]_spikes` the rows indicate the timepoints and the columns the neurons `[timepoints, neurons] = [447, 63]`.\n",
    "\n",
    "We make a dictionary that serves as a mapping between the neurons on the electrodes and \n"
   ]
  },
  {
   "cell_type": "code",
   "execution_count": 61,
   "metadata": {},
   "outputs": [],
   "source": [
    "#df['M1_unit_guide'][0][:, 0] # the electrodes"
   ]
  },
  {
   "cell_type": "markdown",
   "metadata": {},
   "source": [
    "Get the distribution of cells, the number of neurons per electrode in an array, and a mapping between each electrode and the spike trains of the neurons at that location"
   ]
  },
  {
   "cell_type": "code",
   "execution_count": 109,
   "metadata": {},
   "outputs": [],
   "source": [
    "cell_distribution_M1, cell_locs_M1, espike_dict_M1 = get_neuron_elec_mapping(M1_elecmap, df['M1_unit_guide'][0], spikes=df['M1_spikes'], trial=0)\n",
    "\n",
    "cell_distribution_PMd, cell_locs_PMd, espike_dict_PMd = get_neuron_elec_mapping(PMd_elecmap, df['PMd_unit_guide'][0], spikes=df['PMd_spikes'], trial=0);"
   ]
  },
  {
   "cell_type": "code",
   "execution_count": 62,
   "metadata": {},
   "outputs": [
    {
     "data": {
      "image/png": "[encoded data removed]",
      "text/plain": [
       "<Figure size 960x400 with 2 Axes>"
      ]
     },
     "metadata": {
      "needs_background": "light"
     },
     "output_type": "display_data"
    }
   ],
   "source": [
    "fig, (ax1, ax2) = plt.subplots(1, 2, figsize=(12,5), dpi=80)\n",
    "\n",
    "sns.countplot(x=cell_distribution_M1, ax=ax1)\n",
    "ax1.set_title('M1', fontsize=14)\n",
    "ax1.set_xlabel('number of neurons', fontsize=13)\n",
    "ax1.set_ylabel('Count', fontsize=13)\n",
    "\n",
    "sns.countplot(x=cell_distribution_PMd, ax=ax2)\n",
    "ax2.set_title('PMd', fontsize=14)\n",
    "ax2.set_xlabel('number of neurons', fontsize=13)\n",
    "ax2.set_ylabel('Count', fontsize=13);"
   ]
  },
  {
   "cell_type": "markdown",
   "metadata": {},
   "source": [
    "This shows the number of neurons each electrode covers on the M1 array... why are there so many electrodes without neurons?"
   ]
  },
  {
   "cell_type": "code",
   "execution_count": 63,
   "metadata": {},
   "outputs": [
    {
     "data": {
      "image/png": "[encoded data removed]",
      "text/plain": [
       "<Figure size 400x400 with 1 Axes>"
      ]
     },
     "metadata": {
      "needs_background": "light"
     },
     "output_type": "display_data"
    }
   ],
   "source": [
    "show_array(cell_locs_M1)"
   ]
  },
  {
   "cell_type": "markdown",
   "metadata": {},
   "source": [
    "The PMd array looks much better "
   ]
  },
  {
   "cell_type": "code",
   "execution_count": 64,
   "metadata": {},
   "outputs": [
    {
     "data": {
      "image/png": "[encoded data removed]",
      "text/plain": [
       "<Figure size 400x400 with 1 Axes>"
      ]
     },
     "metadata": {
      "needs_background": "light"
     },
     "output_type": "display_data"
    }
   ],
   "source": [
    "show_array(cell_locs_PMd)"
   ]
  },
  {
   "cell_type": "code",
   "execution_count": 65,
   "metadata": {},
   "outputs": [
    {
     "data": {
      "text/plain": [
       "63"
      ]
     },
     "execution_count": 65,
     "metadata": {},
     "output_type": "execute_result"
    }
   ],
   "source": [
    "sum(cell_distribution_M1) # total number of neurons on M1 arr"
   ]
  },
  {
   "cell_type": "code",
   "execution_count": 66,
   "metadata": {},
   "outputs": [
    {
     "data": {
      "text/plain": [
       "192"
      ]
     },
     "execution_count": 66,
     "metadata": {},
     "output_type": "execute_result"
    }
   ],
   "source": [
    "sum(cell_distribution_PMd) # total number of neurons on PMd arr"
   ]
  },
  {
   "cell_type": "code",
   "execution_count": 115,
   "metadata": {},
   "outputs": [
    {
     "data": {
      "image/png": "[encoded data removed]",
      "text/plain": [
       "<Figure size 960x71.1111 with 1 Axes>"
      ]
     },
     "metadata": {
      "needs_background": "light"
     },
     "output_type": "display_data"
    }
   ],
   "source": [
    "make_raster(espike_dict_M1[5])"
   ]
  },
  {
   "cell_type": "code",
   "execution_count": 127,
   "metadata": {},
   "outputs": [
    {
     "name": "stdout",
     "output_type": "stream",
     "text": [
      "1 (0,)\n",
      "2 (0,)\n",
      "3 (0,)\n",
      "4 (0,)\n",
      "5 (447, 4)\n",
      "6 (0,)\n",
      "7 (0,)\n",
      "8 (0,)\n",
      "9 (447, 3)\n",
      "10 (447, 1)\n",
      "11 (0,)\n",
      "12 (0,)\n",
      "13 (447, 4)\n",
      "14 (0,)\n",
      "15 (447, 1)\n",
      "16 (447, 1)\n",
      "17 (0,)\n",
      "18 (447, 1)\n",
      "19 (0,)\n",
      "20 (447, 2)\n",
      "21 (0,)\n",
      "22 (0,)\n",
      "23 (0,)\n",
      "24 (447, 3)\n",
      "25 (0,)\n",
      "26 (447, 1)\n",
      "27 (0,)\n",
      "28 (447, 3)\n",
      "29 (0,)\n",
      "30 (0,)\n",
      "31 (0,)\n",
      "32 (447, 3)\n",
      "33 (0,)\n",
      "34 (447, 1)\n",
      "35 (0,)\n",
      "36 (447, 1)\n",
      "37 (0,)\n",
      "38 (0,)\n",
      "39 (0,)\n",
      "40 (447, 2)\n",
      "41 (0,)\n",
      "42 (447, 1)\n",
      "43 (447, 1)\n",
      "44 (447, 1)\n",
      "45 (0,)\n",
      "46 (447, 4)\n",
      "47 (447, 1)\n",
      "48 (0,)\n",
      "49 (0,)\n",
      "50 (447, 2)\n",
      "51 (447, 1)\n",
      "52 (447, 1)\n",
      "53 (447, 2)\n",
      "54 (447, 4)\n",
      "55 (0,)\n",
      "56 (447, 1)\n",
      "57 (0,)\n",
      "58 (0,)\n",
      "59 (0,)\n",
      "60 (0,)\n",
      "61 (0,)\n",
      "62 (447, 2)\n",
      "63 (0,)\n",
      "64 (0,)\n",
      "65 (447, 1)\n",
      "66 (0,)\n",
      "67 (0,)\n",
      "68 (0,)\n",
      "69 (0,)\n",
      "70 (0,)\n",
      "71 (0,)\n",
      "72 (0,)\n",
      "73 (0,)\n",
      "74 (0,)\n",
      "75 (447, 1)\n",
      "76 (0,)\n",
      "77 (0,)\n",
      "78 (0,)\n",
      "79 (447, 1)\n",
      "80 (0,)\n",
      "81 (0,)\n",
      "82 (0,)\n",
      "83 (0,)\n",
      "84 (0,)\n",
      "85 (0,)\n",
      "86 (447, 1)\n",
      "87 (0,)\n",
      "88 (0,)\n",
      "89 (0,)\n",
      "90 (0,)\n",
      "91 (447, 2)\n",
      "92 (447, 3)\n",
      "93 (0,)\n",
      "94 (0,)\n",
      "95 (447, 1)\n",
      "96 (447, 1)\n"
     ]
    }
   ],
   "source": [
    "for key, value in espike_dict_M1.items():\n",
    "    print(key, value.shape)"
   ]
  },
  {
   "cell_type": "code",
   "execution_count": 128,
   "metadata": {},
   "outputs": [
    {
     "name": "stdout",
     "output_type": "stream",
     "text": [
      "1 (447, 2)\n",
      "2 (447, 2)\n",
      "3 (447, 3)\n",
      "4 (447, 2)\n",
      "5 (447, 1)\n",
      "6 (0,)\n",
      "7 (447, 7)\n",
      "8 (447, 4)\n",
      "9 (447, 2)\n",
      "10 (0,)\n",
      "11 (447, 1)\n",
      "12 (0,)\n",
      "13 (0,)\n",
      "14 (0,)\n",
      "15 (447, 2)\n",
      "16 (0,)\n",
      "17 (0,)\n",
      "18 (0,)\n",
      "19 (447, 1)\n",
      "20 (0,)\n",
      "21 (447, 4)\n",
      "22 (0,)\n",
      "23 (0,)\n",
      "24 (447, 1)\n",
      "25 (0,)\n",
      "26 (447, 2)\n",
      "27 (0,)\n",
      "28 (447, 1)\n",
      "29 (447, 3)\n",
      "30 (447, 3)\n",
      "31 (447, 3)\n",
      "32 (0,)\n",
      "33 (447, 3)\n",
      "34 (447, 3)\n",
      "35 (447, 3)\n",
      "36 (447, 1)\n",
      "37 (0,)\n",
      "38 (447, 3)\n",
      "39 (447, 4)\n",
      "40 (447, 2)\n",
      "41 (447, 5)\n",
      "42 (447, 2)\n",
      "43 (447, 5)\n",
      "44 (447, 2)\n",
      "45 (447, 1)\n",
      "46 (447, 4)\n",
      "47 (447, 3)\n",
      "48 (447, 5)\n",
      "49 (447, 3)\n",
      "50 (447, 1)\n",
      "51 (447, 3)\n",
      "52 (447, 3)\n",
      "53 (447, 2)\n",
      "54 (447, 2)\n",
      "55 (447, 2)\n",
      "56 (0,)\n",
      "57 (447, 2)\n",
      "58 (447, 5)\n",
      "59 (447, 4)\n",
      "60 (447, 2)\n",
      "61 (447, 1)\n",
      "62 (447, 3)\n",
      "63 (447, 1)\n",
      "64 (447, 2)\n",
      "65 (447, 3)\n",
      "66 (0,)\n",
      "67 (447, 2)\n",
      "68 (0,)\n",
      "69 (447, 3)\n",
      "70 (447, 3)\n",
      "71 (447, 2)\n",
      "72 (447, 2)\n",
      "73 (447, 1)\n",
      "74 (447, 1)\n",
      "75 (447, 5)\n",
      "76 (447, 4)\n",
      "77 (447, 2)\n",
      "78 (447, 4)\n",
      "79 (447, 1)\n",
      "80 (447, 2)\n",
      "81 (447, 2)\n",
      "82 (447, 2)\n",
      "83 (0,)\n",
      "84 (447, 3)\n",
      "85 (447, 1)\n",
      "86 (447, 2)\n",
      "87 (447, 5)\n",
      "88 (447, 3)\n",
      "89 (447, 1)\n",
      "90 (447, 1)\n",
      "91 (447, 1)\n",
      "92 (447, 3)\n",
      "93 (447, 2)\n",
      "94 (447, 2)\n",
      "95 (447, 2)\n",
      "96 (447, 1)\n"
     ]
    }
   ],
   "source": [
    "for key, value in espike_dict_PMd.items():\n",
    "    print(key, value.shape)"
   ]
  },
  {
   "cell_type": "code",
   "execution_count": 130,
   "metadata": {},
   "outputs": [],
   "source": [
    "df = pd.DataFrame(espike_dict_M1[5])"
   ]
  },
  {
   "cell_type": "code",
   "execution_count": 131,
   "metadata": {},
   "outputs": [
    {
     "data": {
      "text/html": [
       "<div>\n",
       "<style scoped>\n",
       "    .dataframe tbody tr th:only-of-type {\n",
       "        vertical-align: middle;\n",
       "    }\n",
       "\n",
       "    .dataframe tbody tr th {\n",
       "        vertical-align: top;\n",
       "    }\n",
       "\n",
       "    .dataframe thead th {\n",
       "        text-align: right;\n",
       "    }\n",
       "</style>\n",
       "<table border=\"1\" class=\"dataframe\">\n",
       "  <thead>\n",
       "    <tr style=\"text-align: right;\">\n",
       "      <th></th>\n",
       "      <th>0</th>\n",
       "      <th>1</th>\n",
       "      <th>2</th>\n",
       "      <th>3</th>\n",
       "    </tr>\n",
       "  </thead>\n",
       "  <tbody>\n",
       "    <tr>\n",
       "      <td>0</td>\n",
       "      <td>0</td>\n",
       "      <td>1</td>\n",
       "      <td>0</td>\n",
       "      <td>0</td>\n",
       "    </tr>\n",
       "    <tr>\n",
       "      <td>1</td>\n",
       "      <td>1</td>\n",
       "      <td>0</td>\n",
       "      <td>0</td>\n",
       "      <td>0</td>\n",
       "    </tr>\n",
       "    <tr>\n",
       "      <td>2</td>\n",
       "      <td>0</td>\n",
       "      <td>0</td>\n",
       "      <td>0</td>\n",
       "      <td>1</td>\n",
       "    </tr>\n",
       "    <tr>\n",
       "      <td>3</td>\n",
       "      <td>0</td>\n",
       "      <td>1</td>\n",
       "      <td>0</td>\n",
       "      <td>0</td>\n",
       "    </tr>\n",
       "    <tr>\n",
       "      <td>4</td>\n",
       "      <td>0</td>\n",
       "      <td>0</td>\n",
       "      <td>0</td>\n",
       "      <td>0</td>\n",
       "    </tr>\n",
       "    <tr>\n",
       "      <td>...</td>\n",
       "      <td>...</td>\n",
       "      <td>...</td>\n",
       "      <td>...</td>\n",
       "      <td>...</td>\n",
       "    </tr>\n",
       "    <tr>\n",
       "      <td>442</td>\n",
       "      <td>0</td>\n",
       "      <td>0</td>\n",
       "      <td>0</td>\n",
       "      <td>0</td>\n",
       "    </tr>\n",
       "    <tr>\n",
       "      <td>443</td>\n",
       "      <td>1</td>\n",
       "      <td>0</td>\n",
       "      <td>0</td>\n",
       "      <td>0</td>\n",
       "    </tr>\n",
       "    <tr>\n",
       "      <td>444</td>\n",
       "      <td>0</td>\n",
       "      <td>0</td>\n",
       "      <td>0</td>\n",
       "      <td>0</td>\n",
       "    </tr>\n",
       "    <tr>\n",
       "      <td>445</td>\n",
       "      <td>0</td>\n",
       "      <td>0</td>\n",
       "      <td>0</td>\n",
       "      <td>0</td>\n",
       "    </tr>\n",
       "    <tr>\n",
       "      <td>446</td>\n",
       "      <td>0</td>\n",
       "      <td>1</td>\n",
       "      <td>0</td>\n",
       "      <td>0</td>\n",
       "    </tr>\n",
       "  </tbody>\n",
       "</table>\n",
       "<p>447 rows × 4 columns</p>\n",
       "</div>"
      ],
      "text/plain": [
       "     0  1  2  3\n",
       "0    0  1  0  0\n",
       "1    1  0  0  0\n",
       "2    0  0  0  1\n",
       "3    0  1  0  0\n",
       "4    0  0  0  0\n",
       "..  .. .. .. ..\n",
       "442  0  0  0  0\n",
       "443  1  0  0  0\n",
       "444  0  0  0  0\n",
       "445  0  0  0  0\n",
       "446  0  1  0  0\n",
       "\n",
       "[447 rows x 4 columns]"
      ]
     },
     "execution_count": 131,
     "metadata": {},
     "output_type": "execute_result"
    }
   ],
   "source": [
    "df"
   ]
  },
  {
   "cell_type": "code",
   "execution_count": null,
   "metadata": {},
   "outputs": [],
   "source": []
  },
  {
   "cell_type": "code",
   "execution_count": null,
   "metadata": {},
   "outputs": [],
   "source": []
  },
  {
   "cell_type": "code",
   "execution_count": null,
   "metadata": {},
   "outputs": [],
   "source": []
  },
  {
   "cell_type": "code",
   "execution_count": null,
   "metadata": {},
   "outputs": [],
   "source": []
  },
  {
   "cell_type": "markdown",
   "metadata": {},
   "source": [
    "## Old"
   ]
  },
  {
   "cell_type": "markdown",
   "metadata": {},
   "source": [
    "//   legend\t\t\t\t\t\n",
    "\n",
    "//   col - 0 based column from left to right\t\t\t\t\t\n",
    "\n",
    "//   row - 0 based row from bottom to top\t\t\t\t\t\n",
    "\n",
    "//   bank - bank name - values can be A B C or D\t\t\t\t\t\n",
    "\n",
    "//   elec - 1 based electrode number within the bank - values can be 1-32\t\t\t\t\t\n",
    "\n",
    "//   label - label used to rename channels in Central (optional)\t\t\t\t\t\n",
    "\n",
    "Cerebus mapping for array 13965-21    SN: 6250-001474\t\t\t\t"
   ]
  },
  {
   "cell_type": "code",
   "execution_count": null,
   "metadata": {},
   "outputs": [],
   "source": [
    "#     if verbose:\n",
    "#         fig, ax = plt.subplots(1, figsize=(6,6), dpi=80)\n",
    "#         sns.heatmap(A, cmap='vlag', annot=True, vmin=0, vmax=1, cbar=False, ax=ax, linewidths=.5)\n",
    "        "
   ]
  },
  {
   "cell_type": "code",
   "execution_count": null,
   "metadata": {},
   "outputs": [],
   "source": [
    "# #to check equality or rows (.unique did not work)\n",
    "# for i in range(700):\n",
    "#     if not np.array_equal(df['M1_unit_guide'][0], df['M1_unit_guide'][i]):\n",
    "#         print('not equal')"
   ]
  },
  {
   "cell_type": "code",
   "execution_count": 307,
   "metadata": {},
   "outputs": [],
   "source": [
    "# unit_guide = df['M1_unit_guide'][0]\n",
    "# elec_map = M1_elecmap\n",
    "\n",
    "# elecs = list(range(1, 97)) # total number of electrodes\n",
    "# unit_arr = np.zeros((10, 10)) # assuming 10x10 array\n",
    "# neuron_distrib = []\n",
    "# elecs_to_spikes = {}\n",
    "\n",
    "# for e in elecs:\n",
    "    \n",
    "#     # find indices in unit guide of this electrode number \n",
    "#     e_indices = np.where(unit_guide[:, 0] == e)\n",
    "\n",
    "#     if np.size(e_indices) == 0: # skip if electrode number is not in col\n",
    "#         neuron_distrib.append(0)\n",
    "#         elecs_to_spikes.update({e: np.array(0)}) # empty array?\n",
    "#         continue\n",
    "\n",
    "#     # take neurons that belong to these indices \n",
    "#     neurons_at_e = max(unit_guide[:, 1][e_indices])\n",
    "    \n",
    "#     neuron_distrib.append(neurons_at_e) # largest number is total number of neurons\n",
    "\n",
    "#     arr_idx = np.where(elec_map == e) # get spatial location of electrode\n",
    "#     unit_arr[arr_idx] = neurons_at_e # store number of neurons in array\n",
    "    \n",
    "#     # spiketrains of neurons that belong to electrode e\n",
    "#     spikes_elec_k = np.array([spikes_trial_i[:, k] for k in e_indices])[0]\n",
    "\n",
    "#     # append to dictionary with electrode num as key and spiketrains as values\n",
    "#     elecs_to_spikes.update({e:spikes_elec_k})"
   ]
  }
 ],
 "metadata": {
  "kernelspec": {
   "display_name": "Python 3",
   "language": "python",
   "name": "python3"
  },
  "language_info": {
   "codemirror_mode": {
    "name": "ipython",
    "version": 3
   },
   "file_extension": ".py",
   "mimetype": "text/x-python",
   "name": "python",
   "nbconvert_exporter": "python",
   "pygments_lexer": "ipython3",
   "version": "3.7.4"
  }
 },
 "nbformat": 4,
 "nbformat_minor": 4
}
