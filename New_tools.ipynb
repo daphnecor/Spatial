{
 "cells": [
  {
   "cell_type": "markdown",
   "metadata": {},
   "source": [
    "# Testing functions"
   ]
  },
  {
   "cell_type": "code",
   "execution_count": 1,
   "metadata": {},
   "outputs": [],
   "source": [
    "'''\n",
    "Dependencies\n",
    "'''\n",
    "import scipy.io as sio\n",
    "import matplotlib.pyplot as plt\n",
    "import matplotlib as mpl\n",
    "import numpy as np\n",
    "import scipy\n",
    "import pandas as pd\n",
    "import scipy.stats as stats\n",
    "import scipy.sparse as sparse\n",
    "import warnings \n",
    "from scipy import integrate\n",
    "import seaborn as sns\n",
    "warnings.simplefilter('ignore')\n",
    "from sklearn.decomposition import PCA\n",
    "import scipy.io as sio\n",
    "import os\n",
    "from tqdm.auto import tqdm\n",
    "\n",
    "sns.set_style('white')\n",
    "# to change default color cycle\n",
    "cs = ['#616F85', '#C2BAA3', '#F5E6CE', '#DD9D7C', '#C9445F']\n",
    "csbr = ['#074B6A', '#0A82A4', '#C0E995', '#3F9552', '#F3EE7E', '#E64248', '#E35330']\n",
    "plt.rcParams['axes.prop_cycle'] = plt.cycler(color=csbr)\n",
    "\n",
    "import pyaldata as pld # using functions from PyalData\n",
    "import tools # matlab2python functions"
   ]
  },
  {
   "cell_type": "markdown",
   "metadata": {},
   "source": [
    "## Load data"
   ]
  },
  {
   "cell_type": "code",
   "execution_count": 2,
   "metadata": {},
   "outputs": [],
   "source": [
    "'''\n",
    "Insert path and filename \n",
    "'''\n",
    "path = '/Users/Daphne/Data/'  \n",
    "fname = 'Chewie_CO_VR_2016-10-06.mat' \n",
    "df = pld.mat2dataframe(path+fname, shift_idx_fields=True)"
   ]
  },
  {
   "cell_type": "markdown",
   "metadata": {},
   "source": [
    "## Read cmp file"
   ]
  },
  {
   "cell_type": "code",
   "execution_count": 13,
   "metadata": {},
   "outputs": [],
   "source": [
    "def cleanup_text(s):\n",
    "    ''' Removes .cmp file formatting '''\n",
    "    for r in (('\\t', ' '), ('\\n', ''), ('elec', '')):\n",
    "        s = s.replace(*r)\n",
    "    s = s.split()        \n",
    "    return s"
   ]
  },
  {
   "cell_type": "code",
   "execution_count": 51,
   "metadata": {},
   "outputs": [],
   "source": [
    "def read_cmp(cmp_file):\n",
    "    '''\n",
    "    reads Blackrock .cmp file into Python\n",
    "    \n",
    "    Parameters\n",
    "    ----------\n",
    "    cmp_file: str\n",
    "        string file path to .cmp file\n",
    "        \n",
    "    Returns\n",
    "    -------\n",
    "    elec_map: dataframe of shape (96, 5)\n",
    "        [col (int), row (int), channel number (str), within_channel_num (int), global electrode number (int)]\n",
    "    '''\n",
    "    \n",
    "    f = open(cmp_file)\n",
    "    # remove comments in file\n",
    "    temp = [line for line in f.readlines() if not line.startswith('//')] \n",
    "    pre_df = [cleanup_text(row) for i, row in enumerate(temp) if not i == 0] \n",
    "    df = pd.DataFrame(pre_df, columns=['array_col', 'array_row', 'channel_num', 'within_channel_num', 'global_enum']).dropna()\n",
    "\n",
    "    # ugly way to convert all possible cols to int.. to be improved\n",
    "    for i in df.columns:\n",
    "        try: df[[i]] = df[[i]].astype(str).astype(int) \n",
    "        except: pass\n",
    "    \n",
    "    return df"
   ]
  },
  {
   "cell_type": "code",
   "execution_count": 46,
   "metadata": {},
   "outputs": [],
   "source": [
    "def show_electrode_pos(elec_map, elecs, verbose=False):\n",
    "    '''\n",
    "    Display the position of specified electrodes on the array\n",
    "    \n",
    "    Parameters\n",
    "    ----------\n",
    "    elec_map: \n",
    "    \n",
    "    elecs: the electrodes for which you want to get the position\n",
    "    \n",
    "    Returns\n",
    "    -------\n",
    "    \n",
    "    A: np.array\n",
    "        matrix with the spatial position of the electrodes\n",
    "    \n",
    "    '''\n",
    "    # construct multi electrode array (assuming 10x10)\n",
    "    A = np.zeros((10,10))\n",
    "    \n",
    "    for elec in elecs:\n",
    "        if elec in elec_map['global_enum'].values:\n",
    "            # find corresponding row and column in array\n",
    "            r = int(elec_map.loc[elec_map['global_enum'] == elec]['array_row'])\n",
    "            c = int(elec_map.loc[elec_map['global_enum'] == elec]['array_col'])\n",
    "            A[r, c] = elec\n",
    "        else:\n",
    "            if verbose:\n",
    "                print(f'Electrode number {elec} does not exist in array \\n')\n",
    "    \n",
    "    if verbose:\n",
    "        fig, ax = plt.subplots(1, figsize=(5,5), dpi=80)\n",
    "        sns.heatmap(A, cmap='gray', annot=True, vmin=0, vmax=1, cbar=False, ax=ax)\n",
    "    \n",
    "    return A"
   ]
  },
  {
   "cell_type": "code",
   "execution_count": 47,
   "metadata": {},
   "outputs": [],
   "source": [
    "elec_map = read_cmp(cmp_file='/Users/Daphne/Desktop/Chewie Left M1 SN 6250-001474.cmp')"
   ]
  },
  {
   "cell_type": "code",
   "execution_count": 49,
   "metadata": {},
   "outputs": [
    {
     "data": {
      "text/plain": [
       "(96, 5)"
      ]
     },
     "execution_count": 49,
     "metadata": {},
     "output_type": "execute_result"
    }
   ],
   "source": [
    "elec_map.shape"
   ]
  },
  {
   "cell_type": "code",
   "execution_count": 48,
   "metadata": {},
   "outputs": [
    {
     "data": {
      "image/png": "[encoded data removed]",
      "text/plain": [
       "<Figure size 400x400 with 1 Axes>"
      ]
     },
     "metadata": {
      "needs_background": "light"
     },
     "output_type": "display_data"
    }
   ],
   "source": [
    "A = show_electrode_pos(elec_map, elecs=[96, 13, 45], verbose=True)"
   ]
  },
  {
   "cell_type": "code",
   "execution_count": null,
   "metadata": {},
   "outputs": [],
   "source": []
  },
  {
   "cell_type": "markdown",
   "metadata": {},
   "source": [
    "## Inspect unit guides for M1 and PMd\n"
   ]
  },
  {
   "cell_type": "code",
   "execution_count": 42,
   "metadata": {},
   "outputs": [
    {
     "data": {
      "text/plain": [
       "0      [[0, 1, 0, 0, 0, 1, 0, 1, 0, 0, 0, 1, 1, 0, 0,...\n",
       "1      [[0, 1, 0, 0, 0, 0, 0, 0, 0, 1, 0, 0, 0, 1, 0,...\n",
       "2      [[0, 0, 0, 0, 1, 0, 0, 0, 0, 1, 0, 0, 0, 0, 0,...\n",
       "3      [[0, 1, 0, 0, 0, 0, 0, 0, 0, 0, 0, 0, 0, 0, 0,...\n",
       "4      [[0, 0, 0, 0, 1, 1, 0, 0, 1, 1, 0, 0, 1, 0, 0,...\n",
       "                             ...                        \n",
       "769    [[0, 0, 0, 0, 0, 0, 0, 1, 0, 0, 1, 0, 0, 0, 0,...\n",
       "770    [[0, 0, 0, 0, 0, 0, 0, 0, 0, 0, 0, 0, 0, 0, 0,...\n",
       "771    [[1, 0, 0, 0, 1, 0, 0, 0, 0, 0, 0, 0, 0, 0, 0,...\n",
       "772    [[0, 0, 0, 0, 0, 0, 0, 0, 0, 0, 1, 0, 0, 0, 0,...\n",
       "773    [[0, 1, 0, 0, 1, 0, 0, 0, 0, 0, 0, 0, 0, 0, 0,...\n",
       "Name: M1_spikes, Length: 774, dtype: object"
      ]
     },
     "execution_count": 42,
     "metadata": {},
     "output_type": "execute_result"
    }
   ],
   "source": [
    "df['M1_spikes']"
   ]
  },
  {
   "cell_type": "code",
   "execution_count": 44,
   "metadata": {},
   "outputs": [
    {
     "data": {
      "text/plain": [
       "array([[0, 1, 0, ..., 0, 0, 0],\n",
       "       [1, 0, 0, ..., 0, 0, 0],\n",
       "       [0, 0, 0, ..., 0, 1, 0],\n",
       "       ...,\n",
       "       [0, 0, 0, ..., 0, 0, 0],\n",
       "       [0, 0, 0, ..., 0, 0, 0],\n",
       "       [0, 1, 0, ..., 1, 0, 0]], dtype=uint8)"
      ]
     },
     "execution_count": 44,
     "metadata": {},
     "output_type": "execute_result"
    }
   ],
   "source": [
    "df['M1_spikes'][0]"
   ]
  },
  {
   "cell_type": "code",
   "execution_count": 3,
   "metadata": {},
   "outputs": [
    {
     "data": {
      "text/plain": [
       "0      [[5, 1], [5, 2], [5, 3], [5, 4], [9, 1], [9, 2...\n",
       "1      [[5, 1], [5, 2], [5, 3], [5, 4], [9, 1], [9, 2...\n",
       "2      [[5, 1], [5, 2], [5, 3], [5, 4], [9, 1], [9, 2...\n",
       "3      [[5, 1], [5, 2], [5, 3], [5, 4], [9, 1], [9, 2...\n",
       "4      [[5, 1], [5, 2], [5, 3], [5, 4], [9, 1], [9, 2...\n",
       "                             ...                        \n",
       "769    [[5, 1], [5, 2], [5, 3], [5, 4], [9, 1], [9, 2...\n",
       "770    [[5, 1], [5, 2], [5, 3], [5, 4], [9, 1], [9, 2...\n",
       "771    [[5, 1], [5, 2], [5, 3], [5, 4], [9, 1], [9, 2...\n",
       "772    [[5, 1], [5, 2], [5, 3], [5, 4], [9, 1], [9, 2...\n",
       "773    [[5, 1], [5, 2], [5, 3], [5, 4], [9, 1], [9, 2...\n",
       "Name: M1_unit_guide, Length: 774, dtype: object"
      ]
     },
     "execution_count": 3,
     "metadata": {},
     "output_type": "execute_result"
    }
   ],
   "source": [
    "'''\n",
    "The unit guide specifies how many cells each electrode covers.\n",
    "This is for each trial in the data. \n",
    "\n",
    "[Electrode number, # cells that electrode covers]\n",
    "'''\n",
    "\n",
    "df['M1_unit_guide']"
   ]
  },
  {
   "cell_type": "code",
   "execution_count": 12,
   "metadata": {},
   "outputs": [],
   "source": [
    "#df['PMd_unit_guide'][0]"
   ]
  },
  {
   "cell_type": "code",
   "execution_count": 5,
   "metadata": {},
   "outputs": [],
   "source": [
    "num_cells_elec_m1 = []\n",
    "num_cells_elec_pmd = []\n",
    "\n",
    "for i in range(df['M1_unit_guide'].shape[0]):\n",
    "    num_cells_elec_m1.append(df['M1_unit_guide'][i][:, 1])\n",
    "    num_cells_elec_pmd.append(df['PMd_unit_guide'][i][:, 1])\n",
    "    \n",
    "num_cells_elec_m1 = np.concatenate(num_cells_elec_m1, axis=0)\n",
    "num_cells_elec_pmd = np.concatenate(num_cells_elec_pmd, axis=0)"
   ]
  },
  {
   "cell_type": "code",
   "execution_count": 6,
   "metadata": {},
   "outputs": [
    {
     "data": {
      "image/png": "[encoded data removed]",
      "text/plain": [
       "<Figure size 800x400 with 1 Axes>"
      ]
     },
     "metadata": {
      "needs_background": "light"
     },
     "output_type": "display_data"
    }
   ],
   "source": [
    "fig, ax = plt.subplots(1, figsize=(10,5), dpi=80)\n",
    "sns.histplot(data=num_cells_elec_pmd, ax=ax, discrete=True, label='PMd')\n",
    "sns.histplot(data=num_cells_elec_m1, ax=ax, discrete=True, label='M1', color=csbr[5])\n",
    "ax.set_xlabel('number of neurons', fontsize=13)\n",
    "ax.set_ylabel('Count', fontsize=13)\n",
    "ax.legend();"
   ]
  },
  {
   "cell_type": "markdown",
   "metadata": {},
   "source": [
    "//   legend\t\t\t\t\t\n",
    "\n",
    "//   col - 0 based column from left to right\t\t\t\t\t\n",
    "\n",
    "//   row - 0 based row from bottom to top\t\t\t\t\t\n",
    "\n",
    "//   bank - bank name - values can be A B C or D\t\t\t\t\t\n",
    "\n",
    "//   elec - 1 based electrode number within the bank - values can be 1-32\t\t\t\t\t\n",
    "\n",
    "//   label - label used to rename channels in Central (optional)\t\t\t\t\t\n",
    "\n",
    "Cerebus mapping for array 13965-21    SN: 6250-001474\t\t\t\t"
   ]
  },
  {
   "cell_type": "markdown",
   "metadata": {},
   "source": [
    "- Find list of cells on each electrode\n",
    "- Which cells belong to which electrode?\n",
    "\n",
    "1. Make function that reads a cmp file\n",
    "2. Use this function to get the right mapping\n",
    "3. "
   ]
  },
  {
   "cell_type": "code",
   "execution_count": 7,
   "metadata": {},
   "outputs": [],
   "source": [
    "'''\n",
    "Find out which cell belongs to which electrode\n",
    "'''\n",
    "\n",
    "elecs = np.arange(0, 96)\n",
    "\n",
    "# make arrays to store cells in elecs\n",
    "m1_units = np.zeros(len(elecs))\n",
    "pmd_units = np.zeros(len(elecs))\n",
    "\n",
    "# for i in range(len(elecs)):\n",
    "#     # m1\n",
    "#     m1_units[i] = np.where() # store indices that belong to a certain electrode\n",
    "#     # pmd"
   ]
  },
  {
   "cell_type": "markdown",
   "metadata": {},
   "source": [
    "Reading a cmp file into Python "
   ]
  },
  {
   "cell_type": "code",
   "execution_count": null,
   "metadata": {},
   "outputs": [],
   "source": []
  }
 ],
 "metadata": {
  "kernelspec": {
   "display_name": "Python 3",
   "language": "python",
   "name": "python3"
  },
  "language_info": {
   "codemirror_mode": {
    "name": "ipython",
    "version": 3
   },
   "file_extension": ".py",
   "mimetype": "text/x-python",
   "name": "python",
   "nbconvert_exporter": "python",
   "pygments_lexer": "ipython3",
   "version": "3.7.4"
  }
 },
 "nbformat": 4,
 "nbformat_minor": 4
}
