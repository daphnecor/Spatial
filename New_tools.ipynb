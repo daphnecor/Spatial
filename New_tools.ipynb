{
 "cells": [
  {
   "cell_type": "markdown",
   "metadata": {},
   "source": [
    "## Localise electrodes on arrays"
   ]
  },
  {
   "cell_type": "code",
   "execution_count": 1,
   "metadata": {},
   "outputs": [],
   "source": [
    "'''\n",
    "Dependencies\n",
    "'''\n",
    "import scipy.io as sio\n",
    "import matplotlib.pyplot as plt\n",
    "import matplotlib as mpl\n",
    "import numpy as np\n",
    "import scipy\n",
    "import pandas as pd\n",
    "import scipy.stats as stats\n",
    "import scipy.sparse as sparse\n",
    "import warnings \n",
    "from scipy import integrate\n",
    "import seaborn as sns\n",
    "warnings.simplefilter('ignore')\n",
    "from sklearn.decomposition import PCA\n",
    "import scipy.io as sio\n",
    "import os\n",
    "from tqdm.auto import tqdm\n",
    "\n",
    "sns.set_style('white')\n",
    "# to change default color cycle\n",
    "cs = ['#081D30', '#D7A928', '#CDB275', '#1C5F69', '#984B3F', '#C23F33', '#2E3D30']\n",
    "plt.rcParams['axes.prop_cycle'] = plt.cycler(color=cs)\n",
    "\n",
    "import pyaldata as pld # using functions from PyalData\n",
    "import tools # matlab2python functions"
   ]
  },
  {
   "cell_type": "markdown",
   "metadata": {},
   "source": [
    "### Functions \n",
    "\n",
    "To be implemented in tools.py"
   ]
  },
  {
   "cell_type": "code",
   "execution_count": 2,
   "metadata": {},
   "outputs": [],
   "source": [
    "def cleanup_text(s):\n",
    "    ''' Removes .cmp file formatting '''\n",
    "    for r in (('\\t', ' '), ('\\n', ''), ('elec', '')):\n",
    "        s = s.replace(*r)\n",
    "    s = s.split()        \n",
    "    return s"
   ]
  },
  {
   "cell_type": "code",
   "execution_count": 3,
   "metadata": {},
   "outputs": [],
   "source": [
    "def read_cmp(cmp_file):\n",
    "    '''\n",
    "    reads Blackrock .cmp file into Python\n",
    "    \n",
    "    Parameters\n",
    "    ----------\n",
    "    cmp_file: str\n",
    "        string file path to .cmp file\n",
    "        \n",
    "    Returns\n",
    "    -------\n",
    "    elec_map: dataframe of shape (96, 5)\n",
    "        [col (int), row (int), channel number (str), within_channel_num (int), global electrode number (int)]\n",
    "    '''\n",
    "    \n",
    "    f = open(cmp_file)\n",
    "    # remove comments in file\n",
    "    temp = [line for line in f.readlines() if not line.startswith('//')] \n",
    "    pre_df = [cleanup_text(row) for i, row in enumerate(temp) if not i == 0] \n",
    "    df = pd.DataFrame(pre_df, columns=['array_col', 'array_row', 'channel_num', 'within_channel_num', 'global_enum']).dropna()\n",
    "\n",
    "    # ugly way to convert all possible cols to int.. to be improved\n",
    "    for i in df.columns:\n",
    "        try: df[[i]] = df[[i]].astype(str).astype(int) \n",
    "        except: pass\n",
    "    \n",
    "    return df"
   ]
  },
  {
   "cell_type": "code",
   "execution_count": 165,
   "metadata": {},
   "outputs": [],
   "source": [
    "def show_electrode_pos(elec_map, elecs, verbose=False):\n",
    "    '''\n",
    "    Display the position of specified electrodes on the array\n",
    "    \n",
    "    Parameters\n",
    "    ----------\n",
    "    elec_map: \n",
    "    \n",
    "    elecs: the electrodes for which you want to get the position\n",
    "    \n",
    "    Returns\n",
    "    -------\n",
    "    \n",
    "    A: np.array\n",
    "        matrix with the spatial position of the electrodes\n",
    "    '''\n",
    "    # construct multi electrode array (assuming 10x10)\n",
    "    A = np.zeros((10,10))\n",
    "    \n",
    "    for elec in elecs:\n",
    "        if elec in elec_map['global_enum'].values:\n",
    "            # find corresponding row and column in array\n",
    "            r = int(elec_map.loc[elec_map['global_enum'] == elec]['array_row'])\n",
    "            c = int(elec_map.loc[elec_map['global_enum'] == elec]['array_col'])\n",
    "            A[r, c] = elec\n",
    "        else:\n",
    "            if verbose:\n",
    "                print(f'Electrode number {elec} does not exist in array \\n')\n",
    "    \n",
    "    if verbose:\n",
    "        fig, ax = plt.subplots(1, figsize=(6,6), dpi=80)\n",
    "        sns.heatmap(A, cmap='vlag', annot=True, vmin=0, vmax=1, cbar=False, ax=ax, linewidths=.5)\n",
    "    \n",
    "    return A"
   ]
  },
  {
   "cell_type": "markdown",
   "metadata": {},
   "source": [
    "## Load data"
   ]
  },
  {
   "cell_type": "code",
   "execution_count": 166,
   "metadata": {},
   "outputs": [],
   "source": [
    "'''\n",
    "Insert path and filename \n",
    "'''\n",
    "path = '/Users/Daphne/Data/'  \n",
    "fname = 'Chewie_CO_VR_2016-10-06.mat' \n",
    "df = pld.mat2dataframe(path+fname, shift_idx_fields=True)"
   ]
  },
  {
   "cell_type": "markdown",
   "metadata": {},
   "source": [
    "## Read cmp file\n",
    "\n",
    "The `.cmp` file contains the location of the electrodes on the array.\n",
    "\n",
    "We want to know the spatial location of electrodes so that we know the spatial location of the recorded neurons.\n",
    "\n",
    "Note that, while an array is a 10x10 grid, there are only 96 electrodes on a given array due to hardware constraints. \n",
    "\n",
    "By default, omitted electrodes (dead electrodes) are the 4 corner grids. If something goes wrong during fabrication however, this may change."
   ]
  },
  {
   "cell_type": "code",
   "execution_count": 167,
   "metadata": {},
   "outputs": [],
   "source": [
    "df_M1 = read_cmp(cmp_file='/Users/Daphne/Desktop/Chewie Left M1 SN 6250-001474.cmp')\n",
    "df_PMd = read_cmp(cmp_file='/Users/Daphne/Desktop/Chewie Left PMd SN 6251-001469.cmp')"
   ]
  },
  {
   "cell_type": "code",
   "execution_count": 168,
   "metadata": {},
   "outputs": [
    {
     "data": {
      "text/plain": [
       "(96, 5)"
      ]
     },
     "execution_count": 168,
     "metadata": {},
     "output_type": "execute_result"
    }
   ],
   "source": [
    "df_M1.shape"
   ]
  },
  {
   "cell_type": "code",
   "execution_count": 169,
   "metadata": {},
   "outputs": [
    {
     "data": {
      "text/plain": [
       "array(['C', 'A', 'B'], dtype=object)"
      ]
     },
     "execution_count": 169,
     "metadata": {},
     "output_type": "execute_result"
    }
   ],
   "source": [
    "df_M1.channel_num.unique()"
   ]
  },
  {
   "cell_type": "markdown",
   "metadata": {},
   "source": [
    "`show_electrode_pos()` returns a 10x10 matrix with the electrode numbers. Set `verbose=True` and it will display the array with the given electrodes in red and the rest blue."
   ]
  },
  {
   "cell_type": "code",
   "execution_count": 164,
   "metadata": {},
   "outputs": [
    {
     "data": {
      "image/png": "[encoded data removed]",
      "text/plain": [
       "<Figure size 480x480 with 1 Axes>"
      ]
     },
     "metadata": {},
     "output_type": "display_data"
    }
   ],
   "source": [
    "show_electrode_pos(df_M1, elecs=[96, 13, 45], verbose=True);"
   ]
  },
  {
   "cell_type": "markdown",
   "metadata": {},
   "source": [
    "For the M1 array, we see that indeed all corner squares are omitted."
   ]
  },
  {
   "cell_type": "code",
   "execution_count": 10,
   "metadata": {},
   "outputs": [
    {
     "data": {
      "image/png": "[encoded data removed]",
      "text/plain": [
       "<Figure size 480x480 with 1 Axes>"
      ]
     },
     "metadata": {
      "needs_background": "light"
     },
     "output_type": "display_data"
    }
   ],
   "source": [
    "show_electrode_pos(df_M1, elecs=range(1,97), verbose=True);"
   ]
  },
  {
   "cell_type": "markdown",
   "metadata": {},
   "source": [
    "For the PMd array one dead electrode has a different location."
   ]
  },
  {
   "cell_type": "code",
   "execution_count": 11,
   "metadata": {},
   "outputs": [
    {
     "data": {
      "image/png": "[encoded data removed]",
      "text/plain": [
       "<Figure size 480x480 with 1 Axes>"
      ]
     },
     "metadata": {
      "needs_background": "light"
     },
     "output_type": "display_data"
    }
   ],
   "source": [
    "show_electrode_pos(df_PMd, elecs=range(1,97), verbose=True);"
   ]
  },
  {
   "cell_type": "markdown",
   "metadata": {},
   "source": [
    "The colored grids are just for visualisation purposes, we can use the np arrays to continue.\n",
    "\n",
    "We have the spatial location of each electrode and we have **unit guides** that specify how many neurons each electrode covers.\n",
    "\n",
    "Connecting these two, we can get the spatial location of $n$ neurons on the array."
   ]
  },
  {
   "cell_type": "code",
   "execution_count": 12,
   "metadata": {},
   "outputs": [],
   "source": [
    "M1_elecmap = show_electrode_pos(df_M1, elecs=range(1,97))\n",
    "PMd_elecmap = show_electrode_pos(df_PMd, elecs=range(1,97))"
   ]
  },
  {
   "cell_type": "code",
   "execution_count": 13,
   "metadata": {},
   "outputs": [
    {
     "data": {
      "text/plain": [
       "array([[59., 79., 69.,  0., 49., 39., 29., 19.,  9.,  0.],\n",
       "       [89., 80., 70., 60., 50., 40., 30., 20., 10.,  1.],\n",
       "       [90., 81., 71., 61., 51., 41., 31., 21., 11.,  2.],\n",
       "       [91., 82., 72., 62., 52., 42., 32., 22., 12.,  3.],\n",
       "       [92., 83., 73., 63., 53., 43., 33., 23., 13.,  4.],\n",
       "       [93., 84., 74., 64., 54., 44., 34., 24., 14.,  5.],\n",
       "       [94., 85., 75., 65., 55., 45., 35., 25., 15.,  6.],\n",
       "       [95., 86., 76., 66., 56., 46., 36., 26., 16.,  7.],\n",
       "       [96., 87., 77., 67., 57., 47., 37., 27., 17.,  8.],\n",
       "       [ 0., 88., 78., 68., 58., 48., 38., 28., 18.,  0.]])"
      ]
     },
     "execution_count": 13,
     "metadata": {},
     "output_type": "execute_result"
    }
   ],
   "source": [
    "PMd_elecmap"
   ]
  },
  {
   "cell_type": "markdown",
   "metadata": {},
   "source": [
    "## Unit guides\n",
    "\n",
    "The unit guides specify the number of neurons per electrode. \n",
    "\n",
    "```\n",
    "[electrode k, neuron 1]\n",
    "[electrode k, neuron 2]\n",
    "[electrode k, neuron 3]\n",
    "[electrode k+1, neuron 1]\n",
    "etc.\n",
    "```\n",
    "\n",
    "While the unit guides are `(774 x N)` (we have a unit guide for each row), they are all equal.\n",
    "\n",
    "We can pick an arbitrary one. "
   ]
  },
  {
   "cell_type": "code",
   "execution_count": 38,
   "metadata": {
    "collapsed": true,
    "jupyter": {
     "outputs_hidden": true
    }
   },
   "outputs": [
    {
     "data": {
      "text/plain": [
       "array([[ 1,  1],\n",
       "       [ 1,  2],\n",
       "       [ 2,  1],\n",
       "       [ 2,  2],\n",
       "       [ 3,  1],\n",
       "       [ 3,  2],\n",
       "       [ 3,  3],\n",
       "       [ 4,  1],\n",
       "       [ 4,  2],\n",
       "       [ 5,  1],\n",
       "       [ 7,  1],\n",
       "       [ 7,  2],\n",
       "       [ 7,  3],\n",
       "       [ 7,  4],\n",
       "       [ 7,  5],\n",
       "       [ 7,  6],\n",
       "       [ 7,  7],\n",
       "       [ 8,  1],\n",
       "       [ 8,  2],\n",
       "       [ 8,  3],\n",
       "       [ 8,  4],\n",
       "       [ 9,  1],\n",
       "       [ 9,  2],\n",
       "       [11,  1],\n",
       "       [15,  1],\n",
       "       [15,  2],\n",
       "       [19,  1],\n",
       "       [21,  1],\n",
       "       [21,  2],\n",
       "       [21,  3],\n",
       "       [21,  4],\n",
       "       [24,  1],\n",
       "       [26,  1],\n",
       "       [26,  2],\n",
       "       [28,  1],\n",
       "       [29,  1],\n",
       "       [29,  2],\n",
       "       [29,  3],\n",
       "       [30,  1],\n",
       "       [30,  2],\n",
       "       [30,  3],\n",
       "       [31,  1],\n",
       "       [31,  2],\n",
       "       [31,  3],\n",
       "       [33,  1],\n",
       "       [33,  2],\n",
       "       [33,  3],\n",
       "       [34,  1],\n",
       "       [34,  2],\n",
       "       [34,  3],\n",
       "       [35,  1],\n",
       "       [35,  2],\n",
       "       [35,  3],\n",
       "       [36,  1],\n",
       "       [38,  1],\n",
       "       [38,  2],\n",
       "       [38,  3],\n",
       "       [39,  1],\n",
       "       [39,  2],\n",
       "       [39,  3],\n",
       "       [39,  4],\n",
       "       [40,  1],\n",
       "       [40,  2],\n",
       "       [41,  1],\n",
       "       [41,  2],\n",
       "       [41,  3],\n",
       "       [41,  4],\n",
       "       [41,  5],\n",
       "       [42,  1],\n",
       "       [42,  2],\n",
       "       [43,  1],\n",
       "       [43,  2],\n",
       "       [43,  3],\n",
       "       [43,  4],\n",
       "       [43,  5],\n",
       "       [44,  1],\n",
       "       [44,  2],\n",
       "       [45,  1],\n",
       "       [46,  1],\n",
       "       [46,  2],\n",
       "       [46,  3],\n",
       "       [46,  4],\n",
       "       [47,  1],\n",
       "       [47,  2],\n",
       "       [47,  3],\n",
       "       [48,  1],\n",
       "       [48,  2],\n",
       "       [48,  3],\n",
       "       [48,  4],\n",
       "       [48,  5],\n",
       "       [49,  1],\n",
       "       [49,  2],\n",
       "       [49,  3],\n",
       "       [50,  1],\n",
       "       [51,  1],\n",
       "       [51,  2],\n",
       "       [51,  3],\n",
       "       [52,  1],\n",
       "       [52,  2],\n",
       "       [52,  3],\n",
       "       [53,  1],\n",
       "       [53,  2],\n",
       "       [54,  1],\n",
       "       [54,  2],\n",
       "       [55,  1],\n",
       "       [55,  2],\n",
       "       [57,  1],\n",
       "       [57,  2],\n",
       "       [58,  1],\n",
       "       [58,  2],\n",
       "       [58,  3],\n",
       "       [58,  4],\n",
       "       [58,  5],\n",
       "       [59,  1],\n",
       "       [59,  2],\n",
       "       [59,  3],\n",
       "       [59,  4],\n",
       "       [60,  1],\n",
       "       [60,  2],\n",
       "       [61,  1],\n",
       "       [62,  1],\n",
       "       [62,  2],\n",
       "       [62,  3],\n",
       "       [63,  1],\n",
       "       [64,  1],\n",
       "       [64,  2],\n",
       "       [65,  1],\n",
       "       [65,  2],\n",
       "       [65,  3],\n",
       "       [67,  1],\n",
       "       [67,  2],\n",
       "       [69,  1],\n",
       "       [69,  2],\n",
       "       [69,  3],\n",
       "       [70,  1],\n",
       "       [70,  2],\n",
       "       [70,  3],\n",
       "       [71,  1],\n",
       "       [71,  2],\n",
       "       [72,  1],\n",
       "       [72,  2],\n",
       "       [73,  1],\n",
       "       [74,  1],\n",
       "       [75,  1],\n",
       "       [75,  2],\n",
       "       [75,  3],\n",
       "       [75,  4],\n",
       "       [75,  5],\n",
       "       [76,  1],\n",
       "       [76,  2],\n",
       "       [76,  3],\n",
       "       [76,  4],\n",
       "       [77,  1],\n",
       "       [77,  2],\n",
       "       [78,  1],\n",
       "       [78,  2],\n",
       "       [78,  3],\n",
       "       [78,  4],\n",
       "       [79,  1],\n",
       "       [80,  1],\n",
       "       [80,  2],\n",
       "       [81,  1],\n",
       "       [81,  2],\n",
       "       [82,  1],\n",
       "       [82,  2],\n",
       "       [84,  1],\n",
       "       [84,  2],\n",
       "       [84,  3],\n",
       "       [85,  1],\n",
       "       [86,  1],\n",
       "       [86,  2],\n",
       "       [87,  1],\n",
       "       [87,  2],\n",
       "       [87,  3],\n",
       "       [87,  4],\n",
       "       [87,  5],\n",
       "       [88,  1],\n",
       "       [88,  2],\n",
       "       [88,  3],\n",
       "       [89,  1],\n",
       "       [90,  1],\n",
       "       [91,  1],\n",
       "       [92,  1],\n",
       "       [92,  2],\n",
       "       [92,  3],\n",
       "       [93,  1],\n",
       "       [93,  2],\n",
       "       [94,  1],\n",
       "       [94,  2],\n",
       "       [95,  1],\n",
       "       [95,  2],\n",
       "       [96,  1]], dtype=uint8)"
      ]
     },
     "execution_count": 38,
     "metadata": {},
     "output_type": "execute_result"
    }
   ],
   "source": [
    "df['PMd_unit_guide'][0]"
   ]
  },
  {
   "cell_type": "code",
   "execution_count": 14,
   "metadata": {},
   "outputs": [
    {
     "data": {
      "text/plain": [
       "array([ 5,  5,  5,  5,  9,  9,  9, 10, 13, 13, 13, 13, 15, 16, 18, 20, 20,\n",
       "       24, 24, 24, 26, 28, 28, 28, 32, 32, 32, 34, 36, 40, 40, 42, 43, 44,\n",
       "       46, 46, 46, 46, 47, 50, 50, 51, 52, 53, 53, 54, 54, 54, 54, 56, 62,\n",
       "       62, 65, 75, 79, 86, 91, 91, 92, 92, 92, 95, 96], dtype=uint8)"
      ]
     },
     "execution_count": 14,
     "metadata": {},
     "output_type": "execute_result"
    }
   ],
   "source": [
    "df['M1_unit_guide'][0][:, 0] # the electrodes"
   ]
  },
  {
   "cell_type": "code",
   "execution_count": 42,
   "metadata": {},
   "outputs": [
    {
     "data": {
      "text/plain": [
       "array([[ 5,  1],\n",
       "       [ 5,  2],\n",
       "       [ 5,  3],\n",
       "       [ 5,  4],\n",
       "       [ 9,  1],\n",
       "       [ 9,  2],\n",
       "       [ 9,  3],\n",
       "       [10,  1],\n",
       "       [13,  1],\n",
       "       [13,  2]], dtype=uint8)"
      ]
     },
     "execution_count": 42,
     "metadata": {},
     "output_type": "execute_result"
    }
   ],
   "source": [
    "df['M1_unit_guide'][0][:10] # rows are all equal "
   ]
  },
  {
   "cell_type": "code",
   "execution_count": 40,
   "metadata": {},
   "outputs": [],
   "source": [
    "# #to check equality or rows (.unique did not work)\n",
    "# for i in range(700):\n",
    "#     if not np.array_equal(df['M1_unit_guide'][0], df['M1_unit_guide'][i]):\n",
    "#         print('not equal')"
   ]
  },
  {
   "cell_type": "code",
   "execution_count": 41,
   "metadata": {},
   "outputs": [
    {
     "data": {
      "text/plain": [
       "array([1, 2, 3, 4, 1, 2, 3, 1, 1, 2, 3, 4, 1, 1, 1, 1, 2, 1, 2, 3, 1, 1,\n",
       "       2, 3, 1, 2, 3, 1, 1, 1, 2, 1, 1, 1, 1, 2, 3, 4, 1, 1, 2, 1, 1, 1,\n",
       "       2, 1, 2, 3, 4, 1, 1, 2, 1, 1, 1, 1, 1, 2, 1, 2, 3, 1, 1],\n",
       "      dtype=uint8)"
      ]
     },
     "execution_count": 41,
     "metadata": {},
     "output_type": "execute_result"
    }
   ],
   "source": [
    "M1_unit_guide[:, 1]"
   ]
  },
  {
   "cell_type": "code",
   "execution_count": 83,
   "metadata": {},
   "outputs": [],
   "source": [
    "M1_unit_guide = df['M1_unit_guide'][0]\n",
    "PMd_unit_guide = df['PMd_unit_guide'][0]"
   ]
  },
  {
   "cell_type": "code",
   "execution_count": 105,
   "metadata": {
    "collapsed": true,
    "jupyter": {
     "outputs_hidden": true
    }
   },
   "outputs": [
    {
     "data": {
      "text/plain": [
       "array([[ 5,  1],\n",
       "       [ 5,  2],\n",
       "       [ 5,  3],\n",
       "       [ 5,  4],\n",
       "       [ 9,  1],\n",
       "       [ 9,  2],\n",
       "       [ 9,  3],\n",
       "       [10,  1],\n",
       "       [13,  1],\n",
       "       [13,  2],\n",
       "       [13,  3],\n",
       "       [13,  4],\n",
       "       [15,  1],\n",
       "       [16,  1],\n",
       "       [18,  1],\n",
       "       [20,  1],\n",
       "       [20,  2],\n",
       "       [24,  1],\n",
       "       [24,  2],\n",
       "       [24,  3],\n",
       "       [26,  1],\n",
       "       [28,  1],\n",
       "       [28,  2],\n",
       "       [28,  3],\n",
       "       [32,  1],\n",
       "       [32,  2],\n",
       "       [32,  3],\n",
       "       [34,  1],\n",
       "       [36,  1],\n",
       "       [40,  1],\n",
       "       [40,  2],\n",
       "       [42,  1],\n",
       "       [43,  1],\n",
       "       [44,  1],\n",
       "       [46,  1],\n",
       "       [46,  2],\n",
       "       [46,  3],\n",
       "       [46,  4],\n",
       "       [47,  1],\n",
       "       [50,  1],\n",
       "       [50,  2],\n",
       "       [51,  1],\n",
       "       [52,  1],\n",
       "       [53,  1],\n",
       "       [53,  2],\n",
       "       [54,  1],\n",
       "       [54,  2],\n",
       "       [54,  3],\n",
       "       [54,  4],\n",
       "       [56,  1],\n",
       "       [62,  1],\n",
       "       [62,  2],\n",
       "       [65,  1],\n",
       "       [75,  1],\n",
       "       [79,  1],\n",
       "       [86,  1],\n",
       "       [91,  1],\n",
       "       [91,  2],\n",
       "       [92,  1],\n",
       "       [92,  2],\n",
       "       [92,  3],\n",
       "       [95,  1],\n",
       "       [96,  1]], dtype=uint8)"
      ]
     },
     "execution_count": 105,
     "metadata": {},
     "output_type": "execute_result"
    }
   ],
   "source": [
    "M1_unit_guide"
   ]
  },
  {
   "cell_type": "code",
   "execution_count": 106,
   "metadata": {},
   "outputs": [
    {
     "name": "stdout",
     "output_type": "stream",
     "text": [
      "(array([4, 5, 6]),)\n",
      "[1 2 3]\n"
     ]
    }
   ],
   "source": [
    "e_idx = np.where(M1_unit_guide[:, 0] == 9)\n",
    "\n",
    "print(e_idx)\n",
    "\n",
    "# if np.size(e_idx) == 0:\n",
    "#     continue\n",
    "\n",
    "# take neurons that belong to these indices \n",
    "neurons = M1_unit_guide[:, 1][e_idx]\n",
    "\n",
    "print(neurons)\n",
    "\n",
    "num_neurons_elec = max(neurons)"
   ]
  },
  {
   "cell_type": "code",
   "execution_count": 82,
   "metadata": {},
   "outputs": [
    {
     "data": {
      "text/plain": [
       "4"
      ]
     },
     "execution_count": 82,
     "metadata": {},
     "output_type": "execute_result"
    }
   ],
   "source": [
    "num_neurons_elec"
   ]
  },
  {
   "cell_type": "code",
   "execution_count": 158,
   "metadata": {},
   "outputs": [],
   "source": [
    "def localize_neurons_on_array(elec_map, unit_guide, verbose=False):\n",
    "    '''\n",
    "    '''\n",
    "    elecs = list(range(1, 97)) # total number of electrodes\n",
    "    unit_arr = np.zeros((10, 10)) # assuming 10x10 array\n",
    "\n",
    "    for e in elecs:\n",
    "        \n",
    "        e_idx = np.where(unit_guide[:, 0] == e)\n",
    "\n",
    "        if np.size(e_idx) == 0: # skip if electrode number is not in col\n",
    "            continue\n",
    "\n",
    "        # take neurons that belong to these indices \n",
    "        neurons = unit_guide[:, 1][e_idx]\n",
    "\n",
    "        num_neurons_elec = max(neurons) # largest number is total number of neurons\n",
    "\n",
    "        arr_idx = np.where(elec_map == e) # get spatial location of electrode\n",
    "\n",
    "        unit_arr[arr_idx] = num_neurons_elec # store number of neurons in array\n",
    "        \n",
    "    if verbose: # display array with number of neurons\n",
    "        fig, ax = plt.subplots(1, figsize=(5,5), dpi=80)\n",
    "        ax.imshow(unit_arr, cmap=cmap)\n",
    "        ax.set_title('Number of neurons per electrode in array', fontsize=14)\n",
    "        for i in range(len(unit_arr)):\n",
    "            for j in range(len(unit_arr)):\n",
    "                text = ax.text(j, i, int(unit_arr[i, j]), ha='center', va='center', color='w')\n",
    "        \n",
    "        return unit_arr"
   ]
  },
  {
   "cell_type": "code",
   "execution_count": 159,
   "metadata": {},
   "outputs": [
    {
     "data": {
      "image/png": "[encoded data removed]",
      "text/plain": [
       "<Figure size 400x400 with 1 Axes>"
      ]
     },
     "metadata": {
      "needs_background": "light"
     },
     "output_type": "display_data"
    }
   ],
   "source": [
    "localize_neurons_on_array(elec_map=M1_elecmap, unit_guide=df['M1_unit_guide'][0], verbose=True);"
   ]
  },
  {
   "cell_type": "code",
   "execution_count": 160,
   "metadata": {},
   "outputs": [
    {
     "data": {
      "image/png": "[encoded data removed]",
      "text/plain": [
       "<Figure size 400x400 with 1 Axes>"
      ]
     },
     "metadata": {
      "needs_background": "light"
     },
     "output_type": "display_data"
    }
   ],
   "source": [
    "localize_neurons_on_array(elec_map=PMd_elecmap, unit_guide=df['PMd_unit_guide'][0], verbose=True);"
   ]
  },
  {
   "cell_type": "code",
   "execution_count": 119,
   "metadata": {},
   "outputs": [],
   "source": [
    "elecs = list(range(1, 97)) # total number of electrodes\n",
    "unit_arr = np.zeros((10, 10)) \n",
    "\n",
    "for e in elecs:\n",
    "    \n",
    "    e_idx = np.where(M1_unit_guide[:, 0] == e)\n",
    "\n",
    "    if np.size(e_idx) == 0: # skip if electrode number is not in col\n",
    "        continue\n",
    "\n",
    "    # take neurons that belong to these indices \n",
    "    neurons = M1_unit_guide[:, 1][e_idx]\n",
    "\n",
    "    num_neurons_elec = max(neurons) # largest number is total number of neurons\n",
    "\n",
    "    arr_idx = np.where(PMd_elecmap == e) # get spatial location of electrode\n",
    "    \n",
    "    unit_arr[arr_idx] = num_neurons_elec # store number of neurons in array"
   ]
  },
  {
   "cell_type": "code",
   "execution_count": 124,
   "metadata": {},
   "outputs": [],
   "source": [
    "cmap = sns.color_palette(\"light:b\", as_cmap=True)"
   ]
  },
  {
   "cell_type": "code",
   "execution_count": 140,
   "metadata": {},
   "outputs": [
    {
     "data": {
      "image/png": "[encoded data removed]",
      "text/plain": [
       "<Figure size 960x400 with 2 Axes>"
      ]
     },
     "metadata": {
      "needs_background": "light"
     },
     "output_type": "display_data"
    }
   ],
   "source": [
    "fig, (ax1, ax2) = plt.subplots(1, 2, figsize=(12,5), dpi=80)\n",
    "\n",
    "#ax1.imshow(unit_arr, cmap=cmap)\n",
    "sns.heatmap(unit_arr, cmap=cmap, ax=ax1, annot=True, cbar=False,linewidths=.5)\n",
    "ax1.set_title('M1', fontsize=14)\n",
    "\n",
    "ax2.imshow(unit_arr, cmap=cmap)\n",
    "ax2.set_title('PMd', fontsize=14)\n",
    "# Loop over data dimensions and create text annotations.\n",
    "for i in range(len(unit_arr)):\n",
    "    for j in range(len(unit_arr)):\n",
    "        text = ax2.text(j, i, int(unit_arr[i, j]), ha='center', va='center', color='w')"
   ]
  },
  {
   "cell_type": "code",
   "execution_count": 17,
   "metadata": {},
   "outputs": [],
   "source": [
    "M1_unit_guide = df['M1_unit_guide'][0]\n",
    "PMd_unit_guide = df['PMd_unit_guide'][0]\n",
    "\n",
    "cell_distrib_M1 = M1_unit_guide[:, 1]\n",
    "cell_distrib_PMd = PMd_unit_guide[:, 1]"
   ]
  },
  {
   "cell_type": "markdown",
   "metadata": {},
   "source": [
    "Distribution of number of neurons per electrode"
   ]
  },
  {
   "cell_type": "code",
   "execution_count": 45,
   "metadata": {},
   "outputs": [],
   "source": [
    "# fig, (ax1, ax2) = plt.subplots(1, 2, figsize=(12,5), dpi=80)\n",
    "\n",
    "# sns.countplot(x=cell_distrib_M1, ax=ax1)\n",
    "# ax1.set_title('M1', fontsize=14)\n",
    "# ax1.set_xlabel('number of neurons', fontsize=13)\n",
    "# ax1.set_ylabel('Count', fontsize=13)\n",
    "\n",
    "# sns.countplot(x=cell_distrib_PMd, ax=ax2)\n",
    "# ax2.set_title('PMd', fontsize=14)\n",
    "# ax2.set_xlabel('number of neurons', fontsize=13)\n",
    "# ax2.set_ylabel('Count', fontsize=13);"
   ]
  },
  {
   "cell_type": "code",
   "execution_count": 19,
   "metadata": {},
   "outputs": [
    {
     "data": {
      "text/plain": [
       "array([[ 5,  1],\n",
       "       [ 5,  2],\n",
       "       [ 5,  3],\n",
       "       [ 5,  4],\n",
       "       [ 9,  1],\n",
       "       [ 9,  2],\n",
       "       [ 9,  3],\n",
       "       [10,  1],\n",
       "       [13,  1],\n",
       "       [13,  2],\n",
       "       [13,  3],\n",
       "       [13,  4],\n",
       "       [15,  1],\n",
       "       [16,  1],\n",
       "       [18,  1],\n",
       "       [20,  1],\n",
       "       [20,  2],\n",
       "       [24,  1],\n",
       "       [24,  2],\n",
       "       [24,  3]], dtype=uint8)"
      ]
     },
     "execution_count": 19,
     "metadata": {},
     "output_type": "execute_result"
    }
   ],
   "source": [
    "M1_unit_guide[:20] "
   ]
  },
  {
   "cell_type": "code",
   "execution_count": 20,
   "metadata": {},
   "outputs": [
    {
     "data": {
      "text/plain": [
       "0      [[0, 1, 0, 0, 0, 1, 0, 1, 0, 0, 0, 1, 1, 0, 0,...\n",
       "1      [[0, 1, 0, 0, 0, 0, 0, 0, 0, 1, 0, 0, 0, 1, 0,...\n",
       "2      [[0, 0, 0, 0, 1, 0, 0, 0, 0, 1, 0, 0, 0, 0, 0,...\n",
       "3      [[0, 1, 0, 0, 0, 0, 0, 0, 0, 0, 0, 0, 0, 0, 0,...\n",
       "4      [[0, 0, 0, 0, 1, 1, 0, 0, 1, 1, 0, 0, 1, 0, 0,...\n",
       "                             ...                        \n",
       "769    [[0, 0, 0, 0, 0, 0, 0, 1, 0, 0, 1, 0, 0, 0, 0,...\n",
       "770    [[0, 0, 0, 0, 0, 0, 0, 0, 0, 0, 0, 0, 0, 0, 0,...\n",
       "771    [[1, 0, 0, 0, 1, 0, 0, 0, 0, 0, 0, 0, 0, 0, 0,...\n",
       "772    [[0, 0, 0, 0, 0, 0, 0, 0, 0, 0, 1, 0, 0, 0, 0,...\n",
       "773    [[0, 1, 0, 0, 1, 0, 0, 0, 0, 0, 0, 0, 0, 0, 0,...\n",
       "Name: M1_spikes, Length: 774, dtype: object"
      ]
     },
     "execution_count": 20,
     "metadata": {},
     "output_type": "execute_result"
    }
   ],
   "source": [
    "df['M1_spikes'] # for each trial"
   ]
  },
  {
   "cell_type": "code",
   "execution_count": 21,
   "metadata": {},
   "outputs": [],
   "source": [
    "trial_spiketrains = df['M1_spikes'][0]"
   ]
  },
  {
   "cell_type": "code",
   "execution_count": 22,
   "metadata": {},
   "outputs": [
    {
     "data": {
      "text/plain": [
       "array([0, 0, 0, 0, 0, 1, 0, 0, 0, 1, 0, 0, 0, 0, 0, 0, 1, 0, 1, 0, 0, 0,\n",
       "       0, 0, 0, 0, 1, 1, 0, 0, 1, 0, 0, 0, 1, 1, 1, 0, 0, 0, 0, 0, 0, 1,\n",
       "       0, 0, 0, 0, 0, 1, 0, 0, 0, 0, 0, 1, 0, 0, 0, 0, 0, 0, 0],\n",
       "      dtype=uint8)"
      ]
     },
     "execution_count": 22,
     "metadata": {},
     "output_type": "execute_result"
    }
   ],
   "source": [
    "trial_spiketrains[4]"
   ]
  },
  {
   "cell_type": "code",
   "execution_count": 23,
   "metadata": {},
   "outputs": [
    {
     "data": {
      "text/plain": [
       "(447, 63)"
      ]
     },
     "execution_count": 23,
     "metadata": {},
     "output_type": "execute_result"
    }
   ],
   "source": [
    "trial_spiketrains.shape # neurons x timepoints"
   ]
  },
  {
   "cell_type": "code",
   "execution_count": 24,
   "metadata": {},
   "outputs": [
    {
     "data": {
      "image/png": "[encoded data removed]",
      "text/plain": [
       "<Figure size 800x400 with 1 Axes>"
      ]
     },
     "metadata": {
      "needs_background": "light"
     },
     "output_type": "display_data"
    }
   ],
   "source": [
    "fig, ax = plt.subplots(1, figsize=(10,5), dpi=80)\n",
    "\n",
    "for i in range(20):\n",
    "    ax.scatter(range(len(trial_spiketrains[i])), trial_spiketrains[i] * i, marker='|' );\n",
    "    ax.set_title('M1', fontsize=14)\n",
    "    ax.set_xlabel('neuron', fontsize=13)\n",
    "    ax1.set_ylabel('timepoint', fontsize=13)"
   ]
  },
  {
   "cell_type": "markdown",
   "metadata": {},
   "source": [
    "//   legend\t\t\t\t\t\n",
    "\n",
    "//   col - 0 based column from left to right\t\t\t\t\t\n",
    "\n",
    "//   row - 0 based row from bottom to top\t\t\t\t\t\n",
    "\n",
    "//   bank - bank name - values can be A B C or D\t\t\t\t\t\n",
    "\n",
    "//   elec - 1 based electrode number within the bank - values can be 1-32\t\t\t\t\t\n",
    "\n",
    "//   label - label used to rename channels in Central (optional)\t\t\t\t\t\n",
    "\n",
    "Cerebus mapping for array 13965-21    SN: 6250-001474\t\t\t\t"
   ]
  }
 ],
 "metadata": {
  "kernelspec": {
   "display_name": "Python 3",
   "language": "python",
   "name": "python3"
  },
  "language_info": {
   "codemirror_mode": {
    "name": "ipython",
    "version": 3
   },
   "file_extension": ".py",
   "mimetype": "text/x-python",
   "name": "python",
   "nbconvert_exporter": "python",
   "pygments_lexer": "ipython3",
   "version": "3.7.4"
  }
 },
 "nbformat": 4,
 "nbformat_minor": 4
}
